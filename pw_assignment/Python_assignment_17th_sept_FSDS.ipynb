{
 "cells": [
  {
   "cell_type": "markdown",
   "metadata": {
    "id": "PDYdsOZhWeoQ"
   },
   "source": [
    "**For Loop :-**"
   ]
  },
  {
   "cell_type": "markdown",
   "metadata": {
    "id": "HBPt8Jd4Wkgq"
   },
   "source": [
    "1. Write a Python program to print numbers from 1 to 10 using a for loop."
   ]
  },
  {
   "cell_type": "code",
   "execution_count": null,
   "metadata": {
    "colab": {
     "base_uri": "https://localhost:8080/"
    },
    "id": "ZRWYjBTNWrX_",
    "outputId": "1660dcb4-4b52-42cb-ff13-2a450f56d43f"
   },
   "outputs": [
    {
     "name": "stdout",
     "output_type": "stream",
     "text": [
      "1\n",
      "2\n",
      "3\n",
      "4\n",
      "5\n",
      "6\n",
      "7\n",
      "8\n",
      "9\n",
      "10\n"
     ]
    }
   ],
   "source": [
    "for i in range(1,11):\n",
    "    print(i)"
   ]
  },
  {
   "cell_type": "markdown",
   "metadata": {
    "id": "njkoQErDniHU"
   },
   "source": [
    "2. Explain the difference between a for loop and a while loop in Python.\n",
    "\n",
    "**for loop**                              \n",
    "\n",
    "1.For loop is used to iterate over a sequence of items.\n",
    "2.For loops are designed for iterating over a sequence of items. Eg. list, tuple, etc.\n",
    "3.For loop require a sequence to iterate over.\n",
    "4.For loop is typically used for iterating over a fixed sequence of items\n",
    "5.For loop is more efficient than a while loop when iterating over sequences, since the number of iterations is predetermined and the loop can be optimized accordingly.\n",
    "\n",
    "**while loop**\n",
    "1.While loop is used to repeatedly execute a block of statements while a condition is true\n",
    "2.While loop is used when the number of iterations is not known in advance or when we want to repeat a block of code until a certain condition is met.\n",
    "3.While the loop requires an initial condition that is tested at the beginning of the loop.\n",
    "4.While loop is used for more complex control flow situations.\n",
    "5.While a loop may be more efficient in certain situations where the condition being tested can be evaluated quickly."
   ]
  },
  {
   "cell_type": "markdown",
   "metadata": {
    "id": "yobdp8gwolS9"
   },
   "source": [
    "3. Write a Python program to calculate the sum of all numbers from 1 to 100 using a for loop."
   ]
  },
  {
   "cell_type": "code",
   "execution_count": null,
   "metadata": {
    "colab": {
     "base_uri": "https://localhost:8080/"
    },
    "id": "20LtJ5-QorFN",
    "outputId": "a2538c56-b4af-4113-b95a-54331eb37982"
   },
   "outputs": [
    {
     "name": "stdout",
     "output_type": "stream",
     "text": [
      "5050\n"
     ]
    }
   ],
   "source": [
    "sum=0\n",
    "for i in range(1,101):\n",
    "    sum=sum+i\n",
    "print(sum)"
   ]
  },
  {
   "cell_type": "markdown",
   "metadata": {
    "id": "9m7gibN1o9VD"
   },
   "source": [
    "4. How do you iterate through a list using a for loop in Python?"
   ]
  },
  {
   "cell_type": "code",
   "execution_count": null,
   "metadata": {
    "colab": {
     "base_uri": "https://localhost:8080/"
    },
    "id": "gV2_AglDLHcK",
    "outputId": "fb030192-10d8-495a-e64d-d60dd36870d5"
   },
   "outputs": [
    {
     "name": "stdout",
     "output_type": "stream",
     "text": [
      "1\n",
      "2\n",
      "3\n",
      "4\n",
      "5\n"
     ]
    }
   ],
   "source": [
    "list=[1,2,3,4,5]\n",
    "for i in list:\n",
    "    print(i)"
   ]
  },
  {
   "cell_type": "markdown",
   "metadata": {
    "id": "tlcWUivDLmCH"
   },
   "source": [
    "5. Write a Python program to find the product of all elements in a list using a for loop."
   ]
  },
  {
   "cell_type": "code",
   "execution_count": null,
   "metadata": {
    "colab": {
     "base_uri": "https://localhost:8080/"
    },
    "id": "UUBn_QUVLsVx",
    "outputId": "e68b9274-557d-4c88-8f46-88c4f7d24ebb"
   },
   "outputs": [
    {
     "name": "stdout",
     "output_type": "stream",
     "text": [
      "120\n"
     ]
    }
   ],
   "source": [
    "list=[1,2,3,4,5]\n",
    "product=1\n",
    "for i in list:\n",
    "    product=product*i\n",
    "print(product)"
   ]
  },
  {
   "cell_type": "markdown",
   "metadata": {
    "id": "XgZIGxtnL04l"
   },
   "source": [
    "6. Create a Python program that prints all even numbers from 1 to 20 using a for loop."
   ]
  },
  {
   "cell_type": "code",
   "execution_count": null,
   "metadata": {
    "colab": {
     "base_uri": "https://localhost:8080/"
    },
    "id": "dANU_KGEL7Ne",
    "outputId": "6a9af7c8-6193-4fa5-e91b-5f3b9c25a781"
   },
   "outputs": [
    {
     "name": "stdout",
     "output_type": "stream",
     "text": [
      "2\n",
      "4\n",
      "6\n",
      "8\n",
      "10\n",
      "12\n",
      "14\n",
      "16\n",
      "18\n",
      "20\n"
     ]
    }
   ],
   "source": [
    "for i in range(1,21):\n",
    "    if i%2==0:\n",
    "        print(i)"
   ]
  },
  {
   "cell_type": "markdown",
   "metadata": {
    "id": "xeX1qggTMJln"
   },
   "source": [
    "7. Write a Python program that calculates the factorial of a number using a for loop."
   ]
  },
  {
   "cell_type": "code",
   "execution_count": null,
   "metadata": {
    "colab": {
     "base_uri": "https://localhost:8080/"
    },
    "id": "eXzut_sGML8p",
    "outputId": "55493498-96ac-4d53-ebf7-da87a5f8c52f"
   },
   "outputs": [
    {
     "name": "stdout",
     "output_type": "stream",
     "text": [
      "Enter a number: 5\n",
      "120\n"
     ]
    }
   ],
   "source": [
    "# take a number from user\n",
    "num = int(input(\"Enter a number: \"))\n",
    "fac=1\n",
    "# calculate the factorial using a for loop\n",
    "for i in range(1,num+1):\n",
    "    fac=fac*i\n",
    "print(fac)"
   ]
  },
  {
   "cell_type": "markdown",
   "metadata": {
    "id": "ilB1VGRPMVfk"
   },
   "source": [
    "8. How can you iterate through the characters of a string using a for loop in Python?"
   ]
  },
  {
   "cell_type": "code",
   "execution_count": null,
   "metadata": {
    "colab": {
     "base_uri": "https://localhost:8080/"
    },
    "id": "AvAI9xR2McKU",
    "outputId": "ac404cef-168f-4cc6-fff2-dc661cca411d"
   },
   "outputs": [
    {
     "name": "stdout",
     "output_type": "stream",
     "text": [
      "Enter a string: pwskills\n",
      "p\n",
      "w\n",
      "s\n",
      "k\n",
      "i\n",
      "l\n",
      "l\n",
      "s\n"
     ]
    }
   ],
   "source": [
    "# take a string from user\n",
    "string = input(\"Enter a string: \")\n",
    "for i in string:\n",
    "    print(i)"
   ]
  },
  {
   "cell_type": "markdown",
   "metadata": {
    "id": "PuBupOj7Mje-"
   },
   "source": [
    "9. Write a Python program to find the largest number in a list using a for loop."
   ]
  },
  {
   "cell_type": "code",
   "execution_count": null,
   "metadata": {
    "colab": {
     "base_uri": "https://localhost:8080/"
    },
    "id": "0g66kxZ1MnaH",
    "outputId": "fede8bca-9995-4ca2-d430-ff5b6130c852"
   },
   "outputs": [
    {
     "name": "stdout",
     "output_type": "stream",
     "text": [
      "5\n"
     ]
    }
   ],
   "source": [
    "list=[1,2,3,4,5]\n",
    "largest=list[0]\n",
    "for i in list:\n",
    "    if i>largest:\n",
    "        largest=i\n",
    "print(largest)"
   ]
  },
  {
   "cell_type": "markdown",
   "metadata": {
    "id": "AuWJAetCMwxz"
   },
   "source": [
    "10. Create a Python program that prints the Fibonacci sequence up to a specified limit using a for loop."
   ]
  },
  {
   "cell_type": "code",
   "execution_count": null,
   "metadata": {
    "colab": {
     "base_uri": "https://localhost:8080/"
    },
    "id": "NIbYuvjqM0xy",
    "outputId": "d56a9b24-1cae-4144-d40f-82110ba7abfc"
   },
   "outputs": [
    {
     "name": "stdout",
     "output_type": "stream",
     "text": [
      "Enter a limit: 8\n",
      "0\n",
      "1\n",
      "1\n",
      "2\n",
      "3\n",
      "5\n",
      "8\n",
      "13\n"
     ]
    }
   ],
   "source": [
    "# take a limit from user\n",
    "limit = int(input(\"Enter a limit: \"))\n",
    "a,b=0,1\n",
    "for i in range(limit):\n",
    "    print(a)\n",
    "    a,b=b,a+b"
   ]
  },
  {
   "cell_type": "markdown",
   "metadata": {
    "id": "YPhks2EjNHxc"
   },
   "source": [
    "11. Write a Python program to count the number of vowels in a given string using a for loop."
   ]
  },
  {
   "cell_type": "code",
   "execution_count": null,
   "metadata": {
    "colab": {
     "base_uri": "https://localhost:8080/"
    },
    "id": "2pxtnpvzNOg_",
    "outputId": "919d3b4c-76e9-4e0d-d661-65094a7c7e5c"
   },
   "outputs": [
    {
     "name": "stdout",
     "output_type": "stream",
     "text": [
      "Enter a string: pwskills\n",
      "1\n"
     ]
    }
   ],
   "source": [
    "# take string from user\n",
    "string = input(\"Enter a string: \")\n",
    "count=0\n",
    "for i in string:\n",
    "    if i in \"aeiouAEIOU\":\n",
    "        count=count+1\n",
    "print(count)"
   ]
  },
  {
   "cell_type": "markdown",
   "metadata": {
    "id": "Gx9UXI64NVrh"
   },
   "source": [
    "13. Create a Python program that generates a multiplication table for a given number using a for loop"
   ]
  },
  {
   "cell_type": "code",
   "execution_count": null,
   "metadata": {
    "colab": {
     "base_uri": "https://localhost:8080/"
    },
    "id": "kDRIUufONbWz",
    "outputId": "5820d8c5-a320-491a-fd6e-44a22ed19b16"
   },
   "outputs": [
    {
     "name": "stdout",
     "output_type": "stream",
     "text": [
      "Enter a number: 4\n",
      "4 * 1 = 4\n",
      "4 * 2 = 8\n",
      "4 * 3 = 12\n",
      "4 * 4 = 16\n",
      "4 * 5 = 20\n",
      "4 * 6 = 24\n",
      "4 * 7 = 28\n",
      "4 * 8 = 32\n",
      "4 * 9 = 36\n",
      "4 * 10 = 40\n"
     ]
    }
   ],
   "source": [
    "# take a number from user\n",
    "num = int(input(\"Enter a number: \"))\n",
    "for i in range(1,11):\n",
    "    print(num,\"*\",i,\"=\",num*i)"
   ]
  },
  {
   "cell_type": "markdown",
   "metadata": {
    "id": "H_tisQXlNlrN"
   },
   "source": [
    "13. Write a Python program to reverse a list using a for loop."
   ]
  },
  {
   "cell_type": "code",
   "execution_count": null,
   "metadata": {
    "colab": {
     "base_uri": "https://localhost:8080/"
    },
    "id": "-9ihZIDaNqw3",
    "outputId": "62913ba4-b0e7-447a-f608-2cc967474ece"
   },
   "outputs": [
    {
     "name": "stdout",
     "output_type": "stream",
     "text": [
      "[5, 4, 6, 2, 1]\n"
     ]
    }
   ],
   "source": [
    "list=[1,2,6,4,5]\n",
    "reverse=[]\n",
    "for i in range(len(list)-1,-1,-1):\n",
    "    reverse.append(list[i])\n",
    "print(reverse)"
   ]
  },
  {
   "cell_type": "markdown",
   "metadata": {
    "id": "1cNxgUrXN4_2"
   },
   "source": [
    "14. Write a Python program to find the common elements between two lists using a for loop."
   ]
  },
  {
   "cell_type": "code",
   "execution_count": null,
   "metadata": {
    "colab": {
     "base_uri": "https://localhost:8080/"
    },
    "id": "8QI3qgCjN9E5",
    "outputId": "23912d8c-d864-430f-c706-941681468dd7"
   },
   "outputs": [
    {
     "name": "stdout",
     "output_type": "stream",
     "text": [
      "[3, 4, 5]\n"
     ]
    }
   ],
   "source": [
    "list_1=[1,2,3,4,5]\n",
    "list_2=[3,4,5,6,7]\n",
    "common=[]\n",
    "for i in list_1:\n",
    "    if i in list_2:\n",
    "        common.append(i)\n",
    "print(common)"
   ]
  },
  {
   "cell_type": "markdown",
   "metadata": {
    "id": "EnSCOVsfOKiA"
   },
   "source": [
    "15. Explain how to use a for loop to iterate through the keys and values of a dictionary in Python."
   ]
  },
  {
   "cell_type": "code",
   "execution_count": null,
   "metadata": {
    "colab": {
     "base_uri": "https://localhost:8080/"
    },
    "id": "JziHxwbhOOQZ",
    "outputId": "10a0bf14-f802-48fa-bbe0-8cfaabffe498"
   },
   "outputs": [
    {
     "name": "stdout",
     "output_type": "stream",
     "text": [
      "a 1\n",
      "b 2\n",
      "c 3\n"
     ]
    }
   ],
   "source": [
    "# for loop is used to iterate through the keys and values of a dictionary in Python.\n",
    "dict={\"a\":1,\"b\":2,\"c\":3}\n",
    "for key,value in dict.items():\n",
    "    print(key,value)"
   ]
  },
  {
   "cell_type": "markdown",
   "metadata": {
    "id": "kXSn5i6xObOt"
   },
   "source": [
    "16. Write a Python program to find the GCD (Greatest Common Divisor) of two numbers using a for loop."
   ]
  },
  {
   "cell_type": "code",
   "execution_count": null,
   "metadata": {
    "colab": {
     "base_uri": "https://localhost:8080/"
    },
    "id": "bItj-sP7Ofbj",
    "outputId": "5be207f3-c2d6-4720-d50d-1a96ecaf1dbc"
   },
   "outputs": [
    {
     "name": "stdout",
     "output_type": "stream",
     "text": [
      "Enter a number: 6\n",
      "Enter a number: 9\n",
      "3\n"
     ]
    }
   ],
   "source": [
    "# Take a number from user\n",
    "num1 = int(input(\"Enter a number: \"))\n",
    "num2 = int(input(\"Enter a number: \"))\n",
    "for i in range(1,min(num1,num2)+1):\n",
    "    if num1%i==0 and num2%i==0:\n",
    "        gcd=i\n",
    "print(gcd)"
   ]
  },
  {
   "cell_type": "markdown",
   "metadata": {
    "id": "GtYpvcaVOucw"
   },
   "source": [
    "17. Create a Python program that checks if a string is a palindrome using a for loop."
   ]
  },
  {
   "cell_type": "code",
   "execution_count": null,
   "metadata": {
    "colab": {
     "base_uri": "https://localhost:8080/"
    },
    "id": "TSFseZqGO2BV",
    "outputId": "fe1ff104-b134-4dce-f609-7552098f01c6"
   },
   "outputs": [
    {
     "name": "stdout",
     "output_type": "stream",
     "text": [
      "Enter a string: nitin\n",
      "Palindrome\n"
     ]
    }
   ],
   "source": [
    "# take a string from user\\\n",
    "string = input(\"Enter a string: \")\n",
    "for i in range(len(string)//2):\n",
    "    if string[i]!=string[len(string)-i-1]:\n",
    "        print(\"Not a palindrome\")\n",
    "        break\n",
    "else:\n",
    "    print(\"Palindrome\")"
   ]
  },
  {
   "cell_type": "markdown",
   "metadata": {
    "id": "JH_c6XLKO88a"
   },
   "source": [
    "18. Write a Python program to remove duplicates from a list using a for loop."
   ]
  },
  {
   "cell_type": "code",
   "execution_count": null,
   "metadata": {
    "colab": {
     "base_uri": "https://localhost:8080/"
    },
    "id": "8hjkPgvuPCDx",
    "outputId": "6f3a61f2-5646-4e6d-b8f2-84e8abb49acb"
   },
   "outputs": [
    {
     "name": "stdout",
     "output_type": "stream",
     "text": [
      "[1, 2, 3, 4, 5]\n"
     ]
    }
   ],
   "source": [
    "list=[1,2,3,4,5,1,2,3]\n",
    "unique=[]\n",
    "for i in list:\n",
    "    if i not in unique:\n",
    "        unique.append(i)\n",
    "print(unique)"
   ]
  },
  {
   "cell_type": "markdown",
   "metadata": {
    "id": "QY70wMHbPJ6F"
   },
   "source": [
    "19. Create a Python program that counts the number of words in a sentence using a for loop."
   ]
  },
  {
   "cell_type": "code",
   "execution_count": null,
   "metadata": {
    "colab": {
     "base_uri": "https://localhost:8080/"
    },
    "id": "WXNrewMqPOtx",
    "outputId": "1b88a496-1bbb-4ac3-f840-70019eaaf02f"
   },
   "outputs": [
    {
     "name": "stdout",
     "output_type": "stream",
     "text": [
      "Enter a sentence: Python is fun to learn\n",
      "5\n"
     ]
    }
   ],
   "source": [
    "# take a sentence from user\n",
    "sentence = input(\"Enter a sentence: \")\n",
    "count=0\n",
    "for i in sentence.split():\n",
    "    count=count+1\n",
    "print(count)"
   ]
  },
  {
   "cell_type": "markdown",
   "metadata": {
    "id": "FkPV0Rf2Pbch"
   },
   "source": [
    "20. Write a Python program to find the sum of all odd numbers from 1 to 50 using a for loop."
   ]
  },
  {
   "cell_type": "code",
   "execution_count": null,
   "metadata": {
    "colab": {
     "base_uri": "https://localhost:8080/"
    },
    "id": "9gG54HHlPgDF",
    "outputId": "2e4e6cff-b662-46df-ea9e-025f95073c55"
   },
   "outputs": [
    {
     "name": "stdout",
     "output_type": "stream",
     "text": [
      "625\n"
     ]
    }
   ],
   "source": [
    "sum=0\n",
    "for i in range(1,51):\n",
    "    if i%2!=0:\n",
    "        sum=sum+i\n",
    "print(sum)"
   ]
  },
  {
   "cell_type": "markdown",
   "metadata": {
    "id": "4orpY6uRPq-k"
   },
   "source": [
    "21. Write a Python program that checks if a given year is a leap year using a for loop."
   ]
  },
  {
   "cell_type": "code",
   "execution_count": null,
   "metadata": {
    "colab": {
     "base_uri": "https://localhost:8080/"
    },
    "id": "r9gRvC6JPvTh",
    "outputId": "12a8b61f-5c05-45cf-d357-12c6d84e353b"
   },
   "outputs": [
    {
     "name": "stdout",
     "output_type": "stream",
     "text": [
      "Enter a year: 2022\n",
      "Not a leap year\n"
     ]
    }
   ],
   "source": [
    "# take a year from user\n",
    "year = int(input(\"Enter a year: \"))\n",
    "for i in range(year,year+1):\n",
    "    if i%4==0:\n",
    "        print(\"Leap year\")\n",
    "        break\n",
    "else:\n",
    "    print(\"Not a leap year\")"
   ]
  },
  {
   "cell_type": "markdown",
   "metadata": {
    "id": "SbrLpK16QAXW"
   },
   "source": [
    "22. Create a Python program that calculates the square root of a number using a for loop."
   ]
  },
  {
   "cell_type": "code",
   "execution_count": null,
   "metadata": {
    "colab": {
     "base_uri": "https://localhost:8080/"
    },
    "id": "cxc2VzRTQE-_",
    "outputId": "1a9d3282-489e-4ead-8344-2b44f15e4118"
   },
   "outputs": [
    {
     "name": "stdout",
     "output_type": "stream",
     "text": [
      "Enter a number: 16\n",
      "4\n"
     ]
    }
   ],
   "source": [
    "# take a number from user\n",
    "num = int(input(\"Enter a number: \"))\n",
    "for i in range(1,num+1):\n",
    "    if i*i==num:\n",
    "        print(i)\n",
    "        break\n"
   ]
  },
  {
   "cell_type": "markdown",
   "metadata": {
    "id": "09LeudmKQWJF"
   },
   "source": [
    "24. Write a Python program to find the LCM (Least Common Multiple) of two numbers using a for loop."
   ]
  },
  {
   "cell_type": "code",
   "execution_count": null,
   "metadata": {
    "colab": {
     "base_uri": "https://localhost:8080/"
    },
    "id": "GmdSi3lIQbj3",
    "outputId": "9e35b529-dbef-461f-ba5d-080fddbe3efc"
   },
   "outputs": [
    {
     "name": "stdout",
     "output_type": "stream",
     "text": [
      "Enter a number: 12\n",
      "Enter a number: 3\n",
      "12\n"
     ]
    }
   ],
   "source": [
    "# take a number from user\n",
    "num1 = int(input(\"Enter a number: \"))\n",
    "num2 = int(input(\"Enter a number: \"))\n",
    "for i in range(max(num1,num2),num1*num2+1):\n",
    "    if i%num1==0 and i%num2==0:\n",
    "        print(i)\n",
    "        break\n"
   ]
  },
  {
   "cell_type": "markdown",
   "metadata": {
    "id": "GdZxVo39Q3R3"
   },
   "source": [
    "**If else :**"
   ]
  },
  {
   "cell_type": "markdown",
   "metadata": {
    "id": "Q_hUU6_vQ8s0"
   },
   "source": [
    "1. Write a Python program to check if a number is positive, negative, or zero using an if-else statement."
   ]
  },
  {
   "cell_type": "code",
   "execution_count": null,
   "metadata": {
    "colab": {
     "base_uri": "https://localhost:8080/"
    },
    "id": "s4tIaBABRAu9",
    "outputId": "fc3b283c-1932-45c0-fb5d-ca63de1979a8"
   },
   "outputs": [
    {
     "name": "stdout",
     "output_type": "stream",
     "text": [
      "Enter a number: 7\n",
      "Positive\n"
     ]
    }
   ],
   "source": [
    "# take a number from user\n",
    "num = int(input(\"Enter a number: \"))\n",
    "if num>0:\n",
    "    print(\"Positive\")\n",
    "elif num<0:\n",
    "    print(\"Negative\")\n",
    "else:\n",
    "    print(\"Zero\")"
   ]
  },
  {
   "cell_type": "markdown",
   "metadata": {
    "id": "ytdjbgMqRFq_"
   },
   "source": [
    "2. Create a Python program that checks if a given number is even or odd using an if-else statement."
   ]
  },
  {
   "cell_type": "code",
   "execution_count": null,
   "metadata": {
    "colab": {
     "base_uri": "https://localhost:8080/"
    },
    "id": "zLeLGwCLRJeC",
    "outputId": "42745445-b570-4f13-b3b8-37890c853221"
   },
   "outputs": [
    {
     "name": "stdout",
     "output_type": "stream",
     "text": [
      "Enter a number: 6\n",
      "Even\n"
     ]
    }
   ],
   "source": [
    "# take a number from user\n",
    "num = int(input(\"Enter a number: \"))\n",
    "if num%2==0:\n",
    "    print(\"Even\")\n",
    "else:\n",
    "    print(\"Odd\")\n"
   ]
  },
  {
   "cell_type": "markdown",
   "metadata": {
    "id": "r6EqcS4WRP9e"
   },
   "source": [
    "3. How can you use nested if-else statements in Python, and provide an example?\n",
    "\n",
    "Ans:-  We can also nest an if statement inside and if else statement in Python. In this example, we will first check if the number is not equal to 0. If it returns True, then we will check if the number if Positive or Negative. If the first If condition returns False, its code block will not execute and the else part of the Python if else statement will execute."
   ]
  },
  {
   "cell_type": "code",
   "execution_count": null,
   "metadata": {
    "colab": {
     "base_uri": "https://localhost:8080/"
    },
    "id": "4jwYdHriRWri",
    "outputId": "041a69d7-46e0-414b-f616-292b6910739b"
   },
   "outputs": [
    {
     "name": "stdout",
     "output_type": "stream",
     "text": [
      "Enter a number: 7\n",
      "Positive\n"
     ]
    }
   ],
   "source": [
    "# take a number from user\n",
    "i = int(input(\"Enter a number: \"))\n",
    "\n",
    "# if condition 1\n",
    "if i != 0:\n",
    "    # condition 1\n",
    "    if i > 0:\n",
    "        print(\"Positive\")\n",
    "\n",
    "    # condition 2\n",
    "    if i < 0:\n",
    "        print(\"Negative\")\n",
    "else:\n",
    "    print(\"Zero\")"
   ]
  },
  {
   "cell_type": "markdown",
   "metadata": {
    "id": "TS-OL6qcSDc8"
   },
   "source": [
    "4. Write a Python program to determine the largest of three numbers using if-else."
   ]
  },
  {
   "cell_type": "code",
   "execution_count": null,
   "metadata": {
    "colab": {
     "base_uri": "https://localhost:8080/"
    },
    "id": "Z_G49tspSHSZ",
    "outputId": "97a5dc31-d890-48f1-dab7-6db1cea1521e"
   },
   "outputs": [
    {
     "name": "stdout",
     "output_type": "stream",
     "text": [
      "Enter a number: 30\n",
      "Enter a number: 20\n",
      "Enter a number: 10\n",
      "30\n"
     ]
    }
   ],
   "source": [
    "# take a number from user\n",
    "num1 = int(input(\"Enter a number: \"))\n",
    "num2 = int(input(\"Enter a number: \"))\n",
    "num3 = int(input(\"Enter a number: \"))\n",
    "if num1>num2 and num1>num3:\n",
    "    print(num1)\n",
    "elif num2>num1 and num2>num3:\n",
    "    print(num2)\n",
    "else:\n",
    "    print(num3)"
   ]
  },
  {
   "cell_type": "markdown",
   "metadata": {
    "id": "5XBDsi0QSRjH"
   },
   "source": [
    "5. Write a Python program that calculates the absolute value of a number using if-else."
   ]
  },
  {
   "cell_type": "code",
   "execution_count": null,
   "metadata": {
    "colab": {
     "base_uri": "https://localhost:8080/"
    },
    "id": "irkC7b_lSUva",
    "outputId": "cc4d859c-7a55-4045-fca5-10ccf692d9a1"
   },
   "outputs": [
    {
     "name": "stdout",
     "output_type": "stream",
     "text": [
      "Enter a number: 9\n",
      "9\n"
     ]
    }
   ],
   "source": [
    "# take a number from user\n",
    "num = int(input(\"Enter a number: \"))\n",
    "if num<0:\n",
    "    print(-num)\n",
    "else:\n",
    "    print(num)"
   ]
  },
  {
   "cell_type": "markdown",
   "metadata": {
    "id": "09gOG2FxShSI"
   },
   "source": [
    "6. Create a Python program that checks if a given character is a vowel or consonant using if-else."
   ]
  },
  {
   "cell_type": "code",
   "execution_count": null,
   "metadata": {
    "colab": {
     "base_uri": "https://localhost:8080/"
    },
    "id": "s8bDCoufSr61",
    "outputId": "9784bcaa-3ce4-47af-b94f-f7055328da7b"
   },
   "outputs": [
    {
     "name": "stdout",
     "output_type": "stream",
     "text": [
      "Enter a character: o\n",
      "Vowel\n"
     ]
    }
   ],
   "source": [
    "# take a character from user\n",
    "char = input(\"Enter a character: \")\n",
    "if char in \"aeiouAEIOU\":\n",
    "    print(\"Vowel\")\n",
    "else:\n",
    "    print(\"Consonant\")"
   ]
  },
  {
   "cell_type": "markdown",
   "metadata": {
    "id": "CLGrxiIfS0Ef"
   },
   "source": [
    "7. Write a Python program to determine if a user is eligible to vote based on their age using if-else."
   ]
  },
  {
   "cell_type": "code",
   "execution_count": null,
   "metadata": {
    "colab": {
     "base_uri": "https://localhost:8080/"
    },
    "id": "IJfNkTSeS5ZC",
    "outputId": "6787b16e-d03a-4e66-d0d3-3cea6b69abfc"
   },
   "outputs": [
    {
     "name": "stdout",
     "output_type": "stream",
     "text": [
      "Enter your age: 19\n",
      "Eligible to vote\n"
     ]
    }
   ],
   "source": [
    "# take age from user\n",
    "age = int(input(\"Enter your age: \"))\n",
    "if age>=18:\n",
    "    print(\"Eligible to vote\")\n",
    "else:\n",
    "    print(\"Not eligible to vote\")"
   ]
  },
  {
   "cell_type": "markdown",
   "metadata": {
    "id": "9jDs48g4S_S-"
   },
   "source": [
    "8. Create a Python program that calculates the discount amount based on the purchase amount using if-else."
   ]
  },
  {
   "cell_type": "code",
   "execution_count": null,
   "metadata": {
    "colab": {
     "base_uri": "https://localhost:8080/"
    },
    "id": "atn7TzDqTDuC",
    "outputId": "a3f403ae-bcb4-484c-b26d-43c4023f3cf4"
   },
   "outputs": [
    {
     "name": "stdout",
     "output_type": "stream",
     "text": [
      "Enter your purchase amount: 5000\n",
      "Discount amount:  500.0\n"
     ]
    }
   ],
   "source": [
    "# take purchase amount from user\n",
    "purchase_amount = int(input(\"Enter your purchase amount: \"))\n",
    "if purchase_amount>=1000:\n",
    "    print(\"Discount amount: \",purchase_amount*0.1)\n",
    "else:\n",
    "    print(\"No discount\")"
   ]
  },
  {
   "cell_type": "markdown",
   "metadata": {
    "id": "-jkroj8xTMfF"
   },
   "source": [
    "9. Write a Python program to check if a number is within a specified range using if-else."
   ]
  },
  {
   "cell_type": "code",
   "execution_count": null,
   "metadata": {
    "colab": {
     "base_uri": "https://localhost:8080/"
    },
    "id": "nZ2Dgij0TQkc",
    "outputId": "a90a384a-96fc-4065-f673-0b15c6f9cef4"
   },
   "outputs": [
    {
     "name": "stdout",
     "output_type": "stream",
     "text": [
      "Enter a number: 20\n",
      "Number is not in range\n"
     ]
    }
   ],
   "source": [
    "# take a number from user\n",
    "num=int(input(\"Enter a number: \"))\n",
    "if num>=1 and num<=10:\n",
    "    print(\"Number is in range\")\n",
    "else:\n",
    "    print(\"Number is not in range\")"
   ]
  },
  {
   "cell_type": "markdown",
   "metadata": {
    "id": "BOAeFXXfTd-T"
   },
   "source": [
    "10. Create a Python program that determines the grade of a student based on their score using if-else."
   ]
  },
  {
   "cell_type": "code",
   "execution_count": null,
   "metadata": {
    "colab": {
     "base_uri": "https://localhost:8080/"
    },
    "id": "jrYkEF47TidZ",
    "outputId": "74182cef-7cb1-4a9c-8b42-8715e04b5ec3"
   },
   "outputs": [
    {
     "name": "stdout",
     "output_type": "stream",
     "text": [
      "Enter your score: 56\n",
      "Grade: F\n"
     ]
    }
   ],
   "source": [
    "# take score from user\n",
    "score = int(input(\"Enter your score: \"))\n",
    "if score>=90:\n",
    "    print(\"Grade: A\")\n",
    "elif score>=80:\n",
    "    print(\"Grade: B\")\n",
    "elif score>=70:\n",
    "    print(\"Grade: C\")\n",
    "elif score>=60:\n",
    "    print(\"Grade: D\")\n",
    "else:\n",
    "    print(\"Grade: F\")"
   ]
  },
  {
   "cell_type": "markdown",
   "metadata": {
    "id": "D0Ih_2Q7UErs"
   },
   "source": [
    "11. Write a Python program to check if a string is empty or not using if-else."
   ]
  },
  {
   "cell_type": "code",
   "execution_count": null,
   "metadata": {
    "colab": {
     "base_uri": "https://localhost:8080/"
    },
    "id": "ohcpZ_tRUJX7",
    "outputId": "9eb60167-989c-4350-8999-ea0719ff4f2f"
   },
   "outputs": [
    {
     "name": "stdout",
     "output_type": "stream",
     "text": [
      "Enter a string: \n",
      "String is empty\n"
     ]
    }
   ],
   "source": [
    "# take a string from user\n",
    "string = input(\"Enter a string: \")\n",
    "if string==\"\":\n",
    "    print(\"String is empty\")\n",
    "else:\n",
    "    print(\"String is not empty\")"
   ]
  },
  {
   "cell_type": "markdown",
   "metadata": {
    "id": "nqdo_ZJUUQVJ"
   },
   "source": [
    "12. Create a Python program that identifies the type of a triangle (e.g., equilateral, isosceles, or scalene) based on input values using if-else."
   ]
  },
  {
   "cell_type": "code",
   "execution_count": null,
   "metadata": {
    "colab": {
     "base_uri": "https://localhost:8080/"
    },
    "id": "nzWh18CAUVhb",
    "outputId": "81878b64-9c3b-4bfa-f4f7-175deca73ca4"
   },
   "outputs": [
    {
     "name": "stdout",
     "output_type": "stream",
     "text": [
      "Enter the length of the first side: 6\n",
      "Enter the length of the second side: 8\n",
      "Enter the length of the third side: 9\n",
      "The triangle is scalene.\n"
     ]
    }
   ],
   "source": [
    "# Input: lengths of the sides of the triangle\n",
    "a = float(input(\"Enter the length of the first side: \"))\n",
    "b = float(input(\"Enter the length of the second side: \"))\n",
    "c = float(input(\"Enter the length of the third side: \"))\n",
    "\n",
    "# Check if the input values form a valid triangle\n",
    "if a + b > c and a + c > b and b + c > a:\n",
    "    if a == b == c:\n",
    "        print(\"The triangle is equilateral.\")\n",
    "    elif a == b or b == c or a == c:\n",
    "        print(\"The triangle is isosceles.\")\n",
    "    else:\n",
    "        print(\"The triangle is scalene.\")\n",
    "else:\n",
    "    print(\"The given sides do not form a valid triangle.\")"
   ]
  },
  {
   "cell_type": "markdown",
   "metadata": {
    "id": "XXu_F4fQU4tP"
   },
   "source": [
    "13. Write a Python program to determine the day of the week based on a user-provided number using if-else."
   ]
  },
  {
   "cell_type": "code",
   "execution_count": null,
   "metadata": {
    "colab": {
     "base_uri": "https://localhost:8080/"
    },
    "id": "qzy9yN5IU86h",
    "outputId": "b7736cc9-203c-4be3-e6b0-2cda998c05a0"
   },
   "outputs": [
    {
     "name": "stdout",
     "output_type": "stream",
     "text": [
      "Enter a number: 6\n",
      "Saturday\n"
     ]
    }
   ],
   "source": [
    "# take a number from user\n",
    "num=int(input(\"Enter a number: \"))\n",
    "if num==1:\n",
    "    print(\"Monday\")\n",
    "elif num==2:\n",
    "    print(\"Tuesday\")\n",
    "elif num==3:\n",
    "    print(\"Wednesday\")\n",
    "elif num==4:\n",
    "    print(\"Thursday\")\n",
    "elif num==5:\n",
    "    print(\"Friday\")\n",
    "elif num==6:\n",
    "    print(\"Saturday\")\n",
    "elif num==7:\n",
    "    print(\"Sunday\")\n",
    "else:\n",
    "    print(\"Invalid number\")"
   ]
  },
  {
   "cell_type": "markdown",
   "metadata": {
    "id": "wxmukv5zVbXK"
   },
   "source": [
    "14. Create a Python program that checks if a given year is a leap year using both if-else and a function."
   ]
  },
  {
   "cell_type": "code",
   "execution_count": null,
   "metadata": {
    "colab": {
     "base_uri": "https://localhost:8080/"
    },
    "id": "ZPzt1HYIVfbd",
    "outputId": "8ab6fb67-73c7-4060-e4d3-84e0a63096d4"
   },
   "outputs": [
    {
     "name": "stdout",
     "output_type": "stream",
     "text": [
      "Enter a year: 2024\n",
      "Leap year\n"
     ]
    }
   ],
   "source": [
    "# take a year from user\n",
    "year = int(input(\"Enter a year: \"))\n",
    "def leap_year(year):\n",
    "    if year%400==0:\n",
    "        return True\n",
    "    elif year%100==0:\n",
    "        return False\n",
    "    elif year%4==0:\n",
    "        return True\n",
    "    else:\n",
    "        return False\n",
    "\n",
    "if leap_year(year):\n",
    "    print(\"Leap year\")\n",
    "else:\n",
    "    print(\"Not a leap year\")"
   ]
  },
  {
   "cell_type": "markdown",
   "metadata": {
    "id": "osenmNFzV88B"
   },
   "source": [
    "15. How do you use the \"assert\" statement in Python to add debugging checks within if-else blocks?\n",
    "\n",
    "Ans:- The assert statement in Python is used to test if a condition is true, and if it's not, it raises an AssertionError. It is often used for debugging purposes to ensure certain conditions hold at specific points in the code.\n",
    "\n",
    "1.assert takes a condition as the first argument. If the condition is False, the program will raise an AssertionError.\n",
    "2. The second (optional) argument is the error message that will be displayed if the assertion fails.\n",
    "3. The first assert checks if all sides are positive.\n",
    "4. The second assert ensures the sides satisfy the triangle inequality theorem."
   ]
  },
  {
   "cell_type": "markdown",
   "metadata": {
    "id": "14kIagXiWqjb"
   },
   "source": [
    "16. Create a Python program that determines the eligibility of a person for a senior citizen discount based on age using if-else."
   ]
  },
  {
   "cell_type": "code",
   "execution_count": null,
   "metadata": {
    "colab": {
     "base_uri": "https://localhost:8080/"
    },
    "id": "A7hX6PDWeXS9",
    "outputId": "4119ff3e-bfe0-4124-cc0a-7e80ce21b5fd"
   },
   "outputs": [
    {
     "name": "stdout",
     "output_type": "stream",
     "text": [
      "Enter your age: 68\n",
      "Eligible for senior citizen discount\n"
     ]
    }
   ],
   "source": [
    "# take age from user\n",
    "age = int(input(\"Enter your age: \"))\n",
    "if age>=60:\n",
    "    print(\"Eligible for senior citizen discount\")\n",
    "else:\n",
    "    print(\"Not eligible for senior citizen discount\")"
   ]
  },
  {
   "cell_type": "markdown",
   "metadata": {
    "id": "-Jajhr_rehvO"
   },
   "source": [
    "17. Write a Python program to categorize a given character as uppercase, lowercase, or neither using if-else."
   ]
  },
  {
   "cell_type": "code",
   "execution_count": null,
   "metadata": {
    "colab": {
     "base_uri": "https://localhost:8080/"
    },
    "id": "jfEVv5BxelOc",
    "outputId": "31a653c1-c3ef-4713-b830-66134db1909a"
   },
   "outputs": [
    {
     "name": "stdout",
     "output_type": "stream",
     "text": [
      "Enter a character: d\n",
      "Lowercase\n"
     ]
    }
   ],
   "source": [
    "# take a character from user\n",
    "char = input(\"Enter a character: \")\n",
    "if char.isupper():\n",
    "    print(\"Uppercase\")\n",
    "elif char.islower():\n",
    "    print(\"Lowercase\")\n",
    "else:\n",
    "    print(\"Neither\")"
   ]
  },
  {
   "cell_type": "markdown",
   "metadata": {
    "id": "9Py2z_Edew7-"
   },
   "source": [
    "18. Write a Python program to determine the roots of a quadratic equation using if-else."
   ]
  },
  {
   "cell_type": "code",
   "execution_count": null,
   "metadata": {
    "colab": {
     "base_uri": "https://localhost:8080/"
    },
    "id": "CW36K-JSe1CF",
    "outputId": "9fad90a6-f6f9-46ab-c939-9ba73e399e19"
   },
   "outputs": [
    {
     "name": "stdout",
     "output_type": "stream",
     "text": [
      "Enter coefficient a: 2\n",
      "Enter coefficient b: 4\n",
      "Enter coefficient c: 8\n",
      "The equation has two complex roots: -1.0 + 1.7320508075688772i and -1.0 - 1.7320508075688772i\n"
     ]
    }
   ],
   "source": [
    "import math\n",
    "\n",
    "# Input: coefficients of the quadratic equation\n",
    "a = float(input(\"Enter coefficient a: \"))\n",
    "b = float(input(\"Enter coefficient b: \"))\n",
    "c = float(input(\"Enter coefficient c: \"))\n",
    "\n",
    "# Check if it's a quadratic equation (a should not be zero)\n",
    "if a == 0:\n",
    "    print(\"This is not a quadratic equation.\")\n",
    "else:\n",
    "    # Calculate the discriminant (b^2 - 4ac)\n",
    "    discriminant = b**2 - 4*a*c\n",
    "\n",
    "    # Check the nature of the roots based on the discriminant\n",
    "    if discriminant > 0:\n",
    "        root1 = (-b + math.sqrt(discriminant)) / (2*a)\n",
    "        root2 = (-b - math.sqrt(discriminant)) / (2*a)\n",
    "        print(f\"The equation has two real and distinct roots: {root1} and {root2}\")\n",
    "    elif discriminant == 0:\n",
    "        root = -b / (2*a)\n",
    "        print(f\"The equation has one real and repeated root: {root}\")\n",
    "    else:\n",
    "        real_part = -b / (2*a)\n",
    "        imaginary_part = math.sqrt(-discriminant) / (2*a)\n",
    "        print(f\"The equation has two complex roots: {real_part} + {imaginary_part}i and {real_part} - {imaginary_part}i\")\n"
   ]
  },
  {
   "cell_type": "markdown",
   "metadata": {
    "id": "Kw6zGAKjfFFF"
   },
   "source": [
    "19. Create a Python program that checks if a given year is a century year or not using if-else."
   ]
  },
  {
   "cell_type": "code",
   "execution_count": null,
   "metadata": {
    "colab": {
     "base_uri": "https://localhost:8080/"
    },
    "id": "zmm_lYUTfNvt",
    "outputId": "2c89ee74-cf28-4509-bd5a-51af1b08d784"
   },
   "outputs": [
    {
     "name": "stdout",
     "output_type": "stream",
     "text": [
      "Enter a year: 1800\n",
      "Century year\n"
     ]
    }
   ],
   "source": [
    "# take a year from user\n",
    "year = int(input(\"Enter a year: \"))\n",
    "if year%100==0:\n",
    "    print(\"Century year\")\n",
    "else:\n",
    "    print(\"Not a century year\")"
   ]
  },
  {
   "cell_type": "markdown",
   "metadata": {
    "id": "ktSthxy_fa6o"
   },
   "source": [
    "20. Write a Python program to determine if a given number is a perfect square using if-else."
   ]
  },
  {
   "cell_type": "code",
   "execution_count": null,
   "metadata": {
    "colab": {
     "base_uri": "https://localhost:8080/"
    },
    "id": "BFgV5CQbfelE",
    "outputId": "da3b7dae-b41e-476b-8604-a872474a5e2e"
   },
   "outputs": [
    {
     "name": "stdout",
     "output_type": "stream",
     "text": [
      "Enter a number: 4\n",
      "Perfect square\n"
     ]
    }
   ],
   "source": [
    "# take a number from user\n",
    "num = int(input(\"Enter a number: \"))\n",
    "if num**0.5==int(num**0.5):\n",
    "    print(\"Perfect square\")\n",
    "else:\n",
    "    print(\"Not a perfect square\")"
   ]
  },
  {
   "cell_type": "markdown",
   "metadata": {
    "id": "yYlLHfjdfq-n"
   },
   "source": [
    "21. Explain the purpose of the \"continue\" and \"break\" statements within if-else loops.\n",
    "\n",
    "Ans:- The continue and break statements are control flow tools in Python, commonly used within loops (for or while loops), often in conjunction with if-else conditions. They control how the loop executes based on certain conditions.\n",
    "\n",
    "**1. continue**\n",
    "\n",
    "\n",
    "1. The continue statement causes the loop to skip the rest of the code inside the loop for the current iteration and immediately moves to the next iteration.\n",
    "2. It is used when you want to skip certain conditions without breaking the loop entirely.\n",
    "\n",
    "\n",
    "**2. Break**\n",
    "\n",
    "1. The break statement is used to exit the loop completely, regardless of the loop’s remaining iterations.\n",
    "2. It is typically used when a certain condition is met, and continuing the loop is no longer necessary.\n",
    "\n",
    "\n",
    "\n"
   ]
  },
  {
   "cell_type": "markdown",
   "metadata": {
    "id": "OXkTysk0guLH"
   },
   "source": [
    "22. Create a Python program that calculates the BMI (Body Mass Index) of a person based on their weight and height using if-else."
   ]
  },
  {
   "cell_type": "code",
   "execution_count": null,
   "metadata": {
    "colab": {
     "base_uri": "https://localhost:8080/"
    },
    "id": "o_hkXbb8gyX5",
    "outputId": "c901c5ce-1b20-4910-f03e-d5477fd6e352"
   },
   "outputs": [
    {
     "name": "stdout",
     "output_type": "stream",
     "text": [
      "Enter your height in meters: 1.67\n",
      "Enter your weight in kilograms: 60\n",
      "the person is normal weight\n"
     ]
    }
   ],
   "source": [
    "# take height and weight from user\n",
    "height = float(input(\"Enter your height in meters: \"))\n",
    "weight = float(input(\"Enter your weight in kilograms: \"))\n",
    "bmi=weight/(height**2)\n",
    "if bmi<18.5:\n",
    "    print(\"the person is underweight\")\n",
    "elif bmi<25:\n",
    "    print(\"the person is normal weight\")\n",
    "elif bmi<30:\n",
    "    print(\"the person is overweight\")\n",
    "else:\n",
    "    print(\"the person is obese\")"
   ]
  },
  {
   "cell_type": "markdown",
   "metadata": {
    "id": "kD0t4YpBhGNe"
   },
   "source": [
    "23. How can you use the \"filter()\" function with if-else statements to filter elements from a list?"
   ]
  },
  {
   "cell_type": "code",
   "execution_count": 1,
   "metadata": {
    "colab": {
     "base_uri": "https://localhost:8080/",
     "height": 176
    },
    "id": "jqH-uy9VhM78",
    "outputId": "bf7ed0a8-aee9-479e-ebbc-3d62038aa554"
   },
   "outputs": [
    {
     "data": {
      "text/plain": [
       "[2, 4, 6, 2]"
      ]
     },
     "execution_count": 1,
     "metadata": {},
     "output_type": "execute_result"
    }
   ],
   "source": [
    "list_1=[2,4,5,6,7,2,1]\n",
    "def even(x):\n",
    "    if x%2==0:\n",
    "        return True\n",
    "    else:\n",
    "        return False\n",
    "list(filter(even,list_1))"
   ]
  },
  {
   "cell_type": "markdown",
   "metadata": {
    "id": "7Ja178BChhfC"
   },
   "source": [
    "24. Write a Python program to determine if a given number is prime or not using if-else."
   ]
  },
  {
   "cell_type": "code",
   "execution_count": null,
   "metadata": {
    "colab": {
     "base_uri": "https://localhost:8080/"
    },
    "id": "KwKhnQLshkhX",
    "outputId": "7baeadc6-42f3-4a33-cff3-ea0e4562253a"
   },
   "outputs": [
    {
     "name": "stdout",
     "output_type": "stream",
     "text": [
      "Enter a number: 11\n",
      "Prime number\n"
     ]
    }
   ],
   "source": [
    "# take a number from user\n",
    "num = int(input(\"Enter a number: \"))\n",
    "if num>1:\n",
    "    for i in range(2,num):\n",
    "        if num%i==0:\n",
    "            print(\"Not a prime number\")\n",
    "            break\n",
    "    else:\n",
    "        print(\"Prime number\")"
   ]
  },
  {
   "cell_type": "markdown",
   "metadata": {
    "id": "Pl6hJVyehtRi"
   },
   "source": [
    "\n",
    "**Map :-**"
   ]
  },
  {
   "cell_type": "markdown",
   "metadata": {
    "id": "gMgOq-ephzIM"
   },
   "source": [
    "1. Explain the purpose of the `map()` function in Python and provide an example of how it can be used to apply a function to each element of an iterable."
   ]
  },
  {
   "cell_type": "code",
   "execution_count": 2,
   "metadata": {
    "colab": {
     "base_uri": "https://localhost:8080/",
     "height": 176
    },
    "id": "o2TW8PaWh2vV",
    "outputId": "f73f2463-a87c-4ee8-9709-a8431aca4eea"
   },
   "outputs": [
    {
     "data": {
      "text/plain": [
       "[4, 8, 10, 12, 14, 4, 2]"
      ]
     },
     "execution_count": 2,
     "metadata": {},
     "output_type": "execute_result"
    }
   ],
   "source": [
    "# take a list\n",
    "list_1=[2,4,5,6,7,2,1]\n",
    "def mul(x):\n",
    "    return x*2\n",
    "list(map(mul,list_1))"
   ]
  },
  {
   "cell_type": "markdown",
   "metadata": {
    "id": "lPKZryFrjb0H"
   },
   "source": [
    "2. Write a Python program that uses the `map()` function to square each element of a list of numbers."
   ]
  },
  {
   "cell_type": "code",
   "execution_count": 3,
   "metadata": {
    "colab": {
     "base_uri": "https://localhost:8080/",
     "height": 176
    },
    "id": "66gD0x2NjfKd",
    "outputId": "89abd4d8-20bb-4a03-f1bb-2bf6fbefc817"
   },
   "outputs": [
    {
     "data": {
      "text/plain": [
       "[4, 16, 25, 36, 49, 4, 1]"
      ]
     },
     "execution_count": 3,
     "metadata": {},
     "output_type": "execute_result"
    }
   ],
   "source": [
    "# take a list\n",
    "list_1=[2,4,5,6,7,2,1]\n",
    "def square(x):\n",
    "    return x**2\n",
    "list(map(square,list_1))"
   ]
  },
  {
   "cell_type": "markdown",
   "metadata": {
    "id": "0SpN1Csxj2n8"
   },
   "source": [
    "3. How does the `map()` function differ from a list comprehension in Python, and when would you choose one over the other?"
   ]
  },
  {
   "cell_type": "code",
   "execution_count": 11,
   "metadata": {
    "colab": {
     "base_uri": "https://localhost:8080/",
     "height": 176
    },
    "id": "9uA6eyeMj9uA",
    "outputId": "37c3ee57-3588-4ef5-cf32-0665da4ba8ea"
   },
   "outputs": [
    {
     "data": {
      "text/plain": [
       "(4, 8, 10, 12, 14, 4, 2)"
      ]
     },
     "execution_count": 11,
     "metadata": {},
     "output_type": "execute_result"
    }
   ],
   "source": [
    "numbers=[2,4,5,6,7,2,1]\n",
    "\n",
    "tuple(map(lambda x: x*2, numbers))"
   ]
  },
  {
   "cell_type": "markdown",
   "metadata": {
    "id": "0z-Z7I2alXkL"
   },
   "source": [
    "4. Create a Python program that uses the `map()` function to convert a list of names to uppercase."
   ]
  },
  {
   "cell_type": "code",
   "execution_count": 13,
   "metadata": {
    "colab": {
     "base_uri": "https://localhost:8080/",
     "height": 159
    },
    "id": "h6a0txZnlcBD",
    "outputId": "f87434cd-4a5c-4ced-abc0-d89f3b208530"
   },
   "outputs": [
    {
     "data": {
      "text/plain": [
       "('RAM', 'SHYAM', 'HARI')"
      ]
     },
     "execution_count": 13,
     "metadata": {},
     "output_type": "execute_result"
    }
   ],
   "source": [
    "list_1=[\"ram\",\"shyam\",\"hari\"]\n",
    "tuple(map(str.upper,list_1))"
   ]
  },
  {
   "cell_type": "markdown",
   "metadata": {
    "id": "vQG7h3YqlmpA"
   },
   "source": [
    "5. Write a Python program that uses the `map()` function to calculate the length of each word in a list of strings."
   ]
  },
  {
   "cell_type": "code",
   "execution_count": 15,
   "metadata": {
    "colab": {
     "base_uri": "https://localhost:8080/",
     "height": 159
    },
    "id": "qvP72xi7ls12",
    "outputId": "2839ec9c-2c0b-4115-b922-4a1bc063ad48"
   },
   "outputs": [
    {
     "data": {
      "text/plain": [
       "(3, 5, 4)"
      ]
     },
     "execution_count": 15,
     "metadata": {},
     "output_type": "execute_result"
    }
   ],
   "source": [
    "strings=[\"ram\",\"shyam\",\"hari\"]\n",
    "tuple(map(len,strings))"
   ]
  },
  {
   "cell_type": "markdown",
   "metadata": {
    "id": "m6Y5kmkLl0Ud"
   },
   "source": [
    "6. How can you use the `map()` function to apply a custom function to elements of multiple lists simultaneously in Python?"
   ]
  },
  {
   "cell_type": "code",
   "execution_count": 17,
   "metadata": {
    "colab": {
     "base_uri": "https://localhost:8080/",
     "height": 176
    },
    "id": "8I6zKozIl61H",
    "outputId": "dea4a412-f64b-467b-bc3e-5601570e1491"
   },
   "outputs": [
    {
     "data": {
      "text/plain": [
       "(4, 16, 25, 36, 49, 4, 1)"
      ]
     },
     "execution_count": 17,
     "metadata": {},
     "output_type": "execute_result"
    }
   ],
   "source": [
    "list_1=[2,4,5,6,7,2,1]\n",
    "list_2=[2,4,5,6,7,2,1]\n",
    "def add(x,y):\n",
    "    return x*y\n",
    "\n",
    "tuple(map(add,list_1,list_2))\n"
   ]
  },
  {
   "cell_type": "markdown",
   "metadata": {
    "id": "DU1LzrdCmLZ4"
   },
   "source": [
    "7. Create a Python program that uses `map()` to convert a list of temperatures from Celsius to Fahrenheit."
   ]
  },
  {
   "cell_type": "code",
   "execution_count": 20,
   "metadata": {
    "colab": {
     "base_uri": "https://localhost:8080/",
     "height": 176
    },
    "id": "QO_0mfsamOru",
    "outputId": "5f93b040-86cf-4be2-92ee-b021344e085f"
   },
   "outputs": [
    {
     "data": {
      "text/plain": [
       "(35.6, 39.2, 41.0, 42.8, 44.6, 35.6, 33.8)"
      ]
     },
     "execution_count": 20,
     "metadata": {},
     "output_type": "execute_result"
    }
   ],
   "source": [
    "list_1=[2,4,5,6,7,2,1]\n",
    "def cel_to_far(x):\n",
    "    return (x*9/5)+32\n",
    "\n",
    "tuple(map(cel_to_far,list_1))"
   ]
  },
  {
   "cell_type": "markdown",
   "metadata": {
    "id": "Ja8oBh1omX8l"
   },
   "source": [
    "8. Write a Python program that uses the `map()` function to round each element of a list of floating-point numbers to the nearest integer."
   ]
  },
  {
   "cell_type": "code",
   "execution_count": 21,
   "metadata": {
    "colab": {
     "base_uri": "https://localhost:8080/",
     "height": 159
    },
    "id": "AFI_SxsQmdoZ",
    "outputId": "0c100c69-d9aa-4b37-877e-2a720b973597"
   },
   "outputs": [
    {
     "data": {
      "text/plain": [
       "(2, 4, 6, 7, 2, 1)"
      ]
     },
     "execution_count": 21,
     "metadata": {},
     "output_type": "execute_result"
    }
   ],
   "source": [
    "list_1=[2.4,4.5,5.6,6.7,2.2,1.1]\n",
    "tuple(map(round,list_1))"
   ]
  },
  {
   "cell_type": "markdown",
   "metadata": {
    "id": "7TCtUviImnxL"
   },
   "source": [
    "\n",
    "**Reduce :-**"
   ]
  },
  {
   "cell_type": "markdown",
   "metadata": {
    "id": "R22srKB-mrf4"
   },
   "source": [
    "1. What is the `reduce()` function in Python, and what module should you import to use it? Provide an example of its basic usage.\n",
    "\n",
    "Ans:- The reduce() function in Python is used to apply a function cumulatively to the items of an iterable (such as a list), reducing the iterable to a single value. To use reduce(), you need to import it from the functools module.\n",
    "1.It applies the function to the first two elements of the iterable.\n",
    "2.Then it applies the function to the result and the next element.\n",
    "3.This process continues until the iterable is reduced to a single value."
   ]
  },
  {
   "cell_type": "code",
   "execution_count": null,
   "metadata": {
    "colab": {
     "base_uri": "https://localhost:8080/"
    },
    "id": "Mha-TcxhBWiB",
    "outputId": "00971083-08e0-4f4f-f33d-732a563a3061"
   },
   "outputs": [
    {
     "name": "stdout",
     "output_type": "stream",
     "text": [
      "Product of all numbers: 24\n"
     ]
    }
   ],
   "source": [
    "from functools import reduce\n",
    "\n",
    "# Function to multiply two numbers\n",
    "def multiply(x, y):\n",
    "    return x * y\n",
    "\n",
    "# List of numbers\n",
    "numbers = [1, 2, 3, 4]\n",
    "\n",
    "# Using reduce to multiply all numbers in the list\n",
    "result = reduce(multiply, numbers)\n",
    "\n",
    "print(\"Product of all numbers:\", result)"
   ]
  },
  {
   "cell_type": "markdown",
   "metadata": {
    "id": "Yuav_UgWBKTz"
   },
   "source": [
    "2. Write a Python program that uses the `reduce()` function to find the product of all elements in a list."
   ]
  },
  {
   "cell_type": "code",
   "execution_count": null,
   "metadata": {
    "colab": {
     "base_uri": "https://localhost:8080/"
    },
    "id": "Tzi8TLAZBner",
    "outputId": "28ae7705-3225-4874-f0b6-816f54bfc3d5"
   },
   "outputs": [
    {
     "name": "stdout",
     "output_type": "stream",
     "text": [
      "3360\n"
     ]
    }
   ],
   "source": [
    "list_1=[2,4,5,6,7,2,1]\n",
    "def mul(x,y):\n",
    "    return x*y\n",
    "\n",
    "result=reduce(mul,list_1)\n",
    "print(result)"
   ]
  },
  {
   "cell_type": "markdown",
   "metadata": {
    "id": "ESKF-SLvBxSW"
   },
   "source": [
    "3. Create a Python program that uses `reduce()` to find the maximum element in a list of numbers."
   ]
  },
  {
   "cell_type": "code",
   "execution_count": null,
   "metadata": {
    "colab": {
     "base_uri": "https://localhost:8080/"
    },
    "id": "Ls8ESEZcB1oe",
    "outputId": "486e5078-608f-4b1b-9b7b-4ae25ed33ec8"
   },
   "outputs": [
    {
     "name": "stdout",
     "output_type": "stream",
     "text": [
      "7\n"
     ]
    }
   ],
   "source": [
    "list_1=[2,4,5,6,7,2,1]\n",
    "def max(x,y):\n",
    "    if x>y:\n",
    "        return x\n",
    "    else:\n",
    "        return y\n",
    "\n",
    "result=reduce(max,list_1)\n",
    "print(result)"
   ]
  },
  {
   "cell_type": "markdown",
   "metadata": {
    "id": "dkzpEP5vCCRR"
   },
   "source": [
    "4. How can you use the `reduce()` function to concatenate a list of strings into a single string?"
   ]
  },
  {
   "cell_type": "code",
   "execution_count": null,
   "metadata": {
    "colab": {
     "base_uri": "https://localhost:8080/"
    },
    "id": "MVrceZe6CH8c",
    "outputId": "b077a0b2-df4a-4790-f363-ee40e5d39cc0"
   },
   "outputs": [
    {
     "name": "stdout",
     "output_type": "stream",
     "text": [
      "ramshyamhari\n"
     ]
    }
   ],
   "source": [
    "# take a string from user\n",
    "list_1=[\"ram\",\"shyam\",\"hari\"]\n",
    "def concat(x,y):\n",
    "    return x+y\n",
    "\n",
    "result=reduce(concat,list_1)\n",
    "print(result)"
   ]
  },
  {
   "cell_type": "markdown",
   "metadata": {
    "id": "sK5j0mjWCR_P"
   },
   "source": [
    "5. Write a Python program that calculates the factorial of a number using the `reduce()` function."
   ]
  },
  {
   "cell_type": "code",
   "execution_count": null,
   "metadata": {
    "colab": {
     "base_uri": "https://localhost:8080/"
    },
    "id": "xuRr_5gtCVhn",
    "outputId": "01be7dfd-de19-4749-8544-d8828b02b797"
   },
   "outputs": [
    {
     "name": "stdout",
     "output_type": "stream",
     "text": [
      "Enter a number: 5\n",
      "120\n"
     ]
    }
   ],
   "source": [
    "# take a number from user\n",
    "num=int(input(\"Enter a number: \"))\n",
    "def fact(x,y):\n",
    "    return x*y\n",
    "\n",
    "result=reduce(fact,range(1,num+1))\n",
    "print(result)"
   ]
  },
  {
   "cell_type": "markdown",
   "metadata": {
    "id": "c7bxRJ_xCeuV"
   },
   "source": [
    "6. Create a Python program that uses `reduce()` to find the GCD (Greatest Common Divisor) of a list of numbers."
   ]
  },
  {
   "cell_type": "code",
   "execution_count": null,
   "metadata": {
    "colab": {
     "base_uri": "https://localhost:8080/"
    },
    "id": "KUz-DvybChc6",
    "outputId": "69d49e75-61e2-4499-bd0c-87030449cd46"
   },
   "outputs": [
    {
     "name": "stdout",
     "output_type": "stream",
     "text": [
      "1\n"
     ]
    }
   ],
   "source": [
    "# take a number from user\n",
    "list_1=[2,4,5,6,7,2,1]\n",
    "def gcd(x,y):\n",
    "    while y!=0:\n",
    "        x,y=y,x%y\n",
    "    return x\n",
    "\n",
    "result=reduce(gcd,list_1)\n",
    "print(result)"
   ]
  },
  {
   "cell_type": "markdown",
   "metadata": {
    "id": "UaZdYByuCuVD"
   },
   "source": [
    "7. Write a Python program that uses the `reduce()` function to find the sum of the digits of a given number."
   ]
  },
  {
   "cell_type": "code",
   "execution_count": null,
   "metadata": {
    "colab": {
     "base_uri": "https://localhost:8080/"
    },
    "id": "nWtvjiriCx95",
    "outputId": "f8bea047-1b79-4f20-ea43-fcc5f9e0f9f1"
   },
   "outputs": [
    {
     "name": "stdout",
     "output_type": "stream",
     "text": [
      "Enter a number: 3\n",
      "Enter a number: 7\n",
      "10\n"
     ]
    }
   ],
   "source": [
    "# take a nuber from user\n",
    "num=int(input(\"Enter a number: \"))\n",
    "num_2=int(input(\"Enter a number: \"))\n",
    "def sum(x,y):\n",
    "    return int(x)+int(y)\n",
    "\n",
    "result=reduce(sum,str(num),str(num_2))\n",
    "print(result)"
   ]
  },
  {
   "cell_type": "markdown",
   "metadata": {
    "id": "XJsfAIKpDW30"
   },
   "source": [
    "\n",
    "**Filter :-**"
   ]
  },
  {
   "cell_type": "markdown",
   "metadata": {
    "id": "BUwTSwJXDbG-"
   },
   "source": [
    "1. Explain the purpose of the `filter()` function in Python and provide an example of how it can be used to filter elements from an iterable.\n",
    "\n",
    "Ans:-The filter() function in Python is used to construct an iterator from elements of an iterable (like a list or tuple) that satisfy a function (i.e., return True when passed to the function). It takes two arguments:\n",
    "\n",
    "1.Function: A function that evaluates each element of the iterable and returns either True or False.\n",
    "2. Iterable: The sequence to be filtered."
   ]
  },
  {
   "cell_type": "code",
   "execution_count": 1,
   "metadata": {
    "colab": {
     "base_uri": "https://localhost:8080/"
    },
    "id": "k1xkbV-xz7mI",
    "outputId": "a8cd97fb-9494-4512-e29c-661c97effa4e"
   },
   "outputs": [
    {
     "name": "stdout",
     "output_type": "stream",
     "text": [
      "[1, 3, 5, 7, 9]\n"
     ]
    }
   ],
   "source": [
    "numbers = [1, 2, 3, 4, 5, 6, 7, 8, 9, 10]\n",
    "\n",
    "# Use filter to keep only odd numbers\n",
    "filtered_numbers = filter(lambda x: x % 2 != 0, numbers)\n",
    "\n",
    "# Convert to list to see the result\n",
    "print(list(filtered_numbers))\n"
   ]
  },
  {
   "cell_type": "markdown",
   "metadata": {
    "id": "k2z1yd0L0EW9"
   },
   "source": [
    "2. Write a Python program that uses the `filter()` function to select even numbers from a list of integers."
   ]
  },
  {
   "cell_type": "code",
   "execution_count": 2,
   "metadata": {
    "colab": {
     "base_uri": "https://localhost:8080/"
    },
    "id": "Ia1zEge80Fis",
    "outputId": "6377b717-d138-4f57-c8bf-5686eb640715"
   },
   "outputs": [
    {
     "data": {
      "text/plain": [
       "[2, 4, 6, 8, 10]"
      ]
     },
     "execution_count": 2,
     "metadata": {},
     "output_type": "execute_result"
    }
   ],
   "source": [
    "number=[1,2,3,4,5,6,7,8,9,10]\n",
    "def even(x):\n",
    "    if x%2==0:\n",
    "        return True\n",
    "    else:\n",
    "        return False\n",
    "list(filter(even,number))"
   ]
  },
  {
   "cell_type": "markdown",
   "metadata": {
    "id": "JgWRl9Cp0KqA"
   },
   "source": [
    "3. Create a Python program that uses the `filter()` function to select names that start with a specific letter from a list of strings."
   ]
  },
  {
   "cell_type": "code",
   "execution_count": 22,
   "metadata": {
    "colab": {
     "base_uri": "https://localhost:8080/",
     "height": 176
    },
    "id": "Dj4jE1Rf0Obe",
    "outputId": "b48455dd-76b4-4245-a735-be310838bbf7"
   },
   "outputs": [
    {
     "data": {
      "text/plain": [
       "('ram',)"
      ]
     },
     "execution_count": 22,
     "metadata": {},
     "output_type": "execute_result"
    }
   ],
   "source": [
    "strings=[\"ram\",\"shyam\",\"hari\"]\n",
    "def start_with_r(x):\n",
    "    if x.startswith(\"r\"):\n",
    "        return True\n",
    "    else:\n",
    "        return False\n",
    "tuple(filter(start_with_r,strings))"
   ]
  },
  {
   "cell_type": "markdown",
   "metadata": {
    "id": "hBGoAu2o0lkX"
   },
   "source": [
    "4. Write a Python program that uses the `filter()` function to select prime numbers from a list of integers."
   ]
  },
  {
   "cell_type": "code",
   "execution_count": 24,
   "metadata": {
    "colab": {
     "base_uri": "https://localhost:8080/",
     "height": 176
    },
    "id": "SLqxM_BL0obM",
    "outputId": "90a9feb0-a7d3-46a3-d569-e9ab1dfe0c23"
   },
   "outputs": [
    {
     "data": {
      "text/plain": [
       "(2, 3, 5, 7)"
      ]
     },
     "execution_count": 24,
     "metadata": {},
     "output_type": "execute_result"
    }
   ],
   "source": [
    "number=[1,2,3,4,5,6,7,8,9,10]\n",
    "def prime(x):\n",
    "    if x>1:\n",
    "        for i in range(2,x):\n",
    "            if x%i==0:\n",
    "                return False\n",
    "        else:\n",
    "            return True\n",
    "    else:\n",
    "        return False\n",
    "tuple(filter(prime,number))\n",
    "\n"
   ]
  },
  {
   "cell_type": "markdown",
   "metadata": {
    "id": "KlFi1cuN0xZt"
   },
   "source": [
    "5. How can you use the `filter()` function to remove None values from a list in Python?"
   ]
  },
  {
   "cell_type": "code",
   "execution_count": 27,
   "metadata": {
    "colab": {
     "base_uri": "https://localhost:8080/",
     "height": 159
    },
    "id": "0u04EILO02OO",
    "outputId": "1e4be365-a556-44f1-87e7-c998bc898d1b"
   },
   "outputs": [
    {
     "data": {
      "text/plain": [
       "(1, 2, 3, 4, 5, 6, 7, 8, 9, 10)"
      ]
     },
     "execution_count": 27,
     "metadata": {},
     "output_type": "execute_result"
    }
   ],
   "source": [
    "numbers=[1,2,3,4,5,6,7,8,9,10,None]\n",
    "tuple(filter(lambda x:x is not None,numbers))"
   ]
  },
  {
   "cell_type": "markdown",
   "metadata": {
    "id": "0312WSTa0656"
   },
   "source": [
    "6. Create a Python program that uses `filter()` to select words longer than a certain length from a list of strings."
   ]
  },
  {
   "cell_type": "code",
   "execution_count": 28,
   "metadata": {
    "colab": {
     "base_uri": "https://localhost:8080/",
     "height": 176
    },
    "id": "Qq-jBQsX0-Yg",
    "outputId": "199204f5-23d6-4793-f042-cc66e5d0f793"
   },
   "outputs": [
    {
     "data": {
      "text/plain": [
       "('shyam', 'hari')"
      ]
     },
     "execution_count": 28,
     "metadata": {},
     "output_type": "execute_result"
    }
   ],
   "source": [
    "strings=[\"ram\",\"shyam\",\"hari\"]\n",
    "def long(x):\n",
    "    if len(x)>3:\n",
    "        return True\n",
    "    else:\n",
    "        return False\n",
    "tuple(filter(long,strings))"
   ]
  },
  {
   "cell_type": "markdown",
   "metadata": {
    "id": "SQcZgZtB1EvD"
   },
   "source": [
    "7. Write a Python program that uses the `filter()` function to select elements greater than a specified threshold from a list of values"
   ]
  },
  {
   "cell_type": "code",
   "execution_count": 29,
   "metadata": {
    "colab": {
     "base_uri": "https://localhost:8080/",
     "height": 176
    },
    "id": "iDYw_vmz1I54",
    "outputId": "30381e58-bd6e-4ad0-9928-c19cc8e64751"
   },
   "outputs": [
    {
     "data": {
      "text/plain": [
       "(6, 7, 8, 9, 10)"
      ]
     },
     "execution_count": 29,
     "metadata": {},
     "output_type": "execute_result"
    }
   ],
   "source": [
    "numbers=(1,2,3,4,5,6,7,8,9,10)\n",
    "def greater(x):\n",
    "    if x>5:\n",
    "        return True\n",
    "    else:\n",
    "        return False\n",
    "tuple(filter(greater,numbers))"
   ]
  },
  {
   "cell_type": "markdown",
   "metadata": {
    "id": "SWbW7GPI1OlD"
   },
   "source": [
    "**Recursion:-**"
   ]
  },
  {
   "cell_type": "markdown",
   "metadata": {
    "id": "_1HBWsJb1Ru9"
   },
   "source": [
    "1. Explain the concept of recursion in Python. How does it differ from iteration?\n",
    "\n",
    "Ans--\n",
    "Recursion in Python (or in any programming language) is a method of solving problems where a function calls itself in order to solve smaller instances of the same problem. It typically involves:\n",
    "\n",
    "1. Base case: A condition that stops the recursion to prevent infinite looping.\n",
    "2. Recursive case: The part where the function calls itself with modified arguments to approach the base case."
   ]
  },
  {
   "cell_type": "markdown",
   "metadata": {
    "id": "ka7LHQ6a1pph"
   },
   "source": [
    "2. Write a Python program to calculate the factorial of a number using recursion."
   ]
  },
  {
   "cell_type": "code",
   "execution_count": 9,
   "metadata": {
    "colab": {
     "base_uri": "https://localhost:8080/"
    },
    "id": "1dOkz9g21s1U",
    "outputId": "f5fb3cfb-c9cd-41e6-d453-1545d211189d"
   },
   "outputs": [
    {
     "data": {
      "text/plain": [
       "120"
      ]
     },
     "execution_count": 9,
     "metadata": {},
     "output_type": "execute_result"
    }
   ],
   "source": [
    "def fact(x):\n",
    "    if x==0:\n",
    "        return 1\n",
    "    else:\n",
    "        return x*fact(x-1)\n",
    "fact(5)"
   ]
  },
  {
   "cell_type": "markdown",
   "metadata": {
    "id": "osjrcr6b1yIq"
   },
   "source": [
    "3. Create a recursive Python function to find the nth Fibonacci number."
   ]
  },
  {
   "cell_type": "code",
   "execution_count": 10,
   "metadata": {
    "colab": {
     "base_uri": "https://localhost:8080/"
    },
    "id": "Ovk0_WPT11-K",
    "outputId": "1e36ec5f-d944-48a1-e322-8bb4e7bb8bcf"
   },
   "outputs": [
    {
     "data": {
      "text/plain": [
       "5"
      ]
     },
     "execution_count": 10,
     "metadata": {},
     "output_type": "execute_result"
    }
   ],
   "source": [
    "def fib(n):\n",
    "    if n==0:\n",
    "        return 0\n",
    "    elif n==1:\n",
    "        return 1\n",
    "    else:\n",
    "        return fib(n-1)+fib(n-2)\n",
    "\n",
    "fib(5)"
   ]
  },
  {
   "cell_type": "markdown",
   "metadata": {
    "id": "-UnwGD2z17rA"
   },
   "source": [
    "4. Write a recursive Python function to calculate the sum of all elements in a list."
   ]
  },
  {
   "cell_type": "code",
   "execution_count": 11,
   "metadata": {
    "colab": {
     "base_uri": "https://localhost:8080/"
    },
    "id": "ZI4hRKa01-9f",
    "outputId": "9fc7ea5e-0e8c-4f26-b68e-91e9beabb673"
   },
   "outputs": [
    {
     "data": {
      "text/plain": [
       "15"
      ]
     },
     "execution_count": 11,
     "metadata": {},
     "output_type": "execute_result"
    }
   ],
   "source": [
    "def sum_all(list_1):\n",
    "    if not list_1:\n",
    "        return 0\n",
    "    else:\n",
    "        return list_1[0]+sum_all(list_1[1:])\n",
    "\n",
    "sum_all([1,2,3,4,5])"
   ]
  },
  {
   "cell_type": "markdown",
   "metadata": {
    "id": "sfSkTGmT2FKp"
   },
   "source": [
    "5.How can you prevent a recursive function from running indefinitely, causing a stack overflow error?\n",
    "\n",
    "Ans--\n",
    "To prevent a recursive function from running indefinitely and causing a stack overflow error, you need to:\n",
    "1. Define a Base Case: Ensure the function has a condition that stops further recursive calls. The base case is crucial for ending recursion. For example, in a factorial function, the base case would be when n == 1.\n",
    "\n",
    "2. Make Progress Toward the Base Case: Each recursive call must modify its arguments to move toward the base case. Without this, the function will never terminate. For instance, in a factorial function, n is decreased by 1 with each call (factorial(n - 1)).\n",
    "\n",
    "3. Use Iteration Instead: If recursion depth is too large, consider rewriting the function iteratively, which avoids the stack's overhead and prevents overflow.\n",
    "\n",
    "4. Set Recursion Limit (Optional): You can adjust the maximum recursion depth with sys.setrecursionlimit(), though this doesn't fully prevent stack overflow, just postpones it."
   ]
  },
  {
   "cell_type": "markdown",
   "metadata": {
    "id": "q-9fNH2r27H1"
   },
   "source": [
    "6.Create a recursive Python function to find the greatest common divisor (GCD) of two numbers using the Euclidean algorithm."
   ]
  },
  {
   "cell_type": "code",
   "execution_count": 13,
   "metadata": {
    "colab": {
     "base_uri": "https://localhost:8080/"
    },
    "id": "0oeGZszU2_El",
    "outputId": "521ef08d-576e-43c1-e4cf-1a02c9bf4556"
   },
   "outputs": [
    {
     "data": {
      "text/plain": [
       "6"
      ]
     },
     "execution_count": 13,
     "metadata": {},
     "output_type": "execute_result"
    }
   ],
   "source": [
    "def GCD(a,b):\n",
    "    if b==0:\n",
    "        return a\n",
    "    else:\n",
    "        return GCD(b,a%b)\n",
    "GCD(48,18)"
   ]
  },
  {
   "cell_type": "markdown",
   "metadata": {
    "id": "0oHQ8kVw3STj"
   },
   "source": [
    "7. Write a recursive Python function to reverse a string."
   ]
  },
  {
   "cell_type": "code",
   "execution_count": 14,
   "metadata": {
    "colab": {
     "base_uri": "https://localhost:8080/",
     "height": 35
    },
    "id": "6NG_pjPd3Ydg",
    "outputId": "d7669f61-67e3-40e0-af16-121ebe317492"
   },
   "outputs": [
    {
     "data": {
      "application/vnd.google.colaboratory.intrinsic+json": {
       "type": "string"
      },
      "text/plain": [
       "'mar'"
      ]
     },
     "execution_count": 14,
     "metadata": {},
     "output_type": "execute_result"
    }
   ],
   "source": [
    "def rev_str(string):\n",
    "    if len(string)==0:\n",
    "        return string\n",
    "    else:\n",
    "        return rev_str(string[1:])+string[0]\n",
    "\n",
    "rev_str(\"ram\")"
   ]
  },
  {
   "cell_type": "markdown",
   "metadata": {
    "id": "Am1P7-Kb3emB"
   },
   "source": [
    "8. Create a recursive Python function to calculate the power of a number (x^n)."
   ]
  },
  {
   "cell_type": "code",
   "execution_count": 15,
   "metadata": {
    "colab": {
     "base_uri": "https://localhost:8080/"
    },
    "id": "Dyv_g-H73ixb",
    "outputId": "ce4536f0-9ddb-451c-8946-9af229b5442d"
   },
   "outputs": [
    {
     "data": {
      "text/plain": [
       "8"
      ]
     },
     "execution_count": 15,
     "metadata": {},
     "output_type": "execute_result"
    }
   ],
   "source": [
    "def power(x,n):\n",
    "    if n==0:\n",
    "        return 1\n",
    "    else:\n",
    "        return x*power(x,n-1)\n",
    "power(2,3)"
   ]
  },
  {
   "cell_type": "markdown",
   "metadata": {
    "id": "b4SIaix83mv8"
   },
   "source": [
    "9. Write a recursive Python function to find all permutations of a given string."
   ]
  },
  {
   "cell_type": "code",
   "execution_count": 17,
   "metadata": {
    "colab": {
     "base_uri": "https://localhost:8080/"
    },
    "id": "TUXVa6Qm3qGQ",
    "outputId": "7c17cb9f-34ed-456f-e956-ca0dd264c196"
   },
   "outputs": [
    {
     "data": {
      "text/plain": [
       "['abc', 'acb', 'bac', 'bca', 'cab', 'cba']"
      ]
     },
     "execution_count": 17,
     "metadata": {},
     "output_type": "execute_result"
    }
   ],
   "source": [
    "def permute(string):\n",
    "    if len(string)==0:\n",
    "        return []\n",
    "    elif len(string)==1:\n",
    "        return [string]\n",
    "    else:\n",
    "        permutations = []\n",
    "        for i in range(len(string)):\n",
    "            current_char = string[i]\n",
    "            remaining_chars = string[:i] + string[i+1:]\n",
    "            for perm in permute(remaining_chars):\n",
    "                permutations.append(current_char + perm)\n",
    "        return permutations\n",
    "\n",
    "\n",
    "permute(\"abc\")"
   ]
  },
  {
   "cell_type": "markdown",
   "metadata": {
    "id": "VGf5RgsU41p1"
   },
   "source": [
    "10. Write a recursive Python function to check if a string is a palindrome."
   ]
  },
  {
   "cell_type": "code",
   "execution_count": 18,
   "metadata": {
    "colab": {
     "base_uri": "https://localhost:8080/"
    },
    "id": "Phouqtaa4525",
    "outputId": "0cf00d63-c4d3-4a93-c6ea-cc5ff561411d"
   },
   "outputs": [
    {
     "data": {
      "text/plain": [
       "True"
      ]
     },
     "execution_count": 18,
     "metadata": {},
     "output_type": "execute_result"
    }
   ],
   "source": [
    "def is_palindrome(string):\n",
    "    if len(string) <= 1:\n",
    "        return True\n",
    "    elif string[0] != string[-1]:\n",
    "        return False\n",
    "    else:\n",
    "        return is_palindrome(string[1:-1])\n",
    "\n",
    "is_palindrome(\"nitin\")"
   ]
  },
  {
   "cell_type": "markdown",
   "metadata": {
    "id": "HhMVGlcB4_j0"
   },
   "source": [
    "11. Create a recursive Python function to generate all possible combinations of a list of elements.\n"
   ]
  },
  {
   "cell_type": "code",
   "execution_count": 22,
   "metadata": {
    "colab": {
     "base_uri": "https://localhost:8080/"
    },
    "id": "S92xe6a0511J",
    "outputId": "ce972b16-275e-4fa3-a8b2-194a7f8310c4"
   },
   "outputs": [
    {
     "data": {
      "text/plain": [
       "[[1, 2, 3], [1, 2], [1, 3], [1], [2, 3], [2], [3], []]"
      ]
     },
     "execution_count": 22,
     "metadata": {},
     "output_type": "execute_result"
    }
   ],
   "source": [
    "def combinations(elements):\n",
    "    if not elements:\n",
    "        return [[]]\n",
    "    first_element = elements[0]\n",
    "    rest_of_elements = elements[1:]\n",
    "    subcombinations = combinations(rest_of_elements)\n",
    "    return [[first_element] + subcombination for subcombination in subcombinations] + subcombinations\n",
    "\n",
    "\n",
    "combinations([1, 2, 3])"
   ]
  },
  {
   "cell_type": "markdown",
   "metadata": {
    "id": "8vbtwIR46M4p"
   },
   "source": [
    "**Basics of Functions:**"
   ]
  },
  {
   "cell_type": "markdown",
   "metadata": {
    "id": "62X6v_ec6SCR"
   },
   "source": [
    "1. What is a function in Python, and why is it used?\n",
    "\n",
    "Ans:-  \n",
    "1. Code Reusability: Instead of writing the same code multiple times, you can define a function once and call it whenever needed.\n",
    "2. Modularity: Functions break large programs into smaller, manageable chunks, making the code easier to understand, test, and maintain.\n",
    "3. Avoid Redundancy: By using functions, you can reduce the duplication of code, ensuring that updates need to be made in only one place.\n",
    "4. Improves Readability: Functions give your code a logical structure, making it clearer and more understandable."
   ]
  },
  {
   "cell_type": "markdown",
   "metadata": {
    "id": "moa0yZRo641G"
   },
   "source": [
    "2. How do you define a function in Python? Provide an example."
   ]
  },
  {
   "cell_type": "code",
   "execution_count": 23,
   "metadata": {
    "colab": {
     "base_uri": "https://localhost:8080/"
    },
    "id": "TrXyS22a6-P9",
    "outputId": "a5a5e1d6-4909-488b-e862-9d401a47cc1b"
   },
   "outputs": [
    {
     "data": {
      "text/plain": [
       "5"
      ]
     },
     "execution_count": 23,
     "metadata": {},
     "output_type": "execute_result"
    }
   ],
   "source": [
    "def sum(a,b):\n",
    "    return a+b\n",
    "sum(2,3)"
   ]
  },
  {
   "cell_type": "markdown",
   "metadata": {
    "id": "1-R9IpyO7CG1"
   },
   "source": [
    "3. Explain the difference between a function definition and a function call.\n",
    "\n",
    "**function definition:-**\n",
    "A function definition is where you create a function, specifying its name, parameters, and the block of code it will execute when called. It tells Python what the function does but doesn’t execute it.\n",
    "\n",
    "syntax:- def function_name(parameters)\n",
    "\n",
    "\n",
    "**function call:- **\n",
    "\n",
    "A function call is when you invoke or execute the function by using its name followed by parentheses. This is when the function actually runs, performing the task specified in the definition.\n",
    "\n",
    "syntax:-- function_name(arguments)"
   ]
  },
  {
   "cell_type": "markdown",
   "metadata": {
    "id": "uddZ4t9s7wos"
   },
   "source": [
    "4. Write a Python program that defines a function to calculate the sum of two numbers and then calls the function."
   ]
  },
  {
   "cell_type": "code",
   "execution_count": 24,
   "metadata": {
    "colab": {
     "base_uri": "https://localhost:8080/"
    },
    "id": "OHtnwq7r7z__",
    "outputId": "d2fa3542-4589-4071-9f75-3d4b8a1eefb6"
   },
   "outputs": [
    {
     "data": {
      "text/plain": [
       "5"
      ]
     },
     "execution_count": 24,
     "metadata": {},
     "output_type": "execute_result"
    }
   ],
   "source": [
    "def sum(a,b):\n",
    "    return a+b\n",
    "sum(2,3)"
   ]
  },
  {
   "cell_type": "markdown",
   "metadata": {
    "id": "1binL2n-76eP"
   },
   "source": [
    "5. What is a function signature, and what information does it typically include?\n",
    "\n",
    "Ans:--\n",
    "A function signature in Python refers to the part of a function definition that includes the function's name, its parameters (or arguments), and any default values. It typically provides information about:\n",
    "\n",
    "1.Function name: The identifier used to call the function.\n",
    "2.Parameters: The input values the function accepts, including their names and optional default values.\n",
    "3.Return type (optional in Python): Can be specified using type hints, though it's not enforced.\n",
    "\n",
    "syntax:-- def function_name(parameters)->int:"
   ]
  },
  {
   "cell_type": "markdown",
   "metadata": {
    "id": "u8ng-f4U8fF6"
   },
   "source": [
    "6.Create a Python function that takes two arguments and returns their product."
   ]
  },
  {
   "cell_type": "code",
   "execution_count": 26,
   "metadata": {
    "colab": {
     "base_uri": "https://localhost:8080/"
    },
    "id": "-lnSiwnG8ib7",
    "outputId": "9125c633-8e6d-438c-f6c0-1b1c3dc308ab"
   },
   "outputs": [
    {
     "data": {
      "text/plain": [
       "12"
      ]
     },
     "execution_count": 26,
     "metadata": {},
     "output_type": "execute_result"
    }
   ],
   "source": [
    "def product(a,b)-> int:\n",
    "    return a*b\n",
    "\n",
    "product(2,6)"
   ]
  },
  {
   "cell_type": "markdown",
   "metadata": {
    "id": "lo4K5sTU8qj4"
   },
   "source": [
    "**Function Parameters and Arguments:**"
   ]
  },
  {
   "cell_type": "markdown",
   "metadata": {
    "id": "OZh4Pgh68vQT"
   },
   "source": [
    "1. Explain the concepts of formal parameters and actual arguments in Python functions.\n",
    "\n",
    "**formal parameters:-**\n",
    "1.Formal parameters (also called parameters) are the variables listed inside the parentheses in a function definition.\n",
    "2.They act as placeholders that will receive values (arguments) when the function is called.\n",
    "3.Formal parameters are defined when the function is created and specify what kind of data the function expects.\n",
    "\n",
    "**actual arguments:-**\n",
    "1.Actual arguments (or simply arguments) are the real values or expressions passed to the function when it is called.\n",
    "2.These are the inputs the function uses to perform its task.\n",
    "3.When the function is called, the actual arguments are assigned to the corresponding formal parameters."
   ]
  },
  {
   "cell_type": "markdown",
   "metadata": {
    "id": "F2YDDBbp9U_m"
   },
   "source": [
    "2. Write a Python program that defines a function with default argument values."
   ]
  },
  {
   "cell_type": "code",
   "execution_count": 28,
   "metadata": {
    "colab": {
     "base_uri": "https://localhost:8080/"
    },
    "id": "GAvGboeM9YSW",
    "outputId": "c01a207f-98ec-4cee-9686-fe50c306dd86"
   },
   "outputs": [
    {
     "data": {
      "text/plain": [
       "12"
      ]
     },
     "execution_count": 28,
     "metadata": {},
     "output_type": "execute_result"
    }
   ],
   "source": [
    "def sum(a,b=10):\n",
    "    return a+b\n",
    "\n",
    "sum(2, )"
   ]
  },
  {
   "cell_type": "markdown",
   "metadata": {
    "id": "XL9k7TNp9jhf"
   },
   "source": [
    "3. How do you use keyword arguments in Python function calls? Provide an example.\n",
    "\n",
    "1.You specify the name of the parameter, followed by an equal sign (=), and then the value you want to pass.\n",
    "2.Keyword arguments can be mixed with positional arguments, but all positional arguments must come before any keyword arguments."
   ]
  },
  {
   "cell_type": "code",
   "execution_count": 29,
   "metadata": {
    "colab": {
     "base_uri": "https://localhost:8080/"
    },
    "id": "aS2XYK9o9olo",
    "outputId": "a464550f-7d91-4218-f2e7-1921ab16d28b"
   },
   "outputs": [
    {
     "name": "stdout",
     "output_type": "stream",
     "text": [
      "My name is Alice, I'm 30 years old, and I live in New York.\n"
     ]
    }
   ],
   "source": [
    "def introduce(name, age, city):\n",
    "    print(f\"My name is {name}, I'm {age} years old, and I live in {city}.\")\n",
    "\n",
    "# Using keyword arguments\n",
    "introduce(age=30, city=\"New York\", name=\"Alice\")\n"
   ]
  },
  {
   "cell_type": "markdown",
   "metadata": {
    "id": "gN1d9zJz-RCk"
   },
   "source": [
    "4. Create a Python function that accepts a variable number of arguments and calculates their sum."
   ]
  },
  {
   "cell_type": "code",
   "execution_count": 30,
   "metadata": {
    "colab": {
     "base_uri": "https://localhost:8080/"
    },
    "id": "JeAeXpN0-UcG",
    "outputId": "1d234cbe-ad36-4a21-d2ed-7ca1346722ea"
   },
   "outputs": [
    {
     "data": {
      "text/plain": [
       "15"
      ]
     },
     "execution_count": 30,
     "metadata": {},
     "output_type": "execute_result"
    }
   ],
   "source": [
    "def sum(*args):\n",
    "    total=0\n",
    "    for i in args:\n",
    "        total+=i\n",
    "    return total\n",
    "\n",
    "sum(1,2,3,4,5)"
   ]
  },
  {
   "cell_type": "markdown",
   "metadata": {
    "id": "rx9std4T-apB"
   },
   "source": [
    "5. What is the purpose of the `*args` and `**kwargs` syntax in function parameter lists?\n",
    "\n",
    "1. *args:- *args: Allows a function to accept an arbitrary number of positional arguments. It collects these arguments into a tuple.\n",
    "\n",
    "2. **kwargs:- **kwargs: Allows a function to accept an arbitrary number of keyword arguments. It collects these arguments into a dictionary."
   ]
  },
  {
   "cell_type": "code",
   "execution_count": 31,
   "metadata": {
    "colab": {
     "base_uri": "https://localhost:8080/"
    },
    "id": "9pRRVZEB-_uX",
    "outputId": "698b527d-c62e-41ea-f0a7-bd50ff0bdecc"
   },
   "outputs": [
    {
     "name": "stdout",
     "output_type": "stream",
     "text": [
      "a: 1\n",
      "args: (2, 3, 4)\n",
      "kwargs: {'x': 5, 'y': 6}\n"
     ]
    }
   ],
   "source": [
    "def example_function(a, *args, **kwargs):\n",
    "    print(f\"a: {a}\")\n",
    "    print(f\"args: {args}\")\n",
    "    print(f\"kwargs: {kwargs}\")\n",
    "\n",
    "example_function(1, 2, 3, 4, x=5, y=6)"
   ]
  },
  {
   "cell_type": "markdown",
   "metadata": {
    "id": "RRLTxVYZ-3h0"
   },
   "source": [
    "**Return Values and Scoping:**"
   ]
  },
  {
   "cell_type": "markdown",
   "metadata": {
    "id": "AbbtJl86_FP3"
   },
   "source": [
    "1. Describe the role of the `return` statement in Python functions and provide examples.\n",
    "\n",
    "*   Ends Function Execution: Stops further code execution in the function.\n",
    "*   Returns a Value: Sends a result back to the caller.\n",
    "\n",
    "\n"
   ]
  },
  {
   "cell_type": "code",
   "execution_count": 32,
   "metadata": {
    "colab": {
     "base_uri": "https://localhost:8080/"
    },
    "id": "YiBvAmCm_Y_D",
    "outputId": "e0d65786-c86e-4b73-da23-c53a5b4e980a"
   },
   "outputs": [
    {
     "name": "stdout",
     "output_type": "stream",
     "text": [
      "8\n"
     ]
    }
   ],
   "source": [
    "def add(a, b):\n",
    "    return a + b\n",
    "\n",
    "result = add(3, 5)\n",
    "print(result)"
   ]
  },
  {
   "cell_type": "markdown",
   "metadata": {
    "id": "ixwJqkPG_cjH"
   },
   "source": [
    "2. Explain the concept of variable scope in Python, including local and global variables.\n",
    "\n",
    "**local variables:**\n",
    "1.Defined inside a function.\n",
    "2.Accessible only within that function.\n",
    "3.Created when the function is called and destroyed when the function exits.\n",
    "\n",
    "**globla variable:**\n",
    "1.Defined outside any function or class.\n",
    "2.Accessible throughout the entire module or script.\n",
    "3.Can be read from any function but must be declared as global inside a function to modify."
   ]
  },
  {
   "cell_type": "markdown",
   "metadata": {
    "id": "1llG0V-wAEMX"
   },
   "source": [
    "3. Write a Python program that demonstrates the use of global variables within functions."
   ]
  },
  {
   "cell_type": "code",
   "execution_count": 33,
   "metadata": {
    "colab": {
     "base_uri": "https://localhost:8080/"
    },
    "id": "6twvail2AMnO",
    "outputId": "246fa734-b5ad-4b39-9129-b4bcf76af843"
   },
   "outputs": [
    {
     "name": "stdout",
     "output_type": "stream",
     "text": [
      "30\n"
     ]
    }
   ],
   "source": [
    "global_var = 20  # Global variable\n",
    "\n",
    "def example():\n",
    "    global global_var\n",
    "    global_var = 30  # Modifying global variable\n",
    "\n",
    "example()\n",
    "print(global_var)"
   ]
  },
  {
   "cell_type": "markdown",
   "metadata": {
    "id": "ryOuRSM5ASOy"
   },
   "source": [
    "4.Create a Python function that calculates the factorial of a number and returns it."
   ]
  },
  {
   "cell_type": "code",
   "execution_count": 34,
   "metadata": {
    "colab": {
     "base_uri": "https://localhost:8080/"
    },
    "id": "RtzbVYxRAXsb",
    "outputId": "91ff5022-ee16-4edb-c9d2-6c008781bae2"
   },
   "outputs": [
    {
     "data": {
      "text/plain": [
       "120"
      ]
     },
     "execution_count": 34,
     "metadata": {},
     "output_type": "execute_result"
    }
   ],
   "source": [
    "def fact(x):\n",
    "    if x==0:\n",
    "        return 1\n",
    "    else:\n",
    "        return x*fact(x-1)\n",
    "fact(5)"
   ]
  },
  {
   "cell_type": "markdown",
   "metadata": {
    "id": "IbiKm2LVAfow"
   },
   "source": [
    "5. How can you access variables defined outside a function from within the function?"
   ]
  },
  {
   "cell_type": "code",
   "execution_count": 35,
   "metadata": {
    "colab": {
     "base_uri": "https://localhost:8080/"
    },
    "id": "BPCwNIz6Akat",
    "outputId": "44497679-5abf-4f25-93d2-6b67f7c458e3"
   },
   "outputs": [
    {
     "name": "stdout",
     "output_type": "stream",
     "text": [
      "20\n",
      "20\n"
     ]
    }
   ],
   "source": [
    "num = 30\n",
    "def example():\n",
    "    global num\n",
    "    num = 20\n",
    "    print(num)\n",
    "\n",
    "example()\n",
    "print(num)"
   ]
  },
  {
   "cell_type": "markdown",
   "metadata": {
    "id": "EFyb7x1GAuMO"
   },
   "source": [
    "**Lambda Functions and Higher-Order Functions:**"
   ]
  },
  {
   "cell_type": "markdown",
   "metadata": {
    "id": "StsBxNV1AyWF"
   },
   "source": [
    "1. What are lambda functions in Python, and when are they typically used?\n",
    "Ans:--\n",
    "Lambda functions in Python are small, anonymous functions defined using the lambda keyword. They can have any number of arguments but only a single expression, which is evaluated and returned."
   ]
  },
  {
   "cell_type": "markdown",
   "metadata": {
    "id": "60tzDfdaA_ty"
   },
   "source": [
    "2. Write a Python program that uses lambda functions to sort a list of tuples based on the second element."
   ]
  },
  {
   "cell_type": "code",
   "execution_count": 36,
   "metadata": {
    "colab": {
     "base_uri": "https://localhost:8080/"
    },
    "id": "UGKyxRKwBGue",
    "outputId": "5cdec6c1-7b19-4a25-8d4b-1439b234185c"
   },
   "outputs": [
    {
     "name": "stdout",
     "output_type": "stream",
     "text": [
      "[(2, 1), (3, 2), (1, 3)]\n"
     ]
    }
   ],
   "source": [
    "tuples = [(1, 3), (3, 2), (2, 1)]\n",
    "sorted_tuples = sorted(tuples, key=lambda x: x[1])\n",
    "print(sorted_tuples)"
   ]
  },
  {
   "cell_type": "markdown",
   "metadata": {
    "id": "kk-EMDIqBPuE"
   },
   "source": [
    "3. Explain the concept of higher-order functions in Python, and provide an example.\n",
    "Ans:--\n",
    "\n",
    "Higher-order functions in Python are functions that can take other functions as arguments or return them as results. They operate on functions, allowing for more flexible and abstract programming."
   ]
  },
  {
   "cell_type": "code",
   "execution_count": 37,
   "metadata": {
    "colab": {
     "base_uri": "https://localhost:8080/",
     "height": 176
    },
    "id": "lF9vhSZXBfCK",
    "outputId": "44d7e3ef-91d1-4dd1-ad0d-11d0571e952f"
   },
   "outputs": [
    {
     "ename": "TypeError",
     "evalue": "'list' object is not callable",
     "output_type": "error",
     "traceback": [
      "\u001b[0;31m---------------------------------------------------------------------------\u001b[0m",
      "\u001b[0;31mTypeError\u001b[0m                                 Traceback (most recent call last)",
      "\u001b[0;32m<ipython-input-37-fc1b0614d7f6>\u001b[0m in \u001b[0;36m<cell line: 7>\u001b[0;34m()\u001b[0m\n\u001b[1;32m      5\u001b[0m \u001b[0msquared_numbers\u001b[0m \u001b[0;34m=\u001b[0m \u001b[0mmap\u001b[0m\u001b[0;34m(\u001b[0m\u001b[0msquare\u001b[0m\u001b[0;34m,\u001b[0m \u001b[0mnumbers\u001b[0m\u001b[0;34m)\u001b[0m  \u001b[0;31m# map is a higher-order function\u001b[0m\u001b[0;34m\u001b[0m\u001b[0;34m\u001b[0m\u001b[0m\n\u001b[1;32m      6\u001b[0m \u001b[0;34m\u001b[0m\u001b[0m\n\u001b[0;32m----> 7\u001b[0;31m \u001b[0mprint\u001b[0m\u001b[0;34m(\u001b[0m\u001b[0mlist\u001b[0m\u001b[0;34m(\u001b[0m\u001b[0msquared_numbers\u001b[0m\u001b[0;34m)\u001b[0m\u001b[0;34m)\u001b[0m\u001b[0;34m\u001b[0m\u001b[0;34m\u001b[0m\u001b[0m\n\u001b[0m",
      "\u001b[0;31mTypeError\u001b[0m: 'list' object is not callable"
     ]
    }
   ],
   "source": [
    "def square(x):\n",
    "    return x ** 2\n",
    "\n",
    "numbers = [1, 2, 3, 4]\n",
    "squared_numbers = map(square, numbers)  # map is a higher-order function\n",
    "\n",
    "print(list(squared_numbers))"
   ]
  },
  {
   "cell_type": "markdown",
   "metadata": {
    "id": "JQVyB2GSBnjv"
   },
   "source": [
    "4. Create a Python function that takes a list of numbers and a function as arguments, applying the function to each element in the list."
   ]
  },
  {
   "cell_type": "code",
   "execution_count": 38,
   "metadata": {
    "colab": {
     "base_uri": "https://localhost:8080/"
    },
    "id": "REXnXXBkBrBA",
    "outputId": "0d95f89d-a39c-4907-99f8-9f24c11ee236"
   },
   "outputs": [
    {
     "name": "stdout",
     "output_type": "stream",
     "text": [
      "[1, 4, 9, 16]\n"
     ]
    }
   ],
   "source": [
    "def apply_function_to_list(numbers, function):\n",
    "    result = []\n",
    "    for num in numbers:\n",
    "        result.append(function(num))\n",
    "    return result\n",
    "\n",
    "def square(x):\n",
    "    return x ** 2\n",
    "\n",
    "numbers = [1, 2, 3, 4]\n",
    "squared_numbers = apply_function_to_list(numbers, square)\n",
    "print(squared_numbers)\n"
   ]
  },
  {
   "cell_type": "markdown",
   "metadata": {
    "id": "UF8zZ0N9B8qe"
   },
   "source": [
    "\n",
    "**Built-in Functions:**\n"
   ]
  },
  {
   "cell_type": "markdown",
   "metadata": {
    "id": "UDtpSUeTCCmL"
   },
   "source": [
    "1. Describe the role of built-in functions like `len()`, `max()`, and `min()` in Python.\n",
    "Ans:--\n",
    "len():- len function to find the length of string and list\n",
    "max():- max function to find the maximum elements\n",
    "min():- min function to find the minimum elements\n"
   ]
  },
  {
   "cell_type": "markdown",
   "metadata": {
    "id": "AGA8Cy8pCea_"
   },
   "source": [
    "2. Write a Python program that uses the `map()` function to apply a function to each element of a list."
   ]
  },
  {
   "cell_type": "code",
   "execution_count": 39,
   "metadata": {
    "colab": {
     "base_uri": "https://localhost:8080/",
     "height": 176
    },
    "id": "rN9Q0JqLCmKa",
    "outputId": "6d98a0b9-94d8-4911-e03a-bcab77aee149"
   },
   "outputs": [
    {
     "ename": "TypeError",
     "evalue": "'list' object is not callable",
     "output_type": "error",
     "traceback": [
      "\u001b[0;31m---------------------------------------------------------------------------\u001b[0m",
      "\u001b[0;31mTypeError\u001b[0m                                 Traceback (most recent call last)",
      "\u001b[0;32m<ipython-input-39-b1d7c576c9d2>\u001b[0m in \u001b[0;36m<cell line: 4>\u001b[0;34m()\u001b[0m\n\u001b[1;32m      2\u001b[0m \u001b[0;32mdef\u001b[0m \u001b[0msquare\u001b[0m\u001b[0;34m(\u001b[0m\u001b[0mx\u001b[0m\u001b[0;34m)\u001b[0m\u001b[0;34m:\u001b[0m\u001b[0;34m\u001b[0m\u001b[0;34m\u001b[0m\u001b[0m\n\u001b[1;32m      3\u001b[0m     \u001b[0;32mreturn\u001b[0m \u001b[0mx\u001b[0m\u001b[0;34m**\u001b[0m\u001b[0;36m2\u001b[0m\u001b[0;34m\u001b[0m\u001b[0;34m\u001b[0m\u001b[0m\n\u001b[0;32m----> 4\u001b[0;31m \u001b[0mlist\u001b[0m\u001b[0;34m(\u001b[0m\u001b[0mmap\u001b[0m\u001b[0;34m(\u001b[0m\u001b[0msquare\u001b[0m\u001b[0;34m,\u001b[0m\u001b[0mnumbers\u001b[0m\u001b[0;34m)\u001b[0m\u001b[0;34m)\u001b[0m\u001b[0;34m\u001b[0m\u001b[0;34m\u001b[0m\u001b[0m\n\u001b[0m",
      "\u001b[0;31mTypeError\u001b[0m: 'list' object is not callable"
     ]
    }
   ],
   "source": [
    "numbers=[1,2,3,4,5]\n",
    "def square(x):\n",
    "    return x**2\n",
    "list(map(square,numbers))"
   ]
  },
  {
   "cell_type": "markdown",
   "metadata": {
    "id": "XbjFYG3zCs58"
   },
   "source": [
    "3. How does the `filter()` function work in Python, and when would you use it?\n",
    "\n",
    "Ans:--\n",
    "The filter() function in Python is used to filter elements from an iterable based on a condition defined by a function. It returns an iterator that contains only the elements for which the function returns True."
   ]
  },
  {
   "cell_type": "markdown",
   "metadata": {
    "id": "ggBNqgUNC9UE"
   },
   "source": [
    "Create a Python program that uses the `reduce()` function to find the product of all elements in a list."
   ]
  },
  {
   "cell_type": "code",
   "execution_count": 40,
   "metadata": {
    "colab": {
     "base_uri": "https://localhost:8080/"
    },
    "id": "UrkEeBkzCvmG",
    "outputId": "8918fabf-41d7-4639-93b4-4b74f683666e"
   },
   "outputs": [
    {
     "data": {
      "text/plain": [
       "120"
      ]
     },
     "execution_count": 40,
     "metadata": {},
     "output_type": "execute_result"
    }
   ],
   "source": [
    "numbers=[1,2,3,4,5]\n",
    "from functools import reduce\n",
    "def product(x,y):\n",
    "    return x*y\n",
    "reduce(product,numbers)"
   ]
  },
  {
   "cell_type": "markdown",
   "metadata": {
    "id": "wNnR5Uc1DGOH"
   },
   "source": [
    "\n",
    "**Function Documentation and Best Practices: **\n"
   ]
  },
  {
   "cell_type": "markdown",
   "metadata": {
    "id": "ReB6srQwDLzl"
   },
   "source": [
    "1. Explain the purpose of docstrings in Python functions and how to write them.\n",
    "\n",
    "Ans:-- Docstrings in Python functions provide a convenient way to document what a function does. They are written as string literals immediately following the function definition and are used to describe the function's purpose, parameters, return values, and any other relevant details.\n",
    "\n",
    "1.\n"
   ]
  },
  {
   "cell_type": "markdown",
   "metadata": {
    "id": "883TbPqtDvLG"
   },
   "source": [
    "2. Describe some best practices for naming functions and variables in Python, including naming conventions and guidelines.\n",
    "\n",
    "Ans:--\n",
    " 1. Use Descriptive Names:\n",
    "\n",
    "*  Choose names that clearly describe the purpose or use of the function or variable.\n",
    "*  Example: calculate_total() is better than calc().\n",
    "\n",
    "2. Follow Naming Conventions:\n",
    "\n",
    "*   Functions: Use lowercase words separated by underscores (snake_case).\n",
    "*  Example: get_user_info()\n",
    "\n",
    "\n",
    "\n",
    "\n"
   ]
  }
 ],
 "metadata": {
  "colab": {
   "provenance": []
  },
  "kernelspec": {
   "display_name": "Python 3 (ipykernel)",
   "language": "python",
   "name": "python3"
  },
  "language_info": {
   "codemirror_mode": {
    "name": "ipython",
    "version": 3
   },
   "file_extension": ".py",
   "mimetype": "text/x-python",
   "name": "python",
   "nbconvert_exporter": "python",
   "pygments_lexer": "ipython3",
   "version": "3.12.4"
  }
 },
 "nbformat": 4,
 "nbformat_minor": 4
}
