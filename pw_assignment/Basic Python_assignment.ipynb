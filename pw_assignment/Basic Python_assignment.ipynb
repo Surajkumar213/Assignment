{
  "nbformat": 4,
  "nbformat_minor": 0,
  "metadata": {
    "colab": {
      "provenance": []
    },
    "kernelspec": {
      "name": "python3",
      "display_name": "Python 3"
    },
    "language_info": {
      "name": "python"
    }
  },
  "cells": [
    {
      "cell_type": "code",
      "execution_count": null,
      "metadata": {
        "id": "WrKVY6rzoZrI"
      },
      "outputs": [],
      "source": []
    },
    {
      "cell_type": "markdown",
      "source": [
        "1. Declare two variables, `x` and `y`, and assign them integer values. Swap the\n",
        "values of these variables without using any temporary variable."
      ],
      "metadata": {
        "id": "79qwrw9VoloL"
      }
    },
    {
      "cell_type": "code",
      "source": [
        "# take the value in variable to user\n",
        "a=int(input(\"enter the no:\"))\n",
        "b=int(input(\"enter the no:\"))\n",
        "print(a,b)    #print old value in a or b\n",
        "a,b = b,a  # swap the value in a or b\n",
        "# after the swapping value a and b then print new value\n",
        "print(a,b)"
      ],
      "metadata": {
        "colab": {
          "base_uri": "https://localhost:8080/"
        },
        "id": "9oLD56GLov17",
        "outputId": "eb664057-0d5e-47b7-eab0-92584b4d21bc"
      },
      "execution_count": 1,
      "outputs": [
        {
          "output_type": "stream",
          "name": "stdout",
          "text": [
            "enter the no:10\n",
            "enter the no:20\n",
            "10 20\n",
            "20 10\n"
          ]
        }
      ]
    },
    {
      "cell_type": "markdown",
      "source": [
        "2. Create a program that calculates the area of a rectangle. Take the length and\n",
        "width as inputs from the user and store them in variables. Calculate and\n",
        "display the area."
      ],
      "metadata": {
        "id": "ROSRaEnio-zM"
      }
    },
    {
      "cell_type": "code",
      "source": [
        "# take the length and width to the user\n",
        "length=int(input(\"enter the length of rectangle:\"))\n",
        "width=int(input(\"enter the width of rectangle:\"))\n",
        "#calculate the area of rectangle this expression\n",
        "rectangle_area = length*width\n",
        "# print the area of rectangle\n",
        "print(rectangle_area)"
      ],
      "metadata": {
        "colab": {
          "base_uri": "https://localhost:8080/"
        },
        "id": "Veh-uhElpHI-",
        "outputId": "36a0b85c-e9d2-41d9-e5ae-dbffbbf91990"
      },
      "execution_count": 2,
      "outputs": [
        {
          "output_type": "stream",
          "name": "stdout",
          "text": [
            "enter the length of rectangle:7\n",
            "enter the width of rectangle:8\n",
            "56\n"
          ]
        }
      ]
    },
    {
      "cell_type": "markdown",
      "source": [
        "3. Write a Python program that converts temperatures from Celsius to\n",
        "Fahrenheit. Take the temperature in Celsius as input, store it in a variable,\n",
        "convert it to Fahrenheit, and display the result."
      ],
      "metadata": {
        "id": "EVQ0mA_ZpQpD"
      }
    },
    {
      "cell_type": "code",
      "source": [
        "# teke the temperature in celsius from the user\n",
        "celsius=int(input(\"enter the temperature in celsius:\"))\n",
        "# convert temperature celsius to fahrenheit\n",
        "fahre = (9/5)*celsius + 32\n",
        "# print temperature in fahrenheit\n",
        "print(fahre,'degree  F')"
      ],
      "metadata": {
        "colab": {
          "base_uri": "https://localhost:8080/"
        },
        "id": "nI8lhuhepT7P",
        "outputId": "05ee92ab-6e97-4a98-a98e-b34d2b12004c"
      },
      "execution_count": 3,
      "outputs": [
        {
          "output_type": "stream",
          "name": "stdout",
          "text": [
            "enter the temperature in celsius:67\n",
            "152.60000000000002 degree  F\n"
          ]
        }
      ]
    },
    {
      "cell_type": "markdown",
      "source": [
        "1. Write a Python program that takes a string as input and prints the length of\n",
        "the string."
      ],
      "metadata": {
        "id": "iwyH_vJCpcN9"
      }
    },
    {
      "cell_type": "code",
      "source": [
        "# take the input string from user\n",
        "n = input(\"enter the string:\")\n",
        "# find length of string len function\n",
        "t = len(n)\n",
        "# then print the length of string\n",
        "print(t)"
      ],
      "metadata": {
        "colab": {
          "base_uri": "https://localhost:8080/"
        },
        "id": "NL8vBM4Qpfwj",
        "outputId": "c755d844-77da-42f9-b437-d4c0eb0f97dd"
      },
      "execution_count": 4,
      "outputs": [
        {
          "output_type": "stream",
          "name": "stdout",
          "text": [
            "enter the string:suraj\n",
            "5\n"
          ]
        }
      ]
    },
    {
      "cell_type": "markdown",
      "source": [
        "2. Create a program that takes a sentence from the user and counts the number\n",
        "of vowels (a, e, i, o, u) in the string."
      ],
      "metadata": {
        "id": "YjFqbyI4pmb6"
      }
    },
    {
      "cell_type": "code",
      "source": [
        "string = input(\"enter the string:\")\n",
        "count=0\n",
        "# all string convert lower case\n",
        "string= string.lower()\n",
        "for i in string:\n",
        "    if i=='a' or i=='e' or i=='i'  or i=='o' or i=='u':\n",
        "        #if true\n",
        "        count+=1\n",
        "#print no of vowel\n",
        "print(str(count))"
      ],
      "metadata": {
        "colab": {
          "base_uri": "https://localhost:8080/"
        },
        "id": "8sawe9gepp8h",
        "outputId": "a402d896-650c-4063-e180-3f1f685a98fb"
      },
      "execution_count": 6,
      "outputs": [
        {
          "output_type": "stream",
          "name": "stdout",
          "text": [
            "enter the string:suraj\n",
            "2\n"
          ]
        }
      ]
    },
    {
      "cell_type": "markdown",
      "source": [
        "3. Given a string, reverse the order of characters using string slicing and print\n",
        "the reversed string."
      ],
      "metadata": {
        "id": "WkYrSNRPp-42"
      }
    },
    {
      "cell_type": "code",
      "source": [
        "# take string input from user with help input function\n",
        "string=input('enter the string:')\n",
        "n=len(string)\n",
        "string= string.lower()\n",
        "string_rev= string[::-1]\n",
        "print(string_rev)"
      ],
      "metadata": {
        "colab": {
          "base_uri": "https://localhost:8080/"
        },
        "id": "mfzjnXzoqBxe",
        "outputId": "8083b0d6-f11f-4337-a759-ab2ad42d6143"
      },
      "execution_count": 7,
      "outputs": [
        {
          "output_type": "stream",
          "name": "stdout",
          "text": [
            "enter the string:nitn\n",
            "ntin\n"
          ]
        }
      ]
    },
    {
      "cell_type": "markdown",
      "source": [
        "4. Write a program that takes a string as input and checks if it is a palindrome\n",
        "(reads the same forwards and backwards)."
      ],
      "metadata": {
        "id": "FCM5zY1jqJVt"
      }
    },
    {
      "cell_type": "code",
      "source": [
        "string=input('enter the string:')\n",
        "n=len(string)\n",
        "string= string.lower()\n",
        "string_rev= string[::-1]\n",
        "if string==string_rev:\n",
        "    print('string is palindrome')\n",
        "else:\n",
        "    print('string is not palindrome')"
      ],
      "metadata": {
        "colab": {
          "base_uri": "https://localhost:8080/"
        },
        "id": "fpryOVphqMjv",
        "outputId": "0389feef-13d0-4d1b-b62c-dddcdc4d853c"
      },
      "execution_count": 8,
      "outputs": [
        {
          "output_type": "stream",
          "name": "stdout",
          "text": [
            "enter the string:nitin\n",
            "string is palindrome\n"
          ]
        }
      ]
    },
    {
      "cell_type": "markdown",
      "source": [
        "5. Create a program that takes a string as input and removes all the spaces from\n",
        "it. Print the modified string without spaces."
      ],
      "metadata": {
        "id": "gw4l00ONqkjG"
      }
    },
    {
      "cell_type": "code",
      "source": [
        "#take a input from user\n",
        "string = input(\"enter a string\")\n",
        "white_space = string.replace(\" \",\"\")\n",
        "print(white_space)"
      ],
      "metadata": {
        "colab": {
          "base_uri": "https://localhost:8080/"
        },
        "id": "bq2_X_m4qoSa",
        "outputId": "5fe93e46-885b-441b-bfce-5b0a5355bbca"
      },
      "execution_count": 9,
      "outputs": [
        {
          "output_type": "stream",
          "name": "stdout",
          "text": [
            "enter a stringsuraj   kumar\n",
            "surajkumar\n"
          ]
        }
      ]
    }
  ]
}