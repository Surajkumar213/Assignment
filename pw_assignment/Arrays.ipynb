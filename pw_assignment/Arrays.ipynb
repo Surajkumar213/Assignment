{
  "nbformat": 4,
  "nbformat_minor": 0,
  "metadata": {
    "colab": {
      "provenance": []
    },
    "kernelspec": {
      "name": "python3",
      "display_name": "Python 3"
    },
    "language_info": {
      "name": "python"
    }
  },
  "cells": [
    {
      "cell_type": "code",
      "execution_count": null,
      "metadata": {
        "id": "XaSqXhjo35_7"
      },
      "outputs": [],
      "source": []
    },
    {
      "cell_type": "markdown",
      "source": [
        "1. Given an array, check if it contains any duplicates or not.\n",
        "arr = [1, 2, 4, 2, 5, 9]\n",
        "Output = True"
      ],
      "metadata": {
        "id": "CmVeVQ214CMq"
      }
    },
    {
      "cell_type": "code",
      "source": [
        "def check_duplicates(arr):\n",
        "    seen = set()\n",
        "    for item in arr:\n",
        "        if item in seen:\n",
        "            return True\n",
        "        seen.add(item)\n",
        "    return False\n",
        "\n",
        "arr = [1, 2, 4, 2, 5, 9]\n",
        "print(check_duplicates(arr))"
      ],
      "metadata": {
        "colab": {
          "base_uri": "https://localhost:8080/"
        },
        "id": "85xyehTH4F8M",
        "outputId": "4515c32a-509c-4e11-bfd9-67b914db148c"
      },
      "execution_count": 1,
      "outputs": [
        {
          "output_type": "stream",
          "name": "stdout",
          "text": [
            "True\n"
          ]
        }
      ]
    },
    {
      "cell_type": "markdown",
      "source": [
        "2. Given an array and an integer k, rotate the array to the right by k steps.\n",
        "arr = [1, 2, 3, 4, 5, 6, 7] k = 3\n",
        "Output = [5, 6, 7, 1, 2, 3, 4]"
      ],
      "metadata": {
        "id": "bWMmHEUL4RYu"
      }
    },
    {
      "cell_type": "code",
      "source": [
        "def rotate_array(arr, k):\n",
        "    n = len(arr)\n",
        "    k = k % n\n",
        "    return arr[-k:] + arr[:-k]\n",
        "\n",
        "arr = [1, 2, 3, 4, 5, 6, 7]\n",
        "k = 3\n",
        "print(rotate_array(arr, k))"
      ],
      "metadata": {
        "colab": {
          "base_uri": "https://localhost:8080/"
        },
        "id": "iCUo4KPt4U2Y",
        "outputId": "3b0a168c-3786-49bb-ff13-9de36a0fd026"
      },
      "execution_count": 2,
      "outputs": [
        {
          "output_type": "stream",
          "name": "stdout",
          "text": [
            "[5, 6, 7, 1, 2, 3, 4]\n"
          ]
        }
      ]
    },
    {
      "cell_type": "markdown",
      "source": [
        "3. Reverse the given array in-place, means without using any extra data structure.\n",
        "arr = [2, 4, 5, 7, 9, 12]\n",
        "Output = [12, 9, 7, 5, 4, 2]"
      ],
      "metadata": {
        "id": "z_W5CVKr4oQm"
      }
    },
    {
      "cell_type": "code",
      "source": [
        "def reverse_array(arr):\n",
        "    start = 0\n",
        "    end = len(arr) - 1\n",
        "    while start < end:\n",
        "        arr[start], arr[end] = arr[end], arr[start]\n",
        "        start += 1\n",
        "        end -= 1\n",
        "    return arr\n",
        "\n",
        "arr = [2, 4, 5, 7, 9, 12]\n",
        "print(reverse_array(arr))\n"
      ],
      "metadata": {
        "colab": {
          "base_uri": "https://localhost:8080/"
        },
        "id": "OALJsqj64rJt",
        "outputId": "be5e68d7-dba2-4402-e92b-bbee7c7db8cb"
      },
      "execution_count": 3,
      "outputs": [
        {
          "output_type": "stream",
          "name": "stdout",
          "text": [
            "[12, 9, 7, 5, 4, 2]\n"
          ]
        }
      ]
    },
    {
      "cell_type": "markdown",
      "source": [
        "4. Given an array of integers, find the maximum element in an array\n",
        "arr = [10, 5, 20, 8, 15]\n",
        "Output = 20"
      ],
      "metadata": {
        "id": "UPqqIfv64zfy"
      }
    },
    {
      "cell_type": "code",
      "source": [
        "def find_max_element(arr):\n",
        "    max_element = arr[0]\n",
        "    for element in arr:\n",
        "        if element > max_element:\n",
        "            max_element = element\n",
        "    return max_element\n",
        "\n",
        "arr = [10, 5, 20, 8, 15]\n",
        "print(find_max_element(arr))"
      ],
      "metadata": {
        "colab": {
          "base_uri": "https://localhost:8080/"
        },
        "id": "BJSOlP_w42S6",
        "outputId": "1fa8aaa7-8990-4a21-c2ec-7e69445ac727"
      },
      "execution_count": 4,
      "outputs": [
        {
          "output_type": "stream",
          "name": "stdout",
          "text": [
            "20\n"
          ]
        }
      ]
    },
    {
      "cell_type": "markdown",
      "source": [
        "5. Given a sorted array, remove the duplicate element without using any extra data structure.\n",
        "arr = [1, 1, 2, 2, 2, 3, 3, 4, 4, 4, 5, 5]\n",
        "Output = [1, 2, 3, 4, 5]"
      ],
      "metadata": {
        "id": "eGQD2dGn4_GG"
      }
    },
    {
      "cell_type": "code",
      "source": [
        "def remove_duplicates(arr):\n",
        "    if not arr:\n",
        "        return []\n",
        "    unique_index = 0\n",
        "    for i in range(1, len(arr)):\n",
        "        if arr[i] != arr[unique_index]:\n",
        "            unique_index += 1\n",
        "            arr[unique_index] = arr[i]\n",
        "\n",
        "    return arr[:unique_index + 1]\n",
        "\n",
        "arr = [1, 1, 2, 2, 2, 3, 3, 4, 4, 4, 5, 5]\n",
        "print(remove_duplicates(arr))"
      ],
      "metadata": {
        "colab": {
          "base_uri": "https://localhost:8080/"
        },
        "id": "utTJni3e5CYi",
        "outputId": "8abb9f90-c284-4547-eb10-059d3406ba1c"
      },
      "execution_count": 5,
      "outputs": [
        {
          "output_type": "stream",
          "name": "stdout",
          "text": [
            "[1, 2, 3, 4, 5]\n"
          ]
        }
      ]
    }
  ]
}