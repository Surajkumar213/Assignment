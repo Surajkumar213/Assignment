{
  "nbformat": 4,
  "nbformat_minor": 0,
  "metadata": {
    "colab": {
      "provenance": []
    },
    "kernelspec": {
      "name": "python3",
      "display_name": "Python 3"
    },
    "language_info": {
      "name": "python"
    }
  },
  "cells": [
    {
      "cell_type": "markdown",
      "source": [
        "**Basic If-Else Statements:**"
      ],
      "metadata": {
        "id": "O376yb6jIpla"
      }
    },
    {
      "cell_type": "markdown",
      "source": [
        "1. Write a Python program to check if a given number is positive or negative."
      ],
      "metadata": {
        "id": "Hg616vDAIwWP"
      }
    },
    {
      "cell_type": "code",
      "source": [
        "# take a number from user\n",
        "num = float(input(\"Enter a number: \"))\n",
        "if num > 0:\n",
        "   print(\"Positive number\")\n",
        "elif num == 0:\n",
        "   print(\"Zero\")\n",
        "else:\n",
        "   print(\"Negative number\")"
      ],
      "metadata": {
        "colab": {
          "base_uri": "https://localhost:8080/"
        },
        "id": "J1sBKEHdIy5U",
        "outputId": "dbd7c5e5-926e-4b81-a9e3-b1ea50da2a0d"
      },
      "execution_count": null,
      "outputs": [
        {
          "output_type": "stream",
          "name": "stdout",
          "text": [
            "Enter a number: -6\n",
            "Negative number\n"
          ]
        }
      ]
    },
    {
      "cell_type": "markdown",
      "source": [
        "2. Create a program that determines if a person is eligible to vote based on their age."
      ],
      "metadata": {
        "id": "YnmJ8BcPJCNr"
      }
    },
    {
      "cell_type": "code",
      "source": [
        "# take a age from user\n",
        "age = int(input(\"Enter your age: \"))\n",
        "if age >= 18:\n",
        "   print(\"You are eligible to vote.\")\n",
        "else:\n",
        "   print(\"You are not eligible to vote.\")"
      ],
      "metadata": {
        "colab": {
          "base_uri": "https://localhost:8080/"
        },
        "id": "iEiicyxyJFDO",
        "outputId": "65bff884-5acb-4651-e64c-760360eaaf65"
      },
      "execution_count": null,
      "outputs": [
        {
          "output_type": "stream",
          "name": "stdout",
          "text": [
            "Enter your age: 15\n",
            "You are not eligible to vote.\n"
          ]
        }
      ]
    },
    {
      "cell_type": "markdown",
      "source": [
        "3. Develop a program to find the maximum of two numbers using if-else statements."
      ],
      "metadata": {
        "id": "bMzxFNpGJPpv"
      }
    },
    {
      "cell_type": "code",
      "source": [
        "# take two number from user\n",
        "num1 = float(input(\"Enter first number: \"))\n",
        "num2 = float(input(\"Enter second number: \"))\n",
        "if num1 > num2:\n",
        "   print(\"The first number is maximum.\")\n",
        "else:\n",
        "   print(\"The second number is maximum.\")"
      ],
      "metadata": {
        "colab": {
          "base_uri": "https://localhost:8080/"
        },
        "id": "KORBbO6SJSOF",
        "outputId": "97504c68-448a-43e5-b01b-73484d8a069d"
      },
      "execution_count": null,
      "outputs": [
        {
          "output_type": "stream",
          "name": "stdout",
          "text": [
            "Enter first number: 15\n",
            "Enter second number: 18\n",
            "The second number is maximum.\n"
          ]
        }
      ]
    },
    {
      "cell_type": "markdown",
      "source": [
        "4. Write a Python script to classify a given year as a leap year or not."
      ],
      "metadata": {
        "id": "V1dgrv8iJmHj"
      }
    },
    {
      "cell_type": "code",
      "source": [
        "# take a year from user\n",
        "year = int(input(\"Enter a year: \"))\n",
        "if (year % 4 == 0 and year % 100 != 0) or (year % 400 == 0):\n",
        "   print(year, \"is a leap year.\")"
      ],
      "metadata": {
        "colab": {
          "base_uri": "https://localhost:8080/"
        },
        "id": "J0kNmgpqJpNi",
        "outputId": "7e638786-17a8-4251-855a-14cfc5ac55b8"
      },
      "execution_count": null,
      "outputs": [
        {
          "output_type": "stream",
          "name": "stdout",
          "text": [
            "Enter a year: 2000\n",
            "2000 is a leap year.\n"
          ]
        }
      ]
    },
    {
      "cell_type": "markdown",
      "source": [
        "5. Create a program that checks whether a character is a vowel or a consonant."
      ],
      "metadata": {
        "id": "jC8euep2Jyt8"
      }
    },
    {
      "cell_type": "code",
      "source": [
        "# take a character from user\n",
        "char = input(\"Enter a character: \")\n",
        "if char.lower() in 'aeiou':\n",
        "   print(char, \"is a vowel.\")\n",
        "else:\n",
        "   print(char, \"is a consonant.\")"
      ],
      "metadata": {
        "colab": {
          "base_uri": "https://localhost:8080/"
        },
        "id": "ETYAyXPAJ1_v",
        "outputId": "dcb75533-40b8-49bd-dc61-4063af358db9"
      },
      "execution_count": null,
      "outputs": [
        {
          "output_type": "stream",
          "name": "stdout",
          "text": [
            "Enter a character: I\n",
            "I is a vowel.\n"
          ]
        }
      ]
    },
    {
      "cell_type": "markdown",
      "source": [
        "6. Implement a program to determine whether a given number is even or odd."
      ],
      "metadata": {
        "id": "RtBnl2pmKA10"
      }
    },
    {
      "cell_type": "code",
      "source": [
        "# Take a number from user\n",
        "num = int(input(\"Enter a number: \"))\n",
        "if num % 2 == 0:\n",
        "   print(num, \"is even.\")\n",
        "else:\n",
        "   print(num, \"is odd.\")"
      ],
      "metadata": {
        "colab": {
          "base_uri": "https://localhost:8080/"
        },
        "id": "lv_itawtKEWK",
        "outputId": "95880064-0330-4f45-b3e6-9e3a04ef4291"
      },
      "execution_count": null,
      "outputs": [
        {
          "output_type": "stream",
          "name": "stdout",
          "text": [
            "Enter a number: 55\n",
            "55 is odd.\n"
          ]
        }
      ]
    },
    {
      "cell_type": "markdown",
      "source": [
        "7. Write a Python function to calculate the absolute value of a number without using the `abs()` function."
      ],
      "metadata": {
        "id": "eSzm9aciKLhD"
      }
    },
    {
      "cell_type": "code",
      "source": [
        "# take a number from user\n",
        "num = float(input(\"Enter a number: \"))\n",
        "if num < 0:\n",
        "   abs_num = -num\n",
        "else:\n",
        "   abs_num = num\n",
        "print(\"The absolute value of\", num, \"is\", abs_num)"
      ],
      "metadata": {
        "colab": {
          "base_uri": "https://localhost:8080/"
        },
        "id": "Wd9yk5A9KOHu",
        "outputId": "eaa284b3-f430-4355-d88b-153f745c991c"
      },
      "execution_count": null,
      "outputs": [
        {
          "output_type": "stream",
          "name": "stdout",
          "text": [
            "Enter a number: 8\n",
            "The absolute value of 8.0 is 8.0\n"
          ]
        }
      ]
    },
    {
      "cell_type": "markdown",
      "source": [
        "8. Develop a program that determines the largest of three given numbers using if-else statements."
      ],
      "metadata": {
        "id": "L2dGyzenKa24"
      }
    },
    {
      "cell_type": "code",
      "source": [
        "# take a number from user\n",
        "num1 = float(input(\"Enter first number: \"))\n",
        "num2 = float(input(\"Enter second number: \"))\n",
        "num3 = float(input(\"Enter third number: \"))\n",
        "if num1 >= num2 and num1 >= num3:\n",
        "   largest = num1\n",
        "elif num2 >= num1 and num2 >= num3:\n",
        "   largest = num2\n",
        "else:\n",
        "   largest = num3\n",
        "print(\"The largest number is\", largest)\n"
      ],
      "metadata": {
        "colab": {
          "base_uri": "https://localhost:8080/"
        },
        "id": "-AVqqt5vKd7V",
        "outputId": "8092bf44-5cfd-47e8-cb6f-365274c6f727"
      },
      "execution_count": null,
      "outputs": [
        {
          "output_type": "stream",
          "name": "stdout",
          "text": [
            "Enter first number: 6\n",
            "Enter second number: 8\n",
            "Enter third number: 4\n",
            "The largest number is 8.0\n"
          ]
        }
      ]
    },
    {
      "cell_type": "markdown",
      "source": [
        "9. Create a program that checks if a given string is a palindrome."
      ],
      "metadata": {
        "id": "ELu1teWmKx5d"
      }
    },
    {
      "cell_type": "code",
      "source": [
        "# take a string from user\n",
        "string = input(\"Enter a string: \")\n",
        "if string == string[::-1]:\n",
        "   print(string, \"is a palindrome.\")\n",
        "else:\n",
        "   print(string, \"is not a palindrome.\")"
      ],
      "metadata": {
        "colab": {
          "base_uri": "https://localhost:8080/"
        },
        "id": "Bg_SOai3K0ta",
        "outputId": "3f5711f1-2211-4552-a012-a164b9a331a1"
      },
      "execution_count": null,
      "outputs": [
        {
          "output_type": "stream",
          "name": "stdout",
          "text": [
            "Enter a string: nitin\n",
            "nitin is a palindrome.\n"
          ]
        }
      ]
    },
    {
      "cell_type": "markdown",
      "source": [
        "10. Write a Python program to calculate the grade based on a student's score."
      ],
      "metadata": {
        "id": "P1pLBLtmK_mb"
      }
    },
    {
      "cell_type": "code",
      "source": [
        "# take a score from user\n",
        "score = float(input(\"Enter the student's score: \"))\n",
        "if score >= 90:\n",
        "   grade = 'A'\n",
        "elif score >= 80:\n",
        "   grade = 'B'\n",
        "elif score >= 70:\n",
        "   grade = 'C'\n",
        "elif score >= 60:\n",
        "   grade = 'D'\n",
        "else:\n",
        "   grade = 'F'\n",
        "\n",
        "print(\"The student's grade is\", grade)"
      ],
      "metadata": {
        "colab": {
          "base_uri": "https://localhost:8080/"
        },
        "id": "zG2RojFELC2E",
        "outputId": "9c437333-c2d4-4290-d8d0-09229d7da3ba"
      },
      "execution_count": null,
      "outputs": [
        {
          "output_type": "stream",
          "name": "stdout",
          "text": [
            "Enter the student's score: 78\n",
            "The student's grade is C\n"
          ]
        }
      ]
    },
    {
      "cell_type": "markdown",
      "source": [
        "**Nested If-Else Statements:**"
      ],
      "metadata": {
        "id": "Q2weL-TvLjEa"
      }
    },
    {
      "cell_type": "markdown",
      "source": [
        "11. Write a program to find the largest among three numbers using nested if-else statements."
      ],
      "metadata": {
        "id": "6h9G1G4kLnBD"
      }
    },
    {
      "cell_type": "code",
      "source": [
        "# take a number from user\n",
        "num1 = float(input(\"Enter first number: \"))\n",
        "num2 = float(input(\"Enter second number: \"))\n",
        "num3 = float(input(\"Enter third number: \"))\n",
        "if num1 >= num2:\n",
        "   if num1 >= num3:\n",
        "      largest = num1\n",
        "   else:\n",
        "      largest = num3\n",
        "else:\n",
        "   if num2 >= num3:\n",
        "      largest = num2\n",
        "   else:\n",
        "      largest = num\n",
        "\n",
        "print(\"The largest number is\", largest)"
      ],
      "metadata": {
        "colab": {
          "base_uri": "https://localhost:8080/"
        },
        "id": "9_VSutl_LqCn",
        "outputId": "1864cc23-82c6-4eef-a49e-66f4019e4dd4"
      },
      "execution_count": null,
      "outputs": [
        {
          "output_type": "stream",
          "name": "stdout",
          "text": [
            "Enter first number: 7\n",
            "Enter second number: 3\n",
            "Enter third number: 9\n",
            "The largest number is 9.0\n"
          ]
        }
      ]
    },
    {
      "cell_type": "markdown",
      "source": [
        "12. Implement a program to determine if a triangle is equilateral, isosceles, or scalene."
      ],
      "metadata": {
        "id": "XVAeirqXL29u"
      }
    },
    {
      "cell_type": "code",
      "source": [
        "# take a side from user\n",
        "side1 = float(input(\"Enter the length of the first side: \"))\n",
        "side2 = float(input(\"Enter the length of the second side: \"))\n",
        "side3 = float(input(\"Enter the length of the third side: \"))\n",
        "if side1 == side2 == side3:\n",
        "   print(\"The triangle is equilateral.\")\n",
        "elif side1 == side2 or side1 == side3 or side2 == side3:\n",
        "   print(\"The triangle is isosceles.\")\n",
        "else:\n",
        "   print(\"The triangle is scalene.\")"
      ],
      "metadata": {
        "colab": {
          "base_uri": "https://localhost:8080/"
        },
        "id": "kAwGorqdL6YY",
        "outputId": "b5104d62-0227-4d8a-bfe2-6c5c62c84dee"
      },
      "execution_count": null,
      "outputs": [
        {
          "output_type": "stream",
          "name": "stdout",
          "text": [
            "Enter the length of the first side: 8\n",
            "Enter the length of the second side: 6\n",
            "Enter the length of the third side: 9\n",
            "The triangle is scalene.\n"
          ]
        }
      ]
    },
    {
      "cell_type": "markdown",
      "source": [
        "13. Develop a program that checks if a year is a leap year and also if it is a century year."
      ],
      "metadata": {
        "id": "aVssZ_8UMKeY"
      }
    },
    {
      "cell_type": "code",
      "source": [
        "# take a year from user\n",
        "year = int(input(\"Enter a year: \"))\n",
        "if year % 4 == 0:\n",
        "   if year % 100 == 0:\n",
        "      if year % 400 == 0:\n",
        "         print(year, \"is a leap year and a century year.\")"
      ],
      "metadata": {
        "colab": {
          "base_uri": "https://localhost:8080/"
        },
        "id": "t2z4-tAmMSIM",
        "outputId": "5ffc2f7b-179e-4962-e3fd-eeadef3b7e0b"
      },
      "execution_count": null,
      "outputs": [
        {
          "output_type": "stream",
          "name": "stdout",
          "text": [
            "Enter a year: 2000\n",
            "2000 is a leap year and a century year.\n"
          ]
        }
      ]
    },
    {
      "cell_type": "markdown",
      "source": [
        "14. Write a Python script to determine if a number is positive, negative, or zero."
      ],
      "metadata": {
        "id": "o7OWBtkaMjiz"
      }
    },
    {
      "cell_type": "code",
      "source": [
        "# take a number from user\n",
        "num = float(input(\"Enter a number: \"))\n",
        "if num > 0:\n",
        "   print(\"The number is positive.\")\n",
        "elif num < 0:\n",
        "   print(\"The number is negative.\")\n",
        "else:\n",
        "   print(\"The number is zero.\")"
      ],
      "metadata": {
        "colab": {
          "base_uri": "https://localhost:8080/"
        },
        "id": "Uz9e0u9vMmpl",
        "outputId": "32e4a315-1810-4491-e6cc-72d240e17901"
      },
      "execution_count": null,
      "outputs": [
        {
          "output_type": "stream",
          "name": "stdout",
          "text": [
            "Enter a number: 0\n",
            "The number is zero.\n"
          ]
        }
      ]
    },
    {
      "cell_type": "markdown",
      "source": [
        "15. Create a program to check if a person is a teenager (between 13 and 19 years old)."
      ],
      "metadata": {
        "id": "7PajiVyDMyFC"
      }
    },
    {
      "cell_type": "code",
      "source": [
        "# take a age from user\n",
        "age = int(input(\"Enter your age: \"))\n",
        "if age >= 13 and age <= 19:\n",
        "   print(\"You are a teenager.\")\n",
        "else:\n",
        "   print(\"You are not a teenager.\")"
      ],
      "metadata": {
        "colab": {
          "base_uri": "https://localhost:8080/"
        },
        "id": "myY3O48nM1Ek",
        "outputId": "30ba8761-45b4-408a-c5d5-78bdfee29f36"
      },
      "execution_count": null,
      "outputs": [
        {
          "output_type": "stream",
          "name": "stdout",
          "text": [
            "Enter your age: 17\n",
            "You are a teenager.\n"
          ]
        }
      ]
    },
    {
      "cell_type": "markdown",
      "source": [
        "16. Develop a program that determines the type of angle based on its measure (acute, obtuse, or right)."
      ],
      "metadata": {
        "id": "U4oOZXstM-YB"
      }
    },
    {
      "cell_type": "code",
      "source": [
        "# take a angle from user\n",
        "angle = float(input(\"Enter the angle measure in degrees: \"))\n",
        "if angle < 90:\n",
        "   print(\"The angle is acute.\")\n",
        "elif angle == 90:\n",
        "   print(\"The angle is right.\")\n",
        "else:\n",
        "   print(\"The angle is obtuse.\")"
      ],
      "metadata": {
        "colab": {
          "base_uri": "https://localhost:8080/"
        },
        "id": "kzGOrCh3NB3l",
        "outputId": "37edbb0f-f421-40d0-8252-20ff5770b550"
      },
      "execution_count": null,
      "outputs": [
        {
          "output_type": "stream",
          "name": "stdout",
          "text": [
            "Enter the angle measure in degrees: 180\n",
            "The angle is obtuse.\n"
          ]
        }
      ]
    },
    {
      "cell_type": "markdown",
      "source": [
        "17. Write a Python program to calculate the roots of a quadratic equation."
      ],
      "metadata": {
        "id": "I89crMufNPM4"
      }
    },
    {
      "cell_type": "code",
      "source": [
        "# take a quadratic equation from\n",
        "import cmath\n",
        "a = float(input(\"Enter the coefficient of x^2: \"))\n",
        "b = float(input(\"Enter the coefficient of x: \"))\n",
        "c = float(input(\"Enter the constant term: \"))\n",
        "discriminant = (b**2) - (4*a*c)\n",
        "if discriminant > 0:\n",
        "   root1 = (-b + cmath.sqrt(discriminant)) / (2*a)\n",
        "   root2 = (-b - cmath.sqrt(discriminant)) / (2*a)\n",
        "   print(\"The roots are real and distinct.\")\n",
        "   print(\"Root 1:\", root1)\n",
        "   print(\"Root 2:\", root2)\n"
      ],
      "metadata": {
        "colab": {
          "base_uri": "https://localhost:8080/"
        },
        "id": "qCifdTPsNR58",
        "outputId": "0aacee4c-9724-42c7-9220-45896f5319a4"
      },
      "execution_count": null,
      "outputs": [
        {
          "output_type": "stream",
          "name": "stdout",
          "text": [
            "Enter the coefficient of x^2: 2\n",
            "Enter the coefficient of x: 8\n",
            "Enter the constant term: 2\n",
            "The roots are real and distinct.\n",
            "Root 1: (-0.2679491924311228+0j)\n",
            "Root 2: (-3.732050807568877+0j)\n"
          ]
        }
      ]
    },
    {
      "cell_type": "markdown",
      "source": [
        "18. Implement a program to determine the day of the week based on a user-provided number (1 for Monday, 2\n",
        "for Tuesday, etc.)."
      ],
      "metadata": {
        "id": "CpYw32EQOmGZ"
      }
    },
    {
      "cell_type": "code",
      "source": [
        "# take a number from user\n",
        "day_number = int(input(\"Enter a number (1 for Monday, 2 for Tuesday, etc.): \"))\n",
        "if day_number == 1:\n",
        "   day = \"Monday\"\n",
        "   print(\"The day is\", day)\n",
        "elif day_number== 2:\n",
        "   day = \"Tuesday\"\n",
        "   print(\"The day is\", day)\n",
        "elif day_number == 3:\n",
        "   day = \"Wednesday\"\n",
        "   print(\"The day is\", day)\n",
        "elif day_number == 4:\n",
        "   day = \"Thursday\"\n",
        "   print(\"The day is\", day)\n",
        "elif day_number == 5:\n",
        "   day = \"Friday\"\n",
        "   print(\"The day is\", day)\n",
        "elif day_number == 6:\n",
        "   day = \"Saturday\"\n",
        "   print(\"The day is\", day)\n",
        "else:\n",
        "   day = \"Sunday\"\n",
        "   print(\"The day is\", day)\n",
        "\n"
      ],
      "metadata": {
        "colab": {
          "base_uri": "https://localhost:8080/"
        },
        "id": "m2nCdPwaOpZE",
        "outputId": "79c07150-18d3-45f7-a2a8-a24100d0680e"
      },
      "execution_count": null,
      "outputs": [
        {
          "output_type": "stream",
          "name": "stdout",
          "text": [
            "Enter a number (1 for Monday, 2 for Tuesday, etc.): 4\n",
            "The day is Thursday\n"
          ]
        }
      ]
    },
    {
      "cell_type": "markdown",
      "source": [
        "19. Create a program that determines if a year is a leap year and also if it is evenly divisible by 400."
      ],
      "metadata": {
        "id": "BjGhLcmfPiMz"
      }
    },
    {
      "cell_type": "code",
      "source": [
        "# take a year from user\n",
        "year = int(input(\"Enter a year: \"))\n",
        "if year % 4 == 0:\n",
        "   if year % 100 == 0:\n",
        "      if year % 400 == 0:\n",
        "         print(year, \"is a leap year and evenly divisible by 400.\")"
      ],
      "metadata": {
        "colab": {
          "base_uri": "https://localhost:8080/"
        },
        "id": "5OIZosxJPlci",
        "outputId": "2920ab80-3e07-4f0b-832d-141cdcdaf69b"
      },
      "execution_count": null,
      "outputs": [
        {
          "output_type": "stream",
          "name": "stdout",
          "text": [
            "Enter a year: 2000\n",
            "2000 is a leap year and evenly divisible by 400.\n"
          ]
        }
      ]
    },
    {
      "cell_type": "markdown",
      "source": [
        "20. Develop a program that checks if a given number is prime or not using nested if-else statements."
      ],
      "metadata": {
        "id": "TGuSbeSZPzV2"
      }
    },
    {
      "cell_type": "code",
      "source": [
        "# take a number from user\n",
        "num=int(input(\"Enter a number: \"))\n",
        "if num>1:\n",
        "    for i in range(2,int(num/2)+1):\n",
        "        if (num%i)==0:\n",
        "            print(num,\"is not a prime number\")\n",
        "            break\n",
        "    else:\n",
        "        print(num,\"is a prime number\")"
      ],
      "metadata": {
        "colab": {
          "base_uri": "https://localhost:8080/"
        },
        "id": "wm5t4ksnP3Pm",
        "outputId": "7501b04a-b034-444c-d0b5-efae3a0a57cf"
      },
      "execution_count": null,
      "outputs": [
        {
          "output_type": "stream",
          "name": "stdout",
          "text": [
            "Enter a number: 3\n",
            "3 is a prime number\n"
          ]
        }
      ]
    },
    {
      "cell_type": "markdown",
      "source": [
        "**Elif Statements:**"
      ],
      "metadata": {
        "id": "gRnuIr4LQNgX"
      }
    },
    {
      "cell_type": "markdown",
      "source": [
        "21. Write a Python program to assign grades based on different ranges of scores using elif statements."
      ],
      "metadata": {
        "id": "pSWu3ApAQR_0"
      }
    },
    {
      "cell_type": "code",
      "source": [
        "# take a score from user\n",
        "score=int(input(\"Enter the score: \"))\n",
        "if score>=90:\n",
        "    grade='A'\n",
        "elif score>=80:\n",
        "    grade='B'\n",
        "elif score>=70:\n",
        "    grade='C'\n",
        "elif score>=60:\n",
        "    grade='D'\n",
        "else:\n",
        "    grade='F'\n",
        "print(\"The grade is\",grade)"
      ],
      "metadata": {
        "colab": {
          "base_uri": "https://localhost:8080/"
        },
        "id": "sdL_f7KvQVdV",
        "outputId": "564ebc54-7a95-4078-ec11-70414ce5f451"
      },
      "execution_count": null,
      "outputs": [
        {
          "output_type": "stream",
          "name": "stdout",
          "text": [
            "Enter the score: 67\n",
            "The grade is D\n"
          ]
        }
      ]
    },
    {
      "cell_type": "markdown",
      "source": [
        "22. Implement a program to determine the type of a triangle based on its angles."
      ],
      "metadata": {
        "id": "8lMpQTThQkr4"
      }
    },
    {
      "cell_type": "code",
      "source": [
        "# take a angle from user\n",
        "angle=int(input(\"Enter the angle: \"))\n",
        "if angle==90:\n",
        "    print(\"The triangle is right angled triangle\")\n",
        "elif angle>90:\n",
        "    print(\"The triangle is obtuse angled triangle\")\n",
        "else:\n",
        "    print(\"The triangle is acute angled triangle\")"
      ],
      "metadata": {
        "colab": {
          "base_uri": "https://localhost:8080/"
        },
        "id": "4SQB2AVuQpq9",
        "outputId": "200e257c-cf98-4e97-a2e2-f0bf6605bccd"
      },
      "execution_count": null,
      "outputs": [
        {
          "output_type": "stream",
          "name": "stdout",
          "text": [
            "Enter the angle: 120\n",
            "The triangle is obtuse angled triangle\n"
          ]
        }
      ]
    },
    {
      "cell_type": "markdown",
      "source": [
        "  23. Develop a program to categorize a given person's BMI into underweight, normal, overweight, or obese using\n",
        "elif statements."
      ],
      "metadata": {
        "id": "mhXCT-adREIu"
      }
    },
    {
      "cell_type": "code",
      "source": [
        "# take a BMI from user\n",
        "weight=float(input(\"Enter the weight in kg: \"))\n",
        "height=float(input(\"Enter the height in meter: \"))\n",
        "bmi=weight/(height**2)\n",
        "if bmi<18.5:\n",
        "    print(\"the person is underweight\")\n",
        "elif bmi>=18.5 and bmi<=24.9:\n",
        "    print(\"the person is normal\")\n",
        "elif bmi>=25 and bmi<=29.9:\n",
        "    print(\"the person is overweight\")\n",
        "else:\n",
        "    print(\"the person is obese\")"
      ],
      "metadata": {
        "colab": {
          "base_uri": "https://localhost:8080/"
        },
        "id": "zdi9iQ4LRIF5",
        "outputId": "8d71de6e-4ef1-45bf-e256-959973dbd3f4"
      },
      "execution_count": null,
      "outputs": [
        {
          "output_type": "stream",
          "name": "stdout",
          "text": [
            "Enter the weight in kg: 60\n",
            "Enter the height in meter: 1.6\n",
            "the person is normal\n"
          ]
        }
      ]
    },
    {
      "cell_type": "markdown",
      "source": [
        "24. Create a program that determines whether a given number is positive, negative, or zero using elif\n",
        "statements."
      ],
      "metadata": {
        "id": "qu4UmasqRfTn"
      }
    },
    {
      "cell_type": "code",
      "source": [
        "# take a number from user\n",
        "num=int(input(\"Enter the number: \"))\n",
        "if num>0:\n",
        "    print(\"the number is positive\")\n",
        "elif num<0:\n",
        "    print(\"the number is negative\")\n",
        "else:\n",
        "    print(\"the number is zero\")"
      ],
      "metadata": {
        "colab": {
          "base_uri": "https://localhost:8080/"
        },
        "id": "9Snx5FMDRinj",
        "outputId": "dc5a580f-06a0-42e2-de2d-590b80a7fdae"
      },
      "execution_count": null,
      "outputs": [
        {
          "output_type": "stream",
          "name": "stdout",
          "text": [
            "Enter the number: 0\n",
            "the number is zero\n"
          ]
        }
      ]
    },
    {
      "cell_type": "markdown",
      "source": [
        "25. Write a Python script to determine the type of a character (uppercase, lowercase, or special) using elif\n",
        "statements."
      ],
      "metadata": {
        "id": "OCM4KgSiRqmE"
      }
    },
    {
      "cell_type": "code",
      "source": [
        "# take a character from user\n",
        "char=input(\"Enter the character: \")\n",
        "if char.isupper():\n",
        "    print(\"the character is uppercase\")\n",
        "elif char.islower():\n",
        "    print(\"the character is lowercase\")\n",
        "else:\n",
        "    print(\"the character is special\")\n"
      ],
      "metadata": {
        "colab": {
          "base_uri": "https://localhost:8080/"
        },
        "id": "XsHH5upvRuFz",
        "outputId": "7cb7cc06-7d19-48f0-d300-03d43c403f18"
      },
      "execution_count": null,
      "outputs": [
        {
          "output_type": "stream",
          "name": "stdout",
          "text": [
            "Enter the character: suraj\n",
            "the character is lowercase\n"
          ]
        }
      ]
    },
    {
      "cell_type": "markdown",
      "source": [
        "26. Implement a program to calculate the discounted price based on different purchase amounts using elif\n",
        "statements."
      ],
      "metadata": {
        "id": "XQYKmlH0R2Wm"
      }
    },
    {
      "cell_type": "code",
      "source": [
        "# take a price from user\n",
        "price=int(input(\"Enter the price: \"))\n",
        "if price>=1000:\n",
        "    discount=price*0.1\n",
        "    discounted_price=price-discount\n",
        "    print(\"the discounted price is\",discounted_price)\n",
        "\n",
        "elif price>=500:\n",
        "    discount=price*0.05\n",
        "    discounted_price=price-discount\n",
        "    print(\"the discounted price is\",discounted_price)"
      ],
      "metadata": {
        "colab": {
          "base_uri": "https://localhost:8080/"
        },
        "id": "QIVnkQypR57X",
        "outputId": "46a8791b-6666-4902-9df2-598ea027ec1a"
      },
      "execution_count": null,
      "outputs": [
        {
          "output_type": "stream",
          "name": "stdout",
          "text": [
            "Enter the price: 2000\n",
            "the discounted price is 1800.0\n"
          ]
        }
      ]
    },
    {
      "cell_type": "markdown",
      "source": [
        "27. Develop a program to calculate the electricity bill based on different consumption slabs using elif\n",
        "statements."
      ],
      "metadata": {
        "id": "ukhWqmBoSIUp"
      }
    },
    {
      "cell_type": "code",
      "source": [
        "# take a unit from user\n",
        "unit=int(input(\"Enter the unit: \"))\n",
        "if unit<=100:\n",
        "    bill=unit*3.45\n",
        "    print(\"the electricity bill is\",bill)\n"
      ],
      "metadata": {
        "colab": {
          "base_uri": "https://localhost:8080/"
        },
        "id": "6CZoCaaySM_q",
        "outputId": "cb848a52-9d4f-4f0a-d064-d155f30c09a2"
      },
      "execution_count": null,
      "outputs": [
        {
          "output_type": "stream",
          "name": "stdout",
          "text": [
            "Enter the unit: 20\n",
            "the electricity bill is 69.0\n"
          ]
        }
      ]
    },
    {
      "cell_type": "markdown",
      "source": [
        "28. Create a program to determine the type of quadrilateral based on its angles and sides using elif\n",
        "statements."
      ],
      "metadata": {
        "id": "oqRU9Hi0SYmY"
      }
    },
    {
      "cell_type": "code",
      "source": [
        "# take a angle from user\n",
        "angle=int(input(\"Enter the angle: \"))\n",
        "if angle==90:\n",
        "    print(\"the quadrilateral is right angled quadrilateral\")\n",
        "elif angle>90:\n",
        "    print(\"the quadrilateral is obtuse angled quadrilateral\")\n",
        "else:\n",
        "    print(\"the quadrilateral is acute angled quadrilateral\")"
      ],
      "metadata": {
        "colab": {
          "base_uri": "https://localhost:8080/"
        },
        "id": "W8ci6jBWSdVX",
        "outputId": "80de485c-b733-47b9-da2d-228644c15825"
      },
      "execution_count": null,
      "outputs": [
        {
          "output_type": "stream",
          "name": "stdout",
          "text": [
            "Enter the angle: 70\n",
            "the quadrilateral is acute angled quadrilateral\n"
          ]
        }
      ]
    },
    {
      "cell_type": "markdown",
      "source": [
        "29. Write a Python script to determine the season based on a user-provided month using elif statements."
      ],
      "metadata": {
        "id": "J_sTz8ylSphE"
      }
    },
    {
      "cell_type": "code",
      "source": [
        "# take a month from User\n",
        "month=int(input(\"Enter the month: \"))\n",
        "if month==12 or month==1 or month==2:\n",
        "    print(\"the season is winter\")\n",
        "elif month==3 or month==4 or month==5:\n",
        "    print(\"the season is spring\")\n",
        "elif month==6 or month==7 or month==8:\n",
        "    print(\"the season is summer\")\n",
        "else:\n",
        "    print(\"the season is autumn\")"
      ],
      "metadata": {
        "colab": {
          "base_uri": "https://localhost:8080/"
        },
        "id": "6HETV_YqStgo",
        "outputId": "2e34adf8-8e2f-48a6-b1b6-2eb0174774d9"
      },
      "execution_count": null,
      "outputs": [
        {
          "output_type": "stream",
          "name": "stdout",
          "text": [
            "Enter the month: 4\n",
            "the season is spring\n"
          ]
        }
      ]
    },
    {
      "cell_type": "markdown",
      "source": [
        "30. Implement a program to determine the type of a year (leap or common) and month (30 or 31 days) using\n",
        "elif statements."
      ],
      "metadata": {
        "id": "ZZ6ANt4eTGTs"
      }
    },
    {
      "cell_type": "code",
      "source": [
        "# take a year from user\n",
        "year = int(input(\"Enter a year: \"))\n",
        "month = int(input(\"Enter a month (1-12): \"))\n",
        "\n",
        "# Determine if the year is a leap year\n",
        "if year % 400 == 0:\n",
        "    year_type = \"Leap year\"\n",
        "elif year % 100 == 0:\n",
        "    year_type = \"Common year\"\n",
        "elif year % 4 == 0:\n",
        "    year_type = \"Leap year\"\n",
        "else:\n",
        "    year_type = \"Common year\"\n",
        "\n",
        "# Determine the number of days in the month\n",
        "if month in [1, 3, 5, 7, 8, 10, 12]:\n",
        "    days_in_month = 31\n",
        "elif month in [4, 6, 9, 11]:\n",
        "    days_in_month = 30\n",
        "elif month == 2:\n",
        "    if year_type == \"Leap year\":\n",
        "        days_in_month = 29\n",
        "    else:\n",
        "        days_in_month = 28\n",
        "else:\n",
        "    days_in_month = \"Invalid month\"\n",
        "\n",
        "# Output the results\n",
        "print(f\"Year: {year} ({year_type})\")\n",
        "print(f\"Month: {month} has {days_in_month} days\")\n",
        "\n"
      ],
      "metadata": {
        "colab": {
          "base_uri": "https://localhost:8080/"
        },
        "id": "pXkDszCfTKnq",
        "outputId": "7db5320f-7fad-46ed-98f4-f99cfa237fb8"
      },
      "execution_count": null,
      "outputs": [
        {
          "output_type": "stream",
          "name": "stdout",
          "text": [
            "Enter a year: 2020\n",
            "Enter a month (1-12): 3\n",
            "Year: 2020 (Leap year)\n",
            "Month: 3 has 31 days\n"
          ]
        }
      ]
    },
    {
      "cell_type": "markdown",
      "source": [
        "**Basic Level:**"
      ],
      "metadata": {
        "id": "74JDc3ESUJZs"
      }
    },
    {
      "cell_type": "markdown",
      "source": [
        "1. Write a Python program that checks if a given number is positive, negative, or zero."
      ],
      "metadata": {
        "id": "2RovkkB8Ua1w"
      }
    },
    {
      "cell_type": "code",
      "source": [
        "# take a number from user\n",
        "num=int(input(\"Enter the number: \"))\n",
        "if num>0:\n",
        "    print(\"the number is positive\")\n",
        "elif num<0:\n",
        "    print(\"the number is negative\")\n",
        "else:\n",
        "    print(\"the number is zero\")"
      ],
      "metadata": {
        "colab": {
          "base_uri": "https://localhost:8080/"
        },
        "id": "nimPq6WEUfYT",
        "outputId": "6d2cb295-c388-4bbd-e0fe-4478be78d4bc"
      },
      "execution_count": null,
      "outputs": [
        {
          "output_type": "stream",
          "name": "stdout",
          "text": [
            "Enter the number: 1\n",
            "the number is positive\n"
          ]
        }
      ]
    },
    {
      "cell_type": "markdown",
      "source": [
        "2. Create a program to determine if a person is eligible to vote based on their age."
      ],
      "metadata": {
        "id": "PW3KAGmQm7z6"
      }
    },
    {
      "cell_type": "code",
      "source": [
        "# take a age from user\n",
        "age=int(input(\"Enter the age: \"))\n",
        "if age>=18:\n",
        "    print(\"the person is eligible to vote\")\n",
        "else:\n",
        "    print(\"the person is not eligible to vote\")"
      ],
      "metadata": {
        "id": "BtC3tN2Zm_9T",
        "colab": {
          "base_uri": "https://localhost:8080/"
        },
        "outputId": "cb5261b8-7075-4c26-833a-754c0ed24561"
      },
      "execution_count": null,
      "outputs": [
        {
          "output_type": "stream",
          "name": "stdout",
          "text": [
            "Enter the age: 14\n",
            "the person is not eligible to vote\n"
          ]
        }
      ]
    },
    {
      "cell_type": "markdown",
      "source": [
        "3. Write a program to find the maximum of two given numbers using conditional statements."
      ],
      "metadata": {
        "id": "hdxBaY11GEhT"
      }
    },
    {
      "cell_type": "code",
      "source": [
        "# take a number from user\n",
        "num1=int(input(\"Enter the number: \"))\n",
        "num2=int(input(\"Enter the number: \"))\n",
        "if num1>num2:\n",
        "    print(\"the maximum of two given numbers is\",num1)\n",
        "else:\n",
        "    print(\"the maximum of two given numbers is\",num2)"
      ],
      "metadata": {
        "colab": {
          "base_uri": "https://localhost:8080/"
        },
        "id": "P3k8dFIeGFYh",
        "outputId": "abdb9963-2136-4e7d-b1e0-4bebf20d915f"
      },
      "execution_count": null,
      "outputs": [
        {
          "output_type": "stream",
          "name": "stdout",
          "text": [
            "Enter the number: 10\n",
            "Enter the number: 0\n",
            "the maximum of two given numbers is 10\n"
          ]
        }
      ]
    },
    {
      "cell_type": "markdown",
      "source": [
        "4. Develop a program that calculates the grade of a student based on their exam score."
      ],
      "metadata": {
        "id": "nkJ4Q0PQGOdr"
      }
    },
    {
      "cell_type": "code",
      "source": [
        "# Take a score from user\n",
        "score=int(input(\"Enter the score\"))\n",
        "if score>=90:\n",
        "    grade='A'\n",
        "elif score>=80:\n",
        "    grade='B'\n",
        "elif score>=70:\n",
        "    grade='C'\n",
        "elif score>=60:\n",
        "    grade='D'\n",
        "else:\n",
        "    grade='F'\n",
        "print(\"student id score\", grade)"
      ],
      "metadata": {
        "colab": {
          "base_uri": "https://localhost:8080/"
        },
        "id": "uPImxIIJGRmm",
        "outputId": "d6d9594f-92f9-4c63-d982-8307510a0dee"
      },
      "execution_count": null,
      "outputs": [
        {
          "output_type": "stream",
          "name": "stdout",
          "text": [
            "Enter the score87\n",
            "student id score B\n"
          ]
        }
      ]
    },
    {
      "cell_type": "markdown",
      "source": [
        "5. Create a program that checks if a year is a leap year or not."
      ],
      "metadata": {
        "id": "MzVekslqGnli"
      }
    },
    {
      "cell_type": "code",
      "source": [
        "# take a year from user\n",
        "year=int(input(\"Enter the year: \"))\n",
        "if year%4==0:\n",
        "    print(\"the year is leap year\")\n",
        "else:\n",
        "    print(\"the year is not leap year\")"
      ],
      "metadata": {
        "colab": {
          "base_uri": "https://localhost:8080/"
        },
        "id": "YQicMh4yGscz",
        "outputId": "4b60ce94-7c9e-4cfb-df06-9471108fbb15"
      },
      "execution_count": null,
      "outputs": [
        {
          "output_type": "stream",
          "name": "stdout",
          "text": [
            "Enter the year: 2024\n",
            "the year is leap year\n"
          ]
        }
      ]
    },
    {
      "cell_type": "markdown",
      "source": [
        "6. Write a program to classify a triangle based on its sides' lengths."
      ],
      "metadata": {
        "id": "pFNbEmFMG6X0"
      }
    },
    {
      "cell_type": "code",
      "source": [
        "# take a side from user\n",
        "side=int(input(\"Enter the side: \"))\n",
        "if side==3:\n",
        "    print(\"the triangle is equilateral triangle\")\n",
        "elif side==2:\n",
        "    print(\"the triangle is isosceles triangle\")"
      ],
      "metadata": {
        "colab": {
          "base_uri": "https://localhost:8080/"
        },
        "id": "rLBDxmDJG-BR",
        "outputId": "b000d64e-2008-4817-d9f1-507e47490c7c"
      },
      "execution_count": null,
      "outputs": [
        {
          "output_type": "stream",
          "name": "stdout",
          "text": [
            "Enter the side: 2\n",
            "the triangle is isosceles triangle\n"
          ]
        }
      ]
    },
    {
      "cell_type": "markdown",
      "source": [
        "7. Build a program that determines the largest of three given numbers."
      ],
      "metadata": {
        "id": "spkjqbdQHSUN"
      }
    },
    {
      "cell_type": "code",
      "source": [
        "# take a number from user\n",
        "num1=int(input(\"Enter the number: \"))\n",
        "num2=int(input(\"Enter the number: \"))\n",
        "num3=int(input(\"Enter the number: \"))\n",
        "if num1>num2 and num1>num3:\n",
        "    print(\"the largest of three given numbers is\",num1)\n",
        "elif num2>num1 and num2>num3:\n",
        "    print(\"the largest of three given numbers is\",num2)\n",
        "else:\n",
        "    print(\"the largest of three given numbers is\",num3)"
      ],
      "metadata": {
        "colab": {
          "base_uri": "https://localhost:8080/"
        },
        "id": "qWfB75tuHU2P",
        "outputId": "7b3d99da-2dcf-48ef-8825-323690d99bdc"
      },
      "execution_count": null,
      "outputs": [
        {
          "output_type": "stream",
          "name": "stdout",
          "text": [
            "Enter the number: 10 \n",
            "Enter the number: 20\n",
            "Enter the number: 30\n",
            "the largest of three given numbers is 30\n"
          ]
        }
      ]
    },
    {
      "cell_type": "markdown",
      "source": [
        "8. Develop a program that checks whether a character is a vowel or a consonant."
      ],
      "metadata": {
        "id": "18ujczY5Hh9s"
      }
    },
    {
      "cell_type": "code",
      "source": [
        "# take a character from user\n",
        "char=input(\"Enter the character: \")\n",
        "if char=='a' or char=='e' or char=='i' or char=='o' or char=='u':\n",
        "    print(\"the character is vowel\")\n",
        "else:\n",
        "    print(\"the character is consonant\")\n"
      ],
      "metadata": {
        "colab": {
          "base_uri": "https://localhost:8080/"
        },
        "id": "yHYx5hsHHlin",
        "outputId": "4c5058c5-0916-4fec-c3d8-1dead38c3da5"
      },
      "execution_count": null,
      "outputs": [
        {
          "output_type": "stream",
          "name": "stdout",
          "text": [
            "Enter the character: u\n",
            "the character is vowel\n"
          ]
        }
      ]
    },
    {
      "cell_type": "markdown",
      "source": [
        "9. Create a program to calculate the total cost of a shopping cart based on discounts."
      ],
      "metadata": {
        "id": "aP54v4ypHsdB"
      }
    },
    {
      "cell_type": "code",
      "source": [
        "# take a total cost from user\n",
        "total_cost=int(input(\"Enter the total cost: \"))\n",
        "if total_cost>=1000:\n",
        "    discount=total_cost*0.1\n",
        "    total_cost=total_cost-discount\n",
        "    print(\"the total cost of a shopping cart is\",total_cost)\n",
        "else:\n",
        "    print(\"the total cost of a shopping cart is\",total_cost)"
      ],
      "metadata": {
        "colab": {
          "base_uri": "https://localhost:8080/"
        },
        "id": "gta7qty7Hu32",
        "outputId": "05fd787d-bbaf-4b24-a282-74e3ddff6aaf"
      },
      "execution_count": null,
      "outputs": [
        {
          "output_type": "stream",
          "name": "stdout",
          "text": [
            "Enter the total cost: 3000\n",
            "the total cost of a shopping cart is 2700.0\n"
          ]
        }
      ]
    },
    {
      "cell_type": "markdown",
      "source": [
        "10. Write a program that checks if a given number is even or odd."
      ],
      "metadata": {
        "id": "ppTS8kvSIBk5"
      }
    },
    {
      "cell_type": "code",
      "source": [
        "# take a number from user\n",
        "num=int(input(\"Enter the number: \"))\n",
        "if num%2==0:\n",
        "    print(\"the number is even\")\n",
        "else:\n",
        "    print(\"the number is odd\")"
      ],
      "metadata": {
        "colab": {
          "base_uri": "https://localhost:8080/"
        },
        "id": "H9jrCqdnID81",
        "outputId": "6ef08584-dba7-448d-f624-1f314999f560"
      },
      "execution_count": null,
      "outputs": [
        {
          "output_type": "stream",
          "name": "stdout",
          "text": [
            "Enter the number: 8\n",
            "the number is even\n"
          ]
        }
      ]
    },
    {
      "cell_type": "markdown",
      "source": [
        "**Intermediate Level:**"
      ],
      "metadata": {
        "id": "6BC1VP6CILlI"
      }
    },
    {
      "cell_type": "markdown",
      "source": [
        "11. Write a program that calculates the roots of a quadratic equation"
      ],
      "metadata": {
        "id": "oc0buPIHIOzP"
      }
    },
    {
      "cell_type": "code",
      "source": [
        "# take a quadratic equation from\n",
        "import cmath\n",
        "a = float(input(\"Enter the coefficient of x^2: \"))\n",
        "b = float(input(\"Enter the coefficient of x: \"))\n",
        "c = float(input(\"Enter the constant term: \"))\n",
        "discriminant = (b**2) - (4*a*c)\n",
        "if discriminant > 0:\n",
        "   root1 = (-b + cmath.sqrt(discriminant)) / (2*a)\n",
        "   root2 = (-b - cmath.sqrt(discriminant)) / (2*a)\n",
        "   print(\"The roots are real and distinct.\")\n",
        "   print(\"Root 1:\", root1)\n",
        "   print(\"Root 2:\", root2)\n"
      ],
      "metadata": {
        "colab": {
          "base_uri": "https://localhost:8080/"
        },
        "id": "Jr0gL5h8IRe1",
        "outputId": "77ec09a7-04b8-4f01-c377-27c5d5f4116b"
      },
      "execution_count": null,
      "outputs": [
        {
          "output_type": "stream",
          "name": "stdout",
          "text": [
            "Enter the coefficient of x^2: 2 \n",
            "Enter the coefficient of x: 8\n",
            "Enter the constant term: 2\n",
            "The roots are real and distinct.\n",
            "Root 1: (-0.2679491924311228+0j)\n",
            "Root 2: (-3.732050807568877+0j)\n"
          ]
        }
      ]
    },
    {
      "cell_type": "markdown",
      "source": [
        "12. Create a program that determines the day of the week based on the day number (1-7)."
      ],
      "metadata": {
        "id": "_PqPaaUAIvGO"
      }
    },
    {
      "cell_type": "code",
      "source": [
        "# take a number from user\n",
        "day_number = int(input(\"Enter a number :\"))\n",
        "if day_number == 1:\n",
        "   day = \"Monday\"\n",
        "   print(\"The day is\", day)\n",
        "elif day_number== 2:\n",
        "   day = \"Tuesday\"\n",
        "   print(\"The day is\", day)\n",
        "elif day_number == 3:\n",
        "   day = \"Wednesday\"\n",
        "   print(\"The day is\", day)\n",
        "elif day_number == 4:\n",
        "   day = \"Thursday\"\n",
        "   print(\"The day is\", day)\n",
        "elif day_number == 5:\n",
        "   day = \"Friday\"\n",
        "   print(\"The day is\", day)\n",
        "elif day_number == 6:\n",
        "   day = \"Saturday\"\n",
        "   print(\"The day is\", day)\n",
        "else:\n",
        "   day = \"Sunday\"\n",
        "   print(\"The day is\", day)"
      ],
      "metadata": {
        "colab": {
          "base_uri": "https://localhost:8080/"
        },
        "id": "HOPuE1WmIyxt",
        "outputId": "57bed93c-f670-476c-ad32-9b26924e35f2"
      },
      "execution_count": null,
      "outputs": [
        {
          "output_type": "stream",
          "name": "stdout",
          "text": [
            "Enter a number :6\n",
            "The day is Saturday\n"
          ]
        }
      ]
    },
    {
      "cell_type": "markdown",
      "source": [
        "13. Develop a program that calculates the factorial of a given number using recursion."
      ],
      "metadata": {
        "id": "EpWtEEMnJOUW"
      }
    },
    {
      "cell_type": "code",
      "source": [
        "# take a number from user\n",
        "num=int(input(\"Enter the number: \"))\n",
        "fac=1\n",
        "for i in range(1,num+1):\n",
        "    fac=fac*i\n",
        "print(\"the factorial of a given number is\",fac)"
      ],
      "metadata": {
        "colab": {
          "base_uri": "https://localhost:8080/"
        },
        "id": "b8rnpBkSJSF9",
        "outputId": "7c5d89e1-0230-4cf3-82b3-57fd268a2f31"
      },
      "execution_count": null,
      "outputs": [
        {
          "output_type": "stream",
          "name": "stdout",
          "text": [
            "Enter the number: 4\n",
            "the factorial of a given number is 24\n"
          ]
        }
      ]
    },
    {
      "cell_type": "markdown",
      "source": [
        "14. Write a program to find the largest among three numbers without using the `max()` function."
      ],
      "metadata": {
        "id": "vzhEmVgbJqUw"
      }
    },
    {
      "cell_type": "code",
      "source": [
        "# take a number from user\n",
        "num1=int(input(\"Enter the number: \"))\n",
        "num2=int(input(\"Enter the number: \"))\n",
        "num3=int(input(\"Enter the number: \"))\n",
        "if num1>num2 and num1>num3:\n",
        "    print(\"the largest of three given numbers is\",num1)\n",
        "elif num2>num1 and num2>num3:\n",
        "    print(\"the largest of three given numbers is\",num2)\n",
        "else:\n",
        "    print(\"the largest of three given numbers is\",num3)"
      ],
      "metadata": {
        "colab": {
          "base_uri": "https://localhost:8080/"
        },
        "id": "aGCPHG9aJtgY",
        "outputId": "cfcee004-c758-4648-96fd-f378e2489e4d"
      },
      "execution_count": null,
      "outputs": [
        {
          "output_type": "stream",
          "name": "stdout",
          "text": [
            "Enter the number: 20\n",
            "Enter the number: 10\n",
            "Enter the number: 30\n",
            "the largest of three given numbers is 30\n"
          ]
        }
      ]
    },
    {
      "cell_type": "markdown",
      "source": [
        "15. Create a program that simulates a basic ATM transaction menu."
      ],
      "metadata": {
        "id": "WsXM2LE3J8_b"
      }
    },
    {
      "cell_type": "code",
      "source": [
        "# take a balance from user\n",
        "balance=int(input(\"Enter the balance: \"))\n",
        "print(\"1. Check Balance\")\n",
        "print(\"2. Deposit\")\n",
        "print(\"3. Withdraw\")\n",
        "print(\"4. Exit\")\n",
        "choice=int(input(\"Enter the choice: \"))\n",
        "if choice==1:\n",
        "    print(\"the balance is\",balance)\n",
        "elif choice==2:\n",
        "    deposit=int(input(\"Enter the deposit: \"))\n",
        "    balance=balance+deposit\n",
        "    print(\"the balance is\",balance)\n",
        "elif choice==3:\n",
        "    withdraw=int(input(\"Enter the withdraw: \"))\n",
        "    if withdraw>balance:\n",
        "        print(\"the balance is insufficient\")\n",
        "    else:\n",
        "        balance=balance-withdraw\n",
        "        print(\"the balance is\",balance)\n",
        "else:\n",
        "    print(\"the exit\")"
      ],
      "metadata": {
        "colab": {
          "base_uri": "https://localhost:8080/"
        },
        "id": "0lEiBMpuKCOT",
        "outputId": "e5b9eaa2-c5ea-4915-cb6f-8754e652f5d2"
      },
      "execution_count": null,
      "outputs": [
        {
          "output_type": "stream",
          "name": "stdout",
          "text": [
            "Enter the balance: 1000\n",
            "1. Check Balance\n",
            "2. Deposit\n",
            "3. Withdraw\n",
            "4. Exit\n",
            "Enter the choice: 2\n",
            "Enter the deposit: 200\n",
            "the balance is 1200\n"
          ]
        }
      ]
    },
    {
      "cell_type": "markdown",
      "source": [
        "16. Build a program that checks if a given string is a palindrome or not."
      ],
      "metadata": {
        "id": "I6KG9UZaKjQ_"
      }
    },
    {
      "cell_type": "code",
      "source": [
        "# take a string from user\n",
        "string=input(\"Enter the string: \")\n",
        "if string==string[::-1]:\n",
        "    print(\"the given string is palindrome\")\n",
        "else:\n",
        "    print(\"the given string is not palindrome\")"
      ],
      "metadata": {
        "colab": {
          "base_uri": "https://localhost:8080/"
        },
        "id": "S0o-X-wSKlsT",
        "outputId": "a9443220-87ac-462a-8b08-5b9ec23bbb81"
      },
      "execution_count": null,
      "outputs": [
        {
          "output_type": "stream",
          "name": "stdout",
          "text": [
            "Enter the string: nitin\n",
            "the given string is palindrome\n"
          ]
        }
      ]
    },
    {
      "cell_type": "markdown",
      "source": [],
      "metadata": {
        "id": "lq9hEWdcKq-O"
      }
    },
    {
      "cell_type": "markdown",
      "source": [
        "17. Write a program that calculates the average of a list of numbers, excluding the smallest and largest values."
      ],
      "metadata": {
        "id": "EDoruC7oKrQ7"
      }
    },
    {
      "cell_type": "code",
      "source": [
        "list=[1,2,3,4,5,6,7,8,9]\n",
        "sum=0\n",
        "for i in list:\n",
        "    sum=sum+i\n",
        "average=sum/len(list)\n",
        "print(\"the average of a list of numbers is\",average)"
      ],
      "metadata": {
        "colab": {
          "base_uri": "https://localhost:8080/"
        },
        "id": "9K6I4auLKtwy",
        "outputId": "0fd38c8e-9632-4311-b88b-00353d57a2e7"
      },
      "execution_count": null,
      "outputs": [
        {
          "output_type": "stream",
          "name": "stdout",
          "text": [
            "the average of a list of numbers is 5.0\n"
          ]
        }
      ]
    },
    {
      "cell_type": "markdown",
      "source": [
        "18. Develop a program that converts a given temperature from Celsius to Fahrenheit."
      ],
      "metadata": {
        "id": "o7czF6BaKzNb"
      }
    },
    {
      "cell_type": "code",
      "source": [
        "# take a temperature from user\n",
        "celsius=float(input(\"Enter the temperature in celsius: \"))\n",
        "fahrenheit=(celsius*9/5)+32\n",
        "print(\"the temperature in fahrenheit is\",fahrenheit)"
      ],
      "metadata": {
        "colab": {
          "base_uri": "https://localhost:8080/"
        },
        "id": "l-sEykXPK2j8",
        "outputId": "cf563b3a-e90d-428b-a669-c60f873dc965"
      },
      "execution_count": null,
      "outputs": [
        {
          "output_type": "stream",
          "name": "stdout",
          "text": [
            "Enter the temperature in celsius: 67\n",
            "the temperature in fahrenheit is 152.6\n"
          ]
        }
      ]
    },
    {
      "cell_type": "markdown",
      "source": [
        "19. Create a program that simulates a basic calculator for addition, subtraction, multiplication, and division."
      ],
      "metadata": {
        "id": "l0s6KkDMK8rd"
      }
    },
    {
      "cell_type": "code",
      "source": [
        "# take a number from user\n",
        "num1=int(input(\"Enter the number: \"))\n",
        "num2=int(input(\"Enter the number: \"))\n",
        "print(\"1. Addition\")\n",
        "print(\"2. Subtraction\")\n",
        "print(\"3. Multiplication\")\n",
        "print(\"4. Division\")\n",
        "choice=int(input(\"Enter the choice: \"))\n",
        "if choice==1:\n",
        "    print(\"the addition is\",num1+num2)\n",
        "elif choice==2:\n",
        "    print(\"the subtraction is\",num1-num2)\n",
        "elif choice==3:\n",
        "    print(\"the multiplication is\",num1*num2)\n",
        "else:\n",
        "    print(\"the division is\",num1/num2)"
      ],
      "metadata": {
        "colab": {
          "base_uri": "https://localhost:8080/"
        },
        "id": "VQC01-z9K_ZZ",
        "outputId": "31f2320a-aef9-42bd-dcba-b50bf8f92796"
      },
      "execution_count": null,
      "outputs": [
        {
          "output_type": "stream",
          "name": "stdout",
          "text": [
            "Enter the number: 4 \n",
            "Enter the number: 8\n",
            "1. Addition\n",
            "2. Subtraction\n",
            "3. Multiplication\n",
            "4. Division\n",
            "Enter the choice: 3\n",
            "the multiplication is 32\n"
          ]
        }
      ]
    },
    {
      "cell_type": "markdown",
      "source": [
        "20. Write a program that determines the roots of a cubic equation using the Cardano formula."
      ],
      "metadata": {
        "id": "jAo23WQrLK4i"
      }
    },
    {
      "cell_type": "code",
      "source": [
        "# take a cubic equation from user\n",
        "import cmath\n",
        "a = float(input(\"Enter the coefficient of x^3: \"))\n",
        "b = float(input(\"Enter the coefficient of x^2: \"))\n",
        "c = float(input(\"Enter the coefficient of x: \"))\n",
        "d = float(input(\"Enter the constant term: \"))\n",
        "\n",
        "# Convert to a depressed cubic t^3 + pt + q = 0 by substituting x = t - b/(3a)\n",
        "p = (3 * a * c - b**2) / (3 * a**2)\n",
        "q = (2 * b**3 - 9 * a * b * c + 27 * a**2 * d) / (27 * a**3)\n",
        "\n",
        "# Calculate the discriminant\n",
        "delta = (q / 2)**2 + (p / 3)**3\n",
        "\n",
        "if delta > 0:\n",
        "    # One real root and two complex conjugates\n",
        "    u = (-q / 2 + cmath.sqrt(delta))**(1/3)\n",
        "    v = (-q / 2 - cmath.sqrt(delta))**(1/3)\n",
        "    t1 = u + v\n",
        "    t2 = -(u + v) / 2 + cmath.sqrt(3) * (u - v) * 1j / 2\n",
        "    t3 = -(u + v) / 2 - cmath.sqrt(3) * (u - v) * 1j / 2\n",
        "elif delta == 0:\n",
        "    # All roots are real, at least two are equal\n",
        "    u = (-q / 2)**(1/3)\n",
        "    t1 = 2 * u\n",
        "    t2 = t3 = -u\n",
        "else:\n",
        "    # Three distinct real roots\n",
        "    theta = cmath.acos(-q / (2 * (-p / 3)**(3/2)))\n",
        "    t1 = 2 * (-p / 3)**(1/2) * cmath.cos(theta / 3)\n",
        "    t2 = 2 * (-p / 3)**(1/2) * cmath.cos((theta + 2 * cmath.pi) / 3)\n",
        "    t3 = 2 * (-p / 3)**(1/2) * cmath.cos((theta + 4 * cmath.pi) / 3)\n",
        "\n",
        "# Convert back to x by adding -b/(3a)\n",
        "x1 = t1 - b / (3 * a)\n",
        "x2 = t2 - b / (3 * a)\n",
        "x3 = t3 - b / (3 * a)\n",
        "\n",
        "# Output the roots\n",
        "print(f\"The roots are: {x1}, {x2}, {x3}\")"
      ],
      "metadata": {
        "colab": {
          "base_uri": "https://localhost:8080/"
        },
        "id": "W0IHIMn3LNs_",
        "outputId": "ab0b2f87-5134-402f-a67b-4874e0e06e00"
      },
      "execution_count": null,
      "outputs": [
        {
          "output_type": "stream",
          "name": "stdout",
          "text": [
            "Enter the coefficient of x^3: 1\n",
            "Enter the coefficient of x^2: 6\n",
            "Enter the coefficient of x: 11\n",
            "Enter the constant term: -6\n",
            "The roots are: (0.43484136821690855+0j), (-3.217420684108454+1.8564318910978759j), (-3.217420684108454-1.8564318910978759j)\n"
          ]
        }
      ]
    },
    {
      "cell_type": "markdown",
      "source": [
        "**Advanced Level:**"
      ],
      "metadata": {
        "id": "XhE__vOSL48p"
      }
    },
    {
      "cell_type": "markdown",
      "source": [
        "21. Create a program that calculates the income tax based on the user's income and tax brackets."
      ],
      "metadata": {
        "id": "DBTkN3zyL7-Q"
      }
    },
    {
      "cell_type": "code",
      "source": [
        "# take a income from user\n",
        "income=int(input(\"Enter the income: \"))\n",
        "if income<=250000:\n",
        "    tax=0\n",
        "elif income<=500000:\n",
        "    tax=(income-250000)*0.05\n",
        "    print(\"the income tax is\",tax)\n",
        "else:\n",
        "    tax=(income-500000)*0.2\n",
        "    print(\"the income tax is\",tax)"
      ],
      "metadata": {
        "colab": {
          "base_uri": "https://localhost:8080/"
        },
        "id": "VPWxWzLBL-pr",
        "outputId": "87d9caff-47c5-4604-dda4-5a923966448d"
      },
      "execution_count": null,
      "outputs": [
        {
          "output_type": "stream",
          "name": "stdout",
          "text": [
            "Enter the income: 600000\n",
            "the income tax is 20000.0\n"
          ]
        }
      ]
    },
    {
      "cell_type": "markdown",
      "source": [
        "22. Write a program that simulates a rock-paper-scissors game against the computer."
      ],
      "metadata": {
        "id": "vwnET_bCMLTi"
      }
    },
    {
      "cell_type": "code",
      "source": [
        "import random\n",
        "\n",
        "# Options for the game\n",
        "options = [\"rock\", \"paper\", \"scissors\"]\n",
        "\n",
        "# Game loop\n",
        "while True:\n",
        "    # Player's choice\n",
        "    player_choice = input(\"Enter rock, paper, or scissors (or 'quit' to stop playing): \").lower()\n",
        "\n",
        "    if player_choice == 'quit':\n",
        "        print(\"Thanks for playing!\")\n",
        "        break\n",
        "\n",
        "    if player_choice not in options:\n",
        "        print(\"Invalid choice! Please try again.\")\n",
        "        break\n",
        "\n",
        "    # Computer's choice\n",
        "    computer_choice = random.choice(options)\n",
        "    print(f\"Computer chose: {computer_choice}\")\n",
        "\n",
        "    # Determine the winner\n",
        "    if player_choice == computer_choice:\n",
        "        print(\"It's a tie!\")\n",
        "    elif (player_choice == \"rock\" and computer_choice == \"scissors\") or \\\n",
        "         (player_choice == \"paper\" and computer_choice == \"rock\") or \\\n",
        "         (player_choice == \"scissors\" and computer_choice == \"paper\"):\n",
        "        print(\"You win!\")\n",
        "    else:\n",
        "        print(\"Computer wins!\")\n"
      ],
      "metadata": {
        "colab": {
          "base_uri": "https://localhost:8080/"
        },
        "id": "gQk6h43GMPwn",
        "outputId": "4826f21f-72ae-4083-e92e-e22bd5c800d2"
      },
      "execution_count": null,
      "outputs": [
        {
          "output_type": "stream",
          "name": "stdout",
          "text": [
            "Computer chose: rock\n",
            "You win!\n",
            "Computer chose: scissors\n",
            "You win!\n",
            "Computer chose: scissors\n",
            "It's a tie!\n",
            "Invalid choice! Please try again.\n",
            "Invalid choice! Please try again.\n",
            "Enter rock, paper, or scissors (or 'quit' to stop playing): yii\n",
            "Invalid choice! Please try again.\n"
          ]
        }
      ]
    },
    {
      "cell_type": "markdown",
      "source": [
        "23. Develop a program that generates a random password based on user preferences (length, complexity)."
      ],
      "metadata": {
        "id": "zYHRHOfaMyka"
      }
    },
    {
      "cell_type": "code",
      "source": [
        "import random\n",
        "import string\n",
        "\n",
        "# User preferences\n",
        "length = int(input(\"Enter the length of the password: \"))\n",
        "include_uppercase = input(\"Include uppercase letters? (yes/no): \").lower() == 'yes'\n",
        "include_digits = input(\"Include digits? (yes/no): \").lower() == 'yes'\n",
        "include_symbols = input(\"Include symbols? (yes/no): \").lower() == 'yes'\n",
        "\n",
        "\n",
        "# Base character set (lowercase letters)\n",
        "characters = list(string.ascii_lowercase)\n",
        "\n",
        "# Add uppercase letters if needed\n",
        "if include_uppercase:\n",
        "    characters.extend(list(string.ascii_uppercase))\n",
        "\n",
        "# Add digits if needed\n",
        "if include_digits:\n",
        "    characters.extend(list(string.digits))\n",
        "\n",
        "# Add symbols if needed\n",
        "if include_symbols:\n",
        "    characters.extend(list(string.punctuation))\n",
        "\n",
        "# Generate the random password\n",
        "password = ''.join(random.choice(characters) for _ in range(length))\n",
        "\n",
        "# Output the generated password\n",
        "print(f\"Generated password: {password}\")\n"
      ],
      "metadata": {
        "id": "303imPILM2S5"
      },
      "execution_count": null,
      "outputs": []
    },
    {
      "cell_type": "markdown",
      "source": [
        "24. Create a program that implements a simple text-based adventure game with branching scenarios."
      ],
      "metadata": {
        "id": "NMtXnRowN6Wl"
      }
    },
    {
      "cell_type": "code",
      "source": [
        "# take a name from user\n",
        "name=input(\"Enter the name: \")\n",
        "print(f\"Welcome to the adventure game, {name}!\")\n",
        "# Initial Scenario\n",
        "print(\"You wake up in a dark forest. There are two paths in front of you.\")\n",
        "print(\"Do you want to go 'left' or 'right'?\")\n",
        "choice1 = input(\"Enter your choice: \").lower()\n",
        "\n",
        "if choice1 == \"left\":\n",
        "   print(\"\\nYou walk down the left path and find a mysterious cave.\")\n",
        "   print(\"Do you want to 'enter' the cave or 'walk away'?\")\n",
        "   choice2 = input(\"Enter your choice: \").lower()\n",
        "\n",
        "   if choice2== 'enter':\n",
        "      print(\"\\nYou enter the cave and discover a treasure chest!\")\n",
        "      print(\"Congratulations! You've won the game!\")\n",
        "      choice3=input(\"Enter your choice:\").lower()\n",
        "\n",
        "      if choice3 == 'open':\n",
        "         print(\"\\nYou open the chest and find a pile of gold coins. You are rich!\")\n",
        "      elif choice3 == \"leave\":\n",
        "          print(\"\\nYou leave the cave, missing the chance to discover the treasure. The adventure ends.\")\n",
        "      else:\n",
        "          print(\"\\nInvalid choice. The adventure ends.\")\n",
        "\n",
        "   elif choice2 == \"walk away\":\n",
        "        print(\"\\nYou decide not to enter the cave and continue walking through the forest.\")\n",
        "        print(\"You safely find your way home. The adventure ends.\")\n",
        "   else:\n",
        "        print(\"\\nInvalid choice. The adventure ends.\")\n",
        "\n",
        "elif choice1 == \"right\":\n",
        "    print(\"\\nYou walk down the right path and encounter a river.\")\n",
        "    print(\"Do you want to 'swim' across or 'build' a raft?\")\n",
        "    choice2 = input(\"Enter your choice: \").lower()\n",
        "\n",
        "    if choice2 == \"swim\":\n",
        "        print(\"\\nYou try to swim across but the current is too strong. You barely make it to the other side.\")\n",
        "        print(\"Exhausted, you decide to rest and end your adventure.\")\n",
        "    elif choice2 == \"build\":\n",
        "        print(\"\\nYou gather some logs and build a raft. You safely cross the river and continue your journey.\")\n",
        "        print(\"After a long journey, you find a village. The adventure ends.\")\n",
        "    else:\n",
        "        print(\"\\nInvalid choice. The adventure ends.\")\n",
        "\n",
        "else:\n",
        "    print(\"\\nInvalid choice. The adventure ends.\")"
      ],
      "metadata": {
        "id": "h68YerIpN-f0"
      },
      "execution_count": null,
      "outputs": []
    },
    {
      "cell_type": "markdown",
      "source": [
        "25. Build a program that solves a linear equation for x, considering different cases."
      ],
      "metadata": {
        "id": "_KW8RyoeQMAS"
      }
    },
    {
      "cell_type": "code",
      "source": [
        "# take a linear equation from user\n"
      ],
      "metadata": {
        "id": "B85HxgukQPkZ"
      },
      "execution_count": null,
      "outputs": []
    }
  ]
}