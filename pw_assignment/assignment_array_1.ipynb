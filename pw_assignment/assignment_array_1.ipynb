{
 "cells": [
  {
   "cell_type": "code",
   "execution_count": 1,
   "id": "69b7c79e-881c-41be-b37d-ac68a650e46c",
   "metadata": {},
   "outputs": [
    {
     "data": {
      "text/plain": [
       "20"
      ]
     },
     "execution_count": 1,
     "metadata": {},
     "output_type": "execute_result"
    }
   ],
   "source": [
    "4*5"
   ]
  },
  {
   "cell_type": "markdown",
   "id": "e94d1557-59a2-4515-b386-24f7dbc696b7",
   "metadata": {},
   "source": [
    "1. Given an array, check if it contains any duplicates or not.\n",
    "arr = [1, 2, 4, 2, 5, 9]\n",
    "Output = True"
   ]
  },
  {
   "cell_type": "code",
   "execution_count": 16,
   "id": "bf5959aa-6f31-4ee1-ba3d-33374e4db626",
   "metadata": {},
   "outputs": [
    {
     "name": "stdout",
     "output_type": "stream",
     "text": [
      "None\n"
     ]
    }
   ],
   "source": [
    "def check_duplicate(arr ,j):\n",
    "    i=0\n",
    "    if arr[i]==arr[j]:\n",
    "        return True\n",
    "    else:\n",
    "        i=i+1\n",
    "        j=j-1\n",
    "\n",
    "arr = [1, 2, 4, 2, 5, 9]\n",
    "j = 5\n",
    "print(check_duplicate(arr ,j))"
   ]
  },
  {
   "cell_type": "code",
   "execution_count": null,
   "id": "337dd997-59cd-4048-85fd-a88151d6d4e8",
   "metadata": {},
   "outputs": [],
   "source": []
  }
 ],
 "metadata": {
  "kernelspec": {
   "display_name": "Python 3 (ipykernel)",
   "language": "python",
   "name": "python3"
  },
  "language_info": {
   "codemirror_mode": {
    "name": "ipython",
    "version": 3
   },
   "file_extension": ".py",
   "mimetype": "text/x-python",
   "name": "python",
   "nbconvert_exporter": "python",
   "pygments_lexer": "ipython3",
   "version": "3.12.4"
  }
 },
 "nbformat": 4,
 "nbformat_minor": 5
}
