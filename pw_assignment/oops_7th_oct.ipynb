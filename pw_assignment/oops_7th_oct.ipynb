{
  "cells": [
    {
      "cell_type": "code",
      "execution_count": null,
      "id": "8b6a7b1a-3ff5-4b22-be3e-d3b2d7aa7e3a",
      "metadata": {
        "id": "8b6a7b1a-3ff5-4b22-be3e-d3b2d7aa7e3a"
      },
      "outputs": [],
      "source": [
        "class a :\n",
        "\n",
        "    def test(self):\n",
        "        print(\"this test method is a part of class a\")\n",
        "\n",
        "    def test1(self):\n",
        "        print(\"this is test1 from class a \")"
      ]
    },
    {
      "cell_type": "code",
      "execution_count": null,
      "id": "8e4d306f-fdb4-47a0-a93d-597f5b21d30b",
      "metadata": {
        "id": "8e4d306f-fdb4-47a0-a93d-597f5b21d30b"
      },
      "outputs": [],
      "source": [
        "obj_a = a()"
      ]
    },
    {
      "cell_type": "code",
      "execution_count": null,
      "id": "81ef5597-cf96-4ed9-a4f6-21e2e93aca70",
      "metadata": {
        "id": "81ef5597-cf96-4ed9-a4f6-21e2e93aca70",
        "outputId": "473e9328-f2fb-43c1-c820-fd0fdc78688a"
      },
      "outputs": [
        {
          "name": "stdout",
          "output_type": "stream",
          "text": [
            "this test method is a part of class a\n"
          ]
        }
      ],
      "source": [
        "obj_a.test()"
      ]
    },
    {
      "cell_type": "code",
      "execution_count": null,
      "id": "11ee63d6-433d-48dc-ada0-5dd6771310ba",
      "metadata": {
        "id": "11ee63d6-433d-48dc-ada0-5dd6771310ba"
      },
      "outputs": [],
      "source": [
        "class b(a) :\n",
        "    def test1b(self):\n",
        "        print(\"this is a part of class b \")"
      ]
    },
    {
      "cell_type": "code",
      "execution_count": null,
      "id": "badaedfe-57d1-43c6-9193-e5afb0f31dbc",
      "metadata": {
        "id": "badaedfe-57d1-43c6-9193-e5afb0f31dbc"
      },
      "outputs": [],
      "source": [
        "obj_b = b()"
      ]
    },
    {
      "cell_type": "code",
      "execution_count": null,
      "id": "3ce19f61-ba8e-4050-9d4d-614adfd964c5",
      "metadata": {
        "id": "3ce19f61-ba8e-4050-9d4d-614adfd964c5",
        "outputId": "2bae711a-6144-40d2-f285-18e769a20117"
      },
      "outputs": [
        {
          "name": "stdout",
          "output_type": "stream",
          "text": [
            "this test method is a part of class a\n"
          ]
        }
      ],
      "source": [
        "obj_b.test()"
      ]
    },
    {
      "cell_type": "code",
      "execution_count": null,
      "id": "5e473fae-e094-4407-99df-16a04ab4c80a",
      "metadata": {
        "id": "5e473fae-e094-4407-99df-16a04ab4c80a",
        "outputId": "37e083dd-3373-4ede-f3cf-85983a258753"
      },
      "outputs": [
        {
          "name": "stdout",
          "output_type": "stream",
          "text": [
            "this is test1 from class a \n"
          ]
        }
      ],
      "source": [
        "obj_b.test1()"
      ]
    },
    {
      "cell_type": "code",
      "execution_count": null,
      "id": "02a8f055-535f-4bc2-adc1-575445f82570",
      "metadata": {
        "id": "02a8f055-535f-4bc2-adc1-575445f82570"
      },
      "outputs": [],
      "source": [
        "obj_b."
      ]
    },
    {
      "cell_type": "code",
      "execution_count": null,
      "id": "59361cd3-c0c4-4ddd-abac-cbe3275ade5f",
      "metadata": {
        "id": "59361cd3-c0c4-4ddd-abac-cbe3275ade5f"
      },
      "outputs": [],
      "source": [
        "class lecture:\n",
        "\n",
        "    def topic(self):\n",
        "        print(\"todays class we are discussing about inheritance condept in oops\")\n",
        "\n",
        "    def timing(self):\n",
        "        print(\"timing for todays class is 9 AM IST\")\n",
        "\n",
        "    def end_time(self):\n",
        "        print(\"today i will try to end class bit early\")"
      ]
    },
    {
      "cell_type": "code",
      "execution_count": null,
      "id": "6e3dd2de-883e-4e9e-98a0-4a7089af1627",
      "metadata": {
        "id": "6e3dd2de-883e-4e9e-98a0-4a7089af1627"
      },
      "outputs": [],
      "source": [
        "class student(lecture):\n",
        "\n",
        "    def student_details(self):\n",
        "        print(\"this class will give you a student details\")"
      ]
    },
    {
      "cell_type": "code",
      "execution_count": null,
      "id": "c2ad2a89-0f29-4410-86c4-e33f47b4186d",
      "metadata": {
        "id": "c2ad2a89-0f29-4410-86c4-e33f47b4186d"
      },
      "outputs": [],
      "source": [
        "naval = student()"
      ]
    },
    {
      "cell_type": "code",
      "execution_count": null,
      "id": "38c86e7f-5560-464a-b597-c88a74819f1a",
      "metadata": {
        "id": "38c86e7f-5560-464a-b597-c88a74819f1a",
        "outputId": "dde21664-2304-4f83-c969-2a473f8469ee"
      },
      "outputs": [
        {
          "name": "stdout",
          "output_type": "stream",
          "text": [
            "todays class we are discussing about inheritance condept in oops\n"
          ]
        }
      ],
      "source": [
        "naval.topic()"
      ]
    },
    {
      "cell_type": "code",
      "execution_count": null,
      "id": "02efc8a4-f995-4f85-87d2-620ccc0f61fa",
      "metadata": {
        "id": "02efc8a4-f995-4f85-87d2-620ccc0f61fa",
        "outputId": "51c0ae9f-1876-43a2-e9d3-8b96765e17a6"
      },
      "outputs": [
        {
          "name": "stdout",
          "output_type": "stream",
          "text": [
            "timing for todays class is 9 AM IST\n"
          ]
        }
      ],
      "source": [
        "satish = student()\n",
        "satish.timing()"
      ]
    },
    {
      "cell_type": "code",
      "execution_count": null,
      "id": "03932972-a58b-46e5-a3f8-ffc43c84ce53",
      "metadata": {
        "id": "03932972-a58b-46e5-a3f8-ffc43c84ce53"
      },
      "outputs": [],
      "source": [
        "class teacher(student):\n",
        "    def details(self):\n",
        "        print(\"this will give you a details about teacher\")"
      ]
    },
    {
      "cell_type": "code",
      "execution_count": null,
      "id": "fff36c1b-f1e9-467e-b29f-c304aa9feec9",
      "metadata": {
        "id": "fff36c1b-f1e9-467e-b29f-c304aa9feec9",
        "outputId": "77798539-5b54-4825-c6b0-595227580465"
      },
      "outputs": [
        {
          "name": "stdout",
          "output_type": "stream",
          "text": [
            "timing for todays class is 9 AM IST\n"
          ]
        }
      ],
      "source": [
        "sudh = teacher()\n",
        "sudh.timing()"
      ]
    },
    {
      "cell_type": "code",
      "execution_count": null,
      "id": "a5e8c94b-de62-4ef5-8eba-81259d83dd3d",
      "metadata": {
        "id": "a5e8c94b-de62-4ef5-8eba-81259d83dd3d"
      },
      "outputs": [],
      "source": [
        "class lecture:\n",
        "    def topic(self):\n",
        "        print(\"todays class we are discussing about inheritance condept in oops\")\n",
        "\n",
        "    def timing(self):\n",
        "        print(\"timing for todays class is 9 AM IST\")\n",
        "\n",
        "    def end_time(self):\n",
        "        print(\"today i will try to end class bit early\")"
      ]
    },
    {
      "cell_type": "code",
      "execution_count": null,
      "id": "2007141c-1b71-4cd4-9bed-a3cd8d851baa",
      "metadata": {
        "id": "2007141c-1b71-4cd4-9bed-a3cd8d851baa"
      },
      "outputs": [],
      "source": [
        "class student:\n",
        "\n",
        "    def student_details(self):\n",
        "        print(\"this class will give you a student details\")\n",
        "\n",
        "    def timing(self):\n",
        "        print(\"this is a timing fun from student class\")\n",
        ""
      ]
    },
    {
      "cell_type": "code",
      "execution_count": null,
      "id": "272860d3-1fac-475b-8c09-0490069224bc",
      "metadata": {
        "id": "272860d3-1fac-475b-8c09-0490069224bc"
      },
      "outputs": [],
      "source": [
        "class teacher(lecture,student):\n",
        "    def details(self):\n",
        "        print(\"this will give you a details about teacher\")"
      ]
    },
    {
      "cell_type": "code",
      "execution_count": null,
      "id": "f4a9ae16-f0e3-4a4a-a003-38773611cd2a",
      "metadata": {
        "id": "f4a9ae16-f0e3-4a4a-a003-38773611cd2a"
      },
      "outputs": [],
      "source": [
        "krish = teacher()"
      ]
    },
    {
      "cell_type": "code",
      "execution_count": null,
      "id": "6dc85f37-219e-4c72-927c-9aebb550fea9",
      "metadata": {
        "id": "6dc85f37-219e-4c72-927c-9aebb550fea9",
        "outputId": "b4590764-dc93-4e04-9724-dfa1ea3c9dc1"
      },
      "outputs": [
        {
          "name": "stdout",
          "output_type": "stream",
          "text": [
            "timing for todays class is 9 AM IST\n"
          ]
        }
      ],
      "source": [
        "krish.timing()"
      ]
    },
    {
      "cell_type": "code",
      "execution_count": null,
      "id": "8bcbac88-9172-4a31-a191-9c4b9a1c6eac",
      "metadata": {
        "id": "8bcbac88-9172-4a31-a191-9c4b9a1c6eac",
        "outputId": "df06553a-5f83-4a45-8c59-4ec09000762f"
      },
      "outputs": [
        {
          "name": "stdout",
          "output_type": "stream",
          "text": [
            "this class will give you a student details\n"
          ]
        }
      ],
      "source": [
        "krish.student_details()"
      ]
    },
    {
      "cell_type": "markdown",
      "id": "86b47d4f-860e-4702-83a0-0145887ab41a",
      "metadata": {
        "id": "86b47d4f-860e-4702-83a0-0145887ab41a"
      },
      "source": [
        "Problem 1: Bank Account Create a class representing a bank account with attributes like account number, account holder name, and balance. Implement methods to deposit and withdraw money from the account.\n",
        "\n",
        "Problem 2: Employee Management Create a class representing an employee with attributes like employee ID, name, and salary. Implement methods to calculate the yearly bonus and display employee details.\n",
        "\n",
        "Problem 3: Vehicle Rental Create a class representing a vehicle rental system. Implement methods to rent a vehicle, return a vehicle, and display available vehicles.\n",
        "\n",
        "Problem 4: Library Catalog Create classes representing a library and a book. Implement methods to add books to the library, borrow books, and display available books.\n",
        "\n",
        "Problem 5: Product Inventory Create classes representing a product and an inventory system. Implement methods to add products to the inventory, update product quantity, and display available products.\n",
        "\n",
        "Problem 6: Shape Calculation Create a class representing a shape with attributes like length, width, and height. Implement methods to calculate the area and perimeter of the shape.\n",
        "\n",
        "Problem 7: Student Management Create a class representing a student with attributes like student ID, name, and grades. Implement methods to calculate the average grade and display student details.\n",
        "\n",
        "Problem 8: Email Management Create a class representing an email with attributes like sender, recipient, and subject. Implement methods to send an email and display email details.\n",
        "\n",
        "Problem 9: Social Media Profile Create a class representing a social media profile with attributes like username and posts. Implement methods to add posts, display posts, and search for posts by keyword.\n",
        "\n",
        "Problem 10: ToDo List Create a class representing a ToDo list with attributes like tasks and due dates. Implement methods to add tasks, mark tasks as completed, and display pending tasks."
      ]
    },
    {
      "cell_type": "markdown",
      "source": [],
      "metadata": {
        "id": "T6XGIHoXMvP8"
      },
      "id": "T6XGIHoXMvP8"
    },
    {
      "cell_type": "code",
      "execution_count": null,
      "id": "fef1683a-faa4-4d27-a0a6-7a742e512e9b",
      "metadata": {
        "id": "fef1683a-faa4-4d27-a0a6-7a742e512e9b"
      },
      "outputs": [],
      "source": []
    },
    {
      "cell_type": "markdown",
      "source": [
        "Problem 1: Bank Account Create a class representing a bank account with attributes like account number, account holder name, and balance. Implement methods to deposit and withdraw money from the account."
      ],
      "metadata": {
        "id": "PZiHKgNsImq5"
      },
      "id": "PZiHKgNsImq5"
    },
    {
      "cell_type": "code",
      "source": [
        "class Bankaccount:\n",
        "  def __init__(self, account_number, account_holder_name, balance):\n",
        "    self.account_number = account_number\n",
        "    self.account_holder_name = account_holder_name\n",
        "    self.balance = balance\n",
        "\n",
        "  def deposit(self, amount):\n",
        "    self.balance += amount\n",
        "\n",
        "  def withdraw(self, amount):\n",
        "    if self.balance >= amount:\n",
        "      self.balance -= amount\n",
        "    else:\n",
        "      print(\"Insufficient balance\")\n",
        "\n",
        "  def check_balance(self):\n",
        "    print(\"Balance:\", self.balance)\n"
      ],
      "metadata": {
        "id": "0yqjTu3nIrW5"
      },
      "id": "0yqjTu3nIrW5",
      "execution_count": 6,
      "outputs": []
    },
    {
      "cell_type": "code",
      "source": [
        "obj1=Bankaccount(123456789, \"John Doe\", 1000)"
      ],
      "metadata": {
        "id": "olZYMVA9JE1b"
      },
      "id": "olZYMVA9JE1b",
      "execution_count": 7,
      "outputs": []
    },
    {
      "cell_type": "code",
      "source": [
        "obj1.deposit(2000)\n",
        "obj1.check_balance()"
      ],
      "metadata": {
        "id": "GmfNgBlWJNPf",
        "outputId": "70eed9a6-80a6-44b9-85a0-02b94a83a85a",
        "colab": {
          "base_uri": "https://localhost:8080/"
        }
      },
      "id": "GmfNgBlWJNPf",
      "execution_count": 8,
      "outputs": [
        {
          "output_type": "stream",
          "name": "stdout",
          "text": [
            "Balance: 3000\n"
          ]
        }
      ]
    },
    {
      "cell_type": "markdown",
      "source": [
        "Problem 2: Employee Management Create a class representing an employee with attributes like employee ID, name, and salary. Implement methods to calculate the yearly bonus and display employee details."
      ],
      "metadata": {
        "id": "KnHtsWi7JzvN"
      },
      "id": "KnHtsWi7JzvN"
    },
    {
      "cell_type": "code",
      "source": [
        "class employees:\n",
        "  def __init__(self, employee_id, name, salary):\n",
        "    self.employee_id = employee_id\n",
        "    self.name = name\n",
        "    self.salary = salary\n",
        "\n",
        "  def calculate_bonus(self, bonus_percentage):\n",
        "    bonus = (bonus_percentage / 100) * self.salary\n",
        "    return bonus\n",
        "\n",
        "  def display_details(self):\n",
        "    print(\"Employee ID:\", self.employee_id)\n",
        "    print(\"Name:\", self.name)\n",
        "    print(\"Salary:\", self.salary)"
      ],
      "metadata": {
        "id": "u1mH8tPXJ1o1"
      },
      "id": "u1mH8tPXJ1o1",
      "execution_count": 9,
      "outputs": []
    },
    {
      "cell_type": "code",
      "source": [
        "e=employees(12345, \"John Doe\", 50000)\n",
        "e.calculate_bonus(10)\n",
        "e.display_details()"
      ],
      "metadata": {
        "id": "tHjbHfbzKG48",
        "outputId": "c0b60292-1393-4154-a833-e1782b2deb51",
        "colab": {
          "base_uri": "https://localhost:8080/"
        }
      },
      "id": "tHjbHfbzKG48",
      "execution_count": 10,
      "outputs": [
        {
          "output_type": "stream",
          "name": "stdout",
          "text": [
            "Employee ID: 12345\n",
            "Name: John Doe\n",
            "Salary: 50000\n"
          ]
        }
      ]
    },
    {
      "cell_type": "markdown",
      "source": [
        "Problem 3: Vehicle Rental Create a class representing a vehicle rental system. Implement methods to rent a vehicle, return a vehicle, and display available vehicles."
      ],
      "metadata": {
        "id": "hEMpJqiCKPHz"
      },
      "id": "hEMpJqiCKPHz"
    },
    {
      "cell_type": "code",
      "source": [
        "class vehicle_rental:\n",
        "  def __init__(self, available_vehicles):\n",
        "    self.available_vehicles = available_vehicles\n",
        "\n",
        "  def rent_vehicle(self, vehicle_type):\n",
        "    if vehicle_type in self.available_vehicles:\n",
        "      self.available_vehicles.remove(vehicle_type)\n",
        "      return f\"Rented {vehicle_type}\"\n",
        "\n",
        "    else:\n",
        "      return \"No such vehicle available\"\n",
        "\n",
        "  def return_vehicle(self, vehicle_type):\n",
        "    self.available_vehicles.append(vehicle_type)\n",
        "    return f\"Returned {vehicle_type}\"\n",
        "\n",
        "  def display_available_vehicles(self):\n",
        "    return self.available_vehicles"
      ],
      "metadata": {
        "id": "4slnTXUYKTv_"
      },
      "id": "4slnTXUYKTv_",
      "execution_count": 11,
      "outputs": []
    },
    {
      "cell_type": "code",
      "source": [
        "v=vehicle_rental([\"car\", \"bike\", \"bus\"])\n",
        "v.rent_vehicle(\"car\")\n",
        "v.display_available_vehicles()"
      ],
      "metadata": {
        "id": "QWgAOwy5Kli2",
        "outputId": "ee6d84fe-1478-47c2-a043-d9d62cdfd12e",
        "colab": {
          "base_uri": "https://localhost:8080/"
        }
      },
      "id": "QWgAOwy5Kli2",
      "execution_count": 13,
      "outputs": [
        {
          "output_type": "execute_result",
          "data": {
            "text/plain": [
              "['bike', 'bus']"
            ]
          },
          "metadata": {},
          "execution_count": 13
        }
      ]
    },
    {
      "cell_type": "markdown",
      "source": [
        "Problem 4: Library Catalog Create classes representing a library and a book. Implement methods to add books to the library, borrow books, and display available books."
      ],
      "metadata": {
        "id": "X01BPxDlKvn5"
      },
      "id": "X01BPxDlKvn5"
    },
    {
      "cell_type": "code",
      "source": [
        "class Library:\n",
        "  def __init__(self):\n",
        "    self.books = []\n",
        "\n",
        "  def add_book(self, book):\n",
        "    self.books.append(book)\n",
        "\n",
        "  def borrow_book(self, book):\n",
        "    if book in self.books:\n",
        "      self.books.remove(book)\n",
        "      return f\"Borrowed {book}\"\n",
        "    else:\n",
        "      return \"No such book available\""
      ],
      "metadata": {
        "id": "guHsJaK8K0-T"
      },
      "id": "guHsJaK8K0-T",
      "execution_count": 14,
      "outputs": []
    },
    {
      "cell_type": "code",
      "source": [
        "l=Library()\n",
        "l.add_book(\"book1\")\n",
        "l.add_book(\"book2\")\n",
        "l.borrow_book(\"book1\")"
      ],
      "metadata": {
        "id": "mbDM0NMRLBZ4",
        "outputId": "be7a1688-7985-47b6-a0df-87086e0d52b0",
        "colab": {
          "base_uri": "https://localhost:8080/",
          "height": 35
        }
      },
      "id": "mbDM0NMRLBZ4",
      "execution_count": 15,
      "outputs": [
        {
          "output_type": "execute_result",
          "data": {
            "text/plain": [
              "'Borrowed book1'"
            ],
            "application/vnd.google.colaboratory.intrinsic+json": {
              "type": "string"
            }
          },
          "metadata": {},
          "execution_count": 15
        }
      ]
    },
    {
      "cell_type": "markdown",
      "source": [
        "Problem 5: Product Inventory Create classes representing a product and an inventory system. Implement methods to add products to the inventory, update product quantity, and display available products."
      ],
      "metadata": {
        "id": "kMtL0FBoLHyh"
      },
      "id": "kMtL0FBoLHyh"
    },
    {
      "cell_type": "code",
      "source": [
        "class inventory_System:\n",
        "  def __init__(self):\n",
        "    self.products = {}\n",
        "\n",
        "  def add_product(self, product, quantity):\n",
        "    self.products[product] = quantity\n",
        "\n",
        "  def update_quantity(self, product, new_quantity):\n",
        "    if product in self.products:\n",
        "      self.products[product] = new_quantity\n",
        "    else:\n",
        "      print(\"No such product available\")\n",
        "\n",
        "\n",
        "  def display_available_products(self):\n",
        "    for product, quantity in self.products.items():\n",
        "      print(f\"{product}: {quantity}\")"
      ],
      "metadata": {
        "id": "DYcup8QJLMeD"
      },
      "id": "DYcup8QJLMeD",
      "execution_count": 17,
      "outputs": []
    },
    {
      "cell_type": "code",
      "source": [],
      "metadata": {
        "id": "h5YQ1KnbLbs7"
      },
      "id": "h5YQ1KnbLbs7",
      "execution_count": null,
      "outputs": []
    },
    {
      "cell_type": "code",
      "source": [
        "i = inventory_System()\n",
        "i.add_product(\"product1\", 10)\n",
        "i.add_product(\"product2\", 20)\n",
        "i.update_quantity(\"product1\", 5)\n",
        "i.display_available_products()"
      ],
      "metadata": {
        "id": "vZZFzidULb7M",
        "outputId": "aa6b1595-4cbf-48fe-8295-51cb81da736d",
        "colab": {
          "base_uri": "https://localhost:8080/"
        }
      },
      "id": "vZZFzidULb7M",
      "execution_count": 18,
      "outputs": [
        {
          "output_type": "stream",
          "name": "stdout",
          "text": [
            "product1: 5\n",
            "product2: 20\n"
          ]
        }
      ]
    },
    {
      "cell_type": "markdown",
      "source": [
        "Problem 6: Shape Calculation Create a class representing a shape with attributes like length, width, and height. Implement methods to calculate the area and perimeter of the shape."
      ],
      "metadata": {
        "id": "hnerSFGOLh9H"
      },
      "id": "hnerSFGOLh9H"
    },
    {
      "cell_type": "code",
      "source": [
        "class shape:\n",
        "  def __init__(self, length, width, height):\n",
        "    self.length = length\n",
        "    self.width = width\n",
        "    self.height = height\n",
        "\n",
        "  def area(self):\n",
        "    pass\n",
        "\n",
        "  def perimeter(self):\n",
        "    pass"
      ],
      "metadata": {
        "id": "mGxAIYksLnmO"
      },
      "id": "mGxAIYksLnmO",
      "execution_count": 19,
      "outputs": []
    },
    {
      "cell_type": "code",
      "source": [
        "s=shape(2,3,4)\n",
        "s.area()"
      ],
      "metadata": {
        "id": "s6nomRreMB0J"
      },
      "id": "s6nomRreMB0J",
      "execution_count": 20,
      "outputs": []
    },
    {
      "cell_type": "markdown",
      "source": [
        "Problem 7: Student Management Create a class representing a student with attributes like student ID, name, and grades. Implement methods to calculate the average grade and display student details."
      ],
      "metadata": {
        "id": "mPo47jgPMIzy"
      },
      "id": "mPo47jgPMIzy"
    },
    {
      "cell_type": "code",
      "source": [
        "class student_management:\n",
        "  def __init__(self, student_id, name, grades):\n",
        "    self.student_id = student_id\n",
        "    self.name = name\n",
        "    self.grades = grades\n",
        "\n",
        "  def calculate_average_grade(self):\n",
        "    total = sum(self.grades)\n",
        "    average = total / len(self.grades)\n",
        "    return average\n",
        "\n",
        "  def display_student_details(self):\n",
        "    print(\"Student ID:\", self.student_id)\n",
        "    print(\"Name:\", self.name)\n",
        "    print(\"Grades:\", self.grades)"
      ],
      "metadata": {
        "id": "4mLNKu1sMQMJ"
      },
      "id": "4mLNKu1sMQMJ",
      "execution_count": 21,
      "outputs": []
    },
    {
      "cell_type": "code",
      "source": [
        "s=student_management(12345, \"John Doe\", [90, 85, 95])\n",
        "s.calculate_average_grade()\n",
        "s.display_student_details()"
      ],
      "metadata": {
        "id": "1_ZPJdopMeoJ",
        "outputId": "a4f1d0f4-955a-4ad6-d5f2-0945e3ec2901",
        "colab": {
          "base_uri": "https://localhost:8080/"
        }
      },
      "id": "1_ZPJdopMeoJ",
      "execution_count": 22,
      "outputs": [
        {
          "output_type": "stream",
          "name": "stdout",
          "text": [
            "Student ID: 12345\n",
            "Name: John Doe\n",
            "Grades: [90, 85, 95]\n"
          ]
        }
      ]
    },
    {
      "cell_type": "markdown",
      "source": [
        "Problem 8: Email Management Create a class representing an email with attributes like sender, recipient, and subject. Implement methods to send an email and display email details."
      ],
      "metadata": {
        "id": "1Rny7BTrMzSG"
      },
      "id": "1Rny7BTrMzSG"
    },
    {
      "cell_type": "code",
      "source": [
        "class Email_management:\n",
        "  def __init__(self, sender, recipient, subject):\n",
        "    self.sender = sender\n",
        "    self.recipient = recipient\n",
        "    self.subject = subject\n",
        "    self.is_sent = False\n",
        "\n",
        "  def send_email(self):\n",
        "    self.is_sent = True\n",
        "\n",
        "  def display_email_details(self):\n",
        "    print(\"Sender:\", self.sender)\n",
        "    print(\"Recipient:\", self.recipient)\n",
        "    print(\"Subject:\", self.subject)\n",
        "    print(\"Is sent:\", self.is_sent)\n",
        "\n",
        ""
      ],
      "metadata": {
        "id": "-12FNve8M7Hp"
      },
      "id": "-12FNve8M7Hp",
      "execution_count": 23,
      "outputs": []
    },
    {
      "cell_type": "code",
      "source": [
        "e=Email_management(\"surja\", \"john\", \"hello\")\n",
        "e.send_email()\n",
        "e.display_email_details()"
      ],
      "metadata": {
        "id": "ZsRKBg5iNMQM",
        "outputId": "e4906d28-0ed4-436c-b12c-f14b226717a1",
        "colab": {
          "base_uri": "https://localhost:8080/"
        }
      },
      "id": "ZsRKBg5iNMQM",
      "execution_count": 24,
      "outputs": [
        {
          "output_type": "stream",
          "name": "stdout",
          "text": [
            "Sender: surja\n",
            "Recipient: john\n",
            "Subject: hello\n",
            "Is sent: True\n"
          ]
        }
      ]
    },
    {
      "cell_type": "markdown",
      "source": [
        "Problem 9: Social Media Profile Create a class representing a social media profile with attributes like username and posts. Implement methods to add posts, display posts, and search for posts by keyword."
      ],
      "metadata": {
        "id": "nub0A0YoNXCs"
      },
      "id": "nub0A0YoNXCs"
    },
    {
      "cell_type": "code",
      "source": [
        "class social_media_profile:\n",
        "  def __init__(self, username):\n",
        "    self.username = username\n",
        "    self.posts = []\n",
        "\n",
        "  def add_post(self, post):\n",
        "    self.posts.append(post)\n",
        "\n",
        "  def display_posts(self):\n",
        "    for post in self.posts:\n",
        "      print(post)\n",
        "\n",
        "  def search_posts(self, keyword):\n",
        "    matching_posts = []\n",
        "    for post in self.posts:\n",
        "      if keyword in post:\n",
        "        matching_posts.append(post)\n",
        "    return matching_posts"
      ],
      "metadata": {
        "id": "Aq-41B5ANagb"
      },
      "id": "Aq-41B5ANagb",
      "execution_count": 25,
      "outputs": []
    },
    {
      "cell_type": "code",
      "source": [
        "s=social_media_profile(\"surja\")\n",
        "s.add_post(\"hello\")\n",
        "s.add_post(\"hi\")\n",
        "s.display_posts()"
      ],
      "metadata": {
        "id": "LdMrp8dBNnSk",
        "outputId": "88857b39-0e6b-46f0-e553-0033d11a1dc8",
        "colab": {
          "base_uri": "https://localhost:8080/"
        }
      },
      "id": "LdMrp8dBNnSk",
      "execution_count": 27,
      "outputs": [
        {
          "output_type": "stream",
          "name": "stdout",
          "text": [
            "hello\n",
            "hi\n"
          ]
        }
      ]
    },
    {
      "cell_type": "markdown",
      "source": [
        "Problem 10: ToDo List Create a class representing a ToDo list with attributes like tasks and due dates. Implement methods to add tasks, mark tasks as completed, and display pending tasks."
      ],
      "metadata": {
        "id": "FsmPu2zoNypl"
      },
      "id": "FsmPu2zoNypl"
    },
    {
      "cell_type": "code",
      "source": [
        "class ToDoList:\n",
        "    def __init__(self):\n",
        "        self.tasks = []  # List to store tasks as tuples (task, due_date, completed)\n",
        "\n",
        "    def add_task(self, task, due_date):\n",
        "        self.tasks.append((task, due_date, False))\n",
        "\n",
        "    def mark_completed(self, task):\n",
        "        for i, (t, due_date, completed) in enumerate(self.tasks):\n",
        "            if t == task:\n",
        "                self.tasks[i] = (t, due_date, True)\n",
        "                return\n",
        "        print(f\"Task '{task}' not found.\")\n",
        "\n",
        "    def display_pending_tasks(self):\n",
        "        print(\"Pending Tasks:\")\n",
        "        for t, due_date, completed in self.tasks:\n",
        "            if not completed:\n",
        "                print(f\"Task: {t}, Due Date: {due_date}\")\n"
      ],
      "metadata": {
        "id": "XRuifHH7Nzt5"
      },
      "id": "XRuifHH7Nzt5",
      "execution_count": 62,
      "outputs": []
    },
    {
      "cell_type": "code",
      "source": [
        "T=ToDoList()\n",
        "T.add_task(\"task3\", \"2023-04-08\")\n",
        "T.add_task(\"task2\", \"2023-04-07\")\n",
        "T.add_task(\"task1\", \"2023-04-06\")\n"
      ],
      "metadata": {
        "id": "IYbDXK-ROGBu"
      },
      "id": "IYbDXK-ROGBu",
      "execution_count": 65,
      "outputs": []
    },
    {
      "cell_type": "code",
      "source": [
        "T.mark_completed(\"task1\")\n",
        "T.display_pending_tasks()"
      ],
      "metadata": {
        "id": "OGtI8RQdQpdi",
        "outputId": "1ab793ee-67f3-4644-c193-cfbbc2e13083",
        "colab": {
          "base_uri": "https://localhost:8080/"
        }
      },
      "id": "OGtI8RQdQpdi",
      "execution_count": 66,
      "outputs": [
        {
          "output_type": "stream",
          "name": "stdout",
          "text": [
            "Task 'task1' not found.\n",
            "Pending Tasks:\n",
            "Task: task3, Due Date: 2023-04-08\n"
          ]
        }
      ]
    },
    {
      "cell_type": "code",
      "source": [],
      "metadata": {
        "id": "85qerJwZOJu1"
      },
      "id": "85qerJwZOJu1",
      "execution_count": null,
      "outputs": []
    }
  ],
  "metadata": {
    "kernelspec": {
      "display_name": "Python 3 (ipykernel)",
      "language": "python",
      "name": "python3"
    },
    "language_info": {
      "codemirror_mode": {
        "name": "ipython",
        "version": 3
      },
      "file_extension": ".py",
      "mimetype": "text/x-python",
      "name": "python",
      "nbconvert_exporter": "python",
      "pygments_lexer": "ipython3",
      "version": "3.10.8"
    },
    "colab": {
      "provenance": []
    }
  },
  "nbformat": 4,
  "nbformat_minor": 5
}