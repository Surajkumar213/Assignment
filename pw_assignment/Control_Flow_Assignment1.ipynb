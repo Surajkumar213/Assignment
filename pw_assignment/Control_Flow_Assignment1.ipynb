{
 "cells": [
  {
   "cell_type": "markdown",
   "metadata": {
    "id": "O376yb6jIpla"
   },
   "source": [
    "**Basic If-Else Statements:**"
   ]
  },
  {
   "cell_type": "markdown",
   "metadata": {
    "id": "Hg616vDAIwWP"
   },
   "source": [
    "1. Write a Python program to check if a given number is positive or negative."
   ]
  },
  {
   "cell_type": "code",
   "execution_count": null,
   "metadata": {
    "colab": {
     "base_uri": "https://localhost:8080/"
    },
    "id": "J1sBKEHdIy5U",
    "outputId": "dbd7c5e5-926e-4b81-a9e3-b1ea50da2a0d"
   },
   "outputs": [
    {
     "name": "stdout",
     "output_type": "stream",
     "text": [
      "Enter a number: -6\n",
      "Negative number\n"
     ]
    }
   ],
   "source": [
    "# take a number from user\n",
    "num = float(input(\"Enter a number: \"))\n",
    "if num > 0:\n",
    "   print(\"Positive number\")\n",
    "elif num == 0:\n",
    "   print(\"Zero\")\n",
    "else:\n",
    "   print(\"Negative number\")"
   ]
  },
  {
   "cell_type": "markdown",
   "metadata": {
    "id": "YnmJ8BcPJCNr"
   },
   "source": [
    "2. Create a program that determines if a person is eligible to vote based on their age."
   ]
  },
  {
   "cell_type": "code",
   "execution_count": null,
   "metadata": {
    "colab": {
     "base_uri": "https://localhost:8080/"
    },
    "id": "iEiicyxyJFDO",
    "outputId": "65bff884-5acb-4651-e64c-760360eaaf65"
   },
   "outputs": [
    {
     "name": "stdout",
     "output_type": "stream",
     "text": [
      "Enter your age: 15\n",
      "You are not eligible to vote.\n"
     ]
    }
   ],
   "source": [
    "# take a age from user\n",
    "age = int(input(\"Enter your age: \"))\n",
    "if age >= 18:\n",
    "   print(\"You are eligible to vote.\")\n",
    "else:\n",
    "   print(\"You are not eligible to vote.\")"
   ]
  },
  {
   "cell_type": "markdown",
   "metadata": {
    "id": "bMzxFNpGJPpv"
   },
   "source": [
    "3. Develop a program to find the maximum of two numbers using if-else statements."
   ]
  },
  {
   "cell_type": "code",
   "execution_count": null,
   "metadata": {
    "colab": {
     "base_uri": "https://localhost:8080/"
    },
    "id": "KORBbO6SJSOF",
    "outputId": "97504c68-448a-43e5-b01b-73484d8a069d"
   },
   "outputs": [
    {
     "name": "stdout",
     "output_type": "stream",
     "text": [
      "Enter first number: 15\n",
      "Enter second number: 18\n",
      "The second number is maximum.\n"
     ]
    }
   ],
   "source": [
    "# take two number from user\n",
    "num1 = float(input(\"Enter first number: \"))\n",
    "num2 = float(input(\"Enter second number: \"))\n",
    "if num1 > num2:\n",
    "   print(\"The first number is maximum.\")\n",
    "else:\n",
    "   print(\"The second number is maximum.\")"
   ]
  },
  {
   "cell_type": "markdown",
   "metadata": {
    "id": "V1dgrv8iJmHj"
   },
   "source": [
    "4. Write a Python script to classify a given year as a leap year or not."
   ]
  },
  {
   "cell_type": "code",
   "execution_count": null,
   "metadata": {
    "colab": {
     "base_uri": "https://localhost:8080/"
    },
    "id": "J0kNmgpqJpNi",
    "outputId": "7e638786-17a8-4251-855a-14cfc5ac55b8"
   },
   "outputs": [
    {
     "name": "stdout",
     "output_type": "stream",
     "text": [
      "Enter a year: 2000\n",
      "2000 is a leap year.\n"
     ]
    }
   ],
   "source": [
    "# take a year from user\n",
    "year = int(input(\"Enter a year: \"))\n",
    "if (year % 4 == 0 and year % 100 != 0) or (year % 400 == 0):\n",
    "   print(year, \"is a leap year.\")"
   ]
  },
  {
   "cell_type": "markdown",
   "metadata": {
    "id": "jC8euep2Jyt8"
   },
   "source": [
    "5. Create a program that checks whether a character is a vowel or a consonant."
   ]
  },
  {
   "cell_type": "code",
   "execution_count": null,
   "metadata": {
    "colab": {
     "base_uri": "https://localhost:8080/"
    },
    "id": "ETYAyXPAJ1_v",
    "outputId": "dcb75533-40b8-49bd-dc61-4063af358db9"
   },
   "outputs": [
    {
     "name": "stdout",
     "output_type": "stream",
     "text": [
      "Enter a character: I\n",
      "I is a vowel.\n"
     ]
    }
   ],
   "source": [
    "# take a character from user\n",
    "char = input(\"Enter a character: \")\n",
    "if char.lower() in 'aeiou':\n",
    "   print(char, \"is a vowel.\")\n",
    "else:\n",
    "   print(char, \"is a consonant.\")"
   ]
  },
  {
   "cell_type": "markdown",
   "metadata": {
    "id": "RtBnl2pmKA10"
   },
   "source": [
    "6. Implement a program to determine whether a given number is even or odd."
   ]
  },
  {
   "cell_type": "code",
   "execution_count": null,
   "metadata": {
    "colab": {
     "base_uri": "https://localhost:8080/"
    },
    "id": "lv_itawtKEWK",
    "outputId": "95880064-0330-4f45-b3e6-9e3a04ef4291"
   },
   "outputs": [
    {
     "name": "stdout",
     "output_type": "stream",
     "text": [
      "Enter a number: 55\n",
      "55 is odd.\n"
     ]
    }
   ],
   "source": [
    "# Take a number from user\n",
    "num = int(input(\"Enter a number: \"))\n",
    "if num % 2 == 0:\n",
    "   print(num, \"is even.\")\n",
    "else:\n",
    "   print(num, \"is odd.\")"
   ]
  },
  {
   "cell_type": "markdown",
   "metadata": {
    "id": "eSzm9aciKLhD"
   },
   "source": [
    "7. Write a Python function to calculate the absolute value of a number without using the `abs()` function."
   ]
  },
  {
   "cell_type": "code",
   "execution_count": null,
   "metadata": {
    "colab": {
     "base_uri": "https://localhost:8080/"
    },
    "id": "Wd9yk5A9KOHu",
    "outputId": "eaa284b3-f430-4355-d88b-153f745c991c"
   },
   "outputs": [
    {
     "name": "stdout",
     "output_type": "stream",
     "text": [
      "Enter a number: 8\n",
      "The absolute value of 8.0 is 8.0\n"
     ]
    }
   ],
   "source": [
    "# take a number from user\n",
    "num = float(input(\"Enter a number: \"))\n",
    "if num < 0:\n",
    "   abs_num = -num\n",
    "else:\n",
    "   abs_num = num\n",
    "print(\"The absolute value of\", num, \"is\", abs_num)"
   ]
  },
  {
   "cell_type": "markdown",
   "metadata": {
    "id": "L2dGyzenKa24"
   },
   "source": [
    "8. Develop a program that determines the largest of three given numbers using if-else statements."
   ]
  },
  {
   "cell_type": "code",
   "execution_count": null,
   "metadata": {
    "colab": {
     "base_uri": "https://localhost:8080/"
    },
    "id": "-AVqqt5vKd7V",
    "outputId": "8092bf44-5cfd-47e8-cb6f-365274c6f727"
   },
   "outputs": [
    {
     "name": "stdout",
     "output_type": "stream",
     "text": [
      "Enter first number: 6\n",
      "Enter second number: 8\n",
      "Enter third number: 4\n",
      "The largest number is 8.0\n"
     ]
    }
   ],
   "source": [
    "# take a number from user\n",
    "num1 = float(input(\"Enter first number: \"))\n",
    "num2 = float(input(\"Enter second number: \"))\n",
    "num3 = float(input(\"Enter third number: \"))\n",
    "if num1 >= num2 and num1 >= num3:\n",
    "   largest = num1\n",
    "elif num2 >= num1 and num2 >= num3:\n",
    "   largest = num2\n",
    "else:\n",
    "   largest = num3\n",
    "print(\"The largest number is\", largest)\n"
   ]
  },
  {
   "cell_type": "markdown",
   "metadata": {
    "id": "ELu1teWmKx5d"
   },
   "source": [
    "9. Create a program that checks if a given string is a palindrome."
   ]
  },
  {
   "cell_type": "code",
   "execution_count": null,
   "metadata": {
    "colab": {
     "base_uri": "https://localhost:8080/"
    },
    "id": "Bg_SOai3K0ta",
    "outputId": "3f5711f1-2211-4552-a012-a164b9a331a1"
   },
   "outputs": [
    {
     "name": "stdout",
     "output_type": "stream",
     "text": [
      "Enter a string: nitin\n",
      "nitin is a palindrome.\n"
     ]
    }
   ],
   "source": [
    "# take a string from user\n",
    "string = input(\"Enter a string: \")\n",
    "if string == string[::-1]:\n",
    "   print(string, \"is a palindrome.\")\n",
    "else:\n",
    "   print(string, \"is not a palindrome.\")"
   ]
  },
  {
   "cell_type": "markdown",
   "metadata": {
    "id": "P1pLBLtmK_mb"
   },
   "source": [
    "10. Write a Python program to calculate the grade based on a student's score."
   ]
  },
  {
   "cell_type": "code",
   "execution_count": null,
   "metadata": {
    "colab": {
     "base_uri": "https://localhost:8080/"
    },
    "id": "zG2RojFELC2E",
    "outputId": "9c437333-c2d4-4290-d8d0-09229d7da3ba"
   },
   "outputs": [
    {
     "name": "stdout",
     "output_type": "stream",
     "text": [
      "Enter the student's score: 78\n",
      "The student's grade is C\n"
     ]
    }
   ],
   "source": [
    "# take a score from user\n",
    "score = float(input(\"Enter the student's score: \"))\n",
    "if score >= 90:\n",
    "   grade = 'A'\n",
    "elif score >= 80:\n",
    "   grade = 'B'\n",
    "elif score >= 70:\n",
    "   grade = 'C'\n",
    "elif score >= 60:\n",
    "   grade = 'D'\n",
    "else:\n",
    "   grade = 'F'\n",
    "\n",
    "print(\"The student's grade is\", grade)"
   ]
  },
  {
   "cell_type": "markdown",
   "metadata": {
    "id": "Q2weL-TvLjEa"
   },
   "source": [
    "**Nested If-Else Statements:**"
   ]
  },
  {
   "cell_type": "markdown",
   "metadata": {
    "id": "6h9G1G4kLnBD"
   },
   "source": [
    "11. Write a program to find the largest among three numbers using nested if-else statements."
   ]
  },
  {
   "cell_type": "code",
   "execution_count": null,
   "metadata": {
    "colab": {
     "base_uri": "https://localhost:8080/"
    },
    "id": "9_VSutl_LqCn",
    "outputId": "1864cc23-82c6-4eef-a49e-66f4019e4dd4"
   },
   "outputs": [
    {
     "name": "stdout",
     "output_type": "stream",
     "text": [
      "Enter first number: 7\n",
      "Enter second number: 3\n",
      "Enter third number: 9\n",
      "The largest number is 9.0\n"
     ]
    }
   ],
   "source": [
    "# take a number from user\n",
    "num1 = float(input(\"Enter first number: \"))\n",
    "num2 = float(input(\"Enter second number: \"))\n",
    "num3 = float(input(\"Enter third number: \"))\n",
    "if num1 >= num2:\n",
    "   if num1 >= num3:\n",
    "      largest = num1\n",
    "   else:\n",
    "      largest = num3\n",
    "else:\n",
    "   if num2 >= num3:\n",
    "      largest = num2\n",
    "   else:\n",
    "      largest = num\n",
    "\n",
    "print(\"The largest number is\", largest)"
   ]
  },
  {
   "cell_type": "markdown",
   "metadata": {
    "id": "XVAeirqXL29u"
   },
   "source": [
    "12. Implement a program to determine if a triangle is equilateral, isosceles, or scalene."
   ]
  },
  {
   "cell_type": "code",
   "execution_count": null,
   "metadata": {
    "colab": {
     "base_uri": "https://localhost:8080/"
    },
    "id": "kAwGorqdL6YY",
    "outputId": "b5104d62-0227-4d8a-bfe2-6c5c62c84dee"
   },
   "outputs": [
    {
     "name": "stdout",
     "output_type": "stream",
     "text": [
      "Enter the length of the first side: 8\n",
      "Enter the length of the second side: 6\n",
      "Enter the length of the third side: 9\n",
      "The triangle is scalene.\n"
     ]
    }
   ],
   "source": [
    "# take a side from user\n",
    "side1 = float(input(\"Enter the length of the first side: \"))\n",
    "side2 = float(input(\"Enter the length of the second side: \"))\n",
    "side3 = float(input(\"Enter the length of the third side: \"))\n",
    "if side1 == side2 == side3:\n",
    "   print(\"The triangle is equilateral.\")\n",
    "elif side1 == side2 or side1 == side3 or side2 == side3:\n",
    "   print(\"The triangle is isosceles.\")\n",
    "else:\n",
    "   print(\"The triangle is scalene.\")"
   ]
  },
  {
   "cell_type": "markdown",
   "metadata": {
    "id": "aVssZ_8UMKeY"
   },
   "source": [
    "13. Develop a program that checks if a year is a leap year and also if it is a century year."
   ]
  },
  {
   "cell_type": "code",
   "execution_count": null,
   "metadata": {
    "colab": {
     "base_uri": "https://localhost:8080/"
    },
    "id": "t2z4-tAmMSIM",
    "outputId": "5ffc2f7b-179e-4962-e3fd-eeadef3b7e0b"
   },
   "outputs": [
    {
     "name": "stdout",
     "output_type": "stream",
     "text": [
      "Enter a year: 2000\n",
      "2000 is a leap year and a century year.\n"
     ]
    }
   ],
   "source": [
    "# take a year from user\n",
    "year = int(input(\"Enter a year: \"))\n",
    "if year % 4 == 0:\n",
    "   if year % 100 == 0:\n",
    "      if year % 400 == 0:\n",
    "         print(year, \"is a leap year and a century year.\")"
   ]
  },
  {
   "cell_type": "markdown",
   "metadata": {
    "id": "o7OWBtkaMjiz"
   },
   "source": [
    "14. Write a Python script to determine if a number is positive, negative, or zero."
   ]
  },
  {
   "cell_type": "code",
   "execution_count": null,
   "metadata": {
    "colab": {
     "base_uri": "https://localhost:8080/"
    },
    "id": "Uz9e0u9vMmpl",
    "outputId": "32e4a315-1810-4491-e6cc-72d240e17901"
   },
   "outputs": [
    {
     "name": "stdout",
     "output_type": "stream",
     "text": [
      "Enter a number: 0\n",
      "The number is zero.\n"
     ]
    }
   ],
   "source": [
    "# take a number from user\n",
    "num = float(input(\"Enter a number: \"))\n",
    "if num > 0:\n",
    "   print(\"The number is positive.\")\n",
    "elif num < 0:\n",
    "   print(\"The number is negative.\")\n",
    "else:\n",
    "   print(\"The number is zero.\")"
   ]
  },
  {
   "cell_type": "markdown",
   "metadata": {
    "id": "7PajiVyDMyFC"
   },
   "source": [
    "15. Create a program to check if a person is a teenager (between 13 and 19 years old)."
   ]
  },
  {
   "cell_type": "code",
   "execution_count": null,
   "metadata": {
    "colab": {
     "base_uri": "https://localhost:8080/"
    },
    "id": "myY3O48nM1Ek",
    "outputId": "30ba8761-45b4-408a-c5d5-78bdfee29f36"
   },
   "outputs": [
    {
     "name": "stdout",
     "output_type": "stream",
     "text": [
      "Enter your age: 17\n",
      "You are a teenager.\n"
     ]
    }
   ],
   "source": [
    "# take a age from user\n",
    "age = int(input(\"Enter your age: \"))\n",
    "if age >= 13 and age <= 19:\n",
    "   print(\"You are a teenager.\")\n",
    "else:\n",
    "   print(\"You are not a teenager.\")"
   ]
  },
  {
   "cell_type": "markdown",
   "metadata": {
    "id": "U4oOZXstM-YB"
   },
   "source": [
    "16. Develop a program that determines the type of angle based on its measure (acute, obtuse, or right)."
   ]
  },
  {
   "cell_type": "code",
   "execution_count": null,
   "metadata": {
    "colab": {
     "base_uri": "https://localhost:8080/"
    },
    "id": "kzGOrCh3NB3l",
    "outputId": "37edbb0f-f421-40d0-8252-20ff5770b550"
   },
   "outputs": [
    {
     "name": "stdout",
     "output_type": "stream",
     "text": [
      "Enter the angle measure in degrees: 180\n",
      "The angle is obtuse.\n"
     ]
    }
   ],
   "source": [
    "# take a angle from user\n",
    "angle = float(input(\"Enter the angle measure in degrees: \"))\n",
    "if angle < 90:\n",
    "   print(\"The angle is acute.\")\n",
    "elif angle == 90:\n",
    "   print(\"The angle is right.\")\n",
    "else:\n",
    "   print(\"The angle is obtuse.\")"
   ]
  },
  {
   "cell_type": "markdown",
   "metadata": {
    "id": "I89crMufNPM4"
   },
   "source": [
    "17. Write a Python program to calculate the roots of a quadratic equation."
   ]
  },
  {
   "cell_type": "code",
   "execution_count": null,
   "metadata": {
    "colab": {
     "base_uri": "https://localhost:8080/"
    },
    "id": "qCifdTPsNR58",
    "outputId": "0aacee4c-9724-42c7-9220-45896f5319a4"
   },
   "outputs": [
    {
     "name": "stdout",
     "output_type": "stream",
     "text": [
      "Enter the coefficient of x^2: 2\n",
      "Enter the coefficient of x: 8\n",
      "Enter the constant term: 2\n",
      "The roots are real and distinct.\n",
      "Root 1: (-0.2679491924311228+0j)\n",
      "Root 2: (-3.732050807568877+0j)\n"
     ]
    }
   ],
   "source": [
    "# take a quadratic equation from\n",
    "import cmath\n",
    "a = float(input(\"Enter the coefficient of x^2: \"))\n",
    "b = float(input(\"Enter the coefficient of x: \"))\n",
    "c = float(input(\"Enter the constant term: \"))\n",
    "discriminant = (b**2) - (4*a*c)\n",
    "if discriminant > 0:\n",
    "   root1 = (-b + cmath.sqrt(discriminant)) / (2*a)\n",
    "   root2 = (-b - cmath.sqrt(discriminant)) / (2*a)\n",
    "   print(\"The roots are real and distinct.\")\n",
    "   print(\"Root 1:\", root1)\n",
    "   print(\"Root 2:\", root2)\n"
   ]
  },
  {
   "cell_type": "markdown",
   "metadata": {
    "id": "CpYw32EQOmGZ"
   },
   "source": [
    "18. Implement a program to determine the day of the week based on a user-provided number (1 for Monday, 2\n",
    "for Tuesday, etc.)."
   ]
  },
  {
   "cell_type": "code",
   "execution_count": null,
   "metadata": {
    "colab": {
     "base_uri": "https://localhost:8080/"
    },
    "id": "m2nCdPwaOpZE",
    "outputId": "79c07150-18d3-45f7-a2a8-a24100d0680e"
   },
   "outputs": [
    {
     "name": "stdout",
     "output_type": "stream",
     "text": [
      "Enter a number (1 for Monday, 2 for Tuesday, etc.): 4\n",
      "The day is Thursday\n"
     ]
    }
   ],
   "source": [
    "# take a number from user\n",
    "day_number = int(input(\"Enter a number (1 for Monday, 2 for Tuesday, etc.): \"))\n",
    "if day_number == 1:\n",
    "   day = \"Monday\"\n",
    "   print(\"The day is\", day)\n",
    "elif day_number== 2:\n",
    "   day = \"Tuesday\"\n",
    "   print(\"The day is\", day)\n",
    "elif day_number == 3:\n",
    "   day = \"Wednesday\"\n",
    "   print(\"The day is\", day)\n",
    "elif day_number == 4:\n",
    "   day = \"Thursday\"\n",
    "   print(\"The day is\", day)\n",
    "elif day_number == 5:\n",
    "   day = \"Friday\"\n",
    "   print(\"The day is\", day)\n",
    "elif day_number == 6:\n",
    "   day = \"Saturday\"\n",
    "   print(\"The day is\", day)\n",
    "else:\n",
    "   day = \"Sunday\"\n",
    "   print(\"The day is\", day)\n",
    "\n"
   ]
  },
  {
   "cell_type": "markdown",
   "metadata": {
    "id": "BjGhLcmfPiMz"
   },
   "source": [
    "19. Create a program that determines if a year is a leap year and also if it is evenly divisible by 400."
   ]
  },
  {
   "cell_type": "code",
   "execution_count": null,
   "metadata": {
    "colab": {
     "base_uri": "https://localhost:8080/"
    },
    "id": "5OIZosxJPlci",
    "outputId": "2920ab80-3e07-4f0b-832d-141cdcdaf69b"
   },
   "outputs": [
    {
     "name": "stdout",
     "output_type": "stream",
     "text": [
      "Enter a year: 2000\n",
      "2000 is a leap year and evenly divisible by 400.\n"
     ]
    }
   ],
   "source": [
    "# take a year from user\n",
    "year = int(input(\"Enter a year: \"))\n",
    "if year % 4 == 0:\n",
    "   if year % 100 == 0:\n",
    "      if year % 400 == 0:\n",
    "         print(year, \"is a leap year and evenly divisible by 400.\")"
   ]
  },
  {
   "cell_type": "markdown",
   "metadata": {
    "id": "TGuSbeSZPzV2"
   },
   "source": [
    "20. Develop a program that checks if a given number is prime or not using nested if-else statements."
   ]
  },
  {
   "cell_type": "code",
   "execution_count": null,
   "metadata": {
    "colab": {
     "base_uri": "https://localhost:8080/"
    },
    "id": "wm5t4ksnP3Pm",
    "outputId": "7501b04a-b034-444c-d0b5-efae3a0a57cf"
   },
   "outputs": [
    {
     "name": "stdout",
     "output_type": "stream",
     "text": [
      "Enter a number: 3\n",
      "3 is a prime number\n"
     ]
    }
   ],
   "source": [
    "# take a number from user\n",
    "num=int(input(\"Enter a number: \"))\n",
    "if num>1:\n",
    "    for i in range(2,int(num/2)+1):\n",
    "        if (num%i)==0:\n",
    "            print(num,\"is not a prime number\")\n",
    "            break\n",
    "    else:\n",
    "        print(num,\"is a prime number\")"
   ]
  },
  {
   "cell_type": "markdown",
   "metadata": {
    "id": "gRnuIr4LQNgX"
   },
   "source": [
    "**Elif Statements:**"
   ]
  },
  {
   "cell_type": "markdown",
   "metadata": {
    "id": "pSWu3ApAQR_0"
   },
   "source": [
    "21. Write a Python program to assign grades based on different ranges of scores using elif statements."
   ]
  },
  {
   "cell_type": "code",
   "execution_count": null,
   "metadata": {
    "colab": {
     "base_uri": "https://localhost:8080/"
    },
    "id": "sdL_f7KvQVdV",
    "outputId": "564ebc54-7a95-4078-ec11-70414ce5f451"
   },
   "outputs": [
    {
     "name": "stdout",
     "output_type": "stream",
     "text": [
      "Enter the score: 67\n",
      "The grade is D\n"
     ]
    }
   ],
   "source": [
    "# take a score from user\n",
    "score=int(input(\"Enter the score: \"))\n",
    "if score>=90:\n",
    "    grade='A'\n",
    "elif score>=80:\n",
    "    grade='B'\n",
    "elif score>=70:\n",
    "    grade='C'\n",
    "elif score>=60:\n",
    "    grade='D'\n",
    "else:\n",
    "    grade='F'\n",
    "print(\"The grade is\",grade)"
   ]
  },
  {
   "cell_type": "markdown",
   "metadata": {
    "id": "8lMpQTThQkr4"
   },
   "source": [
    "22. Implement a program to determine the type of a triangle based on its angles."
   ]
  },
  {
   "cell_type": "code",
   "execution_count": null,
   "metadata": {
    "colab": {
     "base_uri": "https://localhost:8080/"
    },
    "id": "4SQB2AVuQpq9",
    "outputId": "200e257c-cf98-4e97-a2e2-f0bf6605bccd"
   },
   "outputs": [
    {
     "name": "stdout",
     "output_type": "stream",
     "text": [
      "Enter the angle: 120\n",
      "The triangle is obtuse angled triangle\n"
     ]
    }
   ],
   "source": [
    "# take a angle from user\n",
    "angle=int(input(\"Enter the angle: \"))\n",
    "if angle==90:\n",
    "    print(\"The triangle is right angled triangle\")\n",
    "elif angle>90:\n",
    "    print(\"The triangle is obtuse angled triangle\")\n",
    "else:\n",
    "    print(\"The triangle is acute angled triangle\")"
   ]
  },
  {
   "cell_type": "markdown",
   "metadata": {
    "id": "mhXCT-adREIu"
   },
   "source": [
    "  23. Develop a program to categorize a given person's BMI into underweight, normal, overweight, or obese using\n",
    "elif statements."
   ]
  },
  {
   "cell_type": "code",
   "execution_count": null,
   "metadata": {
    "colab": {
     "base_uri": "https://localhost:8080/"
    },
    "id": "zdi9iQ4LRIF5",
    "outputId": "8d71de6e-4ef1-45bf-e256-959973dbd3f4"
   },
   "outputs": [
    {
     "name": "stdout",
     "output_type": "stream",
     "text": [
      "Enter the weight in kg: 60\n",
      "Enter the height in meter: 1.6\n",
      "the person is normal\n"
     ]
    }
   ],
   "source": [
    "# take a BMI from user\n",
    "weight=float(input(\"Enter the weight in kg: \"))\n",
    "height=float(input(\"Enter the height in meter: \"))\n",
    "bmi=weight/(height**2)\n",
    "if bmi<18.5:\n",
    "    print(\"the person is underweight\")\n",
    "elif bmi>=18.5 and bmi<=24.9:\n",
    "    print(\"the person is normal\")\n",
    "elif bmi>=25 and bmi<=29.9:\n",
    "    print(\"the person is overweight\")\n",
    "else:\n",
    "    print(\"the person is obese\")"
   ]
  },
  {
   "cell_type": "markdown",
   "metadata": {
    "id": "qu4UmasqRfTn"
   },
   "source": [
    "24. Create a program that determines whether a given number is positive, negative, or zero using elif\n",
    "statements."
   ]
  },
  {
   "cell_type": "code",
   "execution_count": null,
   "metadata": {
    "colab": {
     "base_uri": "https://localhost:8080/"
    },
    "id": "9Snx5FMDRinj",
    "outputId": "dc5a580f-06a0-42e2-de2d-590b80a7fdae"
   },
   "outputs": [
    {
     "name": "stdout",
     "output_type": "stream",
     "text": [
      "Enter the number: 0\n",
      "the number is zero\n"
     ]
    }
   ],
   "source": [
    "# take a number from user\n",
    "num=int(input(\"Enter the number: \"))\n",
    "if num>0:\n",
    "    print(\"the number is positive\")\n",
    "elif num<0:\n",
    "    print(\"the number is negative\")\n",
    "else:\n",
    "    print(\"the number is zero\")"
   ]
  },
  {
   "cell_type": "markdown",
   "metadata": {
    "id": "OCM4KgSiRqmE"
   },
   "source": [
    "25. Write a Python script to determine the type of a character (uppercase, lowercase, or special) using elif\n",
    "statements."
   ]
  },
  {
   "cell_type": "code",
   "execution_count": null,
   "metadata": {
    "colab": {
     "base_uri": "https://localhost:8080/"
    },
    "id": "XsHH5upvRuFz",
    "outputId": "7cb7cc06-7d19-48f0-d300-03d43c403f18"
   },
   "outputs": [
    {
     "name": "stdout",
     "output_type": "stream",
     "text": [
      "Enter the character: suraj\n",
      "the character is lowercase\n"
     ]
    }
   ],
   "source": [
    "# take a character from user\n",
    "char=input(\"Enter the character: \")\n",
    "if char.isupper():\n",
    "    print(\"the character is uppercase\")\n",
    "elif char.islower():\n",
    "    print(\"the character is lowercase\")\n",
    "else:\n",
    "    print(\"the character is special\")\n"
   ]
  },
  {
   "cell_type": "markdown",
   "metadata": {
    "id": "XQYKmlH0R2Wm"
   },
   "source": [
    "26. Implement a program to calculate the discounted price based on different purchase amounts using elif\n",
    "statements."
   ]
  },
  {
   "cell_type": "code",
   "execution_count": null,
   "metadata": {
    "colab": {
     "base_uri": "https://localhost:8080/"
    },
    "id": "QIVnkQypR57X",
    "outputId": "46a8791b-6666-4902-9df2-598ea027ec1a"
   },
   "outputs": [
    {
     "name": "stdout",
     "output_type": "stream",
     "text": [
      "Enter the price: 2000\n",
      "the discounted price is 1800.0\n"
     ]
    }
   ],
   "source": [
    "# take a price from user\n",
    "price=int(input(\"Enter the price: \"))\n",
    "if price>=1000:\n",
    "    discount=price*0.1\n",
    "    discounted_price=price-discount\n",
    "    print(\"the discounted price is\",discounted_price)\n",
    "\n",
    "elif price>=500:\n",
    "    discount=price*0.05\n",
    "    discounted_price=price-discount\n",
    "    print(\"the discounted price is\",discounted_price)"
   ]
  },
  {
   "cell_type": "markdown",
   "metadata": {
    "id": "ukhWqmBoSIUp"
   },
   "source": [
    "27. Develop a program to calculate the electricity bill based on different consumption slabs using elif\n",
    "statements."
   ]
  },
  {
   "cell_type": "code",
   "execution_count": null,
   "metadata": {
    "colab": {
     "base_uri": "https://localhost:8080/"
    },
    "id": "6CZoCaaySM_q",
    "outputId": "cb848a52-9d4f-4f0a-d064-d155f30c09a2"
   },
   "outputs": [
    {
     "name": "stdout",
     "output_type": "stream",
     "text": [
      "Enter the unit: 20\n",
      "the electricity bill is 69.0\n"
     ]
    }
   ],
   "source": [
    "# take a unit from user\n",
    "unit=int(input(\"Enter the unit: \"))\n",
    "if unit<=100:\n",
    "    bill=unit*3.45\n",
    "    print(\"the electricity bill is\",bill)\n"
   ]
  },
  {
   "cell_type": "markdown",
   "metadata": {
    "id": "oqRU9Hi0SYmY"
   },
   "source": [
    "28. Create a program to determine the type of quadrilateral based on its angles and sides using elif\n",
    "statements."
   ]
  },
  {
   "cell_type": "code",
   "execution_count": null,
   "metadata": {
    "colab": {
     "base_uri": "https://localhost:8080/"
    },
    "id": "W8ci6jBWSdVX",
    "outputId": "80de485c-b733-47b9-da2d-228644c15825"
   },
   "outputs": [
    {
     "name": "stdout",
     "output_type": "stream",
     "text": [
      "Enter the angle: 70\n",
      "the quadrilateral is acute angled quadrilateral\n"
     ]
    }
   ],
   "source": [
    "# take a angle from user\n",
    "angle=int(input(\"Enter the angle: \"))\n",
    "if angle==90:\n",
    "    print(\"the quadrilateral is right angled quadrilateral\")\n",
    "elif angle>90:\n",
    "    print(\"the quadrilateral is obtuse angled quadrilateral\")\n",
    "else:\n",
    "    print(\"the quadrilateral is acute angled quadrilateral\")"
   ]
  },
  {
   "cell_type": "markdown",
   "metadata": {
    "id": "J_sTz8ylSphE"
   },
   "source": [
    "29. Write a Python script to determine the season based on a user-provided month using elif statements."
   ]
  },
  {
   "cell_type": "code",
   "execution_count": null,
   "metadata": {
    "colab": {
     "base_uri": "https://localhost:8080/"
    },
    "id": "6HETV_YqStgo",
    "outputId": "2e34adf8-8e2f-48a6-b1b6-2eb0174774d9"
   },
   "outputs": [
    {
     "name": "stdout",
     "output_type": "stream",
     "text": [
      "Enter the month: 4\n",
      "the season is spring\n"
     ]
    }
   ],
   "source": [
    "# take a month from User\n",
    "month=int(input(\"Enter the month: \"))\n",
    "if month==12 or month==1 or month==2:\n",
    "    print(\"the season is winter\")\n",
    "elif month==3 or month==4 or month==5:\n",
    "    print(\"the season is spring\")\n",
    "elif month==6 or month==7 or month==8:\n",
    "    print(\"the season is summer\")\n",
    "else:\n",
    "    print(\"the season is autumn\")"
   ]
  },
  {
   "cell_type": "markdown",
   "metadata": {
    "id": "ZZ6ANt4eTGTs"
   },
   "source": [
    "30. Implement a program to determine the type of a year (leap or common) and month (30 or 31 days) using\n",
    "elif statements."
   ]
  },
  {
   "cell_type": "code",
   "execution_count": null,
   "metadata": {
    "colab": {
     "base_uri": "https://localhost:8080/"
    },
    "id": "pXkDszCfTKnq",
    "outputId": "7db5320f-7fad-46ed-98f4-f99cfa237fb8"
   },
   "outputs": [
    {
     "name": "stdout",
     "output_type": "stream",
     "text": [
      "Enter a year: 2020\n",
      "Enter a month (1-12): 3\n",
      "Year: 2020 (Leap year)\n",
      "Month: 3 has 31 days\n"
     ]
    }
   ],
   "source": [
    "# take a year from user\n",
    "year = int(input(\"Enter a year: \"))\n",
    "month = int(input(\"Enter a month (1-12): \"))\n",
    "\n",
    "# Determine if the year is a leap year\n",
    "if year % 400 == 0:\n",
    "    year_type = \"Leap year\"\n",
    "elif year % 100 == 0:\n",
    "    year_type = \"Common year\"\n",
    "elif year % 4 == 0:\n",
    "    year_type = \"Leap year\"\n",
    "else:\n",
    "    year_type = \"Common year\"\n",
    "\n",
    "# Determine the number of days in the month\n",
    "if month in [1, 3, 5, 7, 8, 10, 12]:\n",
    "    days_in_month = 31\n",
    "elif month in [4, 6, 9, 11]:\n",
    "    days_in_month = 30\n",
    "elif month == 2:\n",
    "    if year_type == \"Leap year\":\n",
    "        days_in_month = 29\n",
    "    else:\n",
    "        days_in_month = 28\n",
    "else:\n",
    "    days_in_month = \"Invalid month\"\n",
    "\n",
    "# Output the results\n",
    "print(f\"Year: {year} ({year_type})\")\n",
    "print(f\"Month: {month} has {days_in_month} days\")\n",
    "\n"
   ]
  },
  {
   "cell_type": "markdown",
   "metadata": {
    "id": "74JDc3ESUJZs"
   },
   "source": [
    "**Basic Level:**"
   ]
  },
  {
   "cell_type": "markdown",
   "metadata": {
    "id": "2RovkkB8Ua1w"
   },
   "source": [
    "1. Write a Python program that checks if a given number is positive, negative, or zero."
   ]
  },
  {
   "cell_type": "code",
   "execution_count": null,
   "metadata": {
    "colab": {
     "base_uri": "https://localhost:8080/"
    },
    "id": "nimPq6WEUfYT",
    "outputId": "6d2cb295-c388-4bbd-e0fe-4478be78d4bc"
   },
   "outputs": [
    {
     "name": "stdout",
     "output_type": "stream",
     "text": [
      "Enter the number: 1\n",
      "the number is positive\n"
     ]
    }
   ],
   "source": [
    "# take a number from user\n",
    "num=int(input(\"Enter the number: \"))\n",
    "if num>0:\n",
    "    print(\"the number is positive\")\n",
    "elif num<0:\n",
    "    print(\"the number is negative\")\n",
    "else:\n",
    "    print(\"the number is zero\")"
   ]
  },
  {
   "cell_type": "markdown",
   "metadata": {
    "id": "PW3KAGmQm7z6"
   },
   "source": [
    "2. Create a program to determine if a person is eligible to vote based on their age."
   ]
  },
  {
   "cell_type": "code",
   "execution_count": null,
   "metadata": {
    "colab": {
     "base_uri": "https://localhost:8080/"
    },
    "id": "BtC3tN2Zm_9T",
    "outputId": "cb5261b8-7075-4c26-833a-754c0ed24561"
   },
   "outputs": [
    {
     "name": "stdout",
     "output_type": "stream",
     "text": [
      "Enter the age: 14\n",
      "the person is not eligible to vote\n"
     ]
    }
   ],
   "source": [
    "# take a age from user\n",
    "age=int(input(\"Enter the age: \"))\n",
    "if age>=18:\n",
    "    print(\"the person is eligible to vote\")\n",
    "else:\n",
    "    print(\"the person is not eligible to vote\")"
   ]
  },
  {
   "cell_type": "markdown",
   "metadata": {
    "id": "hdxBaY11GEhT"
   },
   "source": [
    "3. Write a program to find the maximum of two given numbers using conditional statements."
   ]
  },
  {
   "cell_type": "code",
   "execution_count": null,
   "metadata": {
    "colab": {
     "base_uri": "https://localhost:8080/"
    },
    "id": "P3k8dFIeGFYh",
    "outputId": "abdb9963-2136-4e7d-b1e0-4bebf20d915f"
   },
   "outputs": [
    {
     "name": "stdout",
     "output_type": "stream",
     "text": [
      "Enter the number: 10\n",
      "Enter the number: 0\n",
      "the maximum of two given numbers is 10\n"
     ]
    }
   ],
   "source": [
    "# take a number from user\n",
    "num1=int(input(\"Enter the number: \"))\n",
    "num2=int(input(\"Enter the number: \"))\n",
    "if num1>num2:\n",
    "    print(\"the maximum of two given numbers is\",num1)\n",
    "else:\n",
    "    print(\"the maximum of two given numbers is\",num2)"
   ]
  },
  {
   "cell_type": "markdown",
   "metadata": {
    "id": "nkJ4Q0PQGOdr"
   },
   "source": [
    "4. Develop a program that calculates the grade of a student based on their exam score."
   ]
  },
  {
   "cell_type": "code",
   "execution_count": null,
   "metadata": {
    "colab": {
     "base_uri": "https://localhost:8080/"
    },
    "id": "uPImxIIJGRmm",
    "outputId": "d6d9594f-92f9-4c63-d982-8307510a0dee"
   },
   "outputs": [
    {
     "name": "stdout",
     "output_type": "stream",
     "text": [
      "Enter the score87\n",
      "student id score B\n"
     ]
    }
   ],
   "source": [
    "# Take a score from user\n",
    "score=int(input(\"Enter the score\"))\n",
    "if score>=90:\n",
    "    grade='A'\n",
    "elif score>=80:\n",
    "    grade='B'\n",
    "elif score>=70:\n",
    "    grade='C'\n",
    "elif score>=60:\n",
    "    grade='D'\n",
    "else:\n",
    "    grade='F'\n",
    "print(\"student id score\", grade)"
   ]
  },
  {
   "cell_type": "markdown",
   "metadata": {
    "id": "MzVekslqGnli"
   },
   "source": [
    "5. Create a program that checks if a year is a leap year or not."
   ]
  },
  {
   "cell_type": "code",
   "execution_count": null,
   "metadata": {
    "colab": {
     "base_uri": "https://localhost:8080/"
    },
    "id": "YQicMh4yGscz",
    "outputId": "4b60ce94-7c9e-4cfb-df06-9471108fbb15"
   },
   "outputs": [
    {
     "name": "stdout",
     "output_type": "stream",
     "text": [
      "Enter the year: 2024\n",
      "the year is leap year\n"
     ]
    }
   ],
   "source": [
    "# take a year from user\n",
    "year=int(input(\"Enter the year: \"))\n",
    "if year%4==0:\n",
    "    print(\"the year is leap year\")\n",
    "else:\n",
    "    print(\"the year is not leap year\")"
   ]
  },
  {
   "cell_type": "markdown",
   "metadata": {
    "id": "pFNbEmFMG6X0"
   },
   "source": [
    "6. Write a program to classify a triangle based on its sides' lengths."
   ]
  },
  {
   "cell_type": "code",
   "execution_count": null,
   "metadata": {
    "colab": {
     "base_uri": "https://localhost:8080/"
    },
    "id": "rLBDxmDJG-BR",
    "outputId": "b000d64e-2008-4817-d9f1-507e47490c7c"
   },
   "outputs": [
    {
     "name": "stdout",
     "output_type": "stream",
     "text": [
      "Enter the side: 2\n",
      "the triangle is isosceles triangle\n"
     ]
    }
   ],
   "source": [
    "# take a side from user\n",
    "side=int(input(\"Enter the side: \"))\n",
    "if side==3:\n",
    "    print(\"the triangle is equilateral triangle\")\n",
    "elif side==2:\n",
    "    print(\"the triangle is isosceles triangle\")"
   ]
  },
  {
   "cell_type": "markdown",
   "metadata": {
    "id": "spkjqbdQHSUN"
   },
   "source": [
    "7. Build a program that determines the largest of three given numbers."
   ]
  },
  {
   "cell_type": "code",
   "execution_count": null,
   "metadata": {
    "colab": {
     "base_uri": "https://localhost:8080/"
    },
    "id": "qWfB75tuHU2P",
    "outputId": "7b3d99da-2dcf-48ef-8825-323690d99bdc"
   },
   "outputs": [
    {
     "name": "stdout",
     "output_type": "stream",
     "text": [
      "Enter the number: 10 \n",
      "Enter the number: 20\n",
      "Enter the number: 30\n",
      "the largest of three given numbers is 30\n"
     ]
    }
   ],
   "source": [
    "# take a number from user\n",
    "num1=int(input(\"Enter the number: \"))\n",
    "num2=int(input(\"Enter the number: \"))\n",
    "num3=int(input(\"Enter the number: \"))\n",
    "if num1>num2 and num1>num3:\n",
    "    print(\"the largest of three given numbers is\",num1)\n",
    "elif num2>num1 and num2>num3:\n",
    "    print(\"the largest of three given numbers is\",num2)\n",
    "else:\n",
    "    print(\"the largest of three given numbers is\",num3)"
   ]
  },
  {
   "cell_type": "markdown",
   "metadata": {
    "id": "18ujczY5Hh9s"
   },
   "source": [
    "8. Develop a program that checks whether a character is a vowel or a consonant."
   ]
  },
  {
   "cell_type": "code",
   "execution_count": null,
   "metadata": {
    "colab": {
     "base_uri": "https://localhost:8080/"
    },
    "id": "yHYx5hsHHlin",
    "outputId": "4c5058c5-0916-4fec-c3d8-1dead38c3da5"
   },
   "outputs": [
    {
     "name": "stdout",
     "output_type": "stream",
     "text": [
      "Enter the character: u\n",
      "the character is vowel\n"
     ]
    }
   ],
   "source": [
    "# take a character from user\n",
    "char=input(\"Enter the character: \")\n",
    "if char=='a' or char=='e' or char=='i' or char=='o' or char=='u':\n",
    "    print(\"the character is vowel\")\n",
    "else:\n",
    "    print(\"the character is consonant\")\n"
   ]
  },
  {
   "cell_type": "markdown",
   "metadata": {
    "id": "aP54v4ypHsdB"
   },
   "source": [
    "9. Create a program to calculate the total cost of a shopping cart based on discounts."
   ]
  },
  {
   "cell_type": "code",
   "execution_count": null,
   "metadata": {
    "colab": {
     "base_uri": "https://localhost:8080/"
    },
    "id": "gta7qty7Hu32",
    "outputId": "05fd787d-bbaf-4b24-a282-74e3ddff6aaf"
   },
   "outputs": [
    {
     "name": "stdout",
     "output_type": "stream",
     "text": [
      "Enter the total cost: 3000\n",
      "the total cost of a shopping cart is 2700.0\n"
     ]
    }
   ],
   "source": [
    "# take a total cost from user\n",
    "total_cost=int(input(\"Enter the total cost: \"))\n",
    "if total_cost>=1000:\n",
    "    discount=total_cost*0.1\n",
    "    total_cost=total_cost-discount\n",
    "    print(\"the total cost of a shopping cart is\",total_cost)\n",
    "else:\n",
    "    print(\"the total cost of a shopping cart is\",total_cost)"
   ]
  },
  {
   "cell_type": "markdown",
   "metadata": {
    "id": "ppTS8kvSIBk5"
   },
   "source": [
    "10. Write a program that checks if a given number is even or odd."
   ]
  },
  {
   "cell_type": "code",
   "execution_count": null,
   "metadata": {
    "colab": {
     "base_uri": "https://localhost:8080/"
    },
    "id": "H9jrCqdnID81",
    "outputId": "6ef08584-dba7-448d-f624-1f314999f560"
   },
   "outputs": [
    {
     "name": "stdout",
     "output_type": "stream",
     "text": [
      "Enter the number: 8\n",
      "the number is even\n"
     ]
    }
   ],
   "source": [
    "# take a number from user\n",
    "num=int(input(\"Enter the number: \"))\n",
    "if num%2==0:\n",
    "    print(\"the number is even\")\n",
    "else:\n",
    "    print(\"the number is odd\")"
   ]
  },
  {
   "cell_type": "markdown",
   "metadata": {
    "id": "6BC1VP6CILlI"
   },
   "source": [
    "**Intermediate Level:**"
   ]
  },
  {
   "cell_type": "markdown",
   "metadata": {
    "id": "oc0buPIHIOzP"
   },
   "source": [
    "11. Write a program that calculates the roots of a quadratic equation"
   ]
  },
  {
   "cell_type": "code",
   "execution_count": null,
   "metadata": {
    "colab": {
     "base_uri": "https://localhost:8080/"
    },
    "id": "Jr0gL5h8IRe1",
    "outputId": "77ec09a7-04b8-4f01-c377-27c5d5f4116b"
   },
   "outputs": [
    {
     "name": "stdout",
     "output_type": "stream",
     "text": [
      "Enter the coefficient of x^2: 2 \n",
      "Enter the coefficient of x: 8\n",
      "Enter the constant term: 2\n",
      "The roots are real and distinct.\n",
      "Root 1: (-0.2679491924311228+0j)\n",
      "Root 2: (-3.732050807568877+0j)\n"
     ]
    }
   ],
   "source": [
    "# take a quadratic equation from\n",
    "import cmath\n",
    "a = float(input(\"Enter the coefficient of x^2: \"))\n",
    "b = float(input(\"Enter the coefficient of x: \"))\n",
    "c = float(input(\"Enter the constant term: \"))\n",
    "discriminant = (b**2) - (4*a*c)\n",
    "if discriminant > 0:\n",
    "   root1 = (-b + cmath.sqrt(discriminant)) / (2*a)\n",
    "   root2 = (-b - cmath.sqrt(discriminant)) / (2*a)\n",
    "   print(\"The roots are real and distinct.\")\n",
    "   print(\"Root 1:\", root1)\n",
    "   print(\"Root 2:\", root2)\n"
   ]
  },
  {
   "cell_type": "markdown",
   "metadata": {
    "id": "_PqPaaUAIvGO"
   },
   "source": [
    "12. Create a program that determines the day of the week based on the day number (1-7)."
   ]
  },
  {
   "cell_type": "code",
   "execution_count": null,
   "metadata": {
    "colab": {
     "base_uri": "https://localhost:8080/"
    },
    "id": "HOPuE1WmIyxt",
    "outputId": "57bed93c-f670-476c-ad32-9b26924e35f2"
   },
   "outputs": [
    {
     "name": "stdout",
     "output_type": "stream",
     "text": [
      "Enter a number :6\n",
      "The day is Saturday\n"
     ]
    }
   ],
   "source": [
    "# take a number from user\n",
    "day_number = int(input(\"Enter a number :\"))\n",
    "if day_number == 1:\n",
    "   day = \"Monday\"\n",
    "   print(\"The day is\", day)\n",
    "elif day_number== 2:\n",
    "   day = \"Tuesday\"\n",
    "   print(\"The day is\", day)\n",
    "elif day_number == 3:\n",
    "   day = \"Wednesday\"\n",
    "   print(\"The day is\", day)\n",
    "elif day_number == 4:\n",
    "   day = \"Thursday\"\n",
    "   print(\"The day is\", day)\n",
    "elif day_number == 5:\n",
    "   day = \"Friday\"\n",
    "   print(\"The day is\", day)\n",
    "elif day_number == 6:\n",
    "   day = \"Saturday\"\n",
    "   print(\"The day is\", day)\n",
    "else:\n",
    "   day = \"Sunday\"\n",
    "   print(\"The day is\", day)"
   ]
  },
  {
   "cell_type": "markdown",
   "metadata": {
    "id": "EpWtEEMnJOUW"
   },
   "source": [
    "13. Develop a program that calculates the factorial of a given number using recursion."
   ]
  },
  {
   "cell_type": "code",
   "execution_count": null,
   "metadata": {
    "colab": {
     "base_uri": "https://localhost:8080/"
    },
    "id": "b8rnpBkSJSF9",
    "outputId": "7c5d89e1-0230-4cf3-82b3-57fd268a2f31"
   },
   "outputs": [
    {
     "name": "stdout",
     "output_type": "stream",
     "text": [
      "Enter the number: 4\n",
      "the factorial of a given number is 24\n"
     ]
    }
   ],
   "source": [
    "# take a number from user\n",
    "num=int(input(\"Enter the number: \"))\n",
    "fac=1\n",
    "for i in range(1,num+1):\n",
    "    fac=fac*i\n",
    "print(\"the factorial of a given number is\",fac)"
   ]
  },
  {
   "cell_type": "markdown",
   "metadata": {
    "id": "vzhEmVgbJqUw"
   },
   "source": [
    "14. Write a program to find the largest among three numbers without using the `max()` function."
   ]
  },
  {
   "cell_type": "code",
   "execution_count": null,
   "metadata": {
    "colab": {
     "base_uri": "https://localhost:8080/"
    },
    "id": "aGCPHG9aJtgY",
    "outputId": "cfcee004-c758-4648-96fd-f378e2489e4d"
   },
   "outputs": [
    {
     "name": "stdout",
     "output_type": "stream",
     "text": [
      "Enter the number: 20\n",
      "Enter the number: 10\n",
      "Enter the number: 30\n",
      "the largest of three given numbers is 30\n"
     ]
    }
   ],
   "source": [
    "# take a number from user\n",
    "num1=int(input(\"Enter the number: \"))\n",
    "num2=int(input(\"Enter the number: \"))\n",
    "num3=int(input(\"Enter the number: \"))\n",
    "if num1>num2 and num1>num3:\n",
    "    print(\"the largest of three given numbers is\",num1)\n",
    "elif num2>num1 and num2>num3:\n",
    "    print(\"the largest of three given numbers is\",num2)\n",
    "else:\n",
    "    print(\"the largest of three given numbers is\",num3)"
   ]
  },
  {
   "cell_type": "markdown",
   "metadata": {
    "id": "WsXM2LE3J8_b"
   },
   "source": [
    "15. Create a program that simulates a basic ATM transaction menu."
   ]
  },
  {
   "cell_type": "code",
   "execution_count": null,
   "metadata": {
    "colab": {
     "base_uri": "https://localhost:8080/"
    },
    "id": "0lEiBMpuKCOT",
    "outputId": "e5b9eaa2-c5ea-4915-cb6f-8754e652f5d2"
   },
   "outputs": [
    {
     "name": "stdout",
     "output_type": "stream",
     "text": [
      "Enter the balance: 1000\n",
      "1. Check Balance\n",
      "2. Deposit\n",
      "3. Withdraw\n",
      "4. Exit\n",
      "Enter the choice: 2\n",
      "Enter the deposit: 200\n",
      "the balance is 1200\n"
     ]
    }
   ],
   "source": [
    "# take a balance from user\n",
    "balance=int(input(\"Enter the balance: \"))\n",
    "print(\"1. Check Balance\")\n",
    "print(\"2. Deposit\")\n",
    "print(\"3. Withdraw\")\n",
    "print(\"4. Exit\")\n",
    "choice=int(input(\"Enter the choice: \"))\n",
    "if choice==1:\n",
    "    print(\"the balance is\",balance)\n",
    "elif choice==2:\n",
    "    deposit=int(input(\"Enter the deposit: \"))\n",
    "    balance=balance+deposit\n",
    "    print(\"the balance is\",balance)\n",
    "elif choice==3:\n",
    "    withdraw=int(input(\"Enter the withdraw: \"))\n",
    "    if withdraw>balance:\n",
    "        print(\"the balance is insufficient\")\n",
    "    else:\n",
    "        balance=balance-withdraw\n",
    "        print(\"the balance is\",balance)\n",
    "else:\n",
    "    print(\"the exit\")"
   ]
  },
  {
   "cell_type": "markdown",
   "metadata": {
    "id": "I6KG9UZaKjQ_"
   },
   "source": [
    "16. Build a program that checks if a given string is a palindrome or not."
   ]
  },
  {
   "cell_type": "code",
   "execution_count": null,
   "metadata": {
    "colab": {
     "base_uri": "https://localhost:8080/"
    },
    "id": "S0o-X-wSKlsT",
    "outputId": "a9443220-87ac-462a-8b08-5b9ec23bbb81"
   },
   "outputs": [
    {
     "name": "stdout",
     "output_type": "stream",
     "text": [
      "Enter the string: nitin\n",
      "the given string is palindrome\n"
     ]
    }
   ],
   "source": [
    "# take a string from user\n",
    "string=input(\"Enter the string: \")\n",
    "if string==string[::-1]:\n",
    "    print(\"the given string is palindrome\")\n",
    "else:\n",
    "    print(\"the given string is not palindrome\")"
   ]
  },
  {
   "cell_type": "markdown",
   "metadata": {
    "id": "lq9hEWdcKq-O"
   },
   "source": []
  },
  {
   "cell_type": "markdown",
   "metadata": {
    "id": "EDoruC7oKrQ7"
   },
   "source": [
    "17. Write a program that calculates the average of a list of numbers, excluding the smallest and largest values."
   ]
  },
  {
   "cell_type": "code",
   "execution_count": null,
   "metadata": {
    "colab": {
     "base_uri": "https://localhost:8080/"
    },
    "id": "9K6I4auLKtwy",
    "outputId": "0fd38c8e-9632-4311-b88b-00353d57a2e7"
   },
   "outputs": [
    {
     "name": "stdout",
     "output_type": "stream",
     "text": [
      "the average of a list of numbers is 5.0\n"
     ]
    }
   ],
   "source": [
    "list=[1,2,3,4,5,6,7,8,9]\n",
    "sum=0\n",
    "for i in list:\n",
    "    sum=sum+i\n",
    "average=sum/len(list)\n",
    "print(\"the average of a list of numbers is\",average)"
   ]
  },
  {
   "cell_type": "markdown",
   "metadata": {
    "id": "o7czF6BaKzNb"
   },
   "source": [
    "18. Develop a program that converts a given temperature from Celsius to Fahrenheit."
   ]
  },
  {
   "cell_type": "code",
   "execution_count": null,
   "metadata": {
    "colab": {
     "base_uri": "https://localhost:8080/"
    },
    "id": "l-sEykXPK2j8",
    "outputId": "cf563b3a-e90d-428b-a669-c60f873dc965"
   },
   "outputs": [
    {
     "name": "stdout",
     "output_type": "stream",
     "text": [
      "Enter the temperature in celsius: 67\n",
      "the temperature in fahrenheit is 152.6\n"
     ]
    }
   ],
   "source": [
    "# take a temperature from user\n",
    "celsius=float(input(\"Enter the temperature in celsius: \"))\n",
    "fahrenheit=(celsius*9/5)+32\n",
    "print(\"the temperature in fahrenheit is\",fahrenheit)"
   ]
  },
  {
   "cell_type": "markdown",
   "metadata": {
    "id": "l0s6KkDMK8rd"
   },
   "source": [
    "19. Create a program that simulates a basic calculator for addition, subtraction, multiplication, and division."
   ]
  },
  {
   "cell_type": "code",
   "execution_count": null,
   "metadata": {
    "colab": {
     "base_uri": "https://localhost:8080/"
    },
    "id": "VQC01-z9K_ZZ",
    "outputId": "31f2320a-aef9-42bd-dcba-b50bf8f92796"
   },
   "outputs": [
    {
     "name": "stdout",
     "output_type": "stream",
     "text": [
      "Enter the number: 4 \n",
      "Enter the number: 8\n",
      "1. Addition\n",
      "2. Subtraction\n",
      "3. Multiplication\n",
      "4. Division\n",
      "Enter the choice: 3\n",
      "the multiplication is 32\n"
     ]
    }
   ],
   "source": [
    "# take a number from user\n",
    "num1=int(input(\"Enter the number: \"))\n",
    "num2=int(input(\"Enter the number: \"))\n",
    "print(\"1. Addition\")\n",
    "print(\"2. Subtraction\")\n",
    "print(\"3. Multiplication\")\n",
    "print(\"4. Division\")\n",
    "choice=int(input(\"Enter the choice: \"))\n",
    "if choice==1:\n",
    "    print(\"the addition is\",num1+num2)\n",
    "elif choice==2:\n",
    "    print(\"the subtraction is\",num1-num2)\n",
    "elif choice==3:\n",
    "    print(\"the multiplication is\",num1*num2)\n",
    "else:\n",
    "    print(\"the division is\",num1/num2)"
   ]
  },
  {
   "cell_type": "markdown",
   "metadata": {
    "id": "jAo23WQrLK4i"
   },
   "source": [
    "20. Write a program that determines the roots of a cubic equation using the Cardano formula."
   ]
  },
  {
   "cell_type": "code",
   "execution_count": null,
   "metadata": {
    "colab": {
     "base_uri": "https://localhost:8080/"
    },
    "id": "W0IHIMn3LNs_",
    "outputId": "ab0b2f87-5134-402f-a67b-4874e0e06e00"
   },
   "outputs": [
    {
     "name": "stdout",
     "output_type": "stream",
     "text": [
      "Enter the coefficient of x^3: 1\n",
      "Enter the coefficient of x^2: 6\n",
      "Enter the coefficient of x: 11\n",
      "Enter the constant term: -6\n",
      "The roots are: (0.43484136821690855+0j), (-3.217420684108454+1.8564318910978759j), (-3.217420684108454-1.8564318910978759j)\n"
     ]
    }
   ],
   "source": [
    "# take a cubic equation from user\n",
    "import cmath\n",
    "a = float(input(\"Enter the coefficient of x^3: \"))\n",
    "b = float(input(\"Enter the coefficient of x^2: \"))\n",
    "c = float(input(\"Enter the coefficient of x: \"))\n",
    "d = float(input(\"Enter the constant term: \"))\n",
    "\n",
    "# Convert to a depressed cubic t^3 + pt + q = 0 by substituting x = t - b/(3a)\n",
    "p = (3 * a * c - b**2) / (3 * a**2)\n",
    "q = (2 * b**3 - 9 * a * b * c + 27 * a**2 * d) / (27 * a**3)\n",
    "\n",
    "# Calculate the discriminant\n",
    "delta = (q / 2)**2 + (p / 3)**3\n",
    "\n",
    "if delta > 0:\n",
    "    # One real root and two complex conjugates\n",
    "    u = (-q / 2 + cmath.sqrt(delta))**(1/3)\n",
    "    v = (-q / 2 - cmath.sqrt(delta))**(1/3)\n",
    "    t1 = u + v\n",
    "    t2 = -(u + v) / 2 + cmath.sqrt(3) * (u - v) * 1j / 2\n",
    "    t3 = -(u + v) / 2 - cmath.sqrt(3) * (u - v) * 1j / 2\n",
    "elif delta == 0:\n",
    "    # All roots are real, at least two are equal\n",
    "    u = (-q / 2)**(1/3)\n",
    "    t1 = 2 * u\n",
    "    t2 = t3 = -u\n",
    "else:\n",
    "    # Three distinct real roots\n",
    "    theta = cmath.acos(-q / (2 * (-p / 3)**(3/2)))\n",
    "    t1 = 2 * (-p / 3)**(1/2) * cmath.cos(theta / 3)\n",
    "    t2 = 2 * (-p / 3)**(1/2) * cmath.cos((theta + 2 * cmath.pi) / 3)\n",
    "    t3 = 2 * (-p / 3)**(1/2) * cmath.cos((theta + 4 * cmath.pi) / 3)\n",
    "\n",
    "# Convert back to x by adding -b/(3a)\n",
    "x1 = t1 - b / (3 * a)\n",
    "x2 = t2 - b / (3 * a)\n",
    "x3 = t3 - b / (3 * a)\n",
    "\n",
    "# Output the roots\n",
    "print(f\"The roots are: {x1}, {x2}, {x3}\")"
   ]
  },
  {
   "cell_type": "markdown",
   "metadata": {
    "id": "XhE__vOSL48p"
   },
   "source": [
    "**Advanced Level:**"
   ]
  },
  {
   "cell_type": "markdown",
   "metadata": {
    "id": "DBTkN3zyL7-Q"
   },
   "source": [
    "21. Create a program that calculates the income tax based on the user's income and tax brackets."
   ]
  },
  {
   "cell_type": "code",
   "execution_count": null,
   "metadata": {
    "colab": {
     "base_uri": "https://localhost:8080/"
    },
    "id": "VPWxWzLBL-pr",
    "outputId": "87d9caff-47c5-4604-dda4-5a923966448d"
   },
   "outputs": [
    {
     "name": "stdout",
     "output_type": "stream",
     "text": [
      "Enter the income: 600000\n",
      "the income tax is 20000.0\n"
     ]
    }
   ],
   "source": [
    "# take a income from user\n",
    "income=int(input(\"Enter the income: \"))\n",
    "if income<=250000:\n",
    "    tax=0\n",
    "elif income<=500000:\n",
    "    tax=(income-250000)*0.05\n",
    "    print(\"the income tax is\",tax)\n",
    "else:\n",
    "    tax=(income-500000)*0.2\n",
    "    print(\"the income tax is\",tax)"
   ]
  },
  {
   "cell_type": "markdown",
   "metadata": {
    "id": "vwnET_bCMLTi"
   },
   "source": [
    "22. Write a program that simulates a rock-paper-scissors game against the computer."
   ]
  },
  {
   "cell_type": "code",
   "execution_count": null,
   "metadata": {
    "colab": {
     "base_uri": "https://localhost:8080/"
    },
    "id": "gQk6h43GMPwn",
    "outputId": "4826f21f-72ae-4083-e92e-e22bd5c800d2"
   },
   "outputs": [
    {
     "name": "stdout",
     "output_type": "stream",
     "text": [
      "Computer chose: rock\n",
      "You win!\n",
      "Computer chose: scissors\n",
      "You win!\n",
      "Computer chose: scissors\n",
      "It's a tie!\n",
      "Invalid choice! Please try again.\n",
      "Invalid choice! Please try again.\n",
      "Enter rock, paper, or scissors (or 'quit' to stop playing): yii\n",
      "Invalid choice! Please try again.\n"
     ]
    }
   ],
   "source": [
    "import random\n",
    "\n",
    "# Options for the game\n",
    "options = [\"rock\", \"paper\", \"scissors\"]\n",
    "\n",
    "# Game loop\n",
    "while True:\n",
    "    # Player's choice\n",
    "    player_choice = input(\"Enter rock, paper, or scissors (or 'quit' to stop playing): \").lower()\n",
    "\n",
    "    if player_choice == 'quit':\n",
    "        print(\"Thanks for playing!\")\n",
    "        break\n",
    "\n",
    "    if player_choice not in options:\n",
    "        print(\"Invalid choice! Please try again.\")\n",
    "        break\n",
    "\n",
    "    # Computer's choice\n",
    "    computer_choice = random.choice(options)\n",
    "    print(f\"Computer chose: {computer_choice}\")\n",
    "\n",
    "    # Determine the winner\n",
    "    if player_choice == computer_choice:\n",
    "        print(\"It's a tie!\")\n",
    "    elif (player_choice == \"rock\" and computer_choice == \"scissors\") or \\\n",
    "         (player_choice == \"paper\" and computer_choice == \"rock\") or \\\n",
    "         (player_choice == \"scissors\" and computer_choice == \"paper\"):\n",
    "        print(\"You win!\")\n",
    "    else:\n",
    "        print(\"Computer wins!\")\n"
   ]
  },
  {
   "cell_type": "markdown",
   "metadata": {
    "id": "zYHRHOfaMyka"
   },
   "source": [
    "23. Develop a program that generates a random password based on user preferences (length, complexity)."
   ]
  },
  {
   "cell_type": "code",
   "execution_count": 1,
   "metadata": {
    "id": "303imPILM2S5"
   },
   "outputs": [
    {
     "name": "stdin",
     "output_type": "stream",
     "text": [
      "Enter the length of the password:  6\n",
      "Include uppercase letters? (yes/no):  S\n",
      "Include digits? (yes/no):  23\n",
      "Include symbols? (yes/no):  @\n"
     ]
    },
    {
     "name": "stdout",
     "output_type": "stream",
     "text": [
      "Generated password: opytho\n"
     ]
    }
   ],
   "source": [
    "import random\n",
    "import string\n",
    "\n",
    "# User preferences\n",
    "length = int(input(\"Enter the length of the password: \"))\n",
    "include_uppercase = input(\"Include uppercase letters? (yes/no): \").lower() == 'yes'\n",
    "include_digits = input(\"Include digits? (yes/no): \").lower() == 'yes'\n",
    "include_symbols = input(\"Include symbols? (yes/no): \").lower() == 'yes'\n",
    "\n",
    "\n",
    "# Base character set (lowercase letters)\n",
    "characters = list(string.ascii_lowercase)\n",
    "\n",
    "# Add uppercase letters if needed\n",
    "if include_uppercase:\n",
    "    characters.extend(list(string.ascii_uppercase))\n",
    "\n",
    "# Add digits if needed\n",
    "if include_digits:\n",
    "    characters.extend(list(string.digits))\n",
    "\n",
    "# Add symbols if needed\n",
    "if include_symbols:\n",
    "    characters.extend(list(string.punctuation))\n",
    "\n",
    "# Generate the random password\n",
    "password = ''.join(random.choice(characters) for _ in range(length))\n",
    "\n",
    "# Output the generated password\n",
    "print(f\"Generated password: {password}\")\n"
   ]
  },
  {
   "cell_type": "markdown",
   "metadata": {
    "id": "NMtXnRowN6Wl"
   },
   "source": [
    "24. Create a program that implements a simple text-based adventure game with branching scenarios."
   ]
  },
  {
   "cell_type": "code",
   "execution_count": 2,
   "metadata": {
    "id": "h68YerIpN-f0"
   },
   "outputs": [
    {
     "name": "stdin",
     "output_type": "stream",
     "text": [
      "Enter the name:  suraj\n"
     ]
    },
    {
     "name": "stdout",
     "output_type": "stream",
     "text": [
      "Welcome to the adventure game, suraj!\n",
      "You wake up in a dark forest. There are two paths in front of you.\n",
      "Do you want to go 'left' or 'right'?\n"
     ]
    },
    {
     "name": "stdin",
     "output_type": "stream",
     "text": [
      "Enter your choice:  left\n"
     ]
    },
    {
     "name": "stdout",
     "output_type": "stream",
     "text": [
      "\n",
      "You walk down the left path and find a mysterious cave.\n",
      "Do you want to 'enter' the cave or 'walk away'?\n"
     ]
    },
    {
     "name": "stdin",
     "output_type": "stream",
     "text": [
      "Enter your choice:  enter \n"
     ]
    },
    {
     "name": "stdout",
     "output_type": "stream",
     "text": [
      "\n",
      "Invalid choice. The adventure ends.\n"
     ]
    }
   ],
   "source": [
    "# take a name from user\n",
    "name=input(\"Enter the name: \")\n",
    "print(f\"Welcome to the adventure game, {name}!\")\n",
    "# Initial Scenario\n",
    "print(\"You wake up in a dark forest. There are two paths in front of you.\")\n",
    "print(\"Do you want to go 'left' or 'right'?\")\n",
    "choice1 = input(\"Enter your choice: \").lower()\n",
    "\n",
    "if choice1 == \"left\":\n",
    "   print(\"\\nYou walk down the left path and find a mysterious cave.\")\n",
    "   print(\"Do you want to 'enter' the cave or 'walk away'?\")\n",
    "   choice2 = input(\"Enter your choice: \").lower()\n",
    "\n",
    "   if choice2== 'enter':\n",
    "      print(\"\\nYou enter the cave and discover a treasure chest!\")\n",
    "      print(\"Congratulations! You've won the game!\")\n",
    "      choice3=input(\"Enter your choice:\").lower()\n",
    "\n",
    "      if choice3 == 'open':\n",
    "         print(\"\\nYou open the chest and find a pile of gold coins. You are rich!\")\n",
    "      elif choice3 == \"leave\":\n",
    "          print(\"\\nYou leave the cave, missing the chance to discover the treasure. The adventure ends.\")\n",
    "      else:\n",
    "          print(\"\\nInvalid choice. The adventure ends.\")\n",
    "\n",
    "   elif choice2 == \"walk away\":\n",
    "        print(\"\\nYou decide not to enter the cave and continue walking through the forest.\")\n",
    "        print(\"You safely find your way home. The adventure ends.\")\n",
    "   else:\n",
    "        print(\"\\nInvalid choice. The adventure ends.\")\n",
    "\n",
    "elif choice1 == \"right\":\n",
    "    print(\"\\nYou walk down the right path and encounter a river.\")\n",
    "    print(\"Do you want to 'swim' across or 'build' a raft?\")\n",
    "    choice2 = input(\"Enter your choice: \").lower()\n",
    "\n",
    "    if choice2 == \"swim\":\n",
    "        print(\"\\nYou try to swim across but the current is too strong. You barely make it to the other side.\")\n",
    "        print(\"Exhausted, you decide to rest and end your adventure.\")\n",
    "    elif choice2 == \"build\":\n",
    "        print(\"\\nYou gather some logs and build a raft. You safely cross the river and continue your journey.\")\n",
    "        print(\"After a long journey, you find a village. The adventure ends.\")\n",
    "    else:\n",
    "        print(\"\\nInvalid choice. The adventure ends.\")\n",
    "\n",
    "else:\n",
    "    print(\"\\nInvalid choice. The adventure ends.\")"
   ]
  },
  {
   "cell_type": "markdown",
   "metadata": {
    "id": "_KW8RyoeQMAS"
   },
   "source": [
    "25. Build a program that solves a linear equation for x, considering different cases."
   ]
  },
  {
   "cell_type": "code",
   "execution_count": 3,
   "metadata": {
    "id": "B85HxgukQPkZ"
   },
   "outputs": [
    {
     "name": "stdin",
     "output_type": "stream",
     "text": [
      "Enter the coefficient a:  1\n",
      "Enter the constant b:  3\n"
     ]
    },
    {
     "name": "stdout",
     "output_type": "stream",
     "text": [
      "The solution is x = -3.0\n"
     ]
    }
   ],
   "source": [
    "# take a linear equation from user\n",
    "# Coefficients of the equation ax + b = 0\n",
    "a = float(input(\"Enter the coefficient a: \"))\n",
    "b = float(input(\"Enter the constant b: \"))\n",
    "\n",
    "# Different cases for solving the equation\n",
    "if a == 0:\n",
    "    if b == 0:\n",
    "        print(\"The equation has infinitely many solutions.\")\n",
    "    else:\n",
    "        print(\"The equation has no solution.\")\n",
    "else:\n",
    "    x = -b / a\n",
    "    print(f\"The solution is x = {x}\")\n"
   ]
  },
  {
   "cell_type": "markdown",
   "metadata": {},
   "source": [
    "26. Write a program that simulates a basic quiz game with multiple-choice questions and scoring."
   ]
  },
  {
   "cell_type": "code",
   "execution_count": 4,
   "metadata": {},
   "outputs": [
    {
     "name": "stdout",
     "output_type": "stream",
     "text": [
      "\n",
      "Question 1: What is the capital of France?\n",
      "A) London\n",
      "B) Berlin\n",
      "C) Paris\n",
      "D) Madrid\n"
     ]
    },
    {
     "name": "stdin",
     "output_type": "stream",
     "text": [
      "Enter your answer (A, B, C, or D):  c\n"
     ]
    },
    {
     "name": "stdout",
     "output_type": "stream",
     "text": [
      "Correct!\n",
      "\n",
      "Question 2: Which planet is known as the Red Planet?\n",
      "A) Earth\n",
      "B) Mars\n",
      "C) Jupiter\n",
      "D) Saturn\n"
     ]
    },
    {
     "name": "stdin",
     "output_type": "stream",
     "text": [
      "Enter your answer (A, B, C, or D):  b\n"
     ]
    },
    {
     "name": "stdout",
     "output_type": "stream",
     "text": [
      "Correct!\n",
      "\n",
      "Question 3: Who wrote 'To Kill a Mockingbird'?\n",
      "A) Harper Lee\n",
      "B) J.K. Rowling\n",
      "C) Ernest Hemingway\n",
      "D) Mark Twain\n"
     ]
    },
    {
     "name": "stdin",
     "output_type": "stream",
     "text": [
      "Enter your answer (A, B, C, or D):  c\n"
     ]
    },
    {
     "name": "stdout",
     "output_type": "stream",
     "text": [
      "Wrong! The correct answer is A.\n",
      "\n",
      "Question 4: What is the largest ocean on Earth?\n",
      "A) Atlantic Ocean\n",
      "B) Indian Ocean\n",
      "C) Pacific Ocean\n",
      "D) Arctic Ocean\n"
     ]
    },
    {
     "name": "stdin",
     "output_type": "stream",
     "text": [
      "Enter your answer (A, B, C, or D):  a\n"
     ]
    },
    {
     "name": "stdout",
     "output_type": "stream",
     "text": [
      "Wrong! The correct answer is C.\n",
      "\n",
      "Quiz over! Your final score is 2/4.\n"
     ]
    }
   ],
   "source": [
    "# List of questions with multiple choices and the correct answer\n",
    "questions = [\n",
    "    {\n",
    "        \"question\": \"What is the capital of France?\",\n",
    "        \"choices\": [\"A) London\", \"B) Berlin\", \"C) Paris\", \"D) Madrid\"],\n",
    "        \"answer\": \"C\"\n",
    "    },\n",
    "    {\n",
    "        \"question\": \"Which planet is known as the Red Planet?\",\n",
    "        \"choices\": [\"A) Earth\", \"B) Mars\", \"C) Jupiter\", \"D) Saturn\"],\n",
    "        \"answer\": \"B\"\n",
    "    },\n",
    "    {\n",
    "        \"question\": \"Who wrote 'To Kill a Mockingbird'?\",\n",
    "        \"choices\": [\"A) Harper Lee\", \"B) J.K. Rowling\", \"C) Ernest Hemingway\", \"D) Mark Twain\"],\n",
    "        \"answer\": \"A\"\n",
    "    },\n",
    "    {\n",
    "        \"question\": \"What is the largest ocean on Earth?\",\n",
    "        \"choices\": [\"A) Atlantic Ocean\", \"B) Indian Ocean\", \"C) Pacific Ocean\", \"D) Arctic Ocean\"],\n",
    "        \"answer\": \"C\"\n",
    "    }\n",
    "]\n",
    "\n",
    "score = 0  # Variable to keep track of the score\n",
    "\n",
    "# Quiz game loop\n",
    "for i, q in enumerate(questions, start=1):\n",
    "    print(f\"\\nQuestion {i}: {q['question']}\")\n",
    "    for choice in q[\"choices\"]:\n",
    "        print(choice)\n",
    "    \n",
    "    user_answer = input(\"Enter your answer (A, B, C, or D): \").upper()\n",
    "    \n",
    "    if user_answer == q[\"answer\"]:\n",
    "        print(\"Correct!\")\n",
    "        score += 1\n",
    "    else:\n",
    "        print(f\"Wrong! The correct answer is {q['answer']}.\")\n",
    "\n",
    "# Display the final score\n",
    "print(f\"\\nQuiz over! Your final score is {score}/{len(questions)}.\")\n"
   ]
  },
  {
   "cell_type": "markdown",
   "metadata": {},
   "source": [
    "27. Develop a program that determines whether a given year is a prime number or not."
   ]
  },
  {
   "cell_type": "code",
   "execution_count": 5,
   "metadata": {},
   "outputs": [
    {
     "name": "stdin",
     "output_type": "stream",
     "text": [
      "Enter a year:  2023\n"
     ]
    },
    {
     "name": "stdout",
     "output_type": "stream",
     "text": [
      "2023 is not a prime number\n"
     ]
    }
   ],
   "source": [
    "# take a year from user\n",
    "year = int(input(\"Enter a year: \"))\n",
    "if year > 1:\n",
    "    for i in range(2, year):\n",
    "        if (year % i) == 0:\n",
    "            print(year, \"is not a prime number\")\n",
    "            break\n",
    "    else:\n",
    "        print(year, \"is a prime number\")"
   ]
  },
  {
   "cell_type": "markdown",
   "metadata": {},
   "source": [
    "28. Create a program that sorts three numbers in ascending order using conditional statements."
   ]
  },
  {
   "cell_type": "code",
   "execution_count": 11,
   "metadata": {},
   "outputs": [
    {
     "name": "stdin",
     "output_type": "stream",
     "text": [
      "Enter the first number:  30\n",
      "Enter the second number:  10\n",
      "Enter the third number:  20\n"
     ]
    },
    {
     "name": "stdout",
     "output_type": "stream",
     "text": [
      "Ascending order: 10.0, 20.0, 30.0\n"
     ]
    }
   ],
   "source": [
    "# Input: Three numbers\n",
    "num1 = float(input(\"Enter the first number: \"))\n",
    "num2 = float(input(\"Enter the second number: \"))\n",
    "num3 = float(input(\"Enter the third number: \"))\n",
    "\n",
    "# Sorting the numbers using conditional statements\n",
    "if num1 <= num2 and num1 <= num3:\n",
    "    if num2 <= num3:\n",
    "        print(f\"Ascending order: {num1}, {num2}, {num3}\")\n",
    "    else:\n",
    "        print(f\"Ascending order: {num1}, {num3}, {num2}\")\n",
    "elif num2 <= num1 and num2 <= num3:\n",
    "    if num1 <= num3:\n",
    "        print(f\"Ascending order: {num2}, {num1}, {num3}\")\n",
    "    else:\n",
    "        print(f\"Ascending order: {num2}, {num3}, {num1}\")\n",
    "else:\n",
    "    if num1 <= num2:\n",
    "        print(f\"Ascending order: {num3}, {num1}, {num2}\")\n",
    "    else:\n",
    "        print(f\"Ascending order: {num3}, {num2}, {num1}\")\n"
   ]
  },
  {
   "cell_type": "markdown",
   "metadata": {},
   "source": [
    "29. Build a program that determines the roots of a quartic equation using numerical methods."
   ]
  },
  {
   "cell_type": "code",
   "execution_count": 7,
   "metadata": {},
   "outputs": [
    {
     "name": "stdin",
     "output_type": "stream",
     "text": [
      "Enter coefficient a:  2\n",
      "Enter coefficient b:  3\n",
      "Enter coefficient c:  6\n",
      "Enter coefficient d:  11\n",
      "Enter coefficient e:  6\n"
     ]
    },
    {
     "name": "stdout",
     "output_type": "stream",
     "text": [
      "The roots of the quartic equation are:\n",
      "(0.2500000000000002+1.7139136501002623j)\n",
      "(0.2500000000000002-1.7139136501002623j)\n",
      "(-1.0000000146785728+0j)\n",
      "(-0.9999999853214272+0j)\n"
     ]
    }
   ],
   "source": [
    "import numpy as np\n",
    "\n",
    "# Coefficients of the quartic equation ax^4 + bx^3 + cx^2 + dx + e = 0\n",
    "a = float(input(\"Enter coefficient a: \"))\n",
    "b = float(input(\"Enter coefficient b: \"))\n",
    "c = float(input(\"Enter coefficient c: \"))\n",
    "d = float(input(\"Enter coefficient d: \"))\n",
    "e = float(input(\"Enter coefficient e: \"))\n",
    "\n",
    "# Define the coefficients in a list, representing the polynomial\n",
    "coefficients = [a, b, c, d, e]\n",
    "\n",
    "# Use numpy's roots function to find the roots of the polynomial\n",
    "roots = np.roots(coefficients)\n",
    "\n",
    "# Display the roots\n",
    "print(\"The roots of the quartic equation are:\")\n",
    "for root in roots:\n",
    "    print(root)\n"
   ]
  },
  {
   "cell_type": "markdown",
   "metadata": {},
   "source": [
    "30. Write a program that calculates the BMI (Body Mass Index) and provides health recommendations based\n",
    "on the user's input."
   ]
  },
  {
   "cell_type": "code",
   "execution_count": 8,
   "metadata": {},
   "outputs": [
    {
     "name": "stdin",
     "output_type": "stream",
     "text": [
      "Enter your weight in kilograms:  60\n",
      "Enter your height in meters:  1.67\n"
     ]
    },
    {
     "name": "stdout",
     "output_type": "stream",
     "text": [
      "Your BMI is 21.513858510523864 which means you are normal.\n"
     ]
    }
   ],
   "source": [
    "# take a weight and height from user\n",
    "weight = float(input(\"Enter your weight in kilograms: \"))\n",
    "height = float(input(\"Enter your height in meters: \"))\n",
    "bmi = weight / (height ** 2)\n",
    "if bmi < 18.5:\n",
    "    print(\"Your BMI is\", bmi, \"which means you are underweight.\")\n",
    "elif bmi >= 18.5 and bmi < 25:\n",
    "    print(\"Your BMI is\", bmi, \"which means you are normal.\")"
   ]
  },
  {
   "cell_type": "raw",
   "metadata": {},
   "source": [
    "Challenge Level:"
   ]
  },
  {
   "cell_type": "markdown",
   "metadata": {},
   "source": [
    "31. Create a program that validates a password based on complexity rules (length, characters, etc.)."
   ]
  },
  {
   "cell_type": "code",
   "execution_count": 12,
   "metadata": {},
   "outputs": [
    {
     "name": "stdin",
     "output_type": "stream",
     "text": [
      "Enter your password:  Suraj@12\n"
     ]
    },
    {
     "name": "stdout",
     "output_type": "stream",
     "text": [
      "Password is valid.\n"
     ]
    }
   ],
   "source": [
    "import string\n",
    "\n",
    "# Password complexity requirements\n",
    "min_length = 8\n",
    "special_characters = string.punctuation\n",
    "\n",
    "# Input: Get password from user\n",
    "password = input(\"Enter your password: \")\n",
    "\n",
    "# Initialize validation flags\n",
    "has_upper = False\n",
    "has_lower = False\n",
    "has_digit = False\n",
    "has_special = False\n",
    "\n",
    "# Check each character in the password\n",
    "if len(password) >= min_length:\n",
    "    for char in password:\n",
    "        if char.isupper():\n",
    "            has_upper = True\n",
    "        elif char.islower():\n",
    "            has_lower = True\n",
    "        elif char.isdigit():\n",
    "            has_digit = True\n",
    "        elif char in special_characters:\n",
    "            has_special = True\n",
    "\n",
    "    # Validate if password meets all requirements\n",
    "    if has_upper and has_lower and has_digit and has_special:\n",
    "        print(\"Password is valid.\")\n",
    "    else:\n",
    "        print(\"Password is invalid. It must contain at least one uppercase letter, one lowercase letter, one digit, and one special character.\")\n",
    "else:\n",
    "    print(f\"Password is too short. It must be at least {min_length} characters long.\")\n"
   ]
  },
  {
   "cell_type": "markdown",
   "metadata": {},
   "source": [
    "32. Develop a program that performs matrix addition and subtraction based on user input."
   ]
  },
  {
   "cell_type": "code",
   "execution_count": 1,
   "metadata": {},
   "outputs": [
    {
     "name": "stdin",
     "output_type": "stream",
     "text": [
      "Enter number of rows:  2\n",
      "Enter number of columns:  2\n"
     ]
    },
    {
     "name": "stdout",
     "output_type": "stream",
     "text": [
      "\n",
      "Enter values for Matrix 1:\n"
     ]
    },
    {
     "name": "stdin",
     "output_type": "stream",
     "text": [
      "Enter row 1 (space-separated values):  1 4\n",
      "Enter row 2 (space-separated values):  6 8\n"
     ]
    },
    {
     "name": "stdout",
     "output_type": "stream",
     "text": [
      "\n",
      "Enter values for Matrix 2:\n"
     ]
    },
    {
     "name": "stdin",
     "output_type": "stream",
     "text": [
      "Enter row 1 (space-separated values):  5 7\n",
      "Enter row 2 (space-separated values):  5 9\n"
     ]
    },
    {
     "name": "stdout",
     "output_type": "stream",
     "text": [
      "\n",
      "Matrix 1:\n",
      "1 4\n",
      "6 8\n",
      "\n",
      "Matrix 2:\n",
      "5 7\n",
      "5 9\n",
      "\n",
      "Matrix Addition Result:\n",
      "6 11\n",
      "11 17\n",
      "\n",
      "Matrix Subtraction Result:\n",
      "-4 -3\n",
      "1 -1\n"
     ]
    }
   ],
   "source": [
    "def get_matrix(rows, cols):\n",
    "    matrix = []\n",
    "    for i in range(rows):\n",
    "        row = list(map(int, input(f\"Enter row {i + 1} (space-separated values): \").split()))\n",
    "        if len(row) != cols:\n",
    "            print(\"Invalid number of columns. Please enter the correct number of values.\")\n",
    "            return None\n",
    "        matrix.append(row)\n",
    "    return matrix\n",
    "\n",
    "def print_matrix(matrix):\n",
    "    for row in matrix:\n",
    "        print(\" \".join(map(str, row)))\n",
    "\n",
    "def matrix_addition(matrix1, matrix2):\n",
    "    return [[matrix1[i][j] + matrix2[i][j] for j in range(len(matrix1[0]))] for i in range(len(matrix1))]\n",
    "\n",
    "def matrix_subtraction(matrix1, matrix2):\n",
    "    return [[matrix1[i][j] - matrix2[i][j] for j in range(len(matrix1[0]))] for i in range(len(matrix1))]\n",
    "\n",
    "# Input matrix dimensions\n",
    "rows = int(input(\"Enter number of rows: \"))\n",
    "cols = int(input(\"Enter number of columns: \"))\n",
    "\n",
    "print(\"\\nEnter values for Matrix 1:\")\n",
    "matrix1 = get_matrix(rows, cols)\n",
    "\n",
    "if matrix1 is None:\n",
    "    print(\"Error in Matrix 1 input. Exiting.\")\n",
    "    exit()\n",
    "\n",
    "print(\"\\nEnter values for Matrix 2:\")\n",
    "matrix2 = get_matrix(rows, cols)\n",
    "\n",
    "if matrix2 is None:\n",
    "    print(\"Error in Matrix 2 input. Exiting.\")\n",
    "    exit()\n",
    "\n",
    "print(\"\\nMatrix 1:\")\n",
    "print_matrix(matrix1)\n",
    "\n",
    "print(\"\\nMatrix 2:\")\n",
    "print_matrix(matrix2)\n",
    "\n",
    "# Perform addition and subtraction\n",
    "addition_result = matrix_addition(matrix1, matrix2)\n",
    "subtraction_result = matrix_subtraction(matrix1, matrix2)\n",
    "\n",
    "print(\"\\nMatrix Addition Result:\")\n",
    "print_matrix(addition_result)\n",
    "\n",
    "print(\"\\nMatrix Subtraction Result:\")\n",
    "print_matrix(subtraction_result)\n"
   ]
  },
  {
   "cell_type": "markdown",
   "metadata": {},
   "source": [
    "33. Write a program that calculates the greatest common divisor (GCD) of two numbers using the Euclidean\n",
    "algorithm."
   ]
  },
  {
   "cell_type": "code",
   "execution_count": 2,
   "metadata": {},
   "outputs": [
    {
     "name": "stdin",
     "output_type": "stream",
     "text": [
      "Enter the first number:  6 \n",
      "Enter the second number:  9\n"
     ]
    },
    {
     "name": "stdout",
     "output_type": "stream",
     "text": [
      "The GCD of 6 and 9 is: 3\n"
     ]
    }
   ],
   "source": [
    "# Function to calculate GCD using Euclidean algorithm\n",
    "def gcd(a, b):\n",
    "    while b != 0:\n",
    "        a, b = b, a % b\n",
    "    return a\n",
    "\n",
    "# Input: Get two numbers from the user\n",
    "num1 = int(input(\"Enter the first number: \"))\n",
    "num2 = int(input(\"Enter the second number: \"))\n",
    "\n",
    "# Calculate GCD\n",
    "result = gcd(num1, num2)\n",
    "\n",
    "# Output the result\n",
    "print(f\"The GCD of {num1} and {num2} is: {result}\")\n"
   ]
  },
  {
   "cell_type": "markdown",
   "metadata": {},
   "source": [
    "34. Build a program that performs matrix multiplication using nested loops and conditional statements."
   ]
  },
  {
   "cell_type": "code",
   "execution_count": 3,
   "metadata": {},
   "outputs": [
    {
     "name": "stdin",
     "output_type": "stream",
     "text": [
      "Enter number of rows for Matrix 1:  2\n",
      "Enter number of columns for Matrix 1:  2\n"
     ]
    },
    {
     "name": "stdout",
     "output_type": "stream",
     "text": [
      "Enter values for Matrix 1:\n"
     ]
    },
    {
     "name": "stdin",
     "output_type": "stream",
     "text": [
      "Enter row 1 (space-separated values):  4 7\n",
      "Enter row 2 (space-separated values):  9 8\n",
      "Enter number of rows for Matrix 2:  2\n",
      "Enter number of columns for Matrix 2:  2\n"
     ]
    },
    {
     "name": "stdout",
     "output_type": "stream",
     "text": [
      "Enter values for Matrix 2:\n"
     ]
    },
    {
     "name": "stdin",
     "output_type": "stream",
     "text": [
      "Enter row 1 (space-separated values):  4 8\n",
      "Enter row 2 (space-separated values):  6 2\n"
     ]
    },
    {
     "name": "stdout",
     "output_type": "stream",
     "text": [
      "\n",
      "Matrix 1:\n",
      "4 7\n",
      "9 8\n",
      "\n",
      "Matrix 2:\n",
      "4 8\n",
      "6 2\n",
      "\n",
      "Matrix Multiplication Result:\n",
      "58 46\n",
      "84 88\n"
     ]
    }
   ],
   "source": [
    "# Input dimensions for Matrix 1\n",
    "rows1 = int(input(\"Enter number of rows for Matrix 1: \"))\n",
    "cols1 = int(input(\"Enter number of columns for Matrix 1: \"))\n",
    "\n",
    "# Input Matrix 1\n",
    "print(\"Enter values for Matrix 1:\")\n",
    "matrix1 = []\n",
    "for i in range(rows1):\n",
    "    row = list(map(int, input(f\"Enter row {i + 1} (space-separated values): \").split()))\n",
    "    if len(row) != cols1:\n",
    "        print(\"Invalid number of columns. Exiting.\")\n",
    "        exit()\n",
    "    matrix1.append(row)\n",
    "\n",
    "# Input dimensions for Matrix 2\n",
    "rows2 = int(input(\"Enter number of rows for Matrix 2: \"))\n",
    "cols2 = int(input(\"Enter number of columns for Matrix 2: \"))\n",
    "\n",
    "# Input Matrix 2\n",
    "print(\"Enter values for Matrix 2:\")\n",
    "matrix2 = []\n",
    "for i in range(rows2):\n",
    "    row = list(map(int, input(f\"Enter row {i + 1} (space-separated values): \").split()))\n",
    "    if len(row) != cols2:\n",
    "        print(\"Invalid number of columns. Exiting.\")\n",
    "        exit()\n",
    "    matrix2.append(row)\n",
    "\n",
    "# Check if matrices can be multiplied\n",
    "if cols1 != rows2:\n",
    "    print(\"Error: Matrices cannot be multiplied due to incompatible dimensions.\")\n",
    "    exit()\n",
    "\n",
    "# Initialize result matrix with zeros\n",
    "result = [[0] * cols2 for _ in range(rows1)]\n",
    "\n",
    "# Perform matrix multiplication\n",
    "for i in range(rows1):\n",
    "    for j in range(cols2):\n",
    "        sum = 0\n",
    "        for k in range(cols1):\n",
    "            sum += matrix1[i][k] * matrix2[k][j]\n",
    "        result[i][j] = sum\n",
    "\n",
    "# Print Matrix 1\n",
    "print(\"\\nMatrix 1:\")\n",
    "for row in matrix1:\n",
    "    print(\" \".join(map(str, row)))\n",
    "\n",
    "# Print Matrix 2\n",
    "print(\"\\nMatrix 2:\")\n",
    "for row in matrix2:\n",
    "    print(\" \".join(map(str, row)))\n",
    "\n",
    "# Print result matrix\n",
    "print(\"\\nMatrix Multiplication Result:\")\n",
    "for row in result:\n",
    "    print(\" \".join(map(str, row)))\n"
   ]
  },
  {
   "cell_type": "markdown",
   "metadata": {},
   "source": [
    "35. Create a program that simulates a basic text-based tic-tac-toe game against the computer."
   ]
  },
  {
   "cell_type": "code",
   "execution_count": 4,
   "metadata": {},
   "outputs": [
    {
     "name": "stdout",
     "output_type": "stream",
     "text": [
      "Welcome to Tic-Tac-Toe!\n",
      "  |   |  \n",
      "--|---|--\n",
      "  |   |  \n",
      "--|---|--\n",
      "  |   |  \n"
     ]
    },
    {
     "name": "stdin",
     "output_type": "stream",
     "text": [
      "Enter your move (1-9):  7\n"
     ]
    },
    {
     "name": "stdout",
     "output_type": "stream",
     "text": [
      "  |   |  \n",
      "--|---|--\n",
      "  |   |  \n",
      "--|---|--\n",
      "X |   |  \n",
      "Computer's move:\n",
      "  |   | O\n",
      "--|---|--\n",
      "  |   |  \n",
      "--|---|--\n",
      "X |   |  \n"
     ]
    },
    {
     "name": "stdin",
     "output_type": "stream",
     "text": [
      "Enter your move (1-9):  4\n"
     ]
    },
    {
     "name": "stdout",
     "output_type": "stream",
     "text": [
      "  |   | O\n",
      "--|---|--\n",
      "X |   |  \n",
      "--|---|--\n",
      "X |   |  \n",
      "Computer's move:\n",
      "  |   | O\n",
      "--|---|--\n",
      "X |   |  \n",
      "--|---|--\n",
      "X |   | O\n"
     ]
    },
    {
     "name": "stdin",
     "output_type": "stream",
     "text": [
      "Enter your move (1-9):  0\n"
     ]
    },
    {
     "name": "stdout",
     "output_type": "stream",
     "text": [
      "This spot is already taken. Choose another.\n"
     ]
    },
    {
     "name": "stdin",
     "output_type": "stream",
     "text": [
      "Enter your move (1-9):  5\n"
     ]
    },
    {
     "name": "stdout",
     "output_type": "stream",
     "text": [
      "  |   | O\n",
      "--|---|--\n",
      "X | X |  \n",
      "--|---|--\n",
      "X |   | O\n",
      "Computer's move:\n",
      "  | O | O\n",
      "--|---|--\n",
      "X | X |  \n",
      "--|---|--\n",
      "X |   | O\n"
     ]
    },
    {
     "name": "stdin",
     "output_type": "stream",
     "text": [
      "Enter your move (1-9):  -1\n"
     ]
    },
    {
     "name": "stdout",
     "output_type": "stream",
     "text": [
      "  | O | O\n",
      "--|---|--\n",
      "X | X |  \n",
      "--|---|--\n",
      "X | X | O\n",
      "Computer's move:\n",
      "  | O | O\n",
      "--|---|--\n",
      "X | X | O\n",
      "--|---|--\n",
      "X | X | O\n",
      "Computer wins!\n"
     ]
    }
   ],
   "source": [
    "import random\n",
    "\n",
    "# Initialize the game board\n",
    "board = [' ' for _ in range(9)]\n",
    "\n",
    "# Function to print the board\n",
    "def print_board():\n",
    "    print(f\"{board[0]} | {board[1]} | {board[2]}\")\n",
    "    print(\"--|---|--\")\n",
    "    print(f\"{board[3]} | {board[4]} | {board[5]}\")\n",
    "    print(\"--|---|--\")\n",
    "    print(f\"{board[6]} | {board[7]} | {board[8]}\")\n",
    "\n",
    "# Function to check for a win or draw\n",
    "def check_win(player):\n",
    "    win_conditions = [\n",
    "        (0, 1, 2), (3, 4, 5), (6, 7, 8), # Rows\n",
    "        (0, 3, 6), (1, 4, 7), (2, 5, 8), # Columns\n",
    "        (0, 4, 8), (2, 4, 6)             # Diagonals\n",
    "    ]\n",
    "    for condition in win_conditions:\n",
    "        if all(board[i] == player for i in condition):\n",
    "            return True\n",
    "    return False\n",
    "\n",
    "def check_draw():\n",
    "    return ' ' not in board\n",
    "\n",
    "# Player move\n",
    "def player_move():\n",
    "    while True:\n",
    "        try:\n",
    "            move = int(input(\"Enter your move (1-9): \")) - 1\n",
    "            if board[move] == ' ':\n",
    "                board[move] = 'X'\n",
    "                break\n",
    "            else:\n",
    "                print(\"This spot is already taken. Choose another.\")\n",
    "        except (IndexError, ValueError):\n",
    "            print(\"Invalid move. Enter a number between 1 and 9.\")\n",
    "\n",
    "# Computer move\n",
    "def computer_move():\n",
    "    available_moves = [i for i, spot in enumerate(board) if spot == ' ']\n",
    "    move = random.choice(available_moves)\n",
    "    board[move] = 'O'\n",
    "\n",
    "# Main game loop\n",
    "print(\"Welcome to Tic-Tac-Toe!\")\n",
    "print_board()\n",
    "\n",
    "while True:\n",
    "    player_move()\n",
    "    print_board()\n",
    "    \n",
    "    if check_win('X'):\n",
    "        print(\"Congratulations! You win!\")\n",
    "        break\n",
    "    elif check_draw():\n",
    "        print(\"It's a draw!\")\n",
    "        break\n",
    "\n",
    "    computer_move()\n",
    "    print(\"Computer's move:\")\n",
    "    print_board()\n",
    "    \n",
    "    if check_win('O'):\n",
    "        print(\"Computer wins!\")\n",
    "        break\n",
    "    elif check_draw():\n",
    "        print(\"It's a draw!\")\n",
    "        break\n"
   ]
  },
  {
   "cell_type": "markdown",
   "metadata": {},
   "source": [
    "36. Write a program that generates Fibonacci numbers up to a specified term using iterative methods."
   ]
  },
  {
   "cell_type": "code",
   "execution_count": 5,
   "metadata": {},
   "outputs": [
    {
     "name": "stdin",
     "output_type": "stream",
     "text": [
      "Enter the number of terms:  5\n"
     ]
    },
    {
     "name": "stdout",
     "output_type": "stream",
     "text": [
      "Fibonacci sequence:\n",
      "0\n",
      "1\n",
      "1\n",
      "2\n",
      "3\n"
     ]
    }
   ],
   "source": [
    "# take a number from user\n",
    "n = int(input(\"Enter the number of terms: \"))\n",
    "a, b = 0, 1\n",
    "print(\"Fibonacci sequence:\")\n",
    "for i in range(n):\n",
    "    print(a)\n",
    "    a, b = b, a + b"
   ]
  },
  {
   "cell_type": "markdown",
   "metadata": {},
   "source": [
    "37. Develop a program that calculates the nth term of the Fibonacci sequence using memoization."
   ]
  },
  {
   "cell_type": "code",
   "execution_count": 7,
   "metadata": {},
   "outputs": [
    {
     "name": "stdin",
     "output_type": "stream",
     "text": [
      "Enter the term number for Fibonacci sequence:  6\n"
     ]
    },
    {
     "name": "stdout",
     "output_type": "stream",
     "text": [
      "The 6-th term of the Fibonacci sequence is: 8\n"
     ]
    }
   ],
   "source": [
    "# Initialize a dictionary to store previously computed Fibonacci numbers\n",
    "memo = {}\n",
    "\n",
    "# Function to calculate the nth Fibonacci number using memoization\n",
    "def fibonacci(n):\n",
    "    # Check if the value is already computed and stored in the memo dictionary\n",
    "    if n in memo:\n",
    "        return memo[n]\n",
    "    \n",
    "    # Base cases\n",
    "    if n == 0:\n",
    "        memo[n] = 0\n",
    "    elif n == 1:\n",
    "        memo[n] = 1\n",
    "    else:\n",
    "        # Recursive calculation with memoization\n",
    "        memo[n] = fibonacci(n - 1) + fibonacci(n - 2)\n",
    "    \n",
    "    return memo[n]\n",
    "\n",
    "# Input: Get the value of n from the user\n",
    "n = int(input(\"Enter the term number for Fibonacci sequence: \"))\n",
    "\n",
    "# Calculate the nth Fibonacci number\n",
    "result = fibonacci(n)\n",
    "\n",
    "# Output the result\n",
    "print(f\"The {n}-th term of the Fibonacci sequence is: {result}\")\n"
   ]
  },
  {
   "cell_type": "markdown",
   "metadata": {},
   "source": [
    "38. Create a program that generates a calendar for a given month and year using conditional statements."
   ]
  },
  {
   "cell_type": "code",
   "execution_count": 8,
   "metadata": {},
   "outputs": [
    {
     "name": "stdin",
     "output_type": "stream",
     "text": [
      "Enter year:  2024\n",
      "Enter month:  9\n"
     ]
    },
    {
     "name": "stdout",
     "output_type": "stream",
     "text": [
      "   September 2024\n",
      "Mo Tu We Th Fr Sa Su\n",
      "                   1\n",
      " 2  3  4  5  6  7  8\n",
      " 9 10 11 12 13 14 15\n",
      "16 17 18 19 20 21 22\n",
      "23 24 25 26 27 28 29\n",
      "30\n",
      "\n"
     ]
    }
   ],
   "source": [
    "# take a month and year from user\n",
    "import calendar\n",
    "year = int(input(\"Enter year: \"))\n",
    "month = int(input(\"Enter month: \"))\n",
    "if month > 12:\n",
    "    print(\"Invalid input\")\n",
    "else:\n",
    "    print(calendar.month(year, month))"
   ]
  },
  {
   "cell_type": "markdown",
   "metadata": {},
   "source": [
    "39. Build a program that simulates a basic text-based blackjack game against the computer."
   ]
  },
  {
   "cell_type": "code",
   "execution_count": 11,
   "metadata": {},
   "outputs": [
    {
     "name": "stdout",
     "output_type": "stream",
     "text": [
      "Player's hand: K of Hearts, 10 of Spades\n"
     ]
    },
    {
     "ename": "TypeError",
     "evalue": "'int' object is not callable",
     "output_type": "error",
     "traceback": [
      "\u001b[1;31m---------------------------------------------------------------------------\u001b[0m",
      "\u001b[1;31mTypeError\u001b[0m                                 Traceback (most recent call last)",
      "Cell \u001b[1;32mIn[11], line 36\u001b[0m\n\u001b[0;32m     34\u001b[0m \u001b[38;5;28;01mwhile\u001b[39;00m \u001b[38;5;28;01mTrue\u001b[39;00m:\n\u001b[0;32m     35\u001b[0m     print_hand(player_hand, \u001b[38;5;124m\"\u001b[39m\u001b[38;5;124mPlayer\u001b[39m\u001b[38;5;124m\"\u001b[39m)\n\u001b[1;32m---> 36\u001b[0m     player_score \u001b[38;5;241m=\u001b[39m calculate_score(player_hand)\n\u001b[0;32m     37\u001b[0m     \u001b[38;5;28;01mif\u001b[39;00m player_score \u001b[38;5;241m==\u001b[39m \u001b[38;5;241m21\u001b[39m:\n\u001b[0;32m     38\u001b[0m         \u001b[38;5;28mprint\u001b[39m(\u001b[38;5;124m\"\u001b[39m\u001b[38;5;124mBlackjack! Player wins!\u001b[39m\u001b[38;5;124m\"\u001b[39m)\n",
      "Cell \u001b[1;32mIn[11], line 17\u001b[0m, in \u001b[0;36mcalculate_score\u001b[1;34m(hand)\u001b[0m\n\u001b[0;32m     16\u001b[0m \u001b[38;5;28;01mdef\u001b[39;00m \u001b[38;5;21mcalculate_score\u001b[39m(hand):\n\u001b[1;32m---> 17\u001b[0m     score \u001b[38;5;241m=\u001b[39m \u001b[38;5;28msum\u001b[39m(values[card[\u001b[38;5;241m0\u001b[39m]] \u001b[38;5;28;01mfor\u001b[39;00m card \u001b[38;5;129;01min\u001b[39;00m hand)\n\u001b[0;32m     18\u001b[0m     \u001b[38;5;66;03m# Adjust for Aces\u001b[39;00m\n\u001b[0;32m     19\u001b[0m     num_aces \u001b[38;5;241m=\u001b[39m \u001b[38;5;28msum\u001b[39m(\u001b[38;5;241m1\u001b[39m \u001b[38;5;28;01mfor\u001b[39;00m card \u001b[38;5;129;01min\u001b[39;00m hand \u001b[38;5;28;01mif\u001b[39;00m card[\u001b[38;5;241m0\u001b[39m] \u001b[38;5;241m==\u001b[39m \u001b[38;5;124m'\u001b[39m\u001b[38;5;124mA\u001b[39m\u001b[38;5;124m'\u001b[39m)\n",
      "\u001b[1;31mTypeError\u001b[0m: 'int' object is not callable"
     ]
    }
   ],
   "source": [
    "import random\n",
    "\n",
    "# Define card values and suits\n",
    "suits = ['Hearts', 'Diamonds', 'Clubs', 'Spades']\n",
    "ranks = ['2', '3', '4', '5', '6', '7', '8', '9', '10', 'J', 'Q', 'K', 'A']\n",
    "values = {'2': 2, '3': 3, '4': 4, '5': 5, '6': 6, '7': 7, '8': 8, '9': 9, '10': 10, 'J': 10, 'Q': 10, 'K': 10, 'A': 11}\n",
    "\n",
    "# Initialize the deck\n",
    "deck = [(rank, suit) for rank in ranks for suit in suits]\n",
    "\n",
    "# Function to deal a card\n",
    "def deal_card():\n",
    "    return deck.pop(random.randrange(len(deck)))\n",
    "\n",
    "# Function to calculate the score of a hand\n",
    "def calculate_score(hand):\n",
    "    score = sum(values[card[0]] for card in hand)\n",
    "    # Adjust for Aces\n",
    "    num_aces = sum(1 for card in hand if card[0] == 'A')\n",
    "    while score > 21 and num_aces:\n",
    "        score -= 10\n",
    "        num_aces -= 1\n",
    "    return score\n",
    "\n",
    "# Function to print a hand\n",
    "def print_hand(hand, name):\n",
    "    print(f\"{name}'s hand: \" + ', '.join(f\"{card[0]} of {card[1]}\" for card in hand))\n",
    "\n",
    "# Initialize player and dealer hands\n",
    "player_hand = [deal_card(), deal_card()]\n",
    "dealer_hand = [deal_card(), deal_card()]\n",
    "\n",
    "# Player's turn\n",
    "while True:\n",
    "    print_hand(player_hand, \"Player\")\n",
    "    player_score = calculate_score(player_hand)\n",
    "    if player_score == 21:\n",
    "        print(\"Blackjack! Player wins!\")\n",
    "        exit()\n",
    "    elif player_score > 21:\n",
    "        print(\"Player busts! Dealer wins!\")\n",
    "        exit()\n",
    "\n",
    "    action = input(\"Do you want to (h)it or (s)tand? \").lower()\n",
    "    if action == 'h':\n",
    "        player_hand.append(deal_card())\n",
    "    elif action == 's':\n",
    "        break\n",
    "    else:\n",
    "        print(\"Invalid choice. Please enter 'h' to hit or 's' to stand.\")\n",
    "\n",
    "# Dealer's turn\n",
    "print_hand(dealer_hand, \"Dealer\")\n",
    "dealer_score = calculate_score(dealer_hand)\n",
    "while dealer_score < 17:\n",
    "    dealer_hand.append(deal_card())\n",
    "    dealer_score = calculate_score(dealer_hand)\n",
    "    print_hand(dealer_hand, \"Dealer\")\n",
    "\n",
    "# Determine the result\n",
    "print(f\"Player's score: {player_score}\")\n",
    "print(f\"Dealer's score: {dealer_score}\")\n",
    "\n",
    "if dealer_score > 21:\n",
    "    print(\"Dealer busts! Player wins!\")\n",
    "elif player_score > dealer_score:\n",
    "    print(\"Player wins!\")\n",
    "elif player_score < dealer_score:\n",
    "    print(\"Dealer wins!\")\n",
    "else:\n",
    "    print(\"It's a tie!\")\n"
   ]
  },
  {
   "cell_type": "markdown",
   "metadata": {},
   "source": [
    "40. Write a program that generates the prime factors of a given number using trial division."
   ]
  },
  {
   "cell_type": "code",
   "execution_count": null,
   "metadata": {},
   "outputs": [],
   "source": []
  }
 ],
 "metadata": {
  "colab": {
   "provenance": []
  },
  "kernelspec": {
   "display_name": "Python 3 (ipykernel)",
   "language": "python",
   "name": "python3"
  },
  "language_info": {
   "codemirror_mode": {
    "name": "ipython",
    "version": 3
   },
   "file_extension": ".py",
   "mimetype": "text/x-python",
   "name": "python",
   "nbconvert_exporter": "python",
   "pygments_lexer": "ipython3",
   "version": "3.12.4"
  }
 },
 "nbformat": 4,
 "nbformat_minor": 4
}
