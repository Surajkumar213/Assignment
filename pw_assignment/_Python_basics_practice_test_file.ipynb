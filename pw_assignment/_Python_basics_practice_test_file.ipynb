{
 "cells": [
  {
   "cell_type": "markdown",
   "metadata": {
    "id": "WkYrSNRPp-42"
   },
   "source": [
    "1. Given a string, reverse the order of characters using string slicing and print\n",
    "the reversed string."
   ]
  },
  {
   "cell_type": "code",
   "execution_count": null,
   "metadata": {
    "colab": {
     "base_uri": "https://localhost:8080/"
    },
    "id": "mfzjnXzoqBxe",
    "outputId": "8083b0d6-f11f-4337-a759-ab2ad42d6143"
   },
   "outputs": [
    {
     "name": "stdout",
     "output_type": "stream",
     "text": [
      "enter the string:nitn\n",
      "ntin\n"
     ]
    }
   ],
   "source": [
    "# take string input from user with help input function\n",
    "string=input('enter the string:')\n",
    "n=len(string)\n",
    "string= string.lower()\n",
    "string_rev= string[::-1]\n",
    "print(string_rev)"
   ]
  },
  {
   "cell_type": "markdown",
   "metadata": {
    "id": "FCM5zY1jqJVt"
   },
   "source": [
    "2. Write a program that takes a string as input and checks if it is a palindrome\n",
    "(reads the same forwards and backwards)."
   ]
  },
  {
   "cell_type": "code",
   "execution_count": null,
   "metadata": {
    "colab": {
     "base_uri": "https://localhost:8080/"
    },
    "id": "fpryOVphqMjv",
    "outputId": "0389feef-13d0-4d1b-b62c-dddcdc4d853c"
   },
   "outputs": [
    {
     "name": "stdout",
     "output_type": "stream",
     "text": [
      "enter the string:nitin\n",
      "string is palindrome\n"
     ]
    }
   ],
   "source": [
    "string=input('enter the string:')\n",
    "n=len(string)\n",
    "string= string.lower()\n",
    "string_rev= string[::-1]\n",
    "if string==string_rev:\n",
    "    print('string is palindrome')\n",
    "else:\n",
    "    print('string is not palindrome')"
   ]
  },
  {
   "cell_type": "markdown",
   "metadata": {
    "id": "aYg7NhP3wZhc"
   },
   "source": [
    "3. Convert a string to uppercase."
   ]
  },
  {
   "cell_type": "code",
   "execution_count": null,
   "metadata": {
    "colab": {
     "base_uri": "https://localhost:8080/"
    },
    "id": "ezcCGoB-waqR",
    "outputId": "ce4af074-b4a7-4d4c-aa84-87394c9e3049"
   },
   "outputs": [
    {
     "name": "stdout",
     "output_type": "stream",
     "text": [
      "enter the string:suraj\n",
      "SURAJ\n"
     ]
    }
   ],
   "source": [
    "string=input('enter the string:')\n",
    "#convert string uppercase and print\n",
    "print(string.upper())"
   ]
  },
  {
   "cell_type": "markdown",
   "metadata": {
    "id": "v1UYeSFUwsmJ"
   },
   "source": [
    "4. Convert a String to lowercase"
   ]
  },
  {
   "cell_type": "code",
   "execution_count": null,
   "metadata": {
    "colab": {
     "base_uri": "https://localhost:8080/"
    },
    "id": "2_ftjIYUw1gr",
    "outputId": "a84581e6-c6c7-46a8-ea97-f7fe1836fd24"
   },
   "outputs": [
    {
     "name": "stdout",
     "output_type": "stream",
     "text": [
      "enter the string:SURAJ\n",
      "suraj\n"
     ]
    }
   ],
   "source": [
    "string=input('enter the string:')\n",
    "#convert string lowercase and print\n",
    "print(string.lower())"
   ]
  },
  {
   "cell_type": "markdown",
   "metadata": {
    "id": "NU5y0_fVxAVz"
   },
   "source": [
    "5. Count the number of vowels in a string."
   ]
  },
  {
   "cell_type": "code",
   "execution_count": null,
   "metadata": {
    "colab": {
     "base_uri": "https://localhost:8080/"
    },
    "id": "jjlq0JsIxDjp",
    "outputId": "3e226e88-d810-426d-b028-d2b6a9082350"
   },
   "outputs": [
    {
     "name": "stdout",
     "output_type": "stream",
     "text": [
      "enter the string:suraj\n",
      "2\n"
     ]
    }
   ],
   "source": [
    "#take a input from user\n",
    "string = input(\"enter the string:\")\n",
    "count=0\n",
    "# all string convert lower case\n",
    "string= string.lower()\n",
    "for i in string:\n",
    "    if i=='a' or i=='e' or i=='i'  or i=='o' or i=='u':\n",
    "        #if true\n",
    "        count+=1\n",
    "#print no of vowel\n",
    "print(str(count))"
   ]
  },
  {
   "cell_type": "markdown",
   "metadata": {
    "id": "lsaZPlZHxb42"
   },
   "source": [
    "6. Count the number of consonants in a string."
   ]
  },
  {
   "cell_type": "code",
   "execution_count": null,
   "metadata": {
    "colab": {
     "base_uri": "https://localhost:8080/"
    },
    "id": "Jv7Zj3-DxlCC",
    "outputId": "5e9485d5-3b74-4ade-caa9-aa4b0017defe"
   },
   "outputs": [
    {
     "name": "stdout",
     "output_type": "stream",
     "text": [
      "enter the string:pwskills\n",
      "7\n"
     ]
    }
   ],
   "source": [
    "#take a input from user\n",
    "string = input(\"enter the string:\")\n",
    "count=0\n",
    "# all string convert lower case\n",
    "string= string.lower()\n",
    "for i in string:\n",
    "    if i=='a' or i=='e' or i=='i'  or i=='o' or i=='u':\n",
    "        pass\n",
    "    else:\n",
    "        #if false\n",
    "        count+=1\n",
    "#print no of consonants\n",
    "print(str(count))"
   ]
  },
  {
   "cell_type": "markdown",
   "metadata": {
    "id": "yHQ2lGb8yM0e"
   },
   "source": [
    "7. Remove all whitespaces from a string."
   ]
  },
  {
   "cell_type": "code",
   "execution_count": null,
   "metadata": {
    "colab": {
     "base_uri": "https://localhost:8080/"
    },
    "id": "zr11SJBeyTj3",
    "outputId": "3572e01d-f08b-4452-dc39-fbbdb2c8f46e"
   },
   "outputs": [
    {
     "name": "stdout",
     "output_type": "stream",
     "text": [
      "enter a stringpw    skills\n",
      "pwskills\n"
     ]
    }
   ],
   "source": [
    "#take a input from user\n",
    "string = input(\"enter a string\")\n",
    "white_space = string.replace(\" \",\"\")\n",
    "print(white_space)"
   ]
  },
  {
   "cell_type": "markdown",
   "metadata": {
    "id": "uDvWwgEvyeQ6"
   },
   "source": [
    "8. Find the length of a string without using the `len()` function."
   ]
  },
  {
   "cell_type": "code",
   "execution_count": null,
   "metadata": {
    "colab": {
     "base_uri": "https://localhost:8080/"
    },
    "id": "uqgljAWBykXg",
    "outputId": "5ac78811-8dc8-438a-c7b8-8f84e119da5b"
   },
   "outputs": [
    {
     "name": "stdout",
     "output_type": "stream",
     "text": [
      "enter a stringsuraj\n",
      "5\n"
     ]
    }
   ],
   "source": [
    "#Take a input from user\n",
    "string = input(\"enter a string: \")\n",
    "count=0\n",
    "#iterate the string and increase the count\n",
    "for i in string:\n",
    "    count+=1\n",
    "print(count)"
   ]
  },
  {
   "cell_type": "markdown",
   "metadata": {
    "id": "GJvHsLvDzMq9"
   },
   "source": [
    "9. Check if a string contains a specific word."
   ]
  },
  {
   "cell_type": "code",
   "execution_count": null,
   "metadata": {
    "colab": {
     "base_uri": "https://localhost:8080/"
    },
    "id": "IdfGq_92zTUF",
    "outputId": "3e047cd0-310b-41f4-8af5-f02f0bafd690"
   },
   "outputs": [
    {
     "name": "stdout",
     "output_type": "stream",
     "text": [
      "enter a string:python is a most easy lenguage\n",
      "python\n",
      "string is containing specific word\n"
     ]
    }
   ],
   "source": [
    "#take a string from user\n",
    "string=input(\"enter a string:\")\n",
    "specific_word=input(\"\")\n",
    "#check your string is containing or not specific word using if\n",
    "if specific_word in string:\n",
    "    print(\"string is containing specific word\")\n",
    "else:\n",
    "    print(\"string is not containing specific word\")"
   ]
  },
  {
   "cell_type": "markdown",
   "metadata": {
    "id": "jvXulgR5_tOm"
   },
   "source": []
  },
  {
   "cell_type": "markdown",
   "metadata": {
    "id": "WxlVLVio_8ph"
   },
   "source": [
    "10. Replace a word in a string with another word."
   ]
  },
  {
   "cell_type": "code",
   "execution_count": null,
   "metadata": {
    "colab": {
     "base_uri": "https://localhost:8080/"
    },
    "id": "KuDFByvn_9u-",
    "outputId": "afc9a609-ff86-46bd-ba8b-513ed050ea52"
   },
   "outputs": [
    {
     "name": "stdout",
     "output_type": "stream",
     "text": [
      "enter a string:pwskills\n",
      "enter a char:s\n",
      "enter a word:h\n",
      "pwhkillh\n"
     ]
    }
   ],
   "source": [
    "#take a string from user\n",
    "string=input(\"enter a string:\")\n",
    "char=input(\"enter a char:\")\n",
    "replace_word=input(\"enter a word:\")\n",
    "#replace a word in a string using append function\n",
    "if char in string:\n",
    "    string=string.replace(char,replace_word)\n",
    "    print(string)"
   ]
  },
  {
   "cell_type": "markdown",
   "metadata": {
    "id": "RjURd6dwBu4A"
   },
   "source": [
    "11. Count the occurrences of a word in a string."
   ]
  },
  {
   "cell_type": "code",
   "execution_count": null,
   "metadata": {
    "colab": {
     "base_uri": "https://localhost:8080/"
    },
    "id": "WdXD36tDB7w-",
    "outputId": "6b0d0daa-0e65-4676-faad-6f513c02b0a5"
   },
   "outputs": [
    {
     "name": "stdout",
     "output_type": "stream",
     "text": [
      "enter the string:python is awesome. i love python because python is easy.\n",
      "enter the word:python\n",
      "3\n"
     ]
    }
   ],
   "source": [
    "#take a string from user\n",
    "string=input(\"enter the string:\")\n",
    "word=input(\"enter the word:\")\n",
    "count=0\n",
    "#count the occurrences of a word in a string\n",
    "for i in string.split():\n",
    "    if i==word:\n",
    "        count+=1\n",
    "print(count)"
   ]
  },
  {
   "cell_type": "markdown",
   "metadata": {
    "id": "_wOfS17zCrj2"
   },
   "source": [
    "12. Find the first occurrence of a word in a string."
   ]
  },
  {
   "cell_type": "code",
   "execution_count": null,
   "metadata": {
    "colab": {
     "base_uri": "https://localhost:8080/"
    },
    "id": "pVXkNOUxCwps",
    "outputId": "48a77571-556a-4ddc-f24d-05d82aa2ebe8"
   },
   "outputs": [
    {
     "name": "stdout",
     "output_type": "stream",
     "text": [
      "enter the string:python is awesome. i love python because python is easy\n",
      "enter the word:is\n",
      "1\n"
     ]
    }
   ],
   "source": [
    "#take a string from user\n",
    "string=input(\"enter the string:\")\n",
    "word=input(\"enter the word:\")\n",
    "count=0\n",
    "#find the first occurrence of a word in a string\n",
    "for i in string.split():\n",
    "    if i==word:\n",
    "        print(count)\n",
    "        break\n",
    "    count+=1"
   ]
  },
  {
   "cell_type": "markdown",
   "metadata": {
    "id": "__dVBAdoDUS7"
   },
   "source": [
    "13. Find the last occurrence of a word in a string."
   ]
  },
  {
   "cell_type": "code",
   "execution_count": null,
   "metadata": {
    "colab": {
     "base_uri": "https://localhost:8080/"
    },
    "id": "gJCN6aEzDXdi",
    "outputId": "30f56876-2396-494f-8d6a-1363c83b0ac8"
   },
   "outputs": [
    {
     "name": "stdout",
     "output_type": "stream",
     "text": [
      "enter the string:python is awesome. i love python because python is easy\n",
      "enter the word:python\n",
      "0\n",
      "5\n",
      "7\n"
     ]
    }
   ],
   "source": [
    "#take a string from user\n",
    "string=input(\"enter the string:\")\n",
    "word=input(\"enter the word:\")\n",
    "count=0\n",
    "#find the last occurrence of a word in a string\n",
    "for i in string.split():\n",
    "    if i==word:\n",
    "        print(count)\n",
    "    count+=1"
   ]
  },
  {
   "cell_type": "markdown",
   "metadata": {
    "id": "yVGfJetn20Re"
   },
   "source": [
    "14. Split a string into a list of words."
   ]
  },
  {
   "cell_type": "code",
   "execution_count": null,
   "metadata": {
    "colab": {
     "base_uri": "https://localhost:8080/"
    },
    "id": "5MUwabc123lP",
    "outputId": "9ece4345-323e-4604-f34d-45f75c03467b"
   },
   "outputs": [
    {
     "name": "stdout",
     "output_type": "stream",
     "text": [
      "enter the string:python is awesome. i love python because python is easy\n",
      "['python', 'is', 'awesome.', 'i', 'love', 'python', 'because', 'python', 'is', 'easy']\n"
     ]
    }
   ],
   "source": [
    "# take input from user\n",
    "string=input(\"enter the string:\")\n",
    "list=[]\n",
    "#split a string into a list of words\n",
    "for i in string.split():\n",
    "    list.append(i)\n",
    "print(list)"
   ]
  },
  {
   "cell_type": "markdown",
   "metadata": {
    "id": "Nb1JpESz3lSF"
   },
   "source": [
    "15. Join a list of words into a string."
   ]
  },
  {
   "cell_type": "code",
   "execution_count": null,
   "metadata": {
    "colab": {
     "base_uri": "https://localhost:8080/"
    },
    "id": "6f7lTGAq3mOL",
    "outputId": "2cfc29c8-89e4-40d3-acb2-a0d743e7783a"
   },
   "outputs": [
    {
     "name": "stdout",
     "output_type": "stream",
     "text": [
      "Python is a programming language\n"
     ]
    }
   ],
   "source": [
    "# use one list\n",
    "list=['Python','is','a','programming','language']\n",
    "#join a list of words into a string\n",
    "print(\" \".join(list))"
   ]
  },
  {
   "cell_type": "markdown",
   "metadata": {
    "id": "FKF-k-xa4pBy"
   },
   "source": [
    "16. Convert a string where words are separated by spaces to one where words\n",
    "are separated by underscores."
   ]
  },
  {
   "cell_type": "code",
   "execution_count": null,
   "metadata": {
    "colab": {
     "base_uri": "https://localhost:8080/"
    },
    "id": "IPUwNSaZ415O",
    "outputId": "a1cb3463-8461-4400-839a-f44b6619a60b"
   },
   "outputs": [
    {
     "name": "stdout",
     "output_type": "stream",
     "text": [
      "enter the string:python is fun to learn\n",
      "python_is_fun_to_learn\n"
     ]
    }
   ],
   "source": [
    "# take a string from user\n",
    "string=input(\"enter the string:\")\n",
    "#convert a string where words are separated by spaces to one where words are separated by underscores.\n",
    "print(string.replace(\" \",\"_\"))"
   ]
  },
  {
   "cell_type": "markdown",
   "metadata": {
    "id": "vakw24Im5TWq"
   },
   "source": []
  },
  {
   "cell_type": "markdown",
   "metadata": {
    "id": "MOwmkv-I5jti"
   },
   "source": [
    "17. Check if a string starts with a specific word or phrase."
   ]
  },
  {
   "cell_type": "code",
   "execution_count": null,
   "metadata": {
    "colab": {
     "base_uri": "https://localhost:8080/"
    },
    "id": "0D3w2FL15n9W",
    "outputId": "a63edcd5-c2a4-41c5-adaf-47a42e3fff0b"
   },
   "outputs": [
    {
     "name": "stdout",
     "output_type": "stream",
     "text": [
      "enter the string:python is fun to learn\n",
      "enter the word:learn\n",
      "The string does not start with 'learn'.\n"
     ]
    }
   ],
   "source": [
    "# take a string from user\n",
    "string=input(\"enter the string:\")\n",
    "word=input(\"enter the word:\")\n",
    "\n",
    "# Check if the string starts with the word\n",
    "if string.startswith(word):\n",
    "    print(f\"The string starts with '{word}'.\")\n",
    "else:\n",
    "    print(f\"The string does not start with '{word}'.\")"
   ]
  },
  {
   "cell_type": "markdown",
   "metadata": {
    "id": "T_uNlGOa6JLG"
   },
   "source": [
    "18. Check if a string ends with a specific word or phrase."
   ]
  },
  {
   "cell_type": "code",
   "execution_count": null,
   "metadata": {
    "colab": {
     "base_uri": "https://localhost:8080/"
    },
    "id": "mPRiQ0rK6TKv",
    "outputId": "64887f5f-1456-43c9-9099-e577b306d693"
   },
   "outputs": [
    {
     "name": "stdout",
     "output_type": "stream",
     "text": [
      "enter the string:python is fun to learn\n",
      "enter the word:learn\n",
      "The string ends with 'learn'.\n"
     ]
    }
   ],
   "source": [
    "# take a string from user\n",
    "string=input(\"enter the string:\")\n",
    "word=input(\"enter the word:\")\n",
    "\n",
    "# Check if the string ends with the specific_word or phrase\n",
    "if string.endswith(word):\n",
    "    print(f\"The string ends with '{word}'.\")\n",
    "else:\n",
    "    print(f\"The string does not end with '{word}'.\")"
   ]
  },
  {
   "cell_type": "markdown",
   "metadata": {
    "id": "qPiBVj7J6qiS"
   },
   "source": [
    "19. Convert a string to title case (e.g., \"hello world\" to \"Hello World\")."
   ]
  },
  {
   "cell_type": "code",
   "execution_count": null,
   "metadata": {
    "colab": {
     "base_uri": "https://localhost:8080/"
    },
    "id": "U7f9I2Lx6zDK",
    "outputId": "0da7b679-17ce-4011-cc8e-403d760f2d01"
   },
   "outputs": [
    {
     "name": "stdout",
     "output_type": "stream",
     "text": [
      "enter the string:hello world\n",
      "Hello World\n"
     ]
    }
   ],
   "source": [
    "# take a string from user\n",
    "string=input(\"enter the string:\")\n",
    "\n",
    "#convert a string to title case\n",
    "print(string.title())"
   ]
  },
  {
   "cell_type": "markdown",
   "metadata": {
    "id": "bA-QJM4j7D3t"
   },
   "source": [
    "20. Find the longest word in a string."
   ]
  },
  {
   "cell_type": "code",
   "execution_count": null,
   "metadata": {
    "colab": {
     "base_uri": "https://localhost:8080/"
    },
    "id": "1iIuoWQy7IUS",
    "outputId": "4b211c76-36f0-493e-d6b8-65e22d0d4e0b"
   },
   "outputs": [
    {
     "name": "stdout",
     "output_type": "stream",
     "text": [
      "enter the string:python really to fun and educational\n",
      "educational\n"
     ]
    }
   ],
   "source": [
    "# take a string from user\n",
    "string=input(\"enter the string:\")\n",
    "\n",
    "#find the longest word in a string\n",
    "longest_word=max(string.split(),key=len)\n",
    "print(longest_word)"
   ]
  },
  {
   "cell_type": "markdown",
   "metadata": {
    "id": "-Hh3_1Vo7xFc"
   },
   "source": [
    "21. Find the shortest word in a string."
   ]
  },
  {
   "cell_type": "code",
   "execution_count": null,
   "metadata": {
    "colab": {
     "base_uri": "https://localhost:8080/"
    },
    "id": "tha7Nvab71Rp",
    "outputId": "e384b50c-93fd-4791-eafd-c2c0395ff443"
   },
   "outputs": [
    {
     "name": "stdout",
     "output_type": "stream",
     "text": [
      "enter the string:python programming is really to fun and educational\n",
      "is\n"
     ]
    }
   ],
   "source": [
    "# take a string from user\n",
    "string=input(\"enter the string:\")\n",
    "\n",
    "#find the shortest word in a string\n",
    "longest_word=min(string.split(),key=len)\n",
    "print(longest_word)"
   ]
  },
  {
   "cell_type": "markdown",
   "metadata": {
    "id": "uC8MjoP48LSX"
   },
   "source": [
    "22. Reverse the order of words in a string."
   ]
  },
  {
   "cell_type": "code",
   "execution_count": null,
   "metadata": {
    "colab": {
     "base_uri": "https://localhost:8080/"
    },
    "id": "_T-SNO_p8MY_",
    "outputId": "35edcd64-0a12-427d-bf20-95639268f2c8"
   },
   "outputs": [
    {
     "name": "stdout",
     "output_type": "stream",
     "text": [
      "enter the string:python is really easy programming language\n",
      "language programming easy really is python\n"
     ]
    }
   ],
   "source": [
    "# take a string from user\n",
    "string=input(\"enter the string:\")\n",
    "\n",
    "#reverse the order of words in a string\n",
    "print(\" \".join(string.split()[::-1]))"
   ]
  },
  {
   "cell_type": "markdown",
   "metadata": {
    "id": "dOXEdsAL8gCa"
   },
   "source": [
    "23. Check if a string is alphanumeric."
   ]
  },
  {
   "cell_type": "code",
   "execution_count": null,
   "metadata": {
    "colab": {
     "base_uri": "https://localhost:8080/"
    },
    "id": "m75GoXv88jE4",
    "outputId": "01a98538-6167-4fc6-d267-cda5de540c45"
   },
   "outputs": [
    {
     "name": "stdout",
     "output_type": "stream",
     "text": [
      "enter the string:9eae\n",
      "string is alphanumeric\n"
     ]
    }
   ],
   "source": [
    "# take a string from user\n",
    "string=input(\"enter the string:\")\n",
    "\n",
    "#check if a string is alphanumeric\n",
    "if string.isalnum():\n",
    "    print(\"string is alphanumeric\")\n",
    "else:\n",
    "    print(\"string is not alphanumeric\")\n"
   ]
  },
  {
   "cell_type": "markdown",
   "metadata": {
    "id": "S-tQuBpf8zN8"
   },
   "source": [
    "24. Extract all digits from a string."
   ]
  },
  {
   "cell_type": "code",
   "execution_count": null,
   "metadata": {
    "colab": {
     "base_uri": "https://localhost:8080/"
    },
    "id": "NSMgKs-V85Ru",
    "outputId": "6a11cbf2-914b-433f-cf19-61699fa6f68b"
   },
   "outputs": [
    {
     "name": "stdout",
     "output_type": "stream",
     "text": [
      "enter the string:su9302kuew\n",
      "9302\n"
     ]
    }
   ],
   "source": [
    "# take a string from user\n",
    "string=input(\"enter the string:\")\n",
    "digit=\"\"\n",
    "#extract all digits from a string\n",
    "for i in string:\n",
    "    if i.isdigit():\n",
    "        digit+=i\n",
    "print(digit)"
   ]
  },
  {
   "cell_type": "markdown",
   "metadata": {
    "id": "TYsx6YKB9NWt"
   },
   "source": [
    "25. Extract all alphabets from a string."
   ]
  },
  {
   "cell_type": "code",
   "execution_count": null,
   "metadata": {
    "colab": {
     "base_uri": "https://localhost:8080/"
    },
    "id": "ipfsJ4XG9OUt",
    "outputId": "766e97c5-fc8b-4237-fc20-6c220e9a2596"
   },
   "outputs": [
    {
     "name": "stdout",
     "output_type": "stream",
     "text": [
      "enter the string:suk94322kewaa\n",
      "sukkewaa\n"
     ]
    }
   ],
   "source": [
    "# take a string from user\n",
    "string=input(\"enter the string:\")\n",
    "alpha=\"\"\n",
    "#extract all alphabets from a string\n",
    "for i in string:\n",
    "    if i.isalpha():\n",
    "        alpha+=i\n",
    "print(alpha)"
   ]
  },
  {
   "cell_type": "markdown",
   "metadata": {
    "id": "yzL0NnMF9iL4"
   },
   "source": [
    "26. Count the number of uppercase letters in a string."
   ]
  },
  {
   "cell_type": "code",
   "execution_count": null,
   "metadata": {
    "colab": {
     "base_uri": "https://localhost:8080/"
    },
    "id": "6Qmf9qGc9jNH",
    "outputId": "743a46d1-231a-4986-eba4-e623007bb106"
   },
   "outputs": [
    {
     "name": "stdout",
     "output_type": "stream",
     "text": [
      "enter the string:pWsKIlls\n",
      "3\n"
     ]
    }
   ],
   "source": [
    "# take string from user\n",
    "string=input(\"enter the string:\")\n",
    "count=0\n",
    "#count the number of uppercase letters in a string\n",
    "for i in string:\n",
    "    if i.isupper():\n",
    "        count+=1\n",
    "print(count)"
   ]
  },
  {
   "cell_type": "markdown",
   "metadata": {
    "id": "8pTMPSDv9wQb"
   },
   "source": [
    "27. Count the number of lowercase letters in a string."
   ]
  },
  {
   "cell_type": "code",
   "execution_count": null,
   "metadata": {
    "colab": {
     "base_uri": "https://localhost:8080/"
    },
    "id": "QsuV7CPT9zcY",
    "outputId": "12535948-8c14-4a17-aac4-2a43b334e891"
   },
   "outputs": [
    {
     "name": "stdout",
     "output_type": "stream",
     "text": [
      "enter the string:PwSkillS\n",
      "5\n"
     ]
    }
   ],
   "source": [
    "# take string from user\n",
    "string=input(\"enter the string:\")\n",
    "count=0\n",
    "#count the number of uppercase letters in a string\n",
    "for i in string:\n",
    "    if i.islower():\n",
    "        count+=1\n",
    "print(count)"
   ]
  },
  {
   "cell_type": "markdown",
   "metadata": {
    "id": "1tMEInEH98-v"
   },
   "source": [
    "28. Swap the case of each character in a string."
   ]
  },
  {
   "cell_type": "code",
   "execution_count": null,
   "metadata": {
    "colab": {
     "base_uri": "https://localhost:8080/"
    },
    "id": "kwOuWsKI-Bck",
    "outputId": "53673093-d86d-4ff8-8030-7cc425cd72af"
   },
   "outputs": [
    {
     "name": "stdout",
     "output_type": "stream",
     "text": [
      "enter the string:pwskills\n",
      "PWSKILLS\n"
     ]
    }
   ],
   "source": [
    "# take a string from user\n",
    "string=input(\"enter the string:\")\n",
    "\n",
    "#swap the case of each character in a string\n",
    "print(string.swapcase())"
   ]
  },
  {
   "cell_type": "markdown",
   "metadata": {
    "id": "ydzze11z-ePr"
   },
   "source": [
    "29. Remove a specific word from a string."
   ]
  },
  {
   "cell_type": "code",
   "execution_count": null,
   "metadata": {
    "colab": {
     "base_uri": "https://localhost:8080/"
    },
    "id": "rGDJMxcR-h7z",
    "outputId": "e5ceed62-63de-4e50-87f4-f71f79f13c5c"
   },
   "outputs": [
    {
     "name": "stdout",
     "output_type": "stream",
     "text": [
      "enter the string:python is a fun to learn\n",
      "enter the word:learn\n",
      "python is a fun to \n"
     ]
    }
   ],
   "source": [
    "# take a string from user\n",
    "string=input(\"enter the string:\")\n",
    "word=input(\"enter the word:\")\n",
    "\n",
    "#remove a specific word from a string\n",
    "print(string.replace(word,\"\"))\n"
   ]
  },
  {
   "cell_type": "markdown",
   "metadata": {
    "id": "21ZLGT_b-yp9"
   },
   "source": [
    "30. Check if a string is a valid email address."
   ]
  },
  {
   "cell_type": "code",
   "execution_count": null,
   "metadata": {
    "colab": {
     "base_uri": "https://localhost:8080/"
    },
    "id": "cRfGiiL8-16a",
    "outputId": "373a7c54-63cb-473c-991f-1533e97d3a02"
   },
   "outputs": [
    {
     "name": "stdout",
     "output_type": "stream",
     "text": [
      "enter the string:surjakeew@gmail.com\n",
      "string is a valid email address\n"
     ]
    }
   ],
   "source": [
    "# take a string from user\n",
    "string=input(\"enter the string:\")\n",
    "\n",
    "#check if a string is a valid email address\n",
    "if \"@\" in string and \".\" in string:\n",
    "    print(\"string is a valid email address\")\n",
    "else:\n",
    "    print(\"string is not a valid email address\")"
   ]
  },
  {
   "cell_type": "markdown",
   "metadata": {
    "id": "Hgx37OUN_KR-"
   },
   "source": [
    "31. Extract the username from an email address string."
   ]
  },
  {
   "cell_type": "code",
   "execution_count": null,
   "metadata": {
    "colab": {
     "base_uri": "https://localhost:8080/"
    },
    "id": "d89Gqv8i_O4o",
    "outputId": "ddea1ea2-c33b-4f4b-820c-7ed857d5df4d"
   },
   "outputs": [
    {
     "name": "stdout",
     "output_type": "stream",
     "text": [
      "enter the string:surakwe@gmail.com\n",
      "surakwe\n"
     ]
    }
   ],
   "source": [
    "# take a string from user\n",
    "string=input(\"enter the string:\")\n",
    "\n",
    "#extract the username from an email address string\n",
    "print(string.split(\"@\")[0])"
   ]
  },
  {
   "cell_type": "markdown",
   "metadata": {
    "id": "ptnzmgu7_plX"
   },
   "source": [
    "32. Extract the domain name from an email address string."
   ]
  },
  {
   "cell_type": "code",
   "execution_count": null,
   "metadata": {
    "colab": {
     "base_uri": "https://localhost:8080/"
    },
    "id": "LLw6AV70_wMH",
    "outputId": "f4fa0474-5890-47cd-ff79-fa692390bb7e"
   },
   "outputs": [
    {
     "name": "stdout",
     "output_type": "stream",
     "text": [
      "enter the string:surakwa@gmail.com\n",
      "gmail.com\n"
     ]
    }
   ],
   "source": [
    "# take a string from user\n",
    "string=input(\"enter the string:\")\n",
    "\n",
    "#extract the domain name from an email address string\n",
    "print(string.split(\"@\")[1])"
   ]
  },
  {
   "cell_type": "markdown",
   "metadata": {
    "id": "cora7_dU_-ML"
   },
   "source": [
    "33. Replace multiple spaces in a string with a single space."
   ]
  },
  {
   "cell_type": "code",
   "execution_count": null,
   "metadata": {
    "colab": {
     "base_uri": "https://localhost:8080/"
    },
    "id": "59-iFQ5YACQa",
    "outputId": "706252fb-21b4-4ba3-f599-f1ac8a4a58ab"
   },
   "outputs": [
    {
     "name": "stdout",
     "output_type": "stream",
     "text": [
      "enter the string:suraj    kumar\n",
      "suraj kumar\n"
     ]
    }
   ],
   "source": [
    "# take a string from user\n",
    "string=input(\"enter the string:\")\n",
    "\n",
    "#replace multiple spaces in a string with a single space\n",
    "print(\" \".join(string.split()))"
   ]
  },
  {
   "cell_type": "markdown",
   "metadata": {
    "id": "mySMZy8lAUbq"
   },
   "source": [
    "34. Check if a string is a valid URL."
   ]
  },
  {
   "cell_type": "code",
   "execution_count": null,
   "metadata": {
    "colab": {
     "base_uri": "https://localhost:8080/"
    },
    "id": "2GHxtkBsAX3R",
    "outputId": "39d91118-5479-4414-9102-725f351e9586"
   },
   "outputs": [
    {
     "name": "stdout",
     "output_type": "stream",
     "text": [
      "enter the string:https://www.youtube.com/\n",
      "string is a valid URL\n"
     ]
    }
   ],
   "source": [
    "# take string from user\n",
    "string=input(\"enter the string:\")\n",
    "\n",
    "#check if a string is a valid URL\n",
    "if \"http://\" in string or \"https://\" in string:\n",
    "    print(\"string is a valid URL\")\n",
    "else:\n",
    "    print(\"string is not a valid URL\")"
   ]
  },
  {
   "cell_type": "markdown",
   "metadata": {
    "id": "HkhfbSSNAn_A"
   },
   "source": [
    "35. Extract the protocol (http or https) from a URL string."
   ]
  },
  {
   "cell_type": "code",
   "execution_count": null,
   "metadata": {
    "colab": {
     "base_uri": "https://localhost:8080/"
    },
    "id": "daZKheNBAsPJ",
    "outputId": "21af07c7-edee-4de5-c652-aaf0311579cd"
   },
   "outputs": [
    {
     "name": "stdout",
     "output_type": "stream",
     "text": [
      "enter the string:https://www.youtube.com/\n",
      "https\n"
     ]
    }
   ],
   "source": [
    "# take string from user\n",
    "string=input(\"enter the string:\")\n",
    "\n",
    "#extract the protocol (http or https) from a URL string\n",
    "if \"http://\" in string:\n",
    "    print(\"http\")\n",
    "elif \"https://\" in string:\n",
    "    print(\"https\")\n",
    "else:\n",
    "    print(\"invalid URL\")"
   ]
  },
  {
   "cell_type": "markdown",
   "metadata": {
    "id": "YAJEGT3BA-iv"
   },
   "source": [
    "36. Find the frequency of each character in a string."
   ]
  },
  {
   "cell_type": "code",
   "execution_count": null,
   "metadata": {
    "colab": {
     "base_uri": "https://localhost:8080/"
    },
    "id": "IcuBeg8SBCex",
    "outputId": "2d0ee698-b57f-4e83-c9e1-e5e0aabe3b8f"
   },
   "outputs": [
    {
     "name": "stdout",
     "output_type": "stream",
     "text": [
      "enter the string:python is fun to learn\n",
      "{'p': 1, 'y': 1, 't': 2, 'h': 1, 'o': 2, 'n': 3, ' ': 4, 'i': 1, 's': 1, 'f': 1, 'u': 1, 'l': 1, 'e': 1, 'a': 1, 'r': 1}\n"
     ]
    }
   ],
   "source": [
    "# take string from user\n",
    "string=input(\"enter the string:\")\n",
    "freq={}\n",
    "#find the frequency of each character in a string\n",
    "for i in string:\n",
    "    if i in freq:\n",
    "        freq[i]+=1\n",
    "    else:\n",
    "        freq[i]=1\n",
    "print(freq)"
   ]
  },
  {
   "cell_type": "markdown",
   "metadata": {
    "id": "FzmL8iquBenT"
   },
   "source": [
    "37. Remove all punctuation from a string."
   ]
  },
  {
   "cell_type": "code",
   "execution_count": null,
   "metadata": {
    "colab": {
     "base_uri": "https://localhost:8080/"
    },
    "id": "oe0MzIdMBna5",
    "outputId": "03a14d56-b037-4142-f22c-c7d8df1803b5"
   },
   "outputs": [
    {
     "name": "stdout",
     "output_type": "stream",
     "text": [
      "enter the string:python. is fun to learn! .\n",
      "python is fun to learn \n"
     ]
    }
   ],
   "source": [
    "# take a string from user\n",
    "text=input(\"enter the string:\")\n",
    "\n",
    "#remove all punctuation from a string\n",
    "import string\n",
    "cleaned_text = text.translate(str.maketrans(\"\", \"\", string.punctuation))\n",
    "print(cleaned_text)"
   ]
  },
  {
   "cell_type": "markdown",
   "metadata": {
    "id": "UlpKTbx8Cpc5"
   },
   "source": [
    "38. Check if a string contains only digits."
   ]
  },
  {
   "cell_type": "code",
   "execution_count": null,
   "metadata": {
    "colab": {
     "base_uri": "https://localhost:8080/"
    },
    "id": "69QhLrPFCuq_",
    "outputId": "ef871f96-e512-4e1d-d841-8dc7e6495692"
   },
   "outputs": [
    {
     "name": "stdout",
     "output_type": "stream",
     "text": [
      "enter the string:97846341\n",
      "string contains only digits\n"
     ]
    }
   ],
   "source": [
    "# take a string from user\n",
    "string=input(\"enter the string:\")\n",
    "\n",
    "#check if a string contains only digits\n",
    "if string.isdigit():\n",
    "    print(\"string contains only digits\")\n",
    "else:\n",
    "    print(\"string does not contains only digits\")"
   ]
  },
  {
   "cell_type": "markdown",
   "metadata": {
    "id": "9Gek1KyAC-3j"
   },
   "source": [
    "39. Check if a string contains only alphabets."
   ]
  },
  {
   "cell_type": "code",
   "execution_count": null,
   "metadata": {
    "colab": {
     "base_uri": "https://localhost:8080/"
    },
    "id": "Fi6yEF5xDCAe",
    "outputId": "cc083515-670f-48e8-d8dc-52d463ca21f0"
   },
   "outputs": [
    {
     "name": "stdout",
     "output_type": "stream",
     "text": [
      "enter the string:surajkeae\n",
      "string contains only alphabets\n"
     ]
    }
   ],
   "source": [
    "# take a string from user\n",
    "string=input(\"enter the string:\")\n",
    "\n",
    "#check if a string contains only alphabets\n",
    "if string.isalpha():\n",
    "    print(\"string contains only alphabets\")\n",
    "else:\n",
    "    print(\"string does not contains only alphabets\")"
   ]
  },
  {
   "cell_type": "markdown",
   "metadata": {
    "id": "SyUGUYYxDRwI"
   },
   "source": [
    "40. Convert a string to a list of characters."
   ]
  },
  {
   "cell_type": "code",
   "execution_count": null,
   "metadata": {
    "colab": {
     "base_uri": "https://localhost:8080/"
    },
    "id": "2rcXISXlDV9C",
    "outputId": "d2db9fbc-aad3-4e32-b899-7c7c4b4523bd"
   },
   "outputs": [
    {
     "name": "stdout",
     "output_type": "stream",
     "text": [
      "enter the string:python\n",
      "['p', 'y', 't', 'h', 'o', 'n']\n"
     ]
    }
   ],
   "source": [
    "# take a string from user\n",
    "string=input(\"enter the string:\")\n",
    "list=[]\n",
    "#convert a string to a list of characters\n",
    "for i in string:\n",
    "    list.append(i)\n",
    "print(list)"
   ]
  },
  {
   "cell_type": "markdown",
   "metadata": {
    "id": "jryZ8DNPEqy4"
   },
   "source": [
    "41. Check if two strings are anagrams."
   ]
  },
  {
   "cell_type": "code",
   "execution_count": null,
   "metadata": {
    "colab": {
     "base_uri": "https://localhost:8080/"
    },
    "id": "VD7mKXwQEunl",
    "outputId": "cf291eb5-e19f-4b88-dbcf-2d8e2c9e438f"
   },
   "outputs": [
    {
     "name": "stdout",
     "output_type": "stream",
     "text": [
      "enter the string:listen\n",
      "enter the string:silent\n",
      "two strings are anagrams\n"
     ]
    }
   ],
   "source": [
    "# take two string from user\n",
    "string_1=input(\"enter the string:\")\n",
    "string_2=input(\"enter the string:\")\n",
    "\n",
    "#check if two strings are anagrams\n",
    "if sorted(string_1)==sorted(string_2):\n",
    "    print(\"two strings are anagrams\")\n",
    "else:\n",
    "    print(\"two strings are not anagrams\")"
   ]
  },
  {
   "cell_type": "markdown",
   "metadata": {
    "id": "Hqm9BMlmFOwf"
   },
   "source": [
    "42. Encode a string using a Caesar cipher."
   ]
  },
  {
   "cell_type": "code",
   "execution_count": null,
   "metadata": {
    "colab": {
     "base_uri": "https://localhost:8080/"
    },
    "id": "_o_AhhEKFR2m",
    "outputId": "84bdba51-60be-4520-8b72-0bfcc77a4b58"
   },
   "outputs": [
    {
     "name": "stdout",
     "output_type": "stream",
     "text": [
      "enter the string:Hello, World!\n",
      "enter the shift:3\n",
      "Encoded text: Khoor, Zruog!\n"
     ]
    }
   ],
   "source": [
    "# take a string from user\n",
    "text=input(\"enter the string:\")\n",
    "shift=int(input(\"enter the shift:\"))\n",
    "encoded_text = \"\"\n",
    "\n",
    "for char in text:\n",
    "    # Encrypt uppercase characters\n",
    "    if char.isupper():\n",
    "        encoded_text += chr((ord(char) + shift - 65) % 26 + 65)\n",
    "    # Encrypt lowercase characters\n",
    "    elif char.islower():\n",
    "        encoded_text += chr((ord(char) + shift - 97) % 26 + 97)\n",
    "    # Leave non-alphabetic characters unchanged\n",
    "    else:\n",
    "        encoded_text += char\n",
    "\n",
    "print(f\"Encoded text: {encoded_text}\")\n"
   ]
  },
  {
   "cell_type": "markdown",
   "metadata": {
    "id": "0XsWafi4Guqh"
   },
   "source": [
    "43. Decode a Caesar cipher encoded string."
   ]
  },
  {
   "cell_type": "code",
   "execution_count": null,
   "metadata": {
    "colab": {
     "base_uri": "https://localhost:8080/"
    },
    "id": "Q5lJwVJ0G0JB",
    "outputId": "96a2f280-d750-4a55-b45a-5aaa2c87e9ec"
   },
   "outputs": [
    {
     "name": "stdout",
     "output_type": "stream",
     "text": [
      "Decoded text: Hello, World!\n"
     ]
    }
   ],
   "source": [
    "encoded_text = \"Khoor, Zruog!\"  # Encoded text\n",
    "shift = 3\n",
    "decoded_text = \"\"\n",
    "\n",
    "for char in encoded_text:\n",
    "    # Decrypt uppercase characters\n",
    "    if char.isupper():\n",
    "        decoded_text += chr((ord(char) - shift - 65) % 26 + 65)\n",
    "    # Decrypt lowercase characters\n",
    "    elif char.islower():\n",
    "        decoded_text += chr((ord(char) - shift - 97) % 26 + 97)\n",
    "    # Leave non-alphabetic characters unchanged\n",
    "    else:\n",
    "        decoded_text += char\n",
    "\n",
    "print(f\"Decoded text: {decoded_text}\")\n"
   ]
  },
  {
   "cell_type": "markdown",
   "metadata": {
    "id": "TwNtsPrTHQEn"
   },
   "source": [
    "44. Find the most frequent word in a string."
   ]
  },
  {
   "cell_type": "code",
   "execution_count": null,
   "metadata": {
    "colab": {
     "base_uri": "https://localhost:8080/"
    },
    "id": "mD22lwP8HStM",
    "outputId": "55e59577-18ed-4adb-f259-844ec10e1e57"
   },
   "outputs": [
    {
     "name": "stdout",
     "output_type": "stream",
     "text": [
      "enter the string:python programming is awesome. python is easy to learn\n",
      "python\n"
     ]
    }
   ],
   "source": [
    "# take a string from user\n",
    "string=input(\"enter the string:\")\n",
    "freq={}\n",
    "#find the most frequent word in a string\n",
    "for i in string.split():\n",
    "    if i in freq:\n",
    "        freq[i]+=1\n",
    "    else:\n",
    "        freq[i]=1\n",
    "\n",
    "print(max(freq, key=freq.get))"
   ]
  },
  {
   "cell_type": "markdown",
   "metadata": {
    "id": "nSwpVm6LH0FL"
   },
   "source": [
    "45. Find all unique words in a string."
   ]
  },
  {
   "cell_type": "code",
   "execution_count": null,
   "metadata": {
    "colab": {
     "base_uri": "https://localhost:8080/"
    },
    "id": "iUWh00tAH3tQ",
    "outputId": "6811aede-d944-4ff4-8d6a-fecc3f260ccc"
   },
   "outputs": [
    {
     "name": "stdout",
     "output_type": "stream",
     "text": [
      "enter the string:python is awesome. python is fun to learn\n",
      "{'awesome.', 'to', 'is', 'fun', 'python', 'learn'}\n"
     ]
    }
   ],
   "source": [
    "# take a string from user\n",
    "string=input(\"enter the string:\")\n",
    "unique_words=set(string.split())\n",
    "print(unique_words)"
   ]
  },
  {
   "cell_type": "markdown",
   "metadata": {
    "id": "Uya6tfQ2IJET"
   },
   "source": []
  },
  {
   "cell_type": "markdown",
   "metadata": {
    "id": "hX2IYlI_IL3K"
   },
   "source": [
    "46. Count the number of syllables in a string."
   ]
  },
  {
   "cell_type": "code",
   "execution_count": null,
   "metadata": {
    "colab": {
     "base_uri": "https://localhost:8080/"
    },
    "id": "w3iQpenaIOd_",
    "outputId": "ada4d7af-a83a-445a-e04e-0ad8a3d3f8d3"
   },
   "outputs": [
    {
     "name": "stdout",
     "output_type": "stream",
     "text": [
      "enter the string:suraj\n",
      "2\n"
     ]
    }
   ],
   "source": [
    "# take a string from user\n",
    "string=input(\"enter the string:\")\n",
    "count=0\n",
    "#count the number of syllables in a string\n",
    "# syllables means contiguous vowels\n",
    "for i in string:\n",
    "    if i in \"aeiouAEIOU\":\n",
    "        count+=1\n",
    "print(count)"
   ]
  },
  {
   "cell_type": "markdown",
   "metadata": {
    "id": "Ym_BZUF2Ioru"
   },
   "source": []
  },
  {
   "cell_type": "markdown",
   "metadata": {
    "id": "-qZE48EXIru7"
   },
   "source": [
    "47. Check if a string contains any special characters."
   ]
  },
  {
   "cell_type": "code",
   "execution_count": null,
   "metadata": {
    "colab": {
     "base_uri": "https://localhost:8080/"
    },
    "id": "uAf0u93FIvyV",
    "outputId": "5bc75443-ab52-49e9-de54-ede26517a9fe"
   },
   "outputs": [
    {
     "name": "stdout",
     "output_type": "stream",
     "text": [
      "enter the string:$@%suse\n",
      "string contains special characters\n"
     ]
    }
   ],
   "source": [
    "# take a string from user\n",
    "string=input(\"enter the string:\")\n",
    "\n",
    "#check if a string contains any special characters\n",
    "if not string.isalnum():\n",
    "    print(\"string contains special characters\")\n",
    "else:\n",
    "    print(\"string does not contains special characters\")"
   ]
  },
  {
   "cell_type": "markdown",
   "metadata": {
    "id": "oCX6ykYTxSBz"
   },
   "source": [
    "48. Remove the nth word from a string."
   ]
  },
  {
   "cell_type": "code",
   "execution_count": null,
   "metadata": {
    "colab": {
     "base_uri": "https://localhost:8080/"
    },
    "id": "QYfCiaiXxS9P",
    "outputId": "ab9935aa-828a-432e-e037-b916f2c5c4ee"
   },
   "outputs": [
    {
     "name": "stdout",
     "output_type": "stream",
     "text": [
      "enter the string:python is fun to learn'\n",
      "enter the nth word:3\n",
      "python is to learn'\n"
     ]
    }
   ],
   "source": [
    "# take a string from user\n",
    "string=input(\"enter the string:\")\n",
    "n=int(input(\"enter the nth word:\"))\n",
    "#remove the nth word from a string\n",
    "print(\" \".join(string.split()[:n-1]+string.split()[n:]))"
   ]
  },
  {
   "cell_type": "markdown",
   "metadata": {
    "id": "wWZ3NE4Yx_HF"
   },
   "source": [
    "49. Insert a word at the nth position in a string."
   ]
  },
  {
   "cell_type": "code",
   "execution_count": null,
   "metadata": {
    "colab": {
     "base_uri": "https://localhost:8080/"
    },
    "id": "QMJ40wVZyDYy",
    "outputId": "d98548e8-a376-4ed1-83b1-a6b94e1957e6"
   },
   "outputs": [
    {
     "name": "stdout",
     "output_type": "stream",
     "text": [
      "enter the string:python is fun to learn\n",
      "enter the word:easy\n",
      "enter the nth position:3\n",
      "python is easy fun to learn\n"
     ]
    }
   ],
   "source": [
    "# take a string from user\n",
    "string=input(\"enter the string:\")\n",
    "word=input(\"enter the word:\")\n",
    "n=int(input(\"enter the nth position:\"))\n",
    "#insert a word at the nth position in a string\n",
    "print(\" \".join(string.split()[:n-1]+[word]+string.split()[n-1:]))"
   ]
  },
  {
   "cell_type": "markdown",
   "metadata": {
    "id": "jMfanfuJyXz6"
   },
   "source": [
    "50. Convert a CSV string to a list of lists."
   ]
  },
  {
   "cell_type": "code",
   "execution_count": null,
   "metadata": {
    "colab": {
     "base_uri": "https://localhost:8080/"
    },
    "id": "ysvuYY5YyanE",
    "outputId": "ef8dd2af-955c-4b9f-b177-8faa71b1d866"
   },
   "outputs": [
    {
     "name": "stdout",
     "output_type": "stream",
     "text": [
      "enter the string:SURAJ KUMAR\n",
      "['SURAJ KUMAR']\n"
     ]
    }
   ],
   "source": [
    "# take a string from user\n",
    "string=input(\"enter the string:\")\n",
    "#convert a CSV string to a list of lists\n",
    "print(string.split(\"\\n\"))"
   ]
  },
  {
   "cell_type": "markdown",
   "metadata": {
    "id": "-lCeUDBNyp6g"
   },
   "source": [
    "## **List Based Practice Problem :**"
   ]
  },
  {
   "cell_type": "markdown",
   "metadata": {
    "id": "SfKCFQ55y4xy"
   },
   "source": [
    "1. Create a list with integers from 1 to 10."
   ]
  },
  {
   "cell_type": "code",
   "execution_count": null,
   "metadata": {
    "colab": {
     "base_uri": "https://localhost:8080/"
    },
    "id": "W7Huw4ivy76K",
    "outputId": "71853519-bfd9-45d2-a95e-5ddf119b148b"
   },
   "outputs": [
    {
     "name": "stdout",
     "output_type": "stream",
     "text": [
      "[1, 2, 3, 4, 5, 6, 7, 8, 9, 10]\n"
     ]
    }
   ],
   "source": [
    "List=[]\n",
    "for i in range(1,11):\n",
    "    List.append(i)\n",
    "print(List)"
   ]
  },
  {
   "cell_type": "markdown",
   "metadata": {
    "id": "SLTnOfMpzINs"
   },
   "source": [
    "2. Find the length of a list without using the `len()` function."
   ]
  },
  {
   "cell_type": "code",
   "execution_count": null,
   "metadata": {
    "colab": {
     "base_uri": "https://localhost:8080/"
    },
    "id": "dDENGK7AzMmx",
    "outputId": "0db35419-07c7-4bec-854a-2a264a3d26f1"
   },
   "outputs": [
    {
     "name": "stdout",
     "output_type": "stream",
     "text": [
      "10\n"
     ]
    }
   ],
   "source": [
    "# take a list\n",
    "list=[1, 2, 3, 4, 5, 6, 7, 8, 9, 10]\n",
    "count=0\n",
    "#using for loop to iterate list and count increase\n",
    "for i in List:\n",
    "    count+=1\n",
    "print(count)"
   ]
  },
  {
   "cell_type": "markdown",
   "metadata": {
    "id": "NYT0M64GzlMm"
   },
   "source": [
    "3. Append an element to the end of a list."
   ]
  },
  {
   "cell_type": "code",
   "execution_count": null,
   "metadata": {
    "colab": {
     "base_uri": "https://localhost:8080/"
    },
    "id": "y1jjbY_Kzoaf",
    "outputId": "5eeded38-47d5-4ddd-ee6d-fad29c952139"
   },
   "outputs": [
    {
     "name": "stdout",
     "output_type": "stream",
     "text": [
      "[1, 2, 3, 4, 5, 6, 7, 8, 9, 10, 11]\n"
     ]
    }
   ],
   "source": [
    "list=[1, 2, 3, 4, 5, 6, 7, 8, 9, 10]\n",
    "# append an element to the end of a list\n",
    "list.append(11)\n",
    "print(list)\n"
   ]
  },
  {
   "cell_type": "markdown",
   "metadata": {
    "id": "z9lGkzXKz0Y2"
   },
   "source": [
    "4. Insert an element at a specific index in a list."
   ]
  },
  {
   "cell_type": "code",
   "execution_count": null,
   "metadata": {
    "colab": {
     "base_uri": "https://localhost:8080/"
    },
    "id": "MvU-I8Lcz3_b",
    "outputId": "947bfdef-ce09-4ea1-d96f-ff80b8f439a5"
   },
   "outputs": [
    {
     "name": "stdout",
     "output_type": "stream",
     "text": [
      "enter the number:4\n",
      "enter the index:2\n",
      "[1, 2, 4, 3, 4, 5, 6, 7, 8, 9, 10]\n"
     ]
    }
   ],
   "source": [
    "# Take a number to insert in list\n",
    "list=[1, 2, 3, 4, 5, 6, 7, 8, 9, 10]\n",
    "number=int(input(\"enter the number:\"))\n",
    "index=int(input(\"enter the index:\"))\n",
    "# Insert an element at a specific index in a list\n",
    "list.insert(index,number)\n",
    "print(list)\n"
   ]
  },
  {
   "cell_type": "markdown",
   "metadata": {
    "id": "Ccv0iL_B0TAX"
   },
   "source": [
    "5. Remove an element from a list by its value."
   ]
  },
  {
   "cell_type": "code",
   "execution_count": null,
   "metadata": {
    "colab": {
     "base_uri": "https://localhost:8080/"
    },
    "id": "lrl55rhY0W3V",
    "outputId": "d63d0b24-30f5-42ae-f6f9-a11fbc8cec10"
   },
   "outputs": [
    {
     "name": "stdout",
     "output_type": "stream",
     "text": [
      "[1, 2, 3, 4, 6, 7, 8, 9, 10]\n"
     ]
    }
   ],
   "source": [
    "list=[1, 2, 3, 4, 5, 6, 7, 8, 9, 10]\n",
    "# Remove an element from a list by its value\n",
    "list.remove(5)\n",
    "print(list)"
   ]
  },
  {
   "cell_type": "markdown",
   "metadata": {
    "id": "fxAScAXc0jhR"
   },
   "source": [
    "6. Remove an element from a list by its index."
   ]
  },
  {
   "cell_type": "code",
   "execution_count": null,
   "metadata": {
    "colab": {
     "base_uri": "https://localhost:8080/"
    },
    "id": "X0HhL9au0m2B",
    "outputId": "415c25e6-5287-4e65-f704-63ded5dffc69"
   },
   "outputs": [
    {
     "name": "stdout",
     "output_type": "stream",
     "text": [
      "enter the index:4\n",
      "[1, 2, 3, 4, 6, 7, 8, 9, 10]\n"
     ]
    }
   ],
   "source": [
    "# take a number to remove element in list\n",
    "list=[1, 2, 3, 4, 5, 6, 7, 8, 9, 10]\n",
    "index=int(input(\"enter the index:\"))\n",
    "# Remove an element from a list by its index\n",
    "list.pop(index)\n",
    "print(list)"
   ]
  },
  {
   "cell_type": "markdown",
   "metadata": {
    "id": "pjt7nJSh00Mn"
   },
   "source": [
    "7. Check if an element exists in a list."
   ]
  },
  {
   "cell_type": "code",
   "execution_count": null,
   "metadata": {
    "colab": {
     "base_uri": "https://localhost:8080/"
    },
    "id": "olK8k_Gz04st",
    "outputId": "74e0e82e-0c19-4262-c2d3-4a6d4afdcf31"
   },
   "outputs": [
    {
     "name": "stdout",
     "output_type": "stream",
     "text": [
      "enter the number:6\n",
      "element exists in a list\n"
     ]
    }
   ],
   "source": [
    "# take a number to check element in list\n",
    "list=[1, 2, 3, 4, 5, 6, 7, 8, 9, 10]\n",
    "number=int(input(\"enter the number:\"))\n",
    "# Check if an element exists in a list\n",
    "if number in list:\n",
    "    print(\"element exists in a list\")\n",
    "else:\n",
    "    print(\"element does not exists in a list\")"
   ]
  },
  {
   "cell_type": "markdown",
   "metadata": {
    "id": "rns-bfbE1H4e"
   },
   "source": [
    "8. Find the index of the first occurrence of an element in a list."
   ]
  },
  {
   "cell_type": "code",
   "execution_count": null,
   "metadata": {
    "colab": {
     "base_uri": "https://localhost:8080/"
    },
    "id": "yjcNGVI51KwR",
    "outputId": "1b1d9b31-40ff-4042-bd2d-b4df47a966ff"
   },
   "outputs": [
    {
     "name": "stdout",
     "output_type": "stream",
     "text": [
      "enter the number:3\n",
      "2\n"
     ]
    }
   ],
   "source": [
    "# take a number to find index of element in list\n",
    "list=[1, 2, 3, 4, 5, 6, 7, 8, 9, 10]\n",
    "number=int(input(\"enter the number:\"))\n",
    "# Find the index of the first occurrence of an element in a list\n",
    "if number in list:\n",
    "    print(list.index(number))"
   ]
  },
  {
   "cell_type": "markdown",
   "metadata": {
    "id": "ppWNrBHQ1XLx"
   },
   "source": [
    "9. Count the occurrences of an element in a list."
   ]
  },
  {
   "cell_type": "code",
   "execution_count": null,
   "metadata": {
    "colab": {
     "base_uri": "https://localhost:8080/"
    },
    "id": "R_amx3DR1aTP",
    "outputId": "80fca4b6-7319-4649-904d-c49a4ffc4b2d"
   },
   "outputs": [
    {
     "name": "stdout",
     "output_type": "stream",
     "text": [
      "enter the number:3\n",
      "3\n"
     ]
    }
   ],
   "source": [
    "# take a number to count occurrences of element in list\n",
    "list=[1, 2, 3, 4, 3, 6, 3, 8, 9, 10]\n",
    "number=int(input(\"enter the number:\"))\n",
    "# Count the occurrences of an element in a list\n",
    "print(list.count(number))"
   ]
  },
  {
   "cell_type": "markdown",
   "metadata": {
    "id": "3pSIYIOn1nMK"
   },
   "source": [
    "10. Reverse the order of elements in a list."
   ]
  },
  {
   "cell_type": "code",
   "execution_count": null,
   "metadata": {
    "colab": {
     "base_uri": "https://localhost:8080/"
    },
    "id": "W-Q9EE791rcb",
    "outputId": "3cda80e4-a4ea-44a2-a51a-dfc2c879e349"
   },
   "outputs": [
    {
     "name": "stdout",
     "output_type": "stream",
     "text": [
      "[10, 9, 8, 7, 6, 5, 4, 3, 2, 1]\n"
     ]
    }
   ],
   "source": [
    "list=[1, 2, 3, 4, 5, 6, 7, 8, 9, 10]\n",
    "# Reverse the order of elements in a list\n",
    "list.reverse()\n",
    "print(list)"
   ]
  },
  {
   "cell_type": "markdown",
   "metadata": {
    "id": "EkGOzyoe1yrN"
   },
   "source": [
    "11. Sort a list in ascending order."
   ]
  },
  {
   "cell_type": "code",
   "execution_count": null,
   "metadata": {
    "colab": {
     "base_uri": "https://localhost:8080/"
    },
    "id": "trnoQI4-12wa",
    "outputId": "bdcf8459-c989-4172-e25a-9946adee4bea"
   },
   "outputs": [
    {
     "name": "stdout",
     "output_type": "stream",
     "text": [
      "[1, 2, 3, 4, 5, 6, 7]\n"
     ]
    }
   ],
   "source": [
    "list=[1,6,4,3,5,7,2]\n",
    "# Sort a list in ascending order\n",
    "list.sort()\n",
    "print(list)"
   ]
  },
  {
   "cell_type": "markdown",
   "metadata": {
    "id": "G-q1Cuoz2AYp"
   },
   "source": [
    "12. Sort a list in descending order."
   ]
  },
  {
   "cell_type": "code",
   "execution_count": null,
   "metadata": {
    "colab": {
     "base_uri": "https://localhost:8080/"
    },
    "id": "xtyrcpiE2DY9",
    "outputId": "b9f67a08-122c-4a33-e9c6-ffd7de1b8de6"
   },
   "outputs": [
    {
     "name": "stdout",
     "output_type": "stream",
     "text": [
      "[7, 6, 5, 4, 3, 2, 1]\n"
     ]
    }
   ],
   "source": [
    "list=[1,6,4,3,5,7,2]\n",
    "# Sort a list in descending order\n",
    "list.sort(reverse=True)\n",
    "print(list)"
   ]
  },
  {
   "cell_type": "markdown",
   "metadata": {
    "id": "m1qhWTnG2K6x"
   },
   "source": [
    "13. Create a list of even numbers from 1 to 20."
   ]
  },
  {
   "cell_type": "code",
   "execution_count": null,
   "metadata": {
    "colab": {
     "base_uri": "https://localhost:8080/"
    },
    "id": "4EoWJOZZ2OXa",
    "outputId": "20b61ef1-578c-4a6d-d818-07b582fe726d"
   },
   "outputs": [
    {
     "name": "stdout",
     "output_type": "stream",
     "text": [
      "[2, 4, 6, 8, 10, 12, 14, 16, 18, 20]\n"
     ]
    }
   ],
   "source": [
    "list=[]\n",
    "# Create a list of even numbers from 1 to 20\n",
    "for i in range(1,21):\n",
    "    if i%2==0:\n",
    "        list.append(i)\n",
    "print(list)"
   ]
  },
  {
   "cell_type": "markdown",
   "metadata": {
    "id": "dRnEVSV72X0b"
   },
   "source": [
    "14. Create a list of odd numbers from 1 to 20."
   ]
  },
  {
   "cell_type": "code",
   "execution_count": null,
   "metadata": {
    "colab": {
     "base_uri": "https://localhost:8080/"
    },
    "id": "03KKxRtZ2Y5C",
    "outputId": "1d85037b-6574-4a4d-eaac-7c62c801b36d"
   },
   "outputs": [
    {
     "name": "stdout",
     "output_type": "stream",
     "text": [
      "[1, 3, 5, 7, 9, 11, 13, 15, 17, 19]\n"
     ]
    }
   ],
   "source": [
    "list=[]\n",
    "# Create a list of odd numbers from 1 to 20\n",
    "for i in range(1,21):\n",
    "    if i%2!=0:\n",
    "        list.append(i)\n",
    "print(list)"
   ]
  },
  {
   "cell_type": "markdown",
   "metadata": {
    "id": "iQQe552Y2dhs"
   },
   "source": [
    "15. Find the sum of all elements in a list."
   ]
  },
  {
   "cell_type": "code",
   "execution_count": null,
   "metadata": {
    "colab": {
     "base_uri": "https://localhost:8080/"
    },
    "id": "WlWtE3Yi2g9Y",
    "outputId": "ff5c3f7e-8526-4d7c-9ad6-ad90f30355f8"
   },
   "outputs": [
    {
     "name": "stdout",
     "output_type": "stream",
     "text": [
      "55\n"
     ]
    }
   ],
   "source": [
    "List=[]\n",
    "# take a list\n",
    "for i in range(1,11):\n",
    "    List.append(i)\n",
    "# Find the sum of all elements in a list\n",
    "print(sum(List))"
   ]
  },
  {
   "cell_type": "markdown",
   "metadata": {
    "id": "83aUnufE2qzm"
   },
   "source": [
    "16. Find the maximum value in a list."
   ]
  },
  {
   "cell_type": "code",
   "execution_count": null,
   "metadata": {
    "colab": {
     "base_uri": "https://localhost:8080/"
    },
    "id": "PJ5vqw7C2t8b",
    "outputId": "1b617cc6-e0a1-4fb5-f276-c8489743dd56"
   },
   "outputs": [
    {
     "name": "stdout",
     "output_type": "stream",
     "text": [
      "7\n"
     ]
    }
   ],
   "source": [
    "list=[1,6,4,3,5,7,2]\n",
    "# Find the maximum value in a list\n",
    "print(max(list))"
   ]
  },
  {
   "cell_type": "markdown",
   "metadata": {
    "id": "idyUPvrN2zUP"
   },
   "source": [
    "17. Find the minimum value in a list."
   ]
  },
  {
   "cell_type": "code",
   "execution_count": null,
   "metadata": {
    "colab": {
     "base_uri": "https://localhost:8080/"
    },
    "id": "39YsgoG022Q0",
    "outputId": "7562ca50-56f9-4a83-dcb9-4aa11af737af"
   },
   "outputs": [
    {
     "name": "stdout",
     "output_type": "stream",
     "text": [
      "1\n"
     ]
    }
   ],
   "source": [
    "list=[1,6,4,3,5,7,2]\n",
    "# Find the maximum value in a list\n",
    "print(min(list))"
   ]
  },
  {
   "cell_type": "markdown",
   "metadata": {
    "id": "coytVQ0627jA"
   },
   "source": [
    "18. Create a list of squares of numbers from 1 to 10."
   ]
  },
  {
   "cell_type": "code",
   "execution_count": null,
   "metadata": {
    "colab": {
     "base_uri": "https://localhost:8080/"
    },
    "id": "au7zWLFN3Afg",
    "outputId": "99f6709a-636a-437f-fb31-ae8e626fc8f8"
   },
   "outputs": [
    {
     "name": "stdout",
     "output_type": "stream",
     "text": [
      "[1, 4, 9, 16, 25, 36, 49, 64, 81, 100]\n"
     ]
    }
   ],
   "source": [
    "list=[]\n",
    "# Create a list of squares of numbers from 1 to 10\n",
    "for i in range(1,11):\n",
    "    list.append(i**2)\n",
    "print(list)"
   ]
  },
  {
   "cell_type": "markdown",
   "metadata": {
    "id": "GsY5w7ui3Q12"
   },
   "source": [
    "19. Create a list of random numbers."
   ]
  },
  {
   "cell_type": "code",
   "execution_count": null,
   "metadata": {
    "colab": {
     "base_uri": "https://localhost:8080/"
    },
    "id": "6K5C2zmT3Ton",
    "outputId": "c337524c-8cb8-487c-a41c-74997b66c741"
   },
   "outputs": [
    {
     "name": "stdout",
     "output_type": "stream",
     "text": [
      "enter the number of random numbers:6\n",
      "[35, 97, 83, 83, 57, 2]\n"
     ]
    }
   ],
   "source": [
    "# take n random numbers from user\n",
    "import random\n",
    "n=int(input(\"enter the number of random numbers:\"))\n",
    "list=[]\n",
    "# Create a list of random numbers\n",
    "for i in range(n):\n",
    "    list.append(random.randint(1,100))\n",
    "print(list)"
   ]
  },
  {
   "cell_type": "markdown",
   "metadata": {
    "id": "Iv4EiJM33j2k"
   },
   "source": [
    "20. Remove duplicates from a list."
   ]
  },
  {
   "cell_type": "code",
   "execution_count": null,
   "metadata": {
    "colab": {
     "base_uri": "https://localhost:8080/"
    },
    "id": "hc-PyDEg3nZS",
    "outputId": "78866209-186c-4592-8278-6e30f58a7b5b"
   },
   "outputs": [
    {
     "name": "stdout",
     "output_type": "stream",
     "text": [
      "[6, 7, 6, 7]\n"
     ]
    }
   ],
   "source": [
    "from posixpath import lexists\n",
    "list=[1,6,4,3,5,7,2,1,6,4,3,5,7,2]\n",
    "# Remove duplicates from a list\n",
    "for i in list:\n",
    "  for j in list:\n",
    "    if i==j:\n",
    "      list.remove(j)\n",
    "\n",
    "print(list)"
   ]
  },
  {
   "cell_type": "markdown",
   "metadata": {
    "id": "AD187sdD4gKD"
   },
   "source": [
    "21. Find the common elements between two lists."
   ]
  },
  {
   "cell_type": "code",
   "execution_count": null,
   "metadata": {
    "colab": {
     "base_uri": "https://localhost:8080/"
    },
    "id": "HWbrzUX24p0E",
    "outputId": "6bb49f87-6cf4-4eab-b108-5fc8420c2a2c"
   },
   "outputs": [
    {
     "name": "stdout",
     "output_type": "stream",
     "text": [
      "2\n",
      "4\n",
      "6\n",
      "8\n",
      "10\n"
     ]
    }
   ],
   "source": [
    "list_1=[1, 2, 3, 4, 5, 6, 7, 8, 9, 10]\n",
    "list_2=[2, 4, 6, 8, 10, 12, 14, 16, 18, 20]\n",
    "# Find the common elements between two lists\n",
    "for i in list_1:\n",
    "  for j in list_2:\n",
    "    if i==j:\n",
    "      print(i)"
   ]
  },
  {
   "cell_type": "markdown",
   "metadata": {
    "id": "KgYjlwRp5AnX"
   },
   "source": [
    "22. Find the difference between two lists."
   ]
  },
  {
   "cell_type": "code",
   "execution_count": null,
   "metadata": {
    "colab": {
     "base_uri": "https://localhost:8080/"
    },
    "id": "4z2gKzuS5Dn6",
    "outputId": "676cfee3-d127-4b45-c9f6-be669d59b7a5"
   },
   "outputs": [
    {
     "name": "stdout",
     "output_type": "stream",
     "text": [
      "[1, 3, 5, 7, 9]\n",
      "[12, 14, 16, 18, 20]\n"
     ]
    }
   ],
   "source": [
    "list_1=[1, 2, 3, 4, 5, 6, 7, 8, 9, 10]\n",
    "list_2=[2, 4, 6, 8, 10, 12, 14, 16, 18, 20]\n",
    "# Find the difference between two lists\n",
    "for i in list_1:\n",
    "  for j in list_2:\n",
    "    if i==j:\n",
    "      list_1.remove(i)\n",
    "      list_2.remove(j)\n",
    "print(list_1)\n",
    "print(list_2)"
   ]
  },
  {
   "cell_type": "markdown",
   "metadata": {
    "id": "xX4uy1cu5gF5"
   },
   "source": [
    "23. Merge two lists."
   ]
  },
  {
   "cell_type": "code",
   "execution_count": null,
   "metadata": {
    "colab": {
     "base_uri": "https://localhost:8080/"
    },
    "id": "vkpr3IdN5jhV",
    "outputId": "b0a5e6ef-48c9-4df4-ec23-dca1ae794938"
   },
   "outputs": [
    {
     "name": "stdout",
     "output_type": "stream",
     "text": [
      "[1, 2, 3, 4, 5, 6, 7, 8, 9, 10, 2, 4, 6, 8, 10, 12, 14, 16, 18, 20]\n"
     ]
    }
   ],
   "source": [
    "list_1=[1, 2, 3, 4, 5, 6, 7, 8, 9, 10]\n",
    "list_2=[2, 4, 6, 8, 10, 12, 14, 16, 18, 20]\n",
    "# Merge two lists\n",
    "print(list_1+list_2)"
   ]
  },
  {
   "cell_type": "markdown",
   "metadata": {
    "id": "WSmA6izm5yfI"
   },
   "source": []
  },
  {
   "cell_type": "markdown",
   "metadata": {
    "id": "ZSsuSE5h5ylb"
   },
   "source": [
    "24. Multiply all elements in a list by 2."
   ]
  },
  {
   "cell_type": "code",
   "execution_count": null,
   "metadata": {
    "colab": {
     "base_uri": "https://localhost:8080/"
    },
    "id": "RVjlu0sD51jh",
    "outputId": "26ec17ad-9cf0-4419-fe61-0f18c4d91025"
   },
   "outputs": [
    {
     "name": "stdout",
     "output_type": "stream",
     "text": [
      "[2, 4, 6, 8, 10, 12, 14, 16, 18, 20]\n"
     ]
    }
   ],
   "source": [
    "list=[1, 2, 3, 4, 5, 6, 7, 8, 9, 10]\n",
    "# Multiply all elements in a list by 2\n",
    "for i in range(len(list)):\n",
    "  list[i]*=2\n",
    "print(list)"
   ]
  },
  {
   "cell_type": "markdown",
   "metadata": {
    "id": "lGsCYfSY6Aw2"
   },
   "source": [
    "25. Filter out all even numbers from a list."
   ]
  },
  {
   "cell_type": "code",
   "execution_count": null,
   "metadata": {
    "colab": {
     "base_uri": "https://localhost:8080/"
    },
    "id": "rVGYQ8Nf6FDQ",
    "outputId": "2966a1f3-a688-4baf-f676-6ce9a24cfab3"
   },
   "outputs": [
    {
     "name": "stdout",
     "output_type": "stream",
     "text": [
      "[1, 3, 5, 7, 9]\n",
      "[2, 4, 6, 8, 10]\n"
     ]
    }
   ],
   "source": [
    "list=[1,2,3,4,5,6,7,8,9,10]\n",
    "# Filter out all even numbers from a list\n",
    "list_1=[]\n",
    "for i in list:\n",
    "  if i%2==0:\n",
    "    list_1.append(i)\n",
    "    list.remove(i)\n",
    "print(list)\n",
    "print(list_1)"
   ]
  },
  {
   "cell_type": "markdown",
   "metadata": {
    "id": "g01ji_d16xo-"
   },
   "source": [
    "26. Convert a list of strings to a list of integers."
   ]
  },
  {
   "cell_type": "code",
   "execution_count": null,
   "metadata": {
    "colab": {
     "base_uri": "https://localhost:8080/"
    },
    "id": "RegweB8S61Jh",
    "outputId": "4abae155-3d4d-4084-b242-a3e7d5ad6098"
   },
   "outputs": [
    {
     "name": "stdout",
     "output_type": "stream",
     "text": [
      "[1, 2, 3, 4, 5, 6, 7, 8, 9, 10]\n"
     ]
    }
   ],
   "source": [
    "list=['1', '2', '3', '4', '5', '6', '7', '8', '9', '10']\n",
    "# Convert a list of strings to a list of integers\n",
    "for i in range(len(list)):\n",
    "  list[i]=int(list[i])\n",
    "print(list)"
   ]
  },
  {
   "cell_type": "markdown",
   "metadata": {
    "id": "A1obLKCi7Ehl"
   },
   "source": [
    "27. Convert a list of integers to a list of strings."
   ]
  },
  {
   "cell_type": "code",
   "execution_count": null,
   "metadata": {
    "colab": {
     "base_uri": "https://localhost:8080/"
    },
    "id": "4BzTRFXq7Php",
    "outputId": "ff0a6344-add0-4c7a-e6b9-3db884a43e05"
   },
   "outputs": [
    {
     "name": "stdout",
     "output_type": "stream",
     "text": [
      "['1', '2', '3', '4', '5', '6', '7', '8', '9', '10']\n"
     ]
    }
   ],
   "source": [
    "list=[1, 2, 3, 4, 5, 6, 7, 8, 9, 10]\n",
    "# Convert a list of strings to a list of integers\n",
    "for i in range(len(list)):\n",
    "  list[i]=str(list[i])\n",
    "print(list)"
   ]
  },
  {
   "cell_type": "markdown",
   "metadata": {
    "id": "uR68vVa_7Y2z"
   },
   "source": [
    "28. Flatten a nested list."
   ]
  },
  {
   "cell_type": "code",
   "execution_count": null,
   "metadata": {
    "colab": {
     "base_uri": "https://localhost:8080/"
    },
    "id": "SYT1E59C7cMx",
    "outputId": "39fa8164-991f-4781-b398-48fe3ad65394"
   },
   "outputs": [
    {
     "name": "stdout",
     "output_type": "stream",
     "text": [
      "[1, 2, 3, 4, 5, 6, 7, 8]\n"
     ]
    }
   ],
   "source": [
    "nested_list = [[1, 2, 3], [4, 5], [6, 7, 8]]\n",
    "\n",
    "# Flatten the list\n",
    "flattened_list = [item for sublist in nested_list for item in sublist]\n",
    "\n",
    "print(flattened_list)"
   ]
  },
  {
   "cell_type": "markdown",
   "metadata": {
    "id": "DIbbtvUl74ZV"
   },
   "source": [
    "29. Create a list of the first 10 Fibonacci numbers."
   ]
  },
  {
   "cell_type": "code",
   "execution_count": null,
   "metadata": {
    "colab": {
     "base_uri": "https://localhost:8080/"
    },
    "id": "HhGkX5j477XD",
    "outputId": "d098b035-84c8-4bf3-c369-224ce309f35d"
   },
   "outputs": [
    {
     "name": "stdout",
     "output_type": "stream",
     "text": [
      "[0, 1, 1, 2, 3, 5, 8, 13, 21, 34]\n"
     ]
    }
   ],
   "source": [
    "list=[]\n",
    "# Create a list of the first 10 Fibonacci numbers\n",
    "list.append(0)\n",
    "list.append(1)\n",
    "for i in range(2,10):\n",
    "  list.append(list[i-1]+list[i-2])\n",
    "print(list)"
   ]
  },
  {
   "cell_type": "markdown",
   "metadata": {
    "id": "yQ0g1q4G8HRB"
   },
   "source": [
    "30. Check if a list is sorted."
   ]
  },
  {
   "cell_type": "code",
   "execution_count": null,
   "metadata": {
    "colab": {
     "base_uri": "https://localhost:8080/"
    },
    "id": "K-T2nWsK8LA1",
    "outputId": "b4ee964e-0873-46c4-c27b-a829777e5ef3"
   },
   "outputs": [
    {
     "name": "stdout",
     "output_type": "stream",
     "text": [
      "list is not sorted\n"
     ]
    }
   ],
   "source": [
    "list=[1,6,4,3,5,7,2]\n",
    "# Check if a list is sorted\n",
    "if list==sorted(list):\n",
    "  print(\"list is sorted\")\n",
    "else:\n",
    "  print(\"list is not sorted\")"
   ]
  },
  {
   "cell_type": "markdown",
   "metadata": {
    "id": "fHkHTZfA8Txh"
   },
   "source": [
    "31. Rotate a list to the left by `n` positions."
   ]
  },
  {
   "cell_type": "code",
   "execution_count": null,
   "metadata": {
    "colab": {
     "base_uri": "https://localhost:8080/"
    },
    "id": "IJpE_Cdy8Z5B",
    "outputId": "f530f202-1ad1-4acf-ebd9-ec15c9bf1f4a"
   },
   "outputs": [
    {
     "name": "stdout",
     "output_type": "stream",
     "text": [
      "enter the number of positions:3\n",
      "[3, 5, 7, 2, 1, 6, 4]\n"
     ]
    }
   ],
   "source": [
    "list=[1,6,4,3,5,7,2]\n",
    "# Rotate a list to the left by n positions\n",
    "n=int(input(\"enter the number of positions:\"))\n",
    "for i in range(n):\n",
    "  list.append(list.pop(0))\n",
    "print(list)"
   ]
  },
  {
   "cell_type": "markdown",
   "metadata": {
    "id": "xXfevYy582i6"
   },
   "source": [
    "32. Rotate a list to the right by `n` positions."
   ]
  },
  {
   "cell_type": "code",
   "execution_count": null,
   "metadata": {
    "colab": {
     "base_uri": "https://localhost:8080/"
    },
    "id": "ILhNIbcP87WN",
    "outputId": "cfacbf80-d9ba-488a-d275-fdb70a26d650"
   },
   "outputs": [
    {
     "name": "stdout",
     "output_type": "stream",
     "text": [
      "enter the number of positions:3\n",
      "[5, 7, 2, 1, 6, 4, 3]\n"
     ]
    }
   ],
   "source": [
    "list=[1,6,4,3,5,7,2]\n",
    "# Rotate a list to the right by n positions\n",
    "n=int(input(\"enter the number of positions:\"))\n",
    "for i in range(n):\n",
    "  list.insert(0,list.pop())\n",
    "print(list)"
   ]
  },
  {
   "cell_type": "markdown",
   "metadata": {
    "id": "37o46F6ZBDts"
   },
   "source": []
  },
  {
   "cell_type": "markdown",
   "metadata": {
    "id": "9bv487TzBEGU"
   },
   "source": [
    "33. Create a list of prime numbers up to 50."
   ]
  },
  {
   "cell_type": "code",
   "execution_count": null,
   "metadata": {
    "colab": {
     "base_uri": "https://localhost:8080/"
    },
    "id": "pDiMYnsABE7y",
    "outputId": "664e93ab-4519-4da1-910a-caf18f4b8469"
   },
   "outputs": [
    {
     "name": "stdout",
     "output_type": "stream",
     "text": [
      "[2, 3, 5, 7, 11, 13, 17, 19, 23, 29, 31, 37, 41, 43, 47]\n"
     ]
    }
   ],
   "source": [
    "list=[]\n",
    "# Create a list of prime numbers up to 50\n",
    "for i in range(2,51):\n",
    "  for j in range(2,i):\n",
    "    if i%j==0:\n",
    "      break\n",
    "  else:\n",
    "    list.append(i)\n",
    "print(list)"
   ]
  },
  {
   "cell_type": "markdown",
   "metadata": {
    "id": "XAWpcBDlFCMH"
   },
   "source": [
    "34. Split a list into chunks of size `n`."
   ]
  },
  {
   "cell_type": "code",
   "execution_count": null,
   "metadata": {
    "colab": {
     "base_uri": "https://localhost:8080/"
    },
    "id": "f6numJ3qFFwP",
    "outputId": "a29ce8e8-d40a-467d-c522-b68afe4a80f3"
   },
   "outputs": [
    {
     "name": "stdout",
     "output_type": "stream",
     "text": [
      "enter the number of chunks:3\n",
      "[1, 6, 4]\n",
      "[3, 5, 7]\n",
      "[2, 1, 6]\n",
      "[4, 3, 5]\n",
      "[7, 2]\n"
     ]
    }
   ],
   "source": [
    "list=[1,6,4,3,5,7,2,1,6,4,3,5,7,2]\n",
    "# Split a list into chunks of size n\n",
    "n=int(input(\"enter the number of chunks:\"))\n",
    "for i in range(0,len(list),n):\n",
    "  print(list[i:i+n])"
   ]
  },
  {
   "cell_type": "markdown",
   "metadata": {
    "id": "_T3ofr-2II4h"
   },
   "source": [
    "35. Find the second largest number in a list."
   ]
  },
  {
   "cell_type": "code",
   "execution_count": null,
   "metadata": {
    "colab": {
     "base_uri": "https://localhost:8080/"
    },
    "id": "gVSVBqReIMNB",
    "outputId": "35cb651c-b610-4714-e84c-be3594b026d7"
   },
   "outputs": [
    {
     "name": "stdout",
     "output_type": "stream",
     "text": [
      "6\n"
     ]
    }
   ],
   "source": [
    "list=[1,6,4,3,5,7,2]\n",
    "# Find the second largest number in a list\n",
    "list.sort()\n",
    "print(list[-2])"
   ]
  },
  {
   "cell_type": "markdown",
   "metadata": {
    "id": "RhXk4SDCIdzP"
   },
   "source": [
    "36. Replace every element in a list with its square."
   ]
  },
  {
   "cell_type": "code",
   "execution_count": null,
   "metadata": {
    "colab": {
     "base_uri": "https://localhost:8080/"
    },
    "id": "KAbbXnR-Iew2",
    "outputId": "1a901e8d-9236-4142-b49b-cfcf5a8691d8"
   },
   "outputs": [
    {
     "name": "stdout",
     "output_type": "stream",
     "text": [
      "[1, 36, 16, 9, 25, 49, 4]\n"
     ]
    }
   ],
   "source": [
    "list=[1,6,4,3,5,7,2]\n",
    "# Replace every element in a list with its square\n",
    "for i in range(len(list)):\n",
    "  list[i]=list[i]**2\n",
    "print(list)"
   ]
  },
  {
   "cell_type": "markdown",
   "metadata": {
    "id": "wF6nt-MaIlWH"
   },
   "source": [
    "37. Convert a list to a dictionary where list elements become keys and their\n",
    "indices become values."
   ]
  },
  {
   "cell_type": "code",
   "execution_count": null,
   "metadata": {
    "colab": {
     "base_uri": "https://localhost:8080/"
    },
    "id": "DmePNxv8IoZp",
    "outputId": "9848d015-b261-44be-c0ea-7854b798a00a"
   },
   "outputs": [
    {
     "name": "stdout",
     "output_type": "stream",
     "text": [
      "{1: 0, 6: 1, 4: 2, 3: 3, 5: 4, 7: 5, 2: 6}\n"
     ]
    }
   ],
   "source": [
    "list=[1,6,4,3,5,7,2]\n",
    "# Convert a list to a dictionary where list elements become keys and their indices become values\n",
    "dict={}\n",
    "for i in range(len(list)):\n",
    "  dict[list[i]]=i\n",
    "print(dict)"
   ]
  },
  {
   "cell_type": "markdown",
   "metadata": {
    "id": "LxPEXE1JI4Ht"
   },
   "source": [
    "38. Shuffle the elements of a list randomly."
   ]
  },
  {
   "cell_type": "code",
   "execution_count": null,
   "metadata": {
    "colab": {
     "base_uri": "https://localhost:8080/"
    },
    "id": "B2_B_gEUI6xW",
    "outputId": "02401505-37da-4a6f-fe29-847749d17ffc"
   },
   "outputs": [
    {
     "name": "stdout",
     "output_type": "stream",
     "text": [
      "[7, 2, 4, 6, 3, 1, 5]\n"
     ]
    }
   ],
   "source": [
    "list=[1,6,4,3,5,7,2]\n",
    "# Shuffle the elements of a list randomly\n",
    "import random\n",
    "random.shuffle(list)\n",
    "print(list)"
   ]
  },
  {
   "cell_type": "markdown",
   "metadata": {
    "id": "N8DdJQVKJIsj"
   },
   "source": [
    "39. Create a list of the first 10 factorial numbers."
   ]
  },
  {
   "cell_type": "code",
   "execution_count": null,
   "metadata": {
    "colab": {
     "base_uri": "https://localhost:8080/"
    },
    "id": "olbDsxHdJM6M",
    "outputId": "5b420a5b-e682-4b03-e555-807009eeb4a8"
   },
   "outputs": [
    {
     "name": "stdout",
     "output_type": "stream",
     "text": [
      "[1, 2, 6, 24, 120, 720, 5040, 40320, 362880, 3628800]\n"
     ]
    }
   ],
   "source": [
    "list=[]\n",
    "# Create a list of the first 10 factorial numbers\n",
    "for i in range(1,11):\n",
    "  fact=1\n",
    "  for j in range(1,i+1):\n",
    "    fact*=j\n",
    "  list.append(fact)\n",
    "print(list)"
   ]
  },
  {
   "cell_type": "markdown",
   "metadata": {
    "id": "Rnvf5sAQJh9l"
   },
   "source": [
    "40. Check if two lists have at least one element in common."
   ]
  },
  {
   "cell_type": "code",
   "execution_count": null,
   "metadata": {
    "colab": {
     "base_uri": "https://localhost:8080/"
    },
    "id": "U-XNCkKzJlml",
    "outputId": "16c9ffc7-5f52-4938-a927-a101eaabf2bc"
   },
   "outputs": [
    {
     "name": "stdout",
     "output_type": "stream",
     "text": [
      "two lists have at least one element in common 6\n",
      "two lists have at least one element in common 4\n",
      "two lists have at least one element in common 2\n"
     ]
    }
   ],
   "source": [
    "list_1=[1,6,4,3,5,7,2]\n",
    "list_2=[2,4,6,8,10,12,14,16,18,20]\n",
    "# Check if two lists have at least one element in common\n",
    "for i in list_1:\n",
    "  for j in list_2:\n",
    "    if i==j:\n",
    "      print(\"two lists have at least one element in common\",i)\n",
    "      break"
   ]
  },
  {
   "cell_type": "markdown",
   "metadata": {
    "id": "tmK5IPJZKJDV"
   },
   "source": [
    "41. Remove all elements from a list."
   ]
  },
  {
   "cell_type": "code",
   "execution_count": null,
   "metadata": {
    "colab": {
     "base_uri": "https://localhost:8080/"
    },
    "id": "WHDTOvfyKMHf",
    "outputId": "cb6f6e25-da59-4faf-f275-ad952050da7c"
   },
   "outputs": [
    {
     "name": "stdout",
     "output_type": "stream",
     "text": [
      "[]\n"
     ]
    }
   ],
   "source": [
    "list=[1,6,4,3,5,7,2]\n",
    "# Remove all elements from a list\n",
    "list.clear()\n",
    "print(list)"
   ]
  },
  {
   "cell_type": "markdown",
   "metadata": {
    "id": "iBx9tWLfKWOr"
   },
   "source": [
    "42. Replace negative numbers in a list with 0."
   ]
  },
  {
   "cell_type": "code",
   "execution_count": null,
   "metadata": {
    "colab": {
     "base_uri": "https://localhost:8080/"
    },
    "id": "01LW5c1_KY_y",
    "outputId": "2e3192fc-887b-4eea-b976-f3aa8d1cb67f"
   },
   "outputs": [
    {
     "name": "stdout",
     "output_type": "stream",
     "text": [
      "[1, 6, 0, 3, 5, 0, 2]\n"
     ]
    }
   ],
   "source": [
    "list=[1,6,-4,3,5,-7,2]\n",
    "# Replace negative numbers in a list with 0\n",
    "for i in range(len(list)):\n",
    "  if list[i]<0:\n",
    "    list[i]=0\n",
    "print(list)"
   ]
  },
  {
   "cell_type": "markdown",
   "metadata": {
    "id": "p6MCFaVNKjyu"
   },
   "source": [
    "43. Convert a string into a list of words."
   ]
  },
  {
   "cell_type": "code",
   "execution_count": null,
   "metadata": {
    "colab": {
     "base_uri": "https://localhost:8080/"
    },
    "id": "-yuSClqTKmej",
    "outputId": "e0544b56-ee3b-4a16-e4c1-228f213f71f3"
   },
   "outputs": [
    {
     "name": "stdout",
     "output_type": "stream",
     "text": [
      "enter the string:python is fun to learn\n",
      "['python', 'is', 'fun', 'to', 'learn']\n"
     ]
    }
   ],
   "source": [
    "# take a string from user\n",
    "string=input(\"enter the string:\")\n",
    "# Convert a string into a list of words\n",
    "list=string.split()\n",
    "print(list)"
   ]
  },
  {
   "cell_type": "markdown",
   "metadata": {
    "id": "m-XF87ZOK4Hs"
   },
   "source": [
    "44. Convert a list of words into a string."
   ]
  },
  {
   "cell_type": "code",
   "execution_count": null,
   "metadata": {
    "colab": {
     "base_uri": "https://localhost:8080/"
    },
    "id": "TxzpxjlYK67h",
    "outputId": "17aead99-3c1e-46a7-d299-9061e19ad91b"
   },
   "outputs": [
    {
     "name": "stdout",
     "output_type": "stream",
     "text": [
      "python is fun to learn\n"
     ]
    }
   ],
   "source": [
    "list=['python', 'is', 'fun', 'to', 'learn']\n",
    "# Convert a list of words into a string\n",
    "string=' '.join(list)\n",
    "print(string)"
   ]
  },
  {
   "cell_type": "markdown",
   "metadata": {
    "id": "oUlonftzLGs0"
   },
   "source": [
    "45. Create a list of the first `n` powers of 2."
   ]
  },
  {
   "cell_type": "code",
   "execution_count": null,
   "metadata": {
    "colab": {
     "base_uri": "https://localhost:8080/"
    },
    "id": "-301IeNALMwL",
    "outputId": "f6e1231e-1743-44a2-d72d-d131ec1a6df3"
   },
   "outputs": [
    {
     "name": "stdout",
     "output_type": "stream",
     "text": [
      "enter the number of powers:6\n",
      "[1, 2, 4, 8, 16, 32]\n"
     ]
    }
   ],
   "source": [
    "list=[]\n",
    "# Create a list of the first n powers of 2\n",
    "n=int(input(\"enter the number of powers:\"))\n",
    "for i in range(n):\n",
    "  list.append(2**i)\n",
    "print(list)"
   ]
  },
  {
   "cell_type": "markdown",
   "metadata": {
    "id": "14uYBfDOPxYn"
   },
   "source": [
    "46. Find the longest string in a list of strings."
   ]
  },
  {
   "cell_type": "code",
   "execution_count": null,
   "metadata": {
    "colab": {
     "base_uri": "https://localhost:8080/"
    },
    "id": "ExjyfUX8PyX3",
    "outputId": "2a2f05ed-c91f-4a26-eaca-80177bf88a2a"
   },
   "outputs": [
    {
     "name": "stdout",
     "output_type": "stream",
     "text": [
      "python\n"
     ]
    }
   ],
   "source": [
    "list=['python', 'is', 'fun', 'to', 'learn']\n",
    "# Find the longest string in a list of strings\n",
    "longest_string=max(list,key=len)\n",
    "print(longest_string)"
   ]
  },
  {
   "cell_type": "markdown",
   "metadata": {
    "id": "Ma1OvIY5P7w2"
   },
   "source": [
    "47. Find the shortest string in a list of strings."
   ]
  },
  {
   "cell_type": "code",
   "execution_count": null,
   "metadata": {
    "colab": {
     "base_uri": "https://localhost:8080/"
    },
    "id": "QN25gbcIP_ON",
    "outputId": "b25bcb67-fe98-46a8-a5e6-2f7505062b4f"
   },
   "outputs": [
    {
     "name": "stdout",
     "output_type": "stream",
     "text": [
      "is\n"
     ]
    }
   ],
   "source": [
    "list=['python', 'is', 'fun', 'to', 'learn']\n",
    "# Find the shortest string in a list of strings\n",
    "longest_string=min(list,key=len)\n",
    "print(longest_string)"
   ]
  },
  {
   "cell_type": "markdown",
   "metadata": {
    "id": "spMfope6QLsD"
   },
   "source": [
    "48. Create a list of the first `n` triangular numbers."
   ]
  },
  {
   "cell_type": "code",
   "execution_count": null,
   "metadata": {
    "colab": {
     "base_uri": "https://localhost:8080/"
    },
    "id": "bXzFPG2-QOxG",
    "outputId": "0a9d74e8-fde9-4380-96f7-221ec4c8db03"
   },
   "outputs": [
    {
     "name": "stdout",
     "output_type": "stream",
     "text": [
      "enter the number of triangular numbers:6\n",
      "[1, 3, 6, 10, 15, 21]\n"
     ]
    }
   ],
   "source": [
    "list=[]\n",
    "# Create a list of the first n triangular numbers\n",
    "n=int(input(\"enter the number of triangular numbers:\"))\n",
    "for i in range(1,n+1):\n",
    "  list.append(i*(i+1)//2)\n",
    "print(list)\n"
   ]
  },
  {
   "cell_type": "markdown",
   "metadata": {
    "id": "R5G1C4I-RX7R"
   },
   "source": [
    "49. Check if a list contains another list as a subsequence."
   ]
  },
  {
   "cell_type": "code",
   "execution_count": null,
   "metadata": {
    "colab": {
     "base_uri": "https://localhost:8080/"
    },
    "id": "VVfygJ5mRbdE",
    "outputId": "179575f5-32e7-469f-fe04-e7b581b2930c"
   },
   "outputs": [
    {
     "name": "stdout",
     "output_type": "stream",
     "text": [
      "[3, 4, 5] is a subsequence of [1, 2, 3, 4, 5, 6].\n"
     ]
    }
   ],
   "source": [
    "main_list = [1, 2, 3, 4, 5, 6]\n",
    "sub_list = [3, 4, 5]\n",
    "\n",
    "sub_len = len(sub_list)\n",
    "found = False\n",
    "\n",
    "# Loop through the main list, checking if any slice matches the sub_list\n",
    "for i in range(len(main_list) - sub_len + 1):\n",
    "    if main_list[i:i + sub_len] == sub_list:\n",
    "        found = True\n",
    "        break\n",
    "\n",
    "if found:\n",
    "    print(f\"{sub_list} is a subsequence of {main_list}.\")\n",
    "else:\n",
    "    print(f\"{sub_list} is not a subsequence of {main_list}.\")"
   ]
  },
  {
   "cell_type": "markdown",
   "metadata": {
    "id": "r_3h9DppR91E"
   },
   "source": [
    "50. Swap two elements in a list by their indices."
   ]
  },
  {
   "cell_type": "code",
   "execution_count": null,
   "metadata": {
    "colab": {
     "base_uri": "https://localhost:8080/"
    },
    "id": "W44LRyMvR_Ms",
    "outputId": "9a71763c-145a-4a5c-d319-dffd3a3dc2f6"
   },
   "outputs": [
    {
     "name": "stdout",
     "output_type": "stream",
     "text": [
      "enter the first index:4\n",
      "enter the second index:3\n",
      "[1, 6, 3, 4, 5, 7, 2]\n"
     ]
    }
   ],
   "source": [
    "list=[1,6,3,5,4,7,2]\n",
    "# Swap two elements in a list by their indices\n",
    "a=int(input(\"enter the first index:\"))\n",
    "b=int(input(\"enter the second index:\"))\n",
    "list[a],list[b]=list[b],list[a]\n",
    "print(list)"
   ]
  },
  {
   "cell_type": "markdown",
   "metadata": {
    "id": "ihTNok9YSR-d"
   },
   "source": [
    "\n",
    "**`Tuple Based Practice Problem :`**"
   ]
  },
  {
   "cell_type": "markdown",
   "metadata": {
    "id": "tnvxoZ3vSnje"
   },
   "source": [
    "1. Create a tuple with integers from 1 to 5."
   ]
  },
  {
   "cell_type": "code",
   "execution_count": null,
   "metadata": {
    "colab": {
     "base_uri": "https://localhost:8080/"
    },
    "id": "CRf0cqjAStTE",
    "outputId": "dc99884b-fefe-48e0-e924-2040048a1117"
   },
   "outputs": [
    {
     "name": "stdout",
     "output_type": "stream",
     "text": [
      "(1, 2, 3, 4, 5)\n"
     ]
    }
   ],
   "source": [
    "tuple=()\n",
    "# Create a tuple with integers from 1 to 5\n",
    "for i in range(1,6):\n",
    "  tuple+=(i,)\n",
    "print(tuple)"
   ]
  },
  {
   "cell_type": "markdown",
   "metadata": {
    "id": "ZLblusQwS4oy"
   },
   "source": [
    "2. Access the third element of a tuple."
   ]
  },
  {
   "cell_type": "code",
   "execution_count": null,
   "metadata": {
    "colab": {
     "base_uri": "https://localhost:8080/"
    },
    "id": "7P4KftLmS50u",
    "outputId": "1cdfd599-83af-4b99-9899-9d866d9bc468"
   },
   "outputs": [
    {
     "name": "stdout",
     "output_type": "stream",
     "text": [
      "3\n"
     ]
    }
   ],
   "source": [
    "tuple=(1,2,3,4,5)\n",
    "# Access the third element of a tuple\n",
    "print(tuple[2])"
   ]
  },
  {
   "cell_type": "markdown",
   "metadata": {
    "id": "idbXnc5LS-ZN"
   },
   "source": [
    "3. Find the length of a tuple without using the `len()` function."
   ]
  },
  {
   "cell_type": "code",
   "execution_count": null,
   "metadata": {
    "colab": {
     "base_uri": "https://localhost:8080/"
    },
    "id": "dpd6WidLTA_F",
    "outputId": "fd6a7cac-4e4e-4c6a-a228-1f5b70419c43"
   },
   "outputs": [
    {
     "name": "stdout",
     "output_type": "stream",
     "text": [
      "5\n"
     ]
    }
   ],
   "source": [
    "tuple=(1,2,3,4,5)\n",
    "# Find the length of a tuple without using the len() function\n",
    "count=0\n",
    "for i in tuple:\n",
    "  count+=1\n",
    "print(count)"
   ]
  },
  {
   "cell_type": "markdown",
   "metadata": {
    "id": "PES8iuulTGUp"
   },
   "source": [
    "4. Count the occurrences of an element in a tuple."
   ]
  },
  {
   "cell_type": "code",
   "execution_count": null,
   "metadata": {
    "colab": {
     "base_uri": "https://localhost:8080/"
    },
    "id": "0BdwgGVmTJct",
    "outputId": "cd4572dd-7da3-4b0b-a5e9-14686feba8fa"
   },
   "outputs": [
    {
     "name": "stdout",
     "output_type": "stream",
     "text": [
      "enter the element:2\n",
      "2\n"
     ]
    }
   ],
   "source": [
    "tuple=(1,2,3,4,5,1,2,3,4,5)\n",
    "# Count the occurrences of an element in a tuple\n",
    "element=int(input(\"enter the element:\"))\n",
    "count=0\n",
    "for i in tuple:\n",
    "  if i==element:\n",
    "    count+=1\n",
    "print(count)"
   ]
  },
  {
   "cell_type": "markdown",
   "metadata": {
    "id": "-PXFBsdkTRLb"
   },
   "source": [
    "5. Find the index of the first occurrence of an element in a tuple."
   ]
  },
  {
   "cell_type": "code",
   "execution_count": null,
   "metadata": {
    "colab": {
     "base_uri": "https://localhost:8080/"
    },
    "id": "oVTRL9cATVig",
    "outputId": "6bb5ff55-1a7d-4c55-b5bc-b93d5f45124a"
   },
   "outputs": [
    {
     "name": "stdout",
     "output_type": "stream",
     "text": [
      "enter the element:3\n",
      "2\n"
     ]
    }
   ],
   "source": [
    "tuple=(1,2,3,4,5,1,2,3,4,5)\n",
    "# Find the index of the first occurrence of an element in a tuple\n",
    "element=int(input(\"enter the element:\"))\n",
    "for i in range(len(tuple)):\n",
    "  if tuple[i]==element:\n",
    "    print(i)\n",
    "    break"
   ]
  },
  {
   "cell_type": "markdown",
   "metadata": {
    "id": "iZ8YB7dtTuYX"
   },
   "source": [
    "6. Check if an element exists in a tuple."
   ]
  },
  {
   "cell_type": "code",
   "execution_count": null,
   "metadata": {
    "colab": {
     "base_uri": "https://localhost:8080/"
    },
    "id": "8L3548eiTvTI",
    "outputId": "ef42ad75-dcab-4deb-be12-12c025c5a910"
   },
   "outputs": [
    {
     "name": "stdout",
     "output_type": "stream",
     "text": [
      "enter the element:6\n",
      "element does not exist in a tuple\n"
     ]
    }
   ],
   "source": [
    "tuple=(1,2,3,4,5)\n",
    "# Check if an element exists in a tuple\n",
    "element=int(input(\"enter the element:\"))\n",
    "if element in tuple:\n",
    "  print(\"element exists in a tuple\")\n",
    "else:\n",
    "  print(\"element does not exist in a tuple\")"
   ]
  },
  {
   "cell_type": "markdown",
   "metadata": {
    "id": "jnQPDW0UT4WB"
   },
   "source": [
    "7. Convert a tuple to a list."
   ]
  },
  {
   "cell_type": "code",
   "execution_count": null,
   "metadata": {
    "colab": {
     "base_uri": "https://localhost:8080/"
    },
    "id": "e05dFPSHT7Jf",
    "outputId": "6236f554-16ee-47eb-9da1-ba7d32582bdf"
   },
   "outputs": [
    {
     "name": "stdout",
     "output_type": "stream",
     "text": [
      "[1, 2, 3, 4, 5]\n"
     ]
    }
   ],
   "source": [
    "tuple=(1,2,3,4,5)\n",
    "# Convert a tuple to a list\n",
    "my_list=[]\n",
    "for i in tuple:\n",
    "  my_list.append(i)\n",
    "print(my_list)"
   ]
  },
  {
   "cell_type": "markdown",
   "metadata": {
    "id": "euIP6lmNUeCk"
   },
   "source": [
    "8. Convert a list to a tuple."
   ]
  },
  {
   "cell_type": "code",
   "execution_count": null,
   "metadata": {
    "colab": {
     "base_uri": "https://localhost:8080/"
    },
    "id": "3ZpMtxnpUhEQ",
    "outputId": "e1a99355-4830-4d53-fabe-858ad35e107d"
   },
   "outputs": [
    {
     "name": "stdout",
     "output_type": "stream",
     "text": [
      "(1, 2, 3, 4, 5)\n"
     ]
    }
   ],
   "source": [
    "list=[1,2,3,4,5]\n",
    "# Convert a list to a tuple\n",
    "my_tuple =()\n",
    "for i in list:\n",
    "  my_tuple+=(i,)\n",
    "print(my_tuple)"
   ]
  },
  {
   "cell_type": "markdown",
   "metadata": {
    "id": "dneZW6hPU5c0"
   },
   "source": [
    "9. Unpack the elements of a tuple into variables."
   ]
  },
  {
   "cell_type": "code",
   "execution_count": null,
   "metadata": {
    "colab": {
     "base_uri": "https://localhost:8080/"
    },
    "id": "j7D5cJ4EU89G",
    "outputId": "7bbaef8f-6421-4a1f-c6d4-cf9b0a538eca"
   },
   "outputs": [
    {
     "name": "stdout",
     "output_type": "stream",
     "text": [
      "1 2 3 4 5\n"
     ]
    }
   ],
   "source": [
    "tuple=(1,2,3,4,5)\n",
    "# Unpack the elements of a tuple into variables\n",
    "a,b,c,d,e=tuple\n",
    "print(a,b,c,d,e)"
   ]
  },
  {
   "cell_type": "markdown",
   "metadata": {
    "id": "SOwTR4kfVS3U"
   },
   "source": [
    "10. Create a tuple of even numbers from 1 to 10."
   ]
  },
  {
   "cell_type": "code",
   "execution_count": null,
   "metadata": {
    "colab": {
     "base_uri": "https://localhost:8080/"
    },
    "id": "uJhdg7s8VV44",
    "outputId": "67249aaf-1c20-4259-abd5-4b58d787d7c0"
   },
   "outputs": [
    {
     "name": "stdout",
     "output_type": "stream",
     "text": [
      "(2, 4, 6, 8, 10)\n"
     ]
    }
   ],
   "source": [
    "tuple=()\n",
    "# Create a tuple of even numbers from 1 to 10\n",
    "for i in range(1,11):\n",
    "  if i%2==0:\n",
    "    tuple+=(i,)\n",
    "print(tuple)"
   ]
  },
  {
   "cell_type": "markdown",
   "metadata": {
    "id": "pwNcp_1fVe-Q"
   },
   "source": [
    "11. Create a tuple of odd numbers from 1 to 10."
   ]
  },
  {
   "cell_type": "code",
   "execution_count": null,
   "metadata": {
    "colab": {
     "base_uri": "https://localhost:8080/"
    },
    "id": "_3H7s2ayViyW",
    "outputId": "69431b59-a03b-471f-ca93-1ce63f8d78bc"
   },
   "outputs": [
    {
     "name": "stdout",
     "output_type": "stream",
     "text": [
      "(1, 3, 5, 7, 9)\n"
     ]
    }
   ],
   "source": [
    "tuple=()\n",
    "# Create a tuple of odd numbers from 1 to 10\n",
    "for i in range(1,11):\n",
    "  if i%2!=0:\n",
    "    tuple+=(i,)\n",
    "print(tuple)"
   ]
  },
  {
   "cell_type": "markdown",
   "metadata": {
    "id": "X4Mdz4ymVopE"
   },
   "source": [
    "12. Concatenate two tuples."
   ]
  },
  {
   "cell_type": "code",
   "execution_count": null,
   "metadata": {
    "colab": {
     "base_uri": "https://localhost:8080/"
    },
    "id": "_DXXy7RGVsE8",
    "outputId": "72f6f75b-1058-4ca7-ec48-baed3bfd1605"
   },
   "outputs": [
    {
     "name": "stdout",
     "output_type": "stream",
     "text": [
      "(1, 2, 3, 4, 5, 1, 3, 5, 7, 9)\n"
     ]
    }
   ],
   "source": [
    "tuple_1=(1,2,3,4,5)\n",
    "tuple_2=(6,7,8,9,10)\n",
    "# Concatenate two tuples\n",
    "tuple_3=tuple_1+tuple\n",
    "print(tuple_3)"
   ]
  },
  {
   "cell_type": "markdown",
   "metadata": {
    "id": "mg6JEZJoV1nn"
   },
   "source": [
    "13. Repeat a tuple three times."
   ]
  },
  {
   "cell_type": "code",
   "execution_count": null,
   "metadata": {
    "colab": {
     "base_uri": "https://localhost:8080/"
    },
    "id": "LYZdAMp_V4Y5",
    "outputId": "d07f9cb5-f06a-4a1e-915b-0d3d6e00dc51"
   },
   "outputs": [
    {
     "name": "stdout",
     "output_type": "stream",
     "text": [
      "(1, 2, 3, 4, 5, 1, 2, 3, 4, 5, 1, 2, 3, 4, 5)\n"
     ]
    }
   ],
   "source": [
    "tuple=(1,2,3,4,5)\n",
    "# Repeat a tuple three times\n",
    "tuple_1=tuple*3\n",
    "print(tuple_1)"
   ]
  },
  {
   "cell_type": "markdown",
   "metadata": {
    "id": "KzOBl1mbWD8C"
   },
   "source": [
    "14. Check if a tuple is empty."
   ]
  },
  {
   "cell_type": "code",
   "execution_count": null,
   "metadata": {
    "colab": {
     "base_uri": "https://localhost:8080/"
    },
    "id": "Uo9njJrjWGdY",
    "outputId": "07b1cd64-d921-466c-95db-be8e65e56c9a"
   },
   "outputs": [
    {
     "name": "stdout",
     "output_type": "stream",
     "text": [
      "tuple is empty\n"
     ]
    }
   ],
   "source": [
    "tuple=()\n",
    "# Check if a tuple is empty\n",
    "if len(tuple)==0:\n",
    "  print(\"tuple is empty\")\n",
    "else:\n",
    "  print(\"tuple is not empty\")"
   ]
  },
  {
   "cell_type": "markdown",
   "metadata": {
    "id": "MaHQS7nMWKqq"
   },
   "source": [
    "15. Create a nested tuple."
   ]
  },
  {
   "cell_type": "code",
   "execution_count": null,
   "metadata": {
    "colab": {
     "base_uri": "https://localhost:8080/"
    },
    "id": "P_CB2b3mWNY6",
    "outputId": "5b5325d7-ae97-4873-fbbd-6e9b8099d85c"
   },
   "outputs": [
    {
     "name": "stdout",
     "output_type": "stream",
     "text": [
      "((1, 2, 3), (4, 5, 6), (7, 8, 9))\n"
     ]
    }
   ],
   "source": [
    "tuple=((1,2,3),(4,5,6),(7,8,9))\n",
    "# Create a nested tuple\n",
    "print(tuple)"
   ]
  },
  {
   "cell_type": "markdown",
   "metadata": {
    "id": "edwvZdAPWsBB"
   },
   "source": [
    "16. Access the first element of a nested tuple."
   ]
  },
  {
   "cell_type": "code",
   "execution_count": null,
   "metadata": {
    "colab": {
     "base_uri": "https://localhost:8080/"
    },
    "id": "2wLD05AQWuqL",
    "outputId": "f78a5f13-fdf0-4beb-8ce8-82d7464a2a77"
   },
   "outputs": [
    {
     "name": "stdout",
     "output_type": "stream",
     "text": [
      "1\n"
     ]
    }
   ],
   "source": [
    "tuple=((1,2,3),(4,5,6),(7,8,9))\n",
    "# Access the first element of a nested tuple\n",
    "print(tuple[0][0])"
   ]
  },
  {
   "cell_type": "markdown",
   "metadata": {
    "id": "zjwgPXPsW9GX"
   },
   "source": [
    "17. Create a tuple with a single element."
   ]
  },
  {
   "cell_type": "code",
   "execution_count": null,
   "metadata": {
    "colab": {
     "base_uri": "https://localhost:8080/"
    },
    "id": "T7cuYTZVW_-B",
    "outputId": "5c80fd57-2250-469e-9617-f4528eccec12"
   },
   "outputs": [
    {
     "name": "stdout",
     "output_type": "stream",
     "text": [
      "(1,)\n"
     ]
    }
   ],
   "source": [
    "tuple=()\n",
    "# Create a tuple with a single element\n",
    "tuple+=(1,)\n",
    "print(tuple)"
   ]
  },
  {
   "cell_type": "markdown",
   "metadata": {
    "id": "pWVbFF3lX9zy"
   },
   "source": [
    "18. Compare two tuples."
   ]
  },
  {
   "cell_type": "code",
   "execution_count": null,
   "metadata": {
    "colab": {
     "base_uri": "https://localhost:8080/"
    },
    "id": "9FzabdTtYA7A",
    "outputId": "c2ca3beb-0f88-4937-8ffe-dc87149652e7"
   },
   "outputs": [
    {
     "name": "stdout",
     "output_type": "stream",
     "text": [
      "two tuples are equal\n"
     ]
    }
   ],
   "source": [
    "tuple_1=(1,2,3,4,5)\n",
    "tuple_2=(1,2,3,4,5)\n",
    "# Compare two tuples\n",
    "if tuple_1==tuple_2:\n",
    "  print(\"two tuples are equal\")\n",
    "else:\n",
    "  print(\"two tuples are not equal\")"
   ]
  },
  {
   "cell_type": "markdown",
   "metadata": {
    "id": "WIMM-oFdYTJl"
   },
   "source": [
    "19. Delete a tuple."
   ]
  },
  {
   "cell_type": "code",
   "execution_count": null,
   "metadata": {
    "id": "eauJ4iPNYXOw"
   },
   "outputs": [],
   "source": [
    "tuple=(1,2,3,4,5)\n",
    "# Delete a tuple\n",
    "del tuple"
   ]
  },
  {
   "cell_type": "markdown",
   "metadata": {
    "id": "3VwmX9P_Y0dA"
   },
   "source": [
    "20. Slice a tuple."
   ]
  },
  {
   "cell_type": "code",
   "execution_count": null,
   "metadata": {
    "colab": {
     "base_uri": "https://localhost:8080/"
    },
    "id": "B9e5MoZLY3p_",
    "outputId": "74ebe31f-9f6b-457d-ff50-ad9d54a5ba6a"
   },
   "outputs": [
    {
     "name": "stdout",
     "output_type": "stream",
     "text": [
      "(2, 3, 4)\n"
     ]
    }
   ],
   "source": [
    "tuple=(1,2,3,4,5)\n",
    "# Slice a tuple\n",
    "print(tuple[1:4])"
   ]
  },
  {
   "cell_type": "markdown",
   "metadata": {
    "id": "W0Fnfn-bZJrs"
   },
   "source": [
    "21. Find the maximum value in a tuple."
   ]
  },
  {
   "cell_type": "code",
   "execution_count": null,
   "metadata": {
    "colab": {
     "base_uri": "https://localhost:8080/"
    },
    "id": "C96yJsjsZORp",
    "outputId": "e34ada68-3047-4a49-ecfc-e884ae9a87f9"
   },
   "outputs": [
    {
     "name": "stdout",
     "output_type": "stream",
     "text": [
      "5\n"
     ]
    }
   ],
   "source": [
    "tuple=(1,2,3,4,5)\n",
    "# Find the maximum value in a tuple\n",
    "print(max(tuple))"
   ]
  },
  {
   "cell_type": "markdown",
   "metadata": {
    "id": "TgfuDXXYZU1X"
   },
   "source": [
    "22. Find the minimum value in a tuple."
   ]
  },
  {
   "cell_type": "code",
   "execution_count": null,
   "metadata": {
    "colab": {
     "base_uri": "https://localhost:8080/"
    },
    "id": "7oTxFFMxZXdV",
    "outputId": "8f20da86-75a2-49c4-a1a6-c850edf59a0d"
   },
   "outputs": [
    {
     "name": "stdout",
     "output_type": "stream",
     "text": [
      "1\n"
     ]
    }
   ],
   "source": [
    "tuple=(1,2,3,4,5)\n",
    "# Find the minimum value in a tuple\n",
    "print(min(tuple))"
   ]
  },
  {
   "cell_type": "markdown",
   "metadata": {
    "id": "YMc7Nml1Ze7u"
   },
   "source": [
    "23. Convert a string to a tuple of characters."
   ]
  },
  {
   "cell_type": "code",
   "execution_count": null,
   "metadata": {
    "colab": {
     "base_uri": "https://localhost:8080/"
    },
    "id": "G-CVevjwZfvH",
    "outputId": "e9dde135-93a0-486d-9721-76d468fc4251"
   },
   "outputs": [
    {
     "name": "stdout",
     "output_type": "stream",
     "text": [
      "enter the string:suraj\n",
      "('s', 'u', 'r', 'a', 'j')\n"
     ]
    }
   ],
   "source": [
    "tuple=()\n",
    "# Convert a string to a tuple of characters\n",
    "string=input(\"enter the string:\")\n",
    "for i in string:\n",
    "  tuple+=(i,)\n",
    "print(tuple)"
   ]
  },
  {
   "cell_type": "markdown",
   "metadata": {
    "id": "AsMoIGQZZnsz"
   },
   "source": [
    "24. Convert a tuple of characters to a string."
   ]
  },
  {
   "cell_type": "code",
   "execution_count": null,
   "metadata": {
    "colab": {
     "base_uri": "https://localhost:8080/"
    },
    "id": "oVmVbesrZsd3",
    "outputId": "c86f364d-32b7-4533-b553-9a81645ae4b9"
   },
   "outputs": [
    {
     "name": "stdout",
     "output_type": "stream",
     "text": [
      "suraj\n"
     ]
    }
   ],
   "source": [
    "tuple=('s', 'u', 'r', 'a', 'j')\n",
    "# Convert a tuple of characters to a string\n",
    "string=''\n",
    "for i in tuple:\n",
    "  string+=i\n",
    "print(string)"
   ]
  },
  {
   "cell_type": "markdown",
   "metadata": {
    "id": "xv_6lXijZzyG"
   },
   "source": [
    "25. Create a tuple from multiple data types."
   ]
  },
  {
   "cell_type": "code",
   "execution_count": null,
   "metadata": {
    "colab": {
     "base_uri": "https://localhost:8080/"
    },
    "id": "n91zeRV4Z3Rf",
    "outputId": "7cdee921-5d6d-457a-e755-6e7f3861dcb7"
   },
   "outputs": [
    {
     "name": "stdout",
     "output_type": "stream",
     "text": [
      "(1, 'Hello', 3.14, True)\n"
     ]
    }
   ],
   "source": [
    "# Creating a tuple with multiple data types\n",
    "my_tuple = (1, \"Hello\", 3.14, True)\n",
    "\n",
    "print(my_tuple)"
   ]
  },
  {
   "cell_type": "markdown",
   "metadata": {
    "id": "xjxaUCnfadkk"
   },
   "source": [
    "26. Check if two tuples are identical."
   ]
  },
  {
   "cell_type": "code",
   "execution_count": null,
   "metadata": {
    "colab": {
     "base_uri": "https://localhost:8080/"
    },
    "id": "Id25s_WwagSc",
    "outputId": "34e39e71-aaa5-49bc-aad0-a0c04d9a4009"
   },
   "outputs": [
    {
     "name": "stdout",
     "output_type": "stream",
     "text": [
      "True\n"
     ]
    }
   ],
   "source": [
    "tuple_1=(1,2,3,4,5)\n",
    "tuple_2=(1,2,3,4,5)\n",
    "# Check if two tuples are identical\n",
    "print(tuple_1==tuple_2)"
   ]
  },
  {
   "cell_type": "markdown",
   "metadata": {
    "id": "xaA6Qscha0Mf"
   },
   "source": [
    "27. Sort the elements of a tuple."
   ]
  },
  {
   "cell_type": "code",
   "execution_count": null,
   "metadata": {
    "colab": {
     "base_uri": "https://localhost:8080/"
    },
    "id": "tmLq-7Owa3P8",
    "outputId": "6d4cc23c-1def-4905-e0ef-eb4d3e070fe0"
   },
   "outputs": [
    {
     "name": "stdout",
     "output_type": "stream",
     "text": [
      "[1, 2, 3, 4, 5, 6]\n"
     ]
    }
   ],
   "source": [
    "tuple=(1,5,2,3,4,6)\n",
    "# Sort the elements of a tuple\n",
    "print(sorted(tuple))"
   ]
  },
  {
   "cell_type": "markdown",
   "metadata": {
    "id": "dDcNZNx1a_Xw"
   },
   "source": [
    "28. Convert a tuple of integers to a tuple of strings."
   ]
  },
  {
   "cell_type": "code",
   "execution_count": null,
   "metadata": {
    "colab": {
     "base_uri": "https://localhost:8080/"
    },
    "id": "dVFACqrfbBzu",
    "outputId": "5ea46b72-f0be-4554-b34a-103caa425342"
   },
   "outputs": [
    {
     "name": "stdout",
     "output_type": "stream",
     "text": [
      "('1', '2', '3', '4', '5')\n"
     ]
    }
   ],
   "source": [
    "tuple=(1,2,3,4,5)\n",
    "# Convert a tuple of integers to a tuple of strings\n",
    "tuple_1=()\n",
    "for i in tuple:\n",
    "  tuple_1+=(str(i),)\n",
    "print(tuple_1)"
   ]
  },
  {
   "cell_type": "markdown",
   "metadata": {
    "id": "6paEKQ3NbMRI"
   },
   "source": [
    "29. Convert a tuple of strings to a tuple of integers."
   ]
  },
  {
   "cell_type": "code",
   "execution_count": null,
   "metadata": {
    "colab": {
     "base_uri": "https://localhost:8080/"
    },
    "id": "BtGXFZxcbPEP",
    "outputId": "b0d15fe7-4983-46d3-cf7f-3b30565ad9c3"
   },
   "outputs": [
    {
     "name": "stdout",
     "output_type": "stream",
     "text": [
      "(1, 2, 3, 4, 5)\n"
     ]
    }
   ],
   "source": [
    "tuple=('1', '2', '3', '4', '5')\n",
    "# Convert a tuple of strings to a tuple of integers\n",
    "tuple_1=()\n",
    "for i in tuple:\n",
    "  tuple_1+=(int(i),)\n",
    "\n",
    "print(tuple_1 )"
   ]
  },
  {
   "cell_type": "markdown",
   "metadata": {
    "id": "av6IpLIobYKz"
   },
   "source": [
    "30. Merge two tuples."
   ]
  },
  {
   "cell_type": "code",
   "execution_count": null,
   "metadata": {
    "colab": {
     "base_uri": "https://localhost:8080/"
    },
    "id": "J9XFhXmcbb7U",
    "outputId": "87910b84-f53e-4881-b9cf-0df06b660b2d"
   },
   "outputs": [
    {
     "name": "stdout",
     "output_type": "stream",
     "text": [
      "(1, 2, 3, 4, 5, 6, 7, 8, 9, 10)\n"
     ]
    }
   ],
   "source": [
    "tuple_1=(1,2,3,4,5)\n",
    "tuple_2=(6,7,8,9,10)\n",
    "# Merge two tuples\n",
    "tuple_3=tuple_1+tuple_2\n",
    "print(tuple_3)"
   ]
  },
  {
   "cell_type": "markdown",
   "metadata": {
    "id": "macAlHLbb7zM"
   },
   "source": [
    "31. Flatten a nested tuple."
   ]
  },
  {
   "cell_type": "code",
   "execution_count": null,
   "metadata": {
    "colab": {
     "base_uri": "https://localhost:8080/"
    },
    "id": "2w17OW3vb8jd",
    "outputId": "a3145311-04d9-4173-8945-255b1e950d35"
   },
   "outputs": [
    {
     "name": "stdout",
     "output_type": "stream",
     "text": [
      "(1, 2, 3, 4, 5, 6, 7, 8, 9)\n"
     ]
    }
   ],
   "source": [
    "tuple=((1,2,3),(4,5,6),(7,8,9))\n",
    "# Flatten a nested tuple\n",
    "tuple_1=()\n",
    "for i in tuple:\n",
    "  for j in i:\n",
    "    tuple_1+=(j,)\n",
    "print(tuple_1)"
   ]
  },
  {
   "cell_type": "markdown",
   "metadata": {
    "id": "jHQ-w5a9cJ8U"
   },
   "source": [
    "32. Create a tuple of the first 5 prime numbers."
   ]
  },
  {
   "cell_type": "code",
   "execution_count": null,
   "metadata": {
    "colab": {
     "base_uri": "https://localhost:8080/"
    },
    "id": "FXWxltuccLAL",
    "outputId": "1639a114-4217-463a-cdb3-3c4ddde9451f"
   },
   "outputs": [
    {
     "name": "stdout",
     "output_type": "stream",
     "text": [
      "(2, 3, 5, 7, 11)\n"
     ]
    }
   ],
   "source": [
    "tuple=()\n",
    "# Create a tuple of the first 5 prime numbers\n",
    "count=0\n",
    "num=2\n",
    "while count<5:\n",
    "  for i in range(2,num):\n",
    "    if num%i==0:\n",
    "      break\n",
    "  else:\n",
    "    tuple+=(num,)\n",
    "    count+=1\n",
    "  num+=1\n",
    "print(tuple)"
   ]
  },
  {
   "cell_type": "markdown",
   "metadata": {
    "id": "xQK45tWqcdrX"
   },
   "source": [
    "33. Check if a tuple is a palindrome."
   ]
  },
  {
   "cell_type": "code",
   "execution_count": null,
   "metadata": {
    "colab": {
     "base_uri": "https://localhost:8080/"
    },
    "id": "-sx7jUjHcgb7",
    "outputId": "0669a2ef-540a-4792-c581-effb28d58d25"
   },
   "outputs": [
    {
     "name": "stdout",
     "output_type": "stream",
     "text": [
      "tuple is a palindrome\n"
     ]
    }
   ],
   "source": [
    "tuple=(1,2,3,2,1)\n",
    "# Check if a tuple is a palindrome\n",
    "if tuple==tuple[::-1]:\n",
    "  print(\"tuple is a palindrome\")\n",
    "else:\n",
    "  print(\"tuple is not a palindrome\")"
   ]
  },
  {
   "cell_type": "markdown",
   "metadata": {
    "id": "5bDoz6zpcoXp"
   },
   "source": [
    "34. Create a tuple of squares of numbers from 1 to 5."
   ]
  },
  {
   "cell_type": "code",
   "execution_count": null,
   "metadata": {
    "colab": {
     "base_uri": "https://localhost:8080/"
    },
    "id": "92nXb92rcrrL",
    "outputId": "5196a2f7-0a28-4251-85a7-3b760f3f92bb"
   },
   "outputs": [
    {
     "name": "stdout",
     "output_type": "stream",
     "text": [
      "(1, 4, 9, 16, 25)\n"
     ]
    }
   ],
   "source": [
    "tuple=()\n",
    "# Create a tuple of squares of numbers from 1 to 5\n",
    "for i in range(1,6):\n",
    "  tuple+=(i**2,)\n",
    "print(tuple)"
   ]
  },
  {
   "cell_type": "markdown",
   "metadata": {
    "id": "fpVSG-22cvVP"
   },
   "source": [
    "35. Filter out all even numbers from a tuple."
   ]
  },
  {
   "cell_type": "code",
   "execution_count": null,
   "metadata": {
    "colab": {
     "base_uri": "https://localhost:8080/"
    },
    "id": "Fz543mqIcx0b",
    "outputId": "71e3ee52-cc31-496c-c237-ae3904469f93"
   },
   "outputs": [
    {
     "name": "stdout",
     "output_type": "stream",
     "text": [
      "(2, 4, 6, 8, 10)\n"
     ]
    }
   ],
   "source": [
    "tuple=()\n",
    "# Filter out all even numbers from a tuple\n",
    "for i in range(1,11):\n",
    "  if i%2==0:\n",
    "    tuple+=(i,)\n",
    "print(tuple)"
   ]
  },
  {
   "cell_type": "markdown",
   "metadata": {
    "id": "52vDqZS2c49R"
   },
   "source": [
    "36. Multiply all elements in a tuple by 2."
   ]
  },
  {
   "cell_type": "code",
   "execution_count": null,
   "metadata": {
    "colab": {
     "base_uri": "https://localhost:8080/"
    },
    "id": "X7MSkD5tc7LM",
    "outputId": "9ea6af0a-d606-441c-8695-956e9e1984e6"
   },
   "outputs": [
    {
     "name": "stdout",
     "output_type": "stream",
     "text": [
      "(2, 4, 6, 8, 10)\n"
     ]
    }
   ],
   "source": [
    "tuple=(1,2,3,4,5)\n",
    "# Multiply all elements in a tuple by 2\n",
    "tuple_1=()\n",
    "for i in tuple:\n",
    "  tuple_1+=(i*2,)\n",
    "print(tuple_1)"
   ]
  },
  {
   "cell_type": "markdown",
   "metadata": {
    "id": "i-EEp29WR3SQ"
   },
   "source": [
    "37. Create a tuple of random numbers."
   ]
  },
  {
   "cell_type": "code",
   "execution_count": null,
   "metadata": {
    "colab": {
     "base_uri": "https://localhost:8080/"
    },
    "id": "HhEkCFFER4ZJ",
    "outputId": "fad64f39-41cf-42aa-e1d4-a34c1716b1a8"
   },
   "outputs": [
    {
     "name": "stdout",
     "output_type": "stream",
     "text": [
      "(55, 19, 36, 28, 40, 53, 31, 82, 41, 2)\n"
     ]
    }
   ],
   "source": [
    "tuple=()\n",
    "# Create a tuple of random numbers\n",
    "import random\n",
    "for i in range(10):\n",
    "  tuple+=(random.randint(1,100),)\n",
    "print(tuple)"
   ]
  },
  {
   "cell_type": "markdown",
   "metadata": {
    "id": "ambnTXl1SQSb"
   },
   "source": [
    "38. Check if a tuple is sorted."
   ]
  },
  {
   "cell_type": "code",
   "execution_count": null,
   "metadata": {
    "colab": {
     "base_uri": "https://localhost:8080/"
    },
    "id": "8IZYg6hNSSrV",
    "outputId": "68f06f2a-7102-404b-8b9f-6e428134de7a"
   },
   "outputs": [
    {
     "name": "stdout",
     "output_type": "stream",
     "text": [
      "The tuple is not sorted.\n"
     ]
    }
   ],
   "source": [
    "# Define a tuple\n",
    "my_tuple = (3, 1, 4, 2, 5)\n",
    "\n",
    "# Convert the tuple to a list, sort it, and convert it back to a tuple\n",
    "tuple_1=sorted(my_tuple)\n",
    "# Check if the original tuple is equal to the sorted tuple\n",
    "if my_tuple == tuple_1:\n",
    "    print(\"The tuple is sorted.\")\n",
    "else:\n",
    "    print(\"The tuple is not sorted.\")"
   ]
  },
  {
   "cell_type": "markdown",
   "metadata": {
    "id": "xInt1DHpWVTB"
   },
   "source": [
    "39. Rotate a tuple to the left by `n` positions."
   ]
  },
  {
   "cell_type": "code",
   "execution_count": null,
   "metadata": {
    "colab": {
     "base_uri": "https://localhost:8080/"
    },
    "id": "k_sM4gEoWYhW",
    "outputId": "c1046ace-2fbe-4a27-a29a-81390e198ba9"
   },
   "outputs": [
    {
     "name": "stdout",
     "output_type": "stream",
     "text": [
      "enter the number of positions to rotate:3\n",
      "(4, 5, 1, 2, 3)\n"
     ]
    }
   ],
   "source": [
    "tuple=(1,2,3,4,5)\n",
    "# Rotate a tuple to the left by n positions\n",
    "n=int(input(\"enter the number of positions to rotate:\"))\n",
    "tuple_1=tuple[n:]+tuple[:n]\n",
    "print(tuple_1)"
   ]
  },
  {
   "cell_type": "markdown",
   "metadata": {
    "id": "DbJtA8OCWmSm"
   },
   "source": [
    "40. Rotate a tuple to the right by `n` positions."
   ]
  },
  {
   "cell_type": "code",
   "execution_count": null,
   "metadata": {
    "colab": {
     "base_uri": "https://localhost:8080/"
    },
    "id": "YwuZGMXxWpPG",
    "outputId": "9255798b-959a-4fb2-d3ae-44e48377c2a8"
   },
   "outputs": [
    {
     "name": "stdout",
     "output_type": "stream",
     "text": [
      "enter the number of positions to rotate:3\n",
      "(3, 4, 5, 1, 2)\n"
     ]
    }
   ],
   "source": [
    "tuple=(1,2,3,4,5)\n",
    "# Rotate a tuple to the right by n positions\n",
    "n=int(input(\"enter the number of positions to rotate:\"))\n",
    "tuple_1=tuple[-n:]+tuple[:-n]\n",
    "print(tuple_1)"
   ]
  },
  {
   "cell_type": "markdown",
   "metadata": {
    "id": "JydA0IE8WwJf"
   },
   "source": [
    "41. Create a tuple of the first 5 Fibonacci numbers."
   ]
  },
  {
   "cell_type": "code",
   "execution_count": null,
   "metadata": {
    "colab": {
     "base_uri": "https://localhost:8080/"
    },
    "id": "MiJTwwP-W44Z",
    "outputId": "083fd49a-8a82-4d47-8b59-15eb4297aa63"
   },
   "outputs": [
    {
     "name": "stdout",
     "output_type": "stream",
     "text": [
      "(0, 1, 1, 2, 3)\n"
     ]
    }
   ],
   "source": [
    "tuple=()\n",
    "# Create a tuple of the first 5 Fibonacci numbers\n",
    "a,b=0,1\n",
    "for i in range(5):\n",
    "  tuple+=(a,)\n",
    "  a,b=b,a+b\n",
    "print(tuple)"
   ]
  },
  {
   "cell_type": "markdown",
   "metadata": {
    "id": "A7HfAe4bXKMx"
   },
   "source": [
    "42. Create a tuple from user input."
   ]
  },
  {
   "cell_type": "code",
   "execution_count": null,
   "metadata": {
    "colab": {
     "base_uri": "https://localhost:8080/"
    },
    "id": "9gHeX7slXNA5",
    "outputId": "acee9c80-0cf9-4909-9fbe-cae561dd6ebe"
   },
   "outputs": [
    {
     "name": "stdout",
     "output_type": "stream",
     "text": [
      "Enter values separated by spaces: 1 2 3 4\n",
      "(1, 2, 3, 4)\n"
     ]
    }
   ],
   "source": [
    "# Get user input\n",
    "user_input = input(\"Enter values separated by spaces: \")\n",
    "my_tuple=()\n",
    "# Split the input string into a list\n",
    "input_list = user_input.split()\n",
    "\n",
    "# Convert the list to a tuple\n",
    "for i in input_list:\n",
    "  my_tuple+=(int(i),)\n",
    "# Print the tuple\n",
    "print(my_tuple)"
   ]
  },
  {
   "cell_type": "markdown",
   "metadata": {
    "id": "Q_tOjIFcZCx4"
   },
   "source": [
    "43. Swap two elements in a tuple."
   ]
  },
  {
   "cell_type": "code",
   "execution_count": null,
   "metadata": {
    "colab": {
     "base_uri": "https://localhost:8080/"
    },
    "id": "Yr5CustiZFkR",
    "outputId": "057e0606-9ff3-4b3b-80dc-80d763f39bf4"
   },
   "outputs": [
    {
     "name": "stdout",
     "output_type": "stream",
     "text": [
      "enter the first index:3\n",
      "enter the second index:4\n",
      "(1, 2, 3, 5, 4)\n"
     ]
    }
   ],
   "source": [
    "my_tuple=(1,2,3,4,5)\n",
    "# Swap two elements in a tuple\n",
    "a=int(input(\"enter the first index:\"))\n",
    "b=int(input(\"enter the second index:\"))\n",
    "my_tuple=my_tuple[:a]+(my_tuple[b],)+my_tuple[a+1:b]+(my_tuple[a],)+my_tuple[b+1:]\n",
    "print(my_tuple)"
   ]
  },
  {
   "cell_type": "markdown",
   "metadata": {
    "id": "yyykipoyZZPU"
   },
   "source": [
    "44. Reverse the elements of a tuple."
   ]
  },
  {
   "cell_type": "code",
   "execution_count": null,
   "metadata": {
    "colab": {
     "base_uri": "https://localhost:8080/"
    },
    "id": "C5w_J1PWZdU4",
    "outputId": "aa6b43e2-8dbb-47fd-9617-16ad28611d1a"
   },
   "outputs": [
    {
     "name": "stdout",
     "output_type": "stream",
     "text": [
      "(5, 4, 3, 2, 1)\n"
     ]
    }
   ],
   "source": [
    "my_tuple=(1,2,3,4,5)\n",
    "# Reverse the elements of a tuple\n",
    "print(my_tuple[::-1])"
   ]
  },
  {
   "cell_type": "markdown",
   "metadata": {
    "id": "wU4FFNlhZi_-"
   },
   "source": [
    "45. Create a tuple of the first `n` powers of 2."
   ]
  },
  {
   "cell_type": "code",
   "execution_count": null,
   "metadata": {
    "colab": {
     "base_uri": "https://localhost:8080/"
    },
    "id": "wV0I7HGyZnXx",
    "outputId": "c70ffaca-5bd7-45fe-925e-4a6142d46102"
   },
   "outputs": [
    {
     "name": "stdout",
     "output_type": "stream",
     "text": [
      "enter the number of powers of 2:6\n",
      "(1, 2, 4, 8, 16, 32)\n"
     ]
    }
   ],
   "source": [
    "tuple=()\n",
    "# Create a tuple of the first n powers of 2\n",
    "n=int(input(\"enter the number of powers of 2:\"))\n",
    "for i in range(n):\n",
    "  tuple+=(2**i,)\n",
    "print(tuple)"
   ]
  },
  {
   "cell_type": "markdown",
   "metadata": {
    "id": "4FdEHcAoZzu2"
   },
   "source": [
    "46. Find the longest string in a tuple of strings."
   ]
  },
  {
   "cell_type": "code",
   "execution_count": null,
   "metadata": {
    "colab": {
     "base_uri": "https://localhost:8080/"
    },
    "id": "UQszIOBRZ2cZ",
    "outputId": "b7598814-b4a9-4fe2-d29b-c6cd3e23d651"
   },
   "outputs": [
    {
     "name": "stdout",
     "output_type": "stream",
     "text": [
      "programming\n"
     ]
    }
   ],
   "source": [
    "my_tuple=('hello','world','python','programming')\n",
    "# Find the longest string in a tuple of strings\n",
    "longest_string=max(my_tuple,key=len)\n",
    "print(longest_string)"
   ]
  },
  {
   "cell_type": "markdown",
   "metadata": {
    "id": "0TEX6GvjZ9iE"
   },
   "source": [
    "47. Find the shortest string in a tuple of strings."
   ]
  },
  {
   "cell_type": "code",
   "execution_count": null,
   "metadata": {
    "colab": {
     "base_uri": "https://localhost:8080/"
    },
    "id": "aYrldEYSaAkk",
    "outputId": "f355e42d-cc09-4761-ebac-7db65912cc0d"
   },
   "outputs": [
    {
     "name": "stdout",
     "output_type": "stream",
     "text": [
      "hello\n"
     ]
    }
   ],
   "source": [
    "my_tuple=('hello','world','python','programming')\n",
    "# Find the shortest string in a tuple of strings\n",
    "shortest_string=min(my_tuple,key=len)\n",
    "print(shortest_string)"
   ]
  },
  {
   "cell_type": "markdown",
   "metadata": {
    "id": "snHci7whaO-K"
   },
   "source": [
    "48. Create a tuple of the first `n` triangular numbers."
   ]
  },
  {
   "cell_type": "code",
   "execution_count": null,
   "metadata": {
    "colab": {
     "base_uri": "https://localhost:8080/"
    },
    "id": "NkeBjGT7aRow",
    "outputId": "5bb8e342-c9eb-49f7-d18c-b80f1f613b53"
   },
   "outputs": [
    {
     "name": "stdout",
     "output_type": "stream",
     "text": [
      "enter the number of triangular numbers:5\n",
      "(1, 3, 6, 10, 15)\n"
     ]
    }
   ],
   "source": [
    "tuple=()\n",
    "# Create a tuple of the first n triangular numbers\n",
    "n=int(input(\"enter the number of triangular numbers:\"))\n",
    "for i in range(1,n+1):\n",
    "  tuple+=(i*(i+1)//2,)\n",
    "print(tuple)"
   ]
  },
  {
   "cell_type": "markdown",
   "metadata": {
    "id": "GFDgWBONaaur"
   },
   "source": [
    "49. Check if a tuple contains another tuple as a subsequence."
   ]
  },
  {
   "cell_type": "code",
   "execution_count": null,
   "metadata": {
    "colab": {
     "base_uri": "https://localhost:8080/"
    },
    "id": "jKyex10_adu_",
    "outputId": "632fe0f6-8f9d-4487-9d4b-37097bf6f952"
   },
   "outputs": [
    {
     "name": "stdout",
     "output_type": "stream",
     "text": [
      "(3, 4, 5) is a subsequence of (1, 2, 3, 4, 5, 6).\n"
     ]
    }
   ],
   "source": [
    "# Define the main tuple and the subtuple\n",
    "main_tuple = (1, 2, 3, 4, 5, 6)\n",
    "sub_tuple = (3, 4, 5)\n",
    "\n",
    "# Check if sub_tuple is a subsequence of main_tuple\n",
    "sub_len = len(sub_tuple)\n",
    "found = False\n",
    "\n",
    "# Loop through the main tuple and compare slices\n",
    "for i in range(len(main_tuple) - sub_len + 1):\n",
    "    if main_tuple[i:i + sub_len] == sub_tuple:\n",
    "        found = True\n",
    "        break\n",
    "\n",
    "if found:\n",
    "    print(f\"{sub_tuple} is a subsequence of {main_tuple}.\")\n",
    "else:\n",
    "    print(f\"{sub_tuple} is not a subsequence of {main_tuple}.\")\n"
   ]
  },
  {
   "cell_type": "markdown",
   "metadata": {
    "id": "dxlvbpOPazYW"
   },
   "source": [
    "50. Create a tuple of alternating 1s and 0s of length `n`."
   ]
  },
  {
   "cell_type": "code",
   "execution_count": null,
   "metadata": {
    "colab": {
     "base_uri": "https://localhost:8080/"
    },
    "id": "b3veSA0ia2H7",
    "outputId": "2e70d7b8-09c8-403b-c98c-22ec0d42c20e"
   },
   "outputs": [
    {
     "name": "stdout",
     "output_type": "stream",
     "text": [
      "enter the length of the tuple:10\n",
      "(1, 0, 1, 0, 1, 0, 1, 0, 1, 0)\n"
     ]
    }
   ],
   "source": [
    "my_tuple=()\n",
    "# Create a tuple of alternating 1s and 0s of length n\n",
    "n=int(input(\"enter the length of the tuple:\"))\n",
    "for i in range(n):\n",
    "  if i%2==0:\n",
    "    my_tuple+=(1,)\n",
    "  else:\n",
    "    my_tuple+=(0,)\n",
    "print(my_tuple)"
   ]
  },
  {
   "cell_type": "markdown",
   "metadata": {
    "id": "maswXMolbJSX"
   },
   "source": [
    "**Set Based Practice Problem :**"
   ]
  },
  {
   "cell_type": "markdown",
   "metadata": {
    "id": "96ifOmR6bQ_s"
   },
   "source": [
    "1. Create a set with integers from 1 to 5."
   ]
  },
  {
   "cell_type": "code",
   "execution_count": null,
   "metadata": {
    "colab": {
     "base_uri": "https://localhost:8080/"
    },
    "id": "f31HUF05bWEg",
    "outputId": "d55858ef-7d50-4829-8ce6-3bf6a403d684"
   },
   "outputs": [
    {
     "name": "stdout",
     "output_type": "stream",
     "text": [
      "{1, 2, 3, 4, 5}\n"
     ]
    }
   ],
   "source": [
    "# Create a set with integers from 1 to 5\n",
    "my_set = {1, 2, 3, 4, 5}\n",
    "\n",
    "print(my_set)"
   ]
  },
  {
   "cell_type": "markdown",
   "metadata": {
    "id": "SoRRlby7btkn"
   },
   "source": [
    "2. Add an element to a set."
   ]
  },
  {
   "cell_type": "code",
   "execution_count": 44,
   "metadata": {
    "colab": {
     "base_uri": "https://localhost:8080/"
    },
    "id": "PS3xKqvjbwWa",
    "outputId": "b32ae032-faf1-4482-e645-f56c42eb1330"
   },
   "outputs": [
    {
     "name": "stdout",
     "output_type": "stream",
     "text": [
      "{'banana', 'cherry', 'orange', 'apple'}\n"
     ]
    }
   ],
   "source": [
    "thisset = {\"apple\", \"banana\", \"cherry\"}\n",
    "\n",
    "thisset.add(\"orange\")\n",
    "\n",
    "print(thisset)"
   ]
  },
  {
   "cell_type": "markdown",
   "metadata": {
    "id": "-2eoEVwMc_hn"
   },
   "source": [
    "3. Remove an element from a set."
   ]
  },
  {
   "cell_type": "code",
   "execution_count": 45,
   "metadata": {
    "colab": {
     "base_uri": "https://localhost:8080/"
    },
    "id": "vJKBwv4IdCVO",
    "outputId": "f506cbda-41f4-48cd-fd4a-a55aad45bd17"
   },
   "outputs": [
    {
     "name": "stdout",
     "output_type": "stream",
     "text": [
      "{'apple', 'cherry', 'orange'}\n"
     ]
    }
   ],
   "source": [
    "my_set={'banana', 'cherry', 'orange', 'apple'}\n",
    "# Remove an element from a set\n",
    "my_set.remove('banana')\n",
    "print(my_set)"
   ]
  },
  {
   "cell_type": "markdown",
   "metadata": {
    "id": "3Kf1EoP6dLBK"
   },
   "source": [
    "4. Check if an element exists in a set."
   ]
  },
  {
   "cell_type": "code",
   "execution_count": 47,
   "metadata": {
    "colab": {
     "base_uri": "https://localhost:8080/"
    },
    "id": "Gy6w2Ux3dPBX",
    "outputId": "5487fd42-60bb-47f7-863f-6c347d275be6"
   },
   "outputs": [
    {
     "name": "stdout",
     "output_type": "stream",
     "text": [
      "enter the number:4\n",
      "element exists\n"
     ]
    }
   ],
   "source": [
    "my_set={1,2,3,4,5}\n",
    "n=int(input(\"enter the number:\"))\n",
    "# Check if an element exists in a set\n",
    "if n in my_set:\n",
    "  print(\"element exists\")\n",
    "else:\n",
    "  print(\"element does not exist\")"
   ]
  },
  {
   "cell_type": "markdown",
   "metadata": {
    "id": "Vb25XcIXdc3A"
   },
   "source": [
    "5. Find the length of a set without using the `len()` function."
   ]
  },
  {
   "cell_type": "code",
   "execution_count": 48,
   "metadata": {
    "colab": {
     "base_uri": "https://localhost:8080/"
    },
    "id": "To4-iQHSdfqb",
    "outputId": "64664c1f-ba78-4960-e568-716761f2d949"
   },
   "outputs": [
    {
     "name": "stdout",
     "output_type": "stream",
     "text": [
      "5\n"
     ]
    }
   ],
   "source": [
    "my_set={1,2,3,4,5}\n",
    "# Find the length of a set without using the len() function\n",
    "count=0\n",
    "for i in my_set:\n",
    "  count+=1\n",
    "print(count)"
   ]
  },
  {
   "cell_type": "markdown",
   "metadata": {
    "id": "_LlCQn61dlZZ"
   },
   "source": [
    "6. Clear all elements from a set."
   ]
  },
  {
   "cell_type": "code",
   "execution_count": 50,
   "metadata": {
    "colab": {
     "base_uri": "https://localhost:8080/"
    },
    "id": "Bs2gxb-bdn7g",
    "outputId": "63e140d0-63d7-4693-b1e5-add80cab9b1e"
   },
   "outputs": [
    {
     "name": "stdout",
     "output_type": "stream",
     "text": [
      "set()\n"
     ]
    }
   ],
   "source": [
    "my_Set={1,2,3,4,5}\n",
    "# Clear all elements from a set\n",
    "my_Set.clear()\n",
    "print(my_Set)"
   ]
  },
  {
   "cell_type": "markdown",
   "metadata": {
    "id": "WmLsPllHdyE1"
   },
   "source": [
    "7. Create a set of even numbers from 1 to 10."
   ]
  },
  {
   "cell_type": "code",
   "execution_count": 53,
   "metadata": {
    "colab": {
     "base_uri": "https://localhost:8080/"
    },
    "id": "PKz5rwGxeEED",
    "outputId": "ad8c8699-6fea-48e0-cea6-60be4490e41c"
   },
   "outputs": [
    {
     "name": "stdout",
     "output_type": "stream",
     "text": [
      "{2, 4, 6, 8, 10}\n"
     ]
    }
   ],
   "source": [
    "# Create a set of even numbers from 1 to 10 using set comprehension\n",
    "even_set = {num for num in range(1, 11) if num % 2 == 0}\n",
    "\n",
    "print(even_set)\n"
   ]
  },
  {
   "cell_type": "markdown",
   "metadata": {
    "id": "Mk42IZyseivb"
   },
   "source": [
    "8. Create a set of odd numbers from 1 to 10."
   ]
  },
  {
   "cell_type": "code",
   "execution_count": 54,
   "metadata": {
    "colab": {
     "base_uri": "https://localhost:8080/"
    },
    "id": "lwpNlSaOelUA",
    "outputId": "6dc105bf-c3be-4f60-fb97-222d7973321f"
   },
   "outputs": [
    {
     "name": "stdout",
     "output_type": "stream",
     "text": [
      "{1, 3, 5, 7, 9}\n"
     ]
    }
   ],
   "source": [
    "# Create a set of odd numbers from 1 to 10 using set comprehension\n",
    "odd_set = {num for num in range(1, 11) if num % 2 != 0}\n",
    "\n",
    "print(odd_set)"
   ]
  },
  {
   "cell_type": "markdown",
   "metadata": {
    "id": "WZdfbLbbevMN"
   },
   "source": [
    "9. Find the union of two sets."
   ]
  },
  {
   "cell_type": "code",
   "execution_count": 55,
   "metadata": {
    "colab": {
     "base_uri": "https://localhost:8080/"
    },
    "id": "ugnEaHVxeyR0",
    "outputId": "4136fce3-7240-4527-b83d-2e1380d1e9d9"
   },
   "outputs": [
    {
     "name": "stdout",
     "output_type": "stream",
     "text": [
      "{1, 2, 3, 4, 5, 6, 7, 8, 9, 10}\n"
     ]
    }
   ],
   "source": [
    "my_set_1={1,2,3,4,5}\n",
    "my_set_2={6,7,8,9,10}\n",
    "# Find the union of two sets\n",
    "print(my_set_1.union(my_set_2))"
   ]
  },
  {
   "cell_type": "markdown",
   "metadata": {
    "id": "RT1caLB6e9jK"
   },
   "source": [
    "10. Find the intersection of two sets."
   ]
  },
  {
   "cell_type": "code",
   "execution_count": 56,
   "metadata": {
    "colab": {
     "base_uri": "https://localhost:8080/"
    },
    "id": "nxG5-S2zfByk",
    "outputId": "e33d3b88-214f-4354-846b-da0f8cb76879"
   },
   "outputs": [
    {
     "name": "stdout",
     "output_type": "stream",
     "text": [
      "set()\n"
     ]
    }
   ],
   "source": [
    "my_set_1={1,2,3,4,5}\n",
    "my_set_2={6,7,8,9,10}\n",
    "# Find the intersection of two sets\n",
    "print(my_set_1.intersection(my_set_2))"
   ]
  },
  {
   "cell_type": "markdown",
   "metadata": {
    "id": "ynbxdKJ0fNVz"
   },
   "source": [
    "11. Find the difference between two sets."
   ]
  },
  {
   "cell_type": "code",
   "execution_count": 57,
   "metadata": {
    "colab": {
     "base_uri": "https://localhost:8080/"
    },
    "id": "REpj2hCyfRmi",
    "outputId": "1174c018-b55c-4e73-9cc7-2be37c3a1f5a"
   },
   "outputs": [
    {
     "name": "stdout",
     "output_type": "stream",
     "text": [
      "{1, 2, 3, 4, 5}\n"
     ]
    }
   ],
   "source": [
    "my_set_1={1,2,3,4,5}\n",
    "my_set_2={6,7,8,9,10}\n",
    "# Find the difference between two sets\n",
    "print(my_set_1.difference(my_set_2))"
   ]
  },
  {
   "cell_type": "markdown",
   "metadata": {
    "id": "3GqJx8n7fdts"
   },
   "source": [
    "12. Check if a set is a subset of another set."
   ]
  },
  {
   "cell_type": "code",
   "execution_count": 58,
   "metadata": {
    "colab": {
     "base_uri": "https://localhost:8080/"
    },
    "id": "i1gc-1DxfgSG",
    "outputId": "ab60aa15-35ff-46dc-982b-42a9587397e0"
   },
   "outputs": [
    {
     "name": "stdout",
     "output_type": "stream",
     "text": [
      "True\n"
     ]
    }
   ],
   "source": [
    "my_set={1,2,3,4,5,6,7,8,9,10}\n",
    "sub_set={1,2,3,4,5}\n",
    "# Check if a set is a subset of another set\n",
    "print(sub_set.issubset(my_set))"
   ]
  },
  {
   "cell_type": "markdown",
   "metadata": {
    "id": "mNUl9XmDfyfA"
   },
   "source": [
    "13. Check if a set is a superset of another set."
   ]
  },
  {
   "cell_type": "code",
   "execution_count": 59,
   "metadata": {
    "colab": {
     "base_uri": "https://localhost:8080/"
    },
    "id": "pDKXGkm6f3Hi",
    "outputId": "18bbbdd9-c6a1-4ecb-c040-5965644ac43b"
   },
   "outputs": [
    {
     "name": "stdout",
     "output_type": "stream",
     "text": [
      "True\n"
     ]
    }
   ],
   "source": [
    "sup_set={1,2,3,4,5,6,7,8,9,10}\n",
    "my_set={1,2,3,4,5}\n",
    "# Check if a set is a superset of another set\n",
    "print(sup_set.issuperset(my_set))"
   ]
  },
  {
   "cell_type": "markdown",
   "metadata": {
    "id": "HI3CXpCUf_GN"
   },
   "source": [
    "14. Create a set from a list."
   ]
  },
  {
   "cell_type": "code",
   "execution_count": 3,
   "metadata": {
    "colab": {
     "base_uri": "https://localhost:8080/",
     "height": 211
    },
    "id": "lQ1vXANVgCGg",
    "outputId": "3da535df-c99c-436c-d079-020954550af4"
   },
   "outputs": [
    {
     "name": "stdout",
     "output_type": "stream",
     "text": [
      "{1, 2, 3, 4, 5}\n"
     ]
    }
   ],
   "source": [
    "my_list = [1 ,2 ,3, 3, 4, 5, 5]\n",
    "\n",
    "my_set = set()\n",
    "# Using for loop\n",
    "for num in my_list:\n",
    "    # Adding num to my_set\n",
    "    my_set.add(num)\n",
    "print(my_set)"
   ]
  },
  {
   "cell_type": "markdown",
   "metadata": {
    "id": "MIAa3svWgHmw"
   },
   "source": [
    "15. Convert a set to a list."
   ]
  },
  {
   "cell_type": "code",
   "execution_count": 61,
   "metadata": {
    "colab": {
     "base_uri": "https://localhost:8080/"
    },
    "id": "WsD8IyiygNmN",
    "outputId": "2ebe2a9f-2386-43d2-c8c4-0e7034de979f"
   },
   "outputs": [
    {
     "name": "stdout",
     "output_type": "stream",
     "text": [
      "[1, 2, 3, 4, 5]\n"
     ]
    }
   ],
   "source": [
    "my_set={1,2,3,4,5}\n",
    "# Create a set from a list\n",
    "my_list=list(my_set)\n",
    "print(my_list)"
   ]
  },
  {
   "cell_type": "markdown",
   "metadata": {
    "id": "VzYCjKz6hCJs"
   },
   "source": [
    "16. Remove a random element from a set."
   ]
  },
  {
   "cell_type": "code",
   "execution_count": 74,
   "metadata": {
    "colab": {
     "base_uri": "https://localhost:8080/"
    },
    "id": "Ee4NYeIKhF_m",
    "outputId": "71c683b5-6eaf-4090-b419-8509ea20e4e1"
   },
   "outputs": [
    {
     "name": "stdout",
     "output_type": "stream",
     "text": [
      "{1, 2, 4, 5}\n"
     ]
    }
   ],
   "source": [
    "my_set={1,2,3,4,5}\n",
    "# Remove a random element from a set\n",
    "import random\n",
    "random_element=random.choice(list(my_set))\n",
    "my_set.remove(random_element)\n",
    "print(my_set)"
   ]
  },
  {
   "cell_type": "markdown",
   "metadata": {
    "id": "yqOeAOPzhZ-L"
   },
   "source": [
    "17. Pop an element from a set."
   ]
  },
  {
   "cell_type": "code",
   "execution_count": 75,
   "metadata": {
    "colab": {
     "base_uri": "https://localhost:8080/"
    },
    "id": "I-h_wt1mh5O-",
    "outputId": "5b32212b-05fe-4b31-82ee-d994381f376d"
   },
   "outputs": [
    {
     "name": "stdout",
     "output_type": "stream",
     "text": [
      "1\n"
     ]
    }
   ],
   "source": [
    "my_set={1,2,3,4,5}\n",
    "# Pop an element from a set\n",
    "popped_element=my_set.pop()\n",
    "print(popped_element)"
   ]
  },
  {
   "cell_type": "markdown",
   "metadata": {
    "id": "8baOmVRMiCxg"
   },
   "source": [
    "18. Check if two sets have no elements in common."
   ]
  },
  {
   "cell_type": "code",
   "execution_count": 76,
   "metadata": {
    "colab": {
     "base_uri": "https://localhost:8080/"
    },
    "id": "XE1O1MJjiFxv",
    "outputId": "01b1b1af-9adb-442b-c2a1-2287f730c169"
   },
   "outputs": [
    {
     "name": "stdout",
     "output_type": "stream",
     "text": [
      "two sets have no elements in common\n"
     ]
    }
   ],
   "source": [
    "set_1={1,2,3,4,5}\n",
    "set_2={6,7,8,9,10}\n",
    "# Check if two sets have no elements in common\n",
    "if set_1.isdisjoint(set_2):\n",
    "  print(\"two sets have no elements in common\")\n",
    "else:\n",
    "  print(\"two sets have elements in common\")"
   ]
  },
  {
   "cell_type": "markdown",
   "metadata": {
    "id": "Lkxa4rriiQ_N"
   },
   "source": [
    "19. Find the symmetric difference between two sets."
   ]
  },
  {
   "cell_type": "code",
   "execution_count": 77,
   "metadata": {
    "colab": {
     "base_uri": "https://localhost:8080/"
    },
    "id": "OGsdw4qWiV8I",
    "outputId": "0782518d-e251-42d7-f773-dee7e2c9a918"
   },
   "outputs": [
    {
     "name": "stdout",
     "output_type": "stream",
     "text": [
      "{1, 2, 3, 4, 5, 6, 7, 8, 9, 10}\n"
     ]
    }
   ],
   "source": [
    "set_1={1,2,3,4,5}\n",
    "set_2={6,7,8,9,10}\n",
    "# Find the symmetric difference between two sets\n",
    "print(set_1.symmetric_difference(set_2))"
   ]
  },
  {
   "cell_type": "markdown",
   "metadata": {
    "id": "dJjPXcvOicaN"
   },
   "source": [
    "20. Update a set with elements from another set."
   ]
  },
  {
   "cell_type": "code",
   "execution_count": 78,
   "metadata": {
    "colab": {
     "base_uri": "https://localhost:8080/"
    },
    "id": "p6uVf9pOie_A",
    "outputId": "04ca326d-895b-4d32-900a-13c43d30c51b"
   },
   "outputs": [
    {
     "name": "stdout",
     "output_type": "stream",
     "text": [
      "{1, 2, 3, 4, 5, 6, 7, 8, 9, 10}\n"
     ]
    }
   ],
   "source": [
    "set_1={1,2,3,4,5}\n",
    "set_2={6,7,8,9,10}\n",
    "# Update a set with elements from another set\n",
    "set_1.update(set_2)\n",
    "print(set_1)"
   ]
  },
  {
   "cell_type": "markdown",
   "metadata": {
    "id": "YbOpo0-1iqWN"
   },
   "source": [
    "21. Create a set of the first 5 prime numbers."
   ]
  },
  {
   "cell_type": "code",
   "execution_count": 1,
   "metadata": {
    "colab": {
     "base_uri": "https://localhost:8080/",
     "height": 211
    },
    "id": "Ca7wrT4wismN",
    "outputId": "665d42e2-24c5-472f-ee1e-c06e7fc79889"
   },
   "outputs": [
    {
     "name": "stdout",
     "output_type": "stream",
     "text": [
      "{2, 3, 5, 7, 11}\n"
     ]
    }
   ],
   "source": [
    "def is_prime(n):\n",
    "    \"\"\"Check if a number is a prime number.\"\"\"\n",
    "    if n <= 1:\n",
    "        return False\n",
    "    if n <= 3:\n",
    "        return True\n",
    "    if n % 2 == 0 or n % 3 == 0:\n",
    "        return False\n",
    "    i = 5\n",
    "    while i * i <= n:\n",
    "        if n % i == 0 or n % (i + 2) == 0:\n",
    "            return False\n",
    "        i += 6\n",
    "    return True\n",
    "\n",
    "# Generate the first 5 prime numbers\n",
    "prime_set = set()\n",
    "num = 2\n",
    "while len(prime_set) < 5:\n",
    "    if is_prime(num):\n",
    "        prime_set.add(num)\n",
    "    num += 1\n",
    "\n",
    "print(prime_set)"
   ]
  },
  {
   "cell_type": "markdown",
   "metadata": {
    "id": "1cN0jzcikajP"
   },
   "source": [
    "22. Check if two sets are identical."
   ]
  },
  {
   "cell_type": "code",
   "execution_count": 80,
   "metadata": {
    "colab": {
     "base_uri": "https://localhost:8080/"
    },
    "id": "wHd3z1L7kdsl",
    "outputId": "4343a74b-a750-4bf8-bf5b-23ddb9c1ee2a"
   },
   "outputs": [
    {
     "name": "stdout",
     "output_type": "stream",
     "text": [
      "two sets are not identical\n"
     ]
    }
   ],
   "source": [
    "set_1={1,2,3,4,5}\n",
    "set_2={6,7,8,9,10}\n",
    "# Check if two sets are identical\n",
    "if set_1==set_2:\n",
    "  print(\"two sets are identical\")\n",
    "else:\n",
    "  print(\"two sets are not identical\")"
   ]
  },
  {
   "cell_type": "markdown",
   "metadata": {
    "id": "l6ifJl0NknBa"
   },
   "source": [
    "23. Create a frozen set."
   ]
  },
  {
   "cell_type": "code",
   "execution_count": 82,
   "metadata": {
    "colab": {
     "base_uri": "https://localhost:8080/"
    },
    "id": "5pEloJ5okpcL",
    "outputId": "7c4eab72-2204-455b-fee8-9f6d17dbb5be"
   },
   "outputs": [
    {
     "name": "stdout",
     "output_type": "stream",
     "text": [
      "frozenset({'banana', 'cherry', 'apple'})\n"
     ]
    }
   ],
   "source": [
    "mylist = ['apple', 'banana', 'cherry']\n",
    "x = frozenset(mylist)\n",
    "print(x)"
   ]
  },
  {
   "cell_type": "markdown",
   "metadata": {
    "id": "ZmFNhY4Dk6Jg"
   },
   "source": [
    "24. Check if a set is disjoint with another set."
   ]
  },
  {
   "cell_type": "code",
   "execution_count": 83,
   "metadata": {
    "colab": {
     "base_uri": "https://localhost:8080/"
    },
    "id": "qoK-iWQek-AU",
    "outputId": "60da1822-26ec-4807-83b3-f1756c9a9f4f"
   },
   "outputs": [
    {
     "name": "stdout",
     "output_type": "stream",
     "text": [
      "two sets are disjoint\n"
     ]
    }
   ],
   "source": [
    "set_1={1,2,3,4,5}\n",
    "set_2={6,7,8,9,10}\n",
    "# Check if a set is disjoint with another set\n",
    "if set_1.isdisjoint(set_2):\n",
    "  print(\"two sets are disjoint\")\n",
    "else:\n",
    "  print(\"two sets are not disjoint\")"
   ]
  },
  {
   "cell_type": "markdown",
   "metadata": {
    "id": "QDLGhUXglEiV"
   },
   "source": [
    "25. Create a set of squares of numbers from 1 to 5."
   ]
  },
  {
   "cell_type": "code",
   "execution_count": 89,
   "metadata": {
    "colab": {
     "base_uri": "https://localhost:8080/"
    },
    "id": "XaIR539UlHON",
    "outputId": "20def688-027a-4a43-ea18-b501121213ae"
   },
   "outputs": [
    {
     "name": "stdout",
     "output_type": "stream",
     "text": [
      "{1, 4, 9, 16, 25}\n"
     ]
    }
   ],
   "source": [
    "# Create a set of squares of numbers from 1 to 5\n",
    "squares_set = {x ** 2 for x in range(1, 6)}\n",
    "\n",
    "print(squares_set)"
   ]
  },
  {
   "cell_type": "markdown",
   "metadata": {
    "id": "XCoZgc3Kl_Hu"
   },
   "source": [
    "26. Filter out all even numbers from a set."
   ]
  },
  {
   "cell_type": "code",
   "execution_count": 90,
   "metadata": {
    "colab": {
     "base_uri": "https://localhost:8080/"
    },
    "id": "6q0zEwi9mBlV",
    "outputId": "afbe995a-3dcc-4b6c-8b95-4e880916f595"
   },
   "outputs": [
    {
     "name": "stdout",
     "output_type": "stream",
     "text": [
      "{2, 4, 6, 8, 10}\n"
     ]
    }
   ],
   "source": [
    "my_set={1,2,3,4,5,6,7,8,9,10}\n",
    "# Filter out all even numbers from a set\n",
    "even_set={x for x in my_set if x%2==0}\n",
    "print(even_set)"
   ]
  },
  {
   "cell_type": "markdown",
   "metadata": {
    "id": "o6m2M-YumJgK"
   },
   "source": [
    "27. Multiply all elements in a set by 2."
   ]
  },
  {
   "cell_type": "code",
   "execution_count": 92,
   "metadata": {
    "colab": {
     "base_uri": "https://localhost:8080/"
    },
    "id": "Xi5rP8b2mKi3",
    "outputId": "10ce4e58-4a07-4a00-a871-b093bd383f27"
   },
   "outputs": [
    {
     "name": "stdout",
     "output_type": "stream",
     "text": [
      "{2, 4, 6, 8, 10}\n"
     ]
    }
   ],
   "source": [
    "#create a set of multiple of 2 in every element\n",
    "my_set={1,2,3,4,5}\n",
    "# Multiply all elements in a set by 2\n",
    "mul_set={x*2 for x in my_set}\n",
    "print(mul_set)"
   ]
  },
  {
   "cell_type": "markdown",
   "metadata": {
    "id": "vt6nQyQUml5y"
   },
   "source": [
    "28. Create a set of random numbers."
   ]
  },
  {
   "cell_type": "code",
   "execution_count": 93,
   "metadata": {
    "colab": {
     "base_uri": "https://localhost:8080/"
    },
    "id": "sU_gAGlFmo1o",
    "outputId": "916af97d-835e-4ff9-cb56-f11d0689a13c"
   },
   "outputs": [
    {
     "name": "stdout",
     "output_type": "stream",
     "text": [
      "{36, 69, 100, 74, 77, 80, 48, 82, 83, 63}\n"
     ]
    }
   ],
   "source": [
    "import random\n",
    "# Create a set of random numbers\n",
    "random_set={random.randint(1,100) for x in range(10)}\n",
    "print(random_set)"
   ]
  },
  {
   "cell_type": "markdown",
   "metadata": {
    "id": "Ob9Gr3e0mxD7"
   },
   "source": [
    "29. Check if a set is empty."
   ]
  },
  {
   "cell_type": "code",
   "execution_count": 94,
   "metadata": {
    "colab": {
     "base_uri": "https://localhost:8080/"
    },
    "id": "Z6iR5EB_m1JD",
    "outputId": "1c1390b2-8161-47b8-f4cc-8ec57a51510f"
   },
   "outputs": [
    {
     "name": "stdout",
     "output_type": "stream",
     "text": [
      "set is not empty\n"
     ]
    }
   ],
   "source": [
    "my_set={1,2,3,4,5}\n",
    "# Check if a set is empty\n",
    "if len(my_set)==0:\n",
    "  print(\"set is empty\")\n",
    "else:\n",
    "  print(\"set is not empty\")"
   ]
  },
  {
   "cell_type": "markdown",
   "metadata": {
    "id": "wMcju7N0m5-i"
   },
   "source": [
    "30. Create a nested set (hint: use frozenset)."
   ]
  },
  {
   "cell_type": "code",
   "execution_count": 97,
   "metadata": {
    "colab": {
     "base_uri": "https://localhost:8080/"
    },
    "id": "CCDbDu2cm9DU",
    "outputId": "6c33f202-db38-4a6f-f581-d33b4b810d0e"
   },
   "outputs": [
    {
     "name": "stdout",
     "output_type": "stream",
     "text": [
      "{frozenset({1, 2, 3}), frozenset({4, 5, 6}), frozenset({8, 9, 7})}\n"
     ]
    }
   ],
   "source": [
    "my_set={frozenset({1,2,3}),frozenset({4,5,6}),frozenset({7,8,9})}\n",
    "print(my_set)"
   ]
  },
  {
   "cell_type": "markdown",
   "metadata": {
    "id": "ljufS4SAnfl9"
   },
   "source": [
    "31. Remove an element from a set using the discard method."
   ]
  },
  {
   "cell_type": "code",
   "execution_count": 98,
   "metadata": {
    "colab": {
     "base_uri": "https://localhost:8080/"
    },
    "id": "ymYciBg1njO2",
    "outputId": "9d94fc8b-8226-465b-cfc4-e6ba1f3773d5"
   },
   "outputs": [
    {
     "name": "stdout",
     "output_type": "stream",
     "text": [
      "{1, 2, 4, 5}\n"
     ]
    }
   ],
   "source": [
    "my_set={1,2,3,4,5}\n",
    "# Remove an element from a set using the discard method\n",
    "my_set.discard(3)\n",
    "print(my_set)"
   ]
  },
  {
   "cell_type": "markdown",
   "metadata": {
    "id": "GqR7CWTKnoxx"
   },
   "source": [
    "32. Compare two sets."
   ]
  },
  {
   "cell_type": "code",
   "execution_count": 99,
   "metadata": {
    "colab": {
     "base_uri": "https://localhost:8080/"
    },
    "id": "MYlgaxwVns-F",
    "outputId": "c2b0ca8b-0b4e-4178-b506-38c05553fa83"
   },
   "outputs": [
    {
     "name": "stdout",
     "output_type": "stream",
     "text": [
      "two sets are not identical\n"
     ]
    }
   ],
   "source": [
    "set_1={1,2,3,4,5}\n",
    "set_2={6,7,8,9,10}\n",
    "# Compare two sets\n",
    "if set_1==set_2:\n",
    "  print(\"two sets are identical\")\n",
    "else:\n",
    "  print(\"two sets are not identical\")"
   ]
  },
  {
   "cell_type": "markdown",
   "metadata": {
    "id": "AFWy1nNun2we"
   },
   "source": [
    "33. Create a set from a string."
   ]
  },
  {
   "cell_type": "code",
   "execution_count": 103,
   "metadata": {
    "colab": {
     "base_uri": "https://localhost:8080/"
    },
    "id": "kEWqCCCSn6wL",
    "outputId": "e5f2bc0f-5f38-46e7-f421-39ddd95ded06"
   },
   "outputs": [
    {
     "name": "stdout",
     "output_type": "stream",
     "text": [
      "{'o', 'l', 'h', 'e'}\n"
     ]
    }
   ],
   "source": [
    "# Define a string\n",
    "my_string = \"hello\"\n",
    "\n",
    "# Create a set from the string\n",
    "my_set = {x for x in my_string}\n",
    "\n",
    "print(my_set)"
   ]
  },
  {
   "cell_type": "markdown",
   "metadata": {
    "id": "GnsNS2HKooMh"
   },
   "source": [
    "34. Convert a set of strings to a set of integers."
   ]
  },
  {
   "cell_type": "code",
   "execution_count": 105,
   "metadata": {
    "colab": {
     "base_uri": "https://localhost:8080/"
    },
    "id": "LruSf-Ccosef",
    "outputId": "32249b1d-7638-4c26-c7ad-6c67b934e273"
   },
   "outputs": [
    {
     "name": "stdout",
     "output_type": "stream",
     "text": [
      "{1, 2, 3, 4, 5}\n"
     ]
    }
   ],
   "source": [
    "my_set={\"1\",\"2\",\"3\",\"4\",\"5\"}\n",
    "# Convert a set of strings to a set of integers\n",
    "my_set={int(x) for x in my_set}\n",
    "print(my_set)"
   ]
  },
  {
   "cell_type": "markdown",
   "metadata": {
    "id": "mC7o-LGKo2q8"
   },
   "source": [
    "35. Convert a set of integers to a set of strings."
   ]
  },
  {
   "cell_type": "code",
   "execution_count": 106,
   "metadata": {
    "colab": {
     "base_uri": "https://localhost:8080/"
    },
    "id": "dvUnzUA6o5E1",
    "outputId": "3d10f469-2a35-4a70-f464-af9734130bf8"
   },
   "outputs": [
    {
     "name": "stdout",
     "output_type": "stream",
     "text": [
      "{'4', '1', '5', '3', '2'}\n"
     ]
    }
   ],
   "source": [
    "my_set={1,2,3,4,5}\n",
    "# Convert a set of integers to a set of strings\n",
    "my_set={str(x) for x in my_set}\n",
    "print(my_set)"
   ]
  },
  {
   "cell_type": "markdown",
   "metadata": {
    "id": "phzZ9ywTpDW9"
   },
   "source": [
    "36. Create a set from a tuple."
   ]
  },
  {
   "cell_type": "code",
   "execution_count": 108,
   "metadata": {
    "colab": {
     "base_uri": "https://localhost:8080/"
    },
    "id": "JjqYWpGopGpu",
    "outputId": "3b4be103-0d69-46c0-af74-009f576368e7"
   },
   "outputs": [
    {
     "name": "stdout",
     "output_type": "stream",
     "text": [
      "{1, 2, 3, 4, 5}\n"
     ]
    }
   ],
   "source": [
    "my_tuple=(1,2,3,4,5)\n",
    "# Create a set from a tuple\n",
    "my_set={x for x in my_tuple}\n",
    "print(my_set)"
   ]
  },
  {
   "cell_type": "markdown",
   "metadata": {
    "id": "hBf8JBrvpTwJ"
   },
   "source": [
    "37. Convert a set to a tuple."
   ]
  },
  {
   "cell_type": "code",
   "execution_count": 110,
   "metadata": {
    "colab": {
     "base_uri": "https://localhost:8080/"
    },
    "id": "41DmOnezpXbr",
    "outputId": "e3d57132-5be1-4f6d-c737-8a5fbf980ddd"
   },
   "outputs": [
    {
     "name": "stdout",
     "output_type": "stream",
     "text": [
      "{1, 2, 3, 4, 5}\n"
     ]
    }
   ],
   "source": [
    "my_set={1,2,3,4,5}\n",
    "# Convert a set to a tuple\n",
    "my_tuple={i for i in my_set}\n",
    "print(my_tuple)"
   ]
  },
  {
   "cell_type": "markdown",
   "metadata": {
    "id": "paChGCXsplCG"
   },
   "source": [
    "38. Find the maximum value in a set."
   ]
  },
  {
   "cell_type": "code",
   "execution_count": 111,
   "metadata": {
    "colab": {
     "base_uri": "https://localhost:8080/"
    },
    "id": "bYWBhlQQpn4J",
    "outputId": "1bc73609-d247-4ab9-c506-63bb82050d3b"
   },
   "outputs": [
    {
     "name": "stdout",
     "output_type": "stream",
     "text": [
      "5\n"
     ]
    }
   ],
   "source": [
    "my_set={1,2,3,4,5}\n",
    "# Find the maximum value in a set\n",
    "print(max(my_set))"
   ]
  },
  {
   "cell_type": "markdown",
   "metadata": {
    "id": "-hJ0Q6aCpsN_"
   },
   "source": [
    "39. Find the minimum value in a set."
   ]
  },
  {
   "cell_type": "code",
   "execution_count": 112,
   "metadata": {
    "colab": {
     "base_uri": "https://localhost:8080/"
    },
    "id": "hbuY65hFpvJP",
    "outputId": "bc63cfce-4e76-4a12-f0a7-27d6d1c8de2b"
   },
   "outputs": [
    {
     "name": "stdout",
     "output_type": "stream",
     "text": [
      "1\n"
     ]
    }
   ],
   "source": [
    "my_set={1,2,3,4,5}\n",
    "# Find the minimum value in a set\n",
    "print(min(my_set))"
   ]
  },
  {
   "cell_type": "markdown",
   "metadata": {
    "id": "rsF-gCGkp17T"
   },
   "source": [
    "40. Create a set from user input."
   ]
  },
  {
   "cell_type": "code",
   "execution_count": 2,
   "metadata": {
    "colab": {
     "base_uri": "https://localhost:8080/",
     "height": 211
    },
    "id": "qI5-3j4dp4sn",
    "outputId": "f8641c88-202e-4c00-f429-1332e8465e7a"
   },
   "outputs": [
    {
     "name": "stdin",
     "output_type": "stream",
     "text": [
      "enter the number: 5\n",
      "enter the number: 4\n",
      "enter the number: 3\n",
      "enter the number: 2\n",
      "enter the number: 1\n"
     ]
    },
    {
     "name": "stdout",
     "output_type": "stream",
     "text": [
      "{1, 2, 3, 4, 5}\n"
     ]
    }
   ],
   "source": [
    "my_set=set()\n",
    "# Create a set from user input\n",
    "for i in range(5):\n",
    "  n=int(input(\"enter the number:\"))\n",
    "  my_set.add(n)\n",
    "print(my_set)"
   ]
  },
  {
   "cell_type": "markdown",
   "metadata": {
    "id": "JBjxnINxqXNF"
   },
   "source": [
    "41. Check if the intersection of two sets is empty."
   ]
  },
  {
   "cell_type": "code",
   "execution_count": 115,
   "metadata": {
    "colab": {
     "base_uri": "https://localhost:8080/"
    },
    "id": "EkVVfQ5KqcAk",
    "outputId": "9e4ef0bf-cc89-4006-8489-b54bb875ad07"
   },
   "outputs": [
    {
     "name": "stdout",
     "output_type": "stream",
     "text": [
      "intersection of two sets is empty\n"
     ]
    }
   ],
   "source": [
    "set_1={1,2,3,4,5}\n",
    "set_2={6,7,8,9,10}\n",
    "# Check if the intersection of two sets is empty\n",
    "if set_1.isdisjoint(set_2):\n",
    "  print(\"intersection of two sets is empty\")\n",
    "else:\n",
    "  print(\"intersection of two sets is not empty\")"
   ]
  },
  {
   "cell_type": "markdown",
   "metadata": {
    "id": "UnfSfFB-qkqu"
   },
   "source": [
    "42. Create a set of the first 5 Fibonacci numbers."
   ]
  },
  {
   "cell_type": "code",
   "execution_count": 118,
   "metadata": {
    "colab": {
     "base_uri": "https://localhost:8080/"
    },
    "id": "os3J3WFGqnNd",
    "outputId": "89e1ccf9-e723-4dc2-94da-3e8be5be6253"
   },
   "outputs": [
    {
     "name": "stdout",
     "output_type": "stream",
     "text": [
      "{0, 1, 2, 3, 5}\n"
     ]
    }
   ],
   "source": [
    "# Generate the first 5 Fibonacci numbers\n",
    "a, b = 0, 1\n",
    "fibonacci_set = {a, b}\n",
    "\n",
    "while len(fibonacci_set) < 5:\n",
    "    a, b = b, a + b\n",
    "    fibonacci_set.add(a)\n",
    "\n",
    "print(fibonacci_set)"
   ]
  },
  {
   "cell_type": "markdown",
   "metadata": {
    "id": "MlkUGnNwr67Q"
   },
   "source": [
    "43. Remove duplicates from a list using sets."
   ]
  },
  {
   "cell_type": "code",
   "execution_count": 123,
   "metadata": {
    "colab": {
     "base_uri": "https://localhost:8080/"
    },
    "id": "cf8lBUm7sWnM",
    "outputId": "c1bb0f12-9dee-4091-a61d-febefb3d9ccf"
   },
   "outputs": [
    {
     "name": "stdout",
     "output_type": "stream",
     "text": [
      "[1, 2, 3, 4, 5]\n"
     ]
    }
   ],
   "source": [
    "my_set={1,2,3,4,5,1,2,3,4,5}\n",
    "# Remove duplicates from a list using sets\n",
    "my_list=list(my_set)\n",
    "print(my_list)"
   ]
  },
  {
   "cell_type": "markdown",
   "metadata": {
    "id": "ZsAxpdqCs_hj"
   },
   "source": [
    "44. Check if two sets have the same elements, regardless of their count."
   ]
  },
  {
   "cell_type": "code",
   "execution_count": 125,
   "metadata": {
    "colab": {
     "base_uri": "https://localhost:8080/"
    },
    "id": "q11bAZNAtDeL",
    "outputId": "7f110f38-bd94-4b51-bd28-90b859214fbb"
   },
   "outputs": [
    {
     "name": "stdout",
     "output_type": "stream",
     "text": [
      "two sets have same 0 elements\n"
     ]
    }
   ],
   "source": [
    "set_1={1,2,3,4,5}\n",
    "set_2={6,7,8,9,10}\n",
    "# Check if two sets have the same elements, regardless of their count\n",
    "count=0\n",
    "for i in set_1:\n",
    "  for j in set_2:\n",
    "    if i==j:\n",
    "      count+=1\n",
    "print(f\"two sets have same {count} elements\")"
   ]
  },
  {
   "cell_type": "markdown",
   "metadata": {
    "id": "imq0y4rxtj-d"
   },
   "source": [
    "45. Create a set of the first `n` powers of 2."
   ]
  },
  {
   "cell_type": "code",
   "execution_count": 128,
   "metadata": {
    "colab": {
     "base_uri": "https://localhost:8080/"
    },
    "id": "PCQRDIzgt9KQ",
    "outputId": "99be8184-57c5-4153-b784-8eef5d3c8e0b"
   },
   "outputs": [
    {
     "name": "stdout",
     "output_type": "stream",
     "text": [
      "enter the number:5\n",
      "{1, 2, 4, 8, 16}\n"
     ]
    }
   ],
   "source": [
    "x=int(input(\"enter the number:\"))\n",
    "# Create a set of the first n powers of 2\n",
    "my_set={2**n for n in range(x)}\n",
    "print(my_set)"
   ]
  },
  {
   "cell_type": "markdown",
   "metadata": {
    "id": "RunhUfdVuWYX"
   },
   "source": [
    "46. Find the common elements between a set and a list."
   ]
  },
  {
   "cell_type": "code",
   "execution_count": 129,
   "metadata": {
    "colab": {
     "base_uri": "https://localhost:8080/"
    },
    "id": "7RKrM_v_uanQ",
    "outputId": "833c682b-b03a-4c77-afc4-d62848a2676b"
   },
   "outputs": [
    {
     "name": "stdout",
     "output_type": "stream",
     "text": [
      "{1, 2, 3, 4, 5}\n"
     ]
    }
   ],
   "source": [
    "my_list=[1,2,3,4,5]\n",
    "my_set={1,2,3,4,5,6,7,8,9,10}\n",
    "# Find the common elements between a set and a list\n",
    "common_elements=my_set.intersection(my_list)\n",
    "print(common_elements)"
   ]
  },
  {
   "cell_type": "markdown",
   "metadata": {
    "id": "DSHTN0Huugxk"
   },
   "source": [
    "47. Create a set of the first `n` triangular numbers."
   ]
  },
  {
   "cell_type": "code",
   "execution_count": 130,
   "metadata": {
    "colab": {
     "base_uri": "https://localhost:8080/"
    },
    "id": "Ai5m0jNEukYV",
    "outputId": "9b79a89b-bf1d-4c2b-feb1-7aac0c2ab707"
   },
   "outputs": [
    {
     "name": "stdout",
     "output_type": "stream",
     "text": [
      "enter the number:5\n",
      "{1, 3, 6, 10, 15}\n"
     ]
    }
   ],
   "source": [
    "x=int(input(\"enter the number:\"))\n",
    "# Create a set of the first n triangular numbers\n",
    "triangular_set={n*(n+1)//2 for n in range(1,x+1)}\n",
    "print(triangular_set)"
   ]
  },
  {
   "cell_type": "markdown",
   "metadata": {
    "id": "cEvjNF6Dupfl"
   },
   "source": [
    "48. Check if a set contains another set as a subset."
   ]
  },
  {
   "cell_type": "code",
   "execution_count": 131,
   "metadata": {
    "colab": {
     "base_uri": "https://localhost:8080/"
    },
    "id": "Q5UQFFROus0c",
    "outputId": "05ee90b4-f47b-4d9c-f1ee-d4326e274ab6"
   },
   "outputs": [
    {
     "name": "stdout",
     "output_type": "stream",
     "text": [
      "a set contains another set as a subset\n"
     ]
    }
   ],
   "source": [
    "my_set={1,2,3,4,5,6,7,8,9,10}\n",
    "sub_set={1,2,3,4,5}\n",
    "# Check if a set contains another set as a subset\n",
    "if sub_set.issubset(my_set):\n",
    "  print(\"a set contains another set as a subset\")"
   ]
  },
  {
   "cell_type": "markdown",
   "metadata": {
    "id": "jmwLMojguzqc"
   },
   "source": [
    "49. Create a set of alternating 1s and 0s of length `n`."
   ]
  },
  {
   "cell_type": "code",
   "execution_count": 132,
   "metadata": {
    "colab": {
     "base_uri": "https://localhost:8080/"
    },
    "id": "SJnzpTk3u2xT",
    "outputId": "6a97da0c-3ce3-48df-d545-b593c763551e"
   },
   "outputs": [
    {
     "name": "stdout",
     "output_type": "stream",
     "text": [
      "enter the number:10\n",
      "{0, 1}\n"
     ]
    }
   ],
   "source": [
    "n=int(input(\"enter the number:\"))\n",
    "# Create a set of alternating 1s and 0s of length n\n",
    "alternating_set={i%2 for i in range(n)}\n",
    "print(alternating_set)"
   ]
  },
  {
   "cell_type": "markdown",
   "metadata": {
    "id": "atyUnpElvNeB"
   },
   "source": [
    "50. Merge multiple sets into one."
   ]
  },
  {
   "cell_type": "code",
   "execution_count": 133,
   "metadata": {
    "colab": {
     "base_uri": "https://localhost:8080/"
    },
    "id": "RPVrLVufvQ7Y",
    "outputId": "5bd68a43-5c49-4dd1-a346-4fd248f3d435"
   },
   "outputs": [
    {
     "name": "stdout",
     "output_type": "stream",
     "text": [
      "{1, 2, 3, 4, 5, 6, 7, 8, 9, 10, 11, 12, 13, 14, 15}\n"
     ]
    }
   ],
   "source": [
    "set_1={1,2,3,4,5}\n",
    "set_2={6,7,8,9,10}\n",
    "set_3={11,12,13,14,15}\n",
    "# Merge multiple sets into one\n",
    "merged_set=set_1.union(set_2,set_3)\n",
    "print(merged_set)"
   ]
  }
 ],
 "metadata": {
  "colab": {
   "provenance": []
  },
  "kernelspec": {
   "display_name": "Python 3 (ipykernel)",
   "language": "python",
   "name": "python3"
  },
  "language_info": {
   "codemirror_mode": {
    "name": "ipython",
    "version": 3
   },
   "file_extension": ".py",
   "mimetype": "text/x-python",
   "name": "python",
   "nbconvert_exporter": "python",
   "pygments_lexer": "ipython3",
   "version": "3.12.4"
  }
 },
 "nbformat": 4,
 "nbformat_minor": 4
}
